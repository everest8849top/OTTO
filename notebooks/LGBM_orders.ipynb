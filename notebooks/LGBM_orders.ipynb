{
 "cells": [
  {
   "cell_type": "markdown",
   "metadata": {},
   "source": [
    "**About :** Trains XGBoost models.\n",
    "\n",
    "**TODO**:\n",
    "- better neg sampling technique ??"
   ]
  },
  {
   "cell_type": "code",
   "execution_count": 1,
   "metadata": {},
   "outputs": [
    {
     "name": "stdout",
     "output_type": "stream",
     "text": [
      "/workspace/kaggle_otto_rs/src\n"
     ]
    }
   ],
   "source": [
    "cd ../src"
   ]
  },
  {
   "cell_type": "code",
   "execution_count": 2,
   "metadata": {},
   "outputs": [],
   "source": [
    "%load_ext autoreload\n",
    "%autoreload 2"
   ]
  },
  {
   "cell_type": "code",
   "execution_count": 3,
   "metadata": {},
   "outputs": [],
   "source": [
    "import os\n",
    "os.environ[\"CUDA_VISIBLE_DEVICES\"] = \"0\""
   ]
  },
  {
   "cell_type": "code",
   "execution_count": 4,
   "metadata": {},
   "outputs": [
    {
     "name": "stdout",
     "output_type": "stream",
     "text": [
      "INFO: Pandarallel will run on 32 workers.\n",
      "INFO: Pandarallel will use Memory file system to transfer data between the main process and workers.\n"
     ]
    }
   ],
   "source": [
    "import os\n",
    "import gc\n",
    "import cudf\n",
    "import json\n",
    "import glob\n",
    "import numba\n",
    "import xgboost\n",
    "import warnings\n",
    "import numpy as np\n",
    "import pandas as pd\n",
    "import seaborn as sns\n",
    "import matplotlib.pyplot as plt\n",
    "\n",
    "from tqdm import tqdm\n",
    "from pandarallel import pandarallel\n",
    "from numerize.numerize import numerize\n",
    "\n",
    "warnings.simplefilter(action=\"ignore\", category=FutureWarning)\n",
    "pd.options.display.max_columns = 500\n",
    "pd.options.display.max_rows = 500\n",
    "pandarallel.initialize(nb_workers=32, progress_bar=False)"
   ]
  },
  {
   "cell_type": "code",
   "execution_count": 5,
   "metadata": {},
   "outputs": [],
   "source": [
    "from params import *\n",
    "\n",
    "from utils.metrics import get_coverage\n",
    "from utils.plot import plot_importances\n",
    "from utils.load import *\n",
    "from utils.logger import save_config, prepare_log_folder, create_logger, init_neptune\n",
    "from utils.torch import seed_everything\n",
    "\n",
    "from training.boosting import kfold"
   ]
  },
  {
   "cell_type": "code",
   "execution_count": 6,
   "metadata": {},
   "outputs": [],
   "source": [
    "import matplotlib\n",
    "matplotlib.use('Agg')"
   ]
  },
  {
   "cell_type": "markdown",
   "metadata": {},
   "source": [
    "### Load"
   ]
  },
  {
   "cell_type": "code",
   "execution_count": 7,
   "metadata": {},
   "outputs": [],
   "source": [
    "# VERSION = \"clicks_cv3-tv5.10\"\n",
    "\n",
    "# VERSION = \"cv7-tv5.11\"\n",
    "# VERSION = \"cv8-tv5.11\"\n",
    "VERSION = \"cv9-tv5.11\"\n",
    "\n",
    "TEST_VERSION = \"cv7-tv5.11\""
   ]
  },
  {
   "cell_type": "markdown",
   "metadata": {},
   "source": [
    "#### Train data\n",
    "- neg sampling could use candidates from lower versions"
   ]
  },
  {
   "cell_type": "code",
   "execution_count": 8,
   "metadata": {},
   "outputs": [],
   "source": [
    "POS_RATIO = 0.2\n",
    "TARGET = \"gt_orders\"   # \"gt_clicks\", \"gt_carts\", \"gt_orders\""
   ]
  },
  {
   "cell_type": "code",
   "execution_count": 9,
   "metadata": {},
   "outputs": [
    {
     "data": {
      "text/plain": [
       "56"
      ]
     },
     "execution_count": 9,
     "metadata": {},
     "output_type": "execute_result"
    }
   ],
   "source": [
    "# if TARGET != \"gt_clicks\":\n",
    "#     REGEX = f\"../output/features/fts_val_{VERSION}_{TARGET}/*\"\n",
    "# else:\n",
    "\n",
    "REGEX = f\"../output/features/fts_val_{VERSION}/*\"\n",
    "len(glob.glob(REGEX))"
   ]
  },
  {
   "cell_type": "code",
   "execution_count": 10,
   "metadata": {},
   "outputs": [
    {
     "data": {
      "text/plain": [
       "111"
      ]
     },
     "execution_count": 10,
     "metadata": {},
     "output_type": "execute_result"
    }
   ],
   "source": [
    "VERSION_EXTRA = \"cv7-tv5.11\"\n",
    "EXTRA_REGEX = f\"../output/features/fts_extra_{VERSION_EXTRA}/*\"\n",
    "len(glob.glob(EXTRA_REGEX))"
   ]
  },
  {
   "cell_type": "code",
   "execution_count": 11,
   "metadata": {},
   "outputs": [
    {
     "data": {
      "text/plain": [
       "101"
      ]
     },
     "execution_count": 11,
     "metadata": {},
     "output_type": "execute_result"
    }
   ],
   "source": [
    "TEST_REGEX = f\"../output/features/fts_test_{TEST_VERSION}/*\"\n",
    "len(glob.glob(TEST_REGEX))"
   ]
  },
  {
   "cell_type": "code",
   "execution_count": 12,
   "metadata": {},
   "outputs": [],
   "source": [
    "# filter_dfs(\n",
    "#     f\"../output/features/fts_val_{VERSION}/*\",\n",
    "#     target=\"gt_carts\",\n",
    "# )"
   ]
  },
  {
   "cell_type": "code",
   "execution_count": 13,
   "metadata": {},
   "outputs": [],
   "source": [
    "# def load_sessions(regex):\n",
    "#     dfs = []\n",
    "#     for idx, chunk_file in enumerate(glob.glob(regex)):\n",
    "#         df = cudf.read_parquet(chunk_file, columns=[\"session\"])\n",
    "#         dfs.append(df.drop_duplicates(keep=\"first\"))\n",
    "\n",
    "#     return cudf.concat(dfs).reset_index(drop=True)\n",
    "\n",
    "# sessions = load_sessions( f\"../output/features/fts_val_{VERSION}/*\")\n",
    "\n",
    "# from sklearn.model_selection import KFold\n",
    "# K = 4\n",
    "\n",
    "# kf = KFold(n_splits=K, shuffle=True, random_state=42)\n",
    "# splits = kf.split(sessions)\n",
    "\n",
    "# sessions['fold'] = -1\n",
    "# for i, (_, val_idx) in enumerate(splits):\n",
    "#     sessions.loc[val_idx, \"fold\"] = i\n",
    "\n",
    "# sessions.to_csv(f\"../input/folds_{K}.csv\", index=False)"
   ]
  },
  {
   "cell_type": "code",
   "execution_count": 14,
   "metadata": {},
   "outputs": [],
   "source": [
    "# df_val = load_parquets_cudf_folds(\n",
    "#     f\"../output/features/fts_val_{VERSION}/*\",\n",
    "#     \"../input/folds_4.csv\",\n",
    "#     fold=0,\n",
    "#     pos_ratio=0.1,\n",
    "#     target=TARGET,\n",
    "#     val_only=True,\n",
    "#     use_gt=False,\n",
    "#     use_gt_for_val=True,\n",
    "#     columns=['session', 'candidates', 'gt_clicks', 'gt_carts', 'gt_orders'],\n",
    "#     max_n=1,\n",
    "# )"
   ]
  },
  {
   "cell_type": "code",
   "execution_count": 15,
   "metadata": {},
   "outputs": [],
   "source": [
    "FEATURES = [  # REMOVE CORRELATED\n",
    "    'clicks_popularity_w_pos-log', 'clicks_popularity_w_type-163', 'clicks_popularity_w_lastday', 'clicks_popularity_w_recsys', \n",
    "    'carts_popularity_w_pos-log', 'carts_popularity_w_type-163', 'carts_popularity_w_lastday', 'carts_popularity_w_recsys', \n",
    "    'orders_popularity_w_pos-log', 'orders_popularity_w_type-163', 'orders_popularity_w_lastday', 'orders_popularity_w_recsys', \n",
    "    'clicks_popularity_w_pos-log_w', 'clicks_popularity_w_type-163_w', 'clicks_popularity_w_recsys_w', \n",
    "    'carts_popularity_w_pos-log_w', 'carts_popularity_w_type-163_w', 'carts_popularity_w_recsys_w', \n",
    "    'orders_popularity_w_pos-log_w', 'orders_popularity_w_type-163_w', 'orders_popularity_w_recsys_w',\n",
    "    'w_pos-log', 'w_type-163', 'w_lastday', 'w_time', 'w_recsys',\n",
    "    'matrix_123_temporal_20_mean', 'matrix_123_temporal_20_sum', 'matrix_123_temporal_20_max', 'matrix_123_temporal_20_pos-log_mean', 'matrix_123_temporal_20_pos-log_sum', 'matrix_123_temporal_20_pos-log_max', 'matrix_123_temporal_20_type-163_mean', 'matrix_123_temporal_20_type-163_sum', 'matrix_123_temporal_20_type-163_max', 'matrix_123_temporal_20_lastday_mean', 'matrix_123_temporal_20_lastday_sum', 'matrix_123_temporal_20_lastday_max', 'matrix_123_temporal_20_time_mean', 'matrix_123_temporal_20_time_sum', 'matrix_123_temporal_20_time_max', 'matrix_123_temporal_20_recsys_mean', 'matrix_123_temporal_20_recsys_sum', 'matrix_123_temporal_20_recsys_max',\n",
    "    'matrix_123_type136_20_mean', 'matrix_123_type136_20_sum', 'matrix_123_type136_20_max', 'matrix_123_type136_20_pos-log_mean', 'matrix_123_type136_20_pos-log_sum', 'matrix_123_type136_20_pos-log_max', 'matrix_123_type136_20_type-163_mean', 'matrix_123_type136_20_type-163_sum', 'matrix_123_type136_20_type-163_max', 'matrix_123_type136_20_lastday_mean', 'matrix_123_type136_20_lastday_sum', 'matrix_123_type136_20_lastday_max', 'matrix_123_type136_20_time_mean', 'matrix_123_type136_20_time_sum', 'matrix_123_type136_20_time_max', 'matrix_123_type136_20_recsys_mean', 'matrix_123_type136_20_recsys_sum', 'matrix_123_type136_20_recsys_max',\n",
    "    'matrix_12__20_mean', 'matrix_12__20_sum', 'matrix_12__20_max', 'matrix_12__20_pos-log_mean', 'matrix_12__20_pos-log_sum', 'matrix_12__20_pos-log_max', 'matrix_12__20_type-163_mean', 'matrix_12__20_type-163_sum', 'matrix_12__20_type-163_max', 'matrix_12__20_lastday_mean', 'matrix_12__20_lastday_sum', 'matrix_12__20_lastday_max', 'matrix_12__20_time_mean', 'matrix_12__20_time_sum', 'matrix_12__20_time_max', 'matrix_12__20_recsys_mean', 'matrix_12__20_recsys_sum', 'matrix_12__20_recsys_max',\n",
    "    'matrix_123_type0.590.5_20_mean', 'matrix_123_type0.590.5_20_sum', 'matrix_123_type0.590.5_20_max', 'matrix_123_type0.590.5_20_pos-log_mean', 'matrix_123_type0.590.5_20_pos-log_sum', 'matrix_123_type0.590.5_20_pos-log_max', 'matrix_123_type0.590.5_20_type-163_mean', 'matrix_123_type0.590.5_20_type-163_sum', 'matrix_123_type0.590.5_20_type-163_max', 'matrix_123_type0.590.5_20_lastday_mean', 'matrix_123_type0.590.5_20_lastday_sum', 'matrix_123_type0.590.5_20_lastday_max', 'matrix_123_type0.590.5_20_time_mean', 'matrix_123_type0.590.5_20_time_sum', 'matrix_123_type0.590.5_20_time_max', 'matrix_123_type0.590.5_20_recsys_mean', 'matrix_123_type0.590.5_20_recsys_sum', 'matrix_123_type0.590.5_20_recsys_max',\n",
    "    'matrix_cpu-90_mean', 'matrix_cpu-90_sum', 'matrix_cpu-90_max', 'matrix_cpu-90_pos-log_mean', 'matrix_cpu-90_pos-log_sum', 'matrix_cpu-90_pos-log_max', 'matrix_cpu-90_type-163_mean', 'matrix_cpu-90_type-163_sum', 'matrix_cpu-90_type-163_max', 'matrix_cpu-90_lastday_mean', 'matrix_cpu-90_lastday_sum', 'matrix_cpu-90_lastday_max', 'matrix_cpu-90_time_mean', 'matrix_cpu-90_time_sum', 'matrix_cpu-90_time_max', 'matrix_cpu-90_recsys_mean', 'matrix_cpu-90_recsys_sum', 'matrix_cpu-90_recsys_max',\n",
    "    'matrix_cpu-95_mean', 'matrix_cpu-95_sum', 'matrix_cpu-95_max', 'matrix_cpu-95_pos-log_mean', 'matrix_cpu-95_pos-log_sum', 'matrix_cpu-95_pos-log_max', 'matrix_cpu-95_type-163_mean', 'matrix_cpu-95_type-163_sum', 'matrix_cpu-95_type-163_max', 'matrix_cpu-95_lastday_mean', 'matrix_cpu-95_lastday_sum', 'matrix_cpu-95_lastday_max', 'matrix_cpu-95_time_mean', 'matrix_cpu-95_time_sum', 'matrix_cpu-95_time_max', 'matrix_cpu-95_recsys_mean', 'matrix_cpu-95_recsys_sum', 'matrix_cpu-95_recsys_max',\n",
    "    'matrix_cpu-99_mean', 'matrix_cpu-99_sum', 'matrix_cpu-99_max', 'matrix_cpu-99_pos-log_mean', 'matrix_cpu-99_pos-log_sum', 'matrix_cpu-99_pos-log_max', 'matrix_cpu-99_type-163_mean', 'matrix_cpu-99_type-163_sum', 'matrix_cpu-99_type-163_max', 'matrix_cpu-99_lastday_mean', 'matrix_cpu-99_lastday_sum', 'matrix_cpu-99_lastday_max', 'matrix_cpu-99_time_mean', 'matrix_cpu-99_time_sum', 'matrix_cpu-99_time_max', 'matrix_cpu-99_recsys_mean', 'matrix_cpu-99_recsys_sum', 'matrix_cpu-99_recsys_max',\n",
    "    'matrix_gpu-116_mean', 'matrix_gpu-116_sum', 'matrix_gpu-116_max', 'matrix_gpu-116_pos-log_mean', 'matrix_gpu-116_pos-log_sum', 'matrix_gpu-116_pos-log_max', 'matrix_gpu-116_type-163_mean', 'matrix_gpu-116_type-163_sum', 'matrix_gpu-116_type-163_max', 'matrix_gpu-116_lastday_mean', 'matrix_gpu-116_lastday_sum', 'matrix_gpu-116_lastday_max', 'matrix_gpu-116_time_mean', 'matrix_gpu-116_time_sum', 'matrix_gpu-116_time_max', 'matrix_gpu-116_recsys_mean', 'matrix_gpu-116_recsys_sum', 'matrix_gpu-116_recsys_max',\n",
    "    'matrix_gpu-115_mean', 'matrix_gpu-115_sum', 'matrix_gpu-115_max', 'matrix_gpu-115_pos-log_mean', 'matrix_gpu-115_pos-log_sum', 'matrix_gpu-115_pos-log_max', 'matrix_gpu-115_type-163_mean', 'matrix_gpu-115_type-163_sum', 'matrix_gpu-115_type-163_max', 'matrix_gpu-115_lastday_mean', 'matrix_gpu-115_lastday_sum', 'matrix_gpu-115_lastday_max', 'matrix_gpu-115_time_mean', 'matrix_gpu-115_time_sum', 'matrix_gpu-115_time_max', 'matrix_gpu-115_recsys_mean', 'matrix_gpu-115_recsys_sum', 'matrix_gpu-115_recsys_max',\n",
    "    'matrix_gpu-93_mean', 'matrix_gpu-93_sum', 'matrix_gpu-93_max', 'matrix_gpu-93_pos-log_mean', 'matrix_gpu-93_pos-log_sum', 'matrix_gpu-93_pos-log_max', 'matrix_gpu-93_type-163_mean', 'matrix_gpu-93_type-163_sum', 'matrix_gpu-93_type-163_max', 'matrix_gpu-93_lastday_mean', 'matrix_gpu-93_lastday_sum', 'matrix_gpu-93_lastday_max', 'matrix_gpu-93_time_mean', 'matrix_gpu-93_time_sum', 'matrix_gpu-93_time_max', 'matrix_gpu-93_recsys_mean', 'matrix_gpu-93_recsys_sum', 'matrix_gpu-93_recsys_max',\n",
    "    'matrix_gpu-217_mean', 'matrix_gpu-217_sum', 'matrix_gpu-217_max', 'matrix_gpu-217_pos-log_mean', 'matrix_gpu-217_pos-log_sum', 'matrix_gpu-217_pos-log_max', 'matrix_gpu-217_type-163_mean', 'matrix_gpu-217_type-163_sum', 'matrix_gpu-217_type-163_max', 'matrix_gpu-217_lastday_mean', 'matrix_gpu-217_lastday_sum', 'matrix_gpu-217_lastday_max', 'matrix_gpu-217_time_mean', 'matrix_gpu-217_time_sum', 'matrix_gpu-217_time_max', 'matrix_gpu-217_recsys_mean', 'matrix_gpu-217_recsys_sum', 'matrix_gpu-217_recsys_max',\n",
    "    'matrix_gpu-226_mean','matrix_gpu-226_sum','matrix_gpu-226_max','matrix_gpu-226_pos-log_mean','matrix_gpu-226_pos-log_sum','matrix_gpu-226_pos-log_max','matrix_gpu-226_type-163_mean','matrix_gpu-226_type-163_sum','matrix_gpu-226_type-163_max','matrix_gpu-226_lastday_mean','matrix_gpu-226_lastday_sum','matrix_gpu-226_lastday_max','matrix_gpu-226_time_mean','matrix_gpu-226_time_sum','matrix_gpu-226_time_max','matrix_gpu-226_recsys_mean','matrix_gpu-226_recsys_sum','matrix_gpu-226_recsys_max',\n",
    "    'matrix_gpu-232_mean', 'matrix_gpu-232_sum', 'matrix_gpu-232_max', 'matrix_gpu-232_pos-log_mean', 'matrix_gpu-232_pos-log_sum', 'matrix_gpu-232_pos-log_max', 'matrix_gpu-232_type-163_mean', 'matrix_gpu-232_type-163_sum', 'matrix_gpu-232_type-163_max', 'matrix_gpu-232_lastday_mean', 'matrix_gpu-232_lastday_sum', 'matrix_gpu-232_lastday_max', 'matrix_gpu-232_time_mean', 'matrix_gpu-232_time_sum', 'matrix_gpu-232_time_max', 'matrix_gpu-232_recsys_mean', 'matrix_gpu-232_recsys_sum', 'matrix_gpu-232_recsys_max',\n",
    "    'matrix_gpu-239_mean', 'matrix_gpu-239_sum', 'matrix_gpu-239_max', 'matrix_gpu-239_pos-log_mean', 'matrix_gpu-239_pos-log_sum', 'matrix_gpu-239_pos-log_max', 'matrix_gpu-239_type-163_mean', 'matrix_gpu-239_type-163_sum', 'matrix_gpu-239_type-163_max', 'matrix_gpu-239_lastday_mean', 'matrix_gpu-239_lastday_sum', 'matrix_gpu-239_lastday_max', 'matrix_gpu-239_time_mean', 'matrix_gpu-239_time_sum', 'matrix_gpu-239_time_max', 'matrix_gpu-239_recsys_mean', 'matrix_gpu-239_recsys_sum', 'matrix_gpu-239_recsys_max',\n",
    "    'matrix_gpu-700_mean', 'matrix_gpu-700_sum', 'matrix_gpu-700_max', 'matrix_gpu-700_pos-log_mean', 'matrix_gpu-700_pos-log_sum', 'matrix_gpu-700_pos-log_max', 'matrix_gpu-700_type-163_mean', 'matrix_gpu-700_type-163_sum', 'matrix_gpu-700_type-163_max', 'matrix_gpu-700_lastday_mean', 'matrix_gpu-700_lastday_sum', 'matrix_gpu-700_lastday_max', 'matrix_gpu-700_time_mean', 'matrix_gpu-700_time_sum', 'matrix_gpu-700_time_max', 'matrix_gpu-700_recsys_mean', 'matrix_gpu-700_recsys_sum', 'matrix_gpu-700_recsys_max',\n",
    "    'matrix_gpu-701_mean', 'matrix_gpu-701_sum', 'matrix_gpu-701_max', 'matrix_gpu-701_pos-log_mean', 'matrix_gpu-701_pos-log_sum', 'matrix_gpu-701_pos-log_max', 'matrix_gpu-701_type-163_mean', 'matrix_gpu-701_type-163_sum', 'matrix_gpu-701_type-163_max', 'matrix_gpu-701_lastday_mean', 'matrix_gpu-701_lastday_sum', 'matrix_gpu-701_lastday_max', 'matrix_gpu-701_time_mean', 'matrix_gpu-701_time_sum', 'matrix_gpu-701_time_max', 'matrix_gpu-701_recsys_mean', 'matrix_gpu-701_recsys_sum', 'matrix_gpu-701_recsys_max',\n",
    "    'candidate_clicks_before', 'candidate_carts_before', 'candidate_orders_before', 'candidate_*_before', 'n_views', 'n_clicks', 'n_carts', 'n_orders',\n",
    "    'clicks_popularity_w_pos-log_rank', 'clicks_popularity_w_type-163_rank', 'clicks_popularity_w_lastday_rank', 'clicks_popularity_w_time_rank', 'clicks_popularity_w_recsys_rank', 'carts_popularity_w_pos-log_rank', 'carts_popularity_w_type-163_rank', 'carts_popularity_w_lastday_rank', 'carts_popularity_w_time_rank', 'carts_popularity_w_recsys_rank', 'orders_popularity_w_pos-log_rank', 'orders_popularity_w_type-163_rank', 'orders_popularity_w_lastday_rank', 'orders_popularity_w_time_rank', 'orders_popularity_w_recsys_rank',\n",
    "    'clicks_popularity_w_pos-log_w_rank', 'clicks_popularity_w_type-163_w_rank', 'clicks_popularity_w_lastday_w_rank', 'clicks_popularity_w_time_w_rank', 'clicks_popularity_w_recsys_w_rank', 'carts_popularity_w_pos-log_w_rank', 'carts_popularity_w_type-163_w_rank', 'carts_popularity_w_lastday_w_rank', 'carts_popularity_w_time_w_rank', 'carts_popularity_w_recsys_w_rank', 'orders_popularity_w_pos-log_w_rank', 'orders_popularity_w_type-163_w_rank', 'orders_popularity_w_lastday_w_rank', 'orders_popularity_w_time_w_rank', 'orders_popularity_w_recsys_w_rank',\n",
    "    'w_pos-log_rank', 'w_type-163_rank', 'w_lastday_rank', 'w_time_rank', 'w_recsys_rank',\n",
    "    'matrix_123_temporal_20_mean_rank', 'matrix_123_temporal_20_pos-log_mean_rank', 'matrix_123_temporal_20_type-163_mean_rank', 'matrix_123_temporal_20_lastday_mean_rank', 'matrix_123_temporal_20_time_mean_rank', 'matrix_123_temporal_20_recsys_mean_rank', 'matrix_123_type136_20_mean_rank', 'matrix_123_type136_20_pos-log_mean_rank', 'matrix_123_type136_20_type-163_mean_rank', 'matrix_123_type136_20_lastday_mean_rank', 'matrix_123_type136_20_time_mean_rank', 'matrix_123_type136_20_recsys_mean_rank', \n",
    "    'matrix_12__20_mean_rank', 'matrix_12__20_pos-log_mean_rank', 'matrix_12__20_type-163_mean_rank', 'matrix_12__20_lastday_mean_rank', 'matrix_12__20_time_mean_rank', 'matrix_12__20_recsys_mean_rank', 'matrix_123_type0.590.5_20_mean_rank', 'matrix_123_type0.590.5_20_pos-log_mean_rank', 'matrix_123_type0.590.5_20_type-163_mean_rank', 'matrix_123_type0.590.5_20_lastday_mean_rank', 'matrix_123_type0.590.5_20_time_mean_rank', 'matrix_123_type0.590.5_20_recsys_mean_rank',\n",
    "    'matrix_cpu-90_mean_rank', 'matrix_cpu-90_pos-log_mean_rank', 'matrix_cpu-90_type-163_mean_rank', 'matrix_cpu-90_lastday_mean_rank', 'matrix_cpu-90_time_mean_rank', 'matrix_cpu-90_recsys_mean_rank', 'matrix_cpu-95_mean_rank', 'matrix_cpu-95_pos-log_mean_rank', 'matrix_cpu-95_type-163_mean_rank', 'matrix_cpu-95_lastday_mean_rank', 'matrix_cpu-95_time_mean_rank', 'matrix_cpu-95_recsys_mean_rank', 'matrix_cpu-99_mean_rank', 'matrix_cpu-99_pos-log_mean_rank', 'matrix_cpu-99_type-163_mean_rank', 'matrix_cpu-99_lastday_mean_rank', 'matrix_cpu-99_time_mean_rank', 'matrix_cpu-99_recsys_mean_rank',\n",
    "    'matrix_gpu-116_mean_rank', 'matrix_gpu-116_pos-log_mean_rank', 'matrix_gpu-116_type-163_mean_rank', 'matrix_gpu-116_lastday_mean_rank', 'matrix_gpu-116_time_mean_rank', 'matrix_gpu-116_recsys_mean_rank', 'matrix_gpu-115_mean_rank', 'matrix_gpu-115_pos-log_mean_rank', 'matrix_gpu-115_type-163_mean_rank', 'matrix_gpu-115_lastday_mean_rank', 'matrix_gpu-115_time_mean_rank', 'matrix_gpu-115_recsys_mean_rank', 'matrix_gpu-93_mean_rank', 'matrix_gpu-93_pos-log_mean_rank', 'matrix_gpu-93_type-163_mean_rank', 'matrix_gpu-93_lastday_mean_rank', 'matrix_gpu-93_time_mean_rank', 'matrix_gpu-93_recsys_mean_rank',\n",
    "    'matrix_gpu-217_mean_rank', 'matrix_gpu-217_pos-log_mean_rank', 'matrix_gpu-217_type-163_mean_rank', 'matrix_gpu-217_lastday_mean_rank', 'matrix_gpu-217_time_mean_rank', 'matrix_gpu-217_recsys_mean_rank', 'matrix_gpu-226_mean_rank', 'matrix_gpu-226_pos-log_mean_rank', 'matrix_gpu-226_type-163_mean_rank', 'matrix_gpu-226_lastday_mean_rank', 'matrix_gpu-226_time_mean_rank', 'matrix_gpu-226_recsys_mean_rank', 'matrix_gpu-232_mean_rank', 'matrix_gpu-232_pos-log_mean_rank', 'matrix_gpu-232_type-163_mean_rank', 'matrix_gpu-232_lastday_mean_rank', 'matrix_gpu-232_time_mean_rank', 'matrix_gpu-232_recsys_mean_rank',\n",
    "    'matrix_gpu-239_mean_rank', 'matrix_gpu-239_pos-log_mean_rank', 'matrix_gpu-239_type-163_mean_rank', 'matrix_gpu-239_lastday_mean_rank', 'matrix_gpu-239_time_mean_rank', 'matrix_gpu-239_recsys_mean_rank', 'matrix_gpu-700_mean_rank', 'matrix_gpu-700_pos-log_mean_rank', 'matrix_gpu-700_type-163_mean_rank', 'matrix_gpu-700_lastday_mean_rank', 'matrix_gpu-700_time_mean_rank', 'matrix_gpu-700_recsys_mean_rank', 'matrix_gpu-701_mean_rank', 'matrix_gpu-701_pos-log_mean_rank', 'matrix_gpu-701_type-163_mean_rank', 'matrix_gpu-701_lastday_mean_rank', 'matrix_gpu-701_time_mean_rank', 'matrix_gpu-701_recsys_mean_rank',\n",
    "]"
   ]
  },
  {
   "cell_type": "code",
   "execution_count": 16,
   "metadata": {},
   "outputs": [],
   "source": [
    "FEATURES += [\n",
    "    'popularity_week_clicks','popularity_day_clicks','popularity_hour_clicks','popularity_hour/day_clicks','popularity_day/week_clicks','popularity_week_carts','popularity_day_carts','popularity_hour_carts','popularity_hour/day_carts','popularity_day/week_carts','popularity_week_orders','popularity_day_orders','popularity_hour_orders','popularity_hour/day_orders','popularity_day/week_orders',\n",
    "    'embed_1-9_64_cartbuy_last_0', 'embed_1-9_64_cartbuy_last_1', 'embed_1-9_64_cartbuy_last_2', 'embed_1-9_64_cartbuy_last_3', 'embed_1-9_64_cartbuy_last_4', 'embed_1-9_64_cartbuy_pos-log_mean', 'embed_1-9_64_cartbuy_pos-log_sum', 'embed_1-9_64_cartbuy_pos-log_max', 'embed_1-9_64_cartbuy_type-163_mean', 'embed_1-9_64_cartbuy_type-163_sum', 'embed_1-9_64_cartbuy_type-163_max', 'embed_1-9_64_cartbuy_lastday_mean', 'embed_1-9_64_cartbuy_lastday_sum', 'embed_1-9_64_cartbuy_lastday_max', 'embed_1-9_64_cartbuy_time_mean', 'embed_1-9_64_cartbuy_time_sum', 'embed_1-9_64_cartbuy_time_max', 'embed_1-9_64_cartbuy_recsys_mean', 'embed_1-9_64_cartbuy_recsys_sum', 'embed_1-9_64_cartbuy_recsys_max',\n",
    "    'embed_1_64_last_0', 'embed_1_64_last_1', 'embed_1_64_last_2', 'embed_1_64_last_3', 'embed_1_64_last_4', 'embed_1_64_pos-log_mean', 'embed_1_64_pos-log_sum', 'embed_1_64_pos-log_max', 'embed_1_64_type-163_mean', 'embed_1_64_type-163_sum', 'embed_1_64_type-163_max', 'embed_1_64_lastday_mean', 'embed_1_64_lastday_sum', 'embed_1_64_lastday_max', 'embed_1_64_time_mean', 'embed_1_64_time_sum', 'embed_1_64_time_max', 'embed_1_64_recsys_mean', 'embed_1_64_recsys_sum', 'embed_1_64_recsys_max',\n",
    "    'embed_1-5_64_last_0', 'embed_1-5_64_last_1', 'embed_1-5_64_last_2', 'embed_1-5_64_last_3', 'embed_1-5_64_last_4', 'embed_1-5_64_pos-log_mean', 'embed_1-5_64_pos-log_sum', 'embed_1-5_64_pos-log_max', 'embed_1-5_64_type-163_mean', 'embed_1-5_64_type-163_sum', 'embed_1-5_64_type-163_max', 'embed_1-5_64_lastday_mean', 'embed_1-5_64_lastday_sum', 'embed_1-5_64_lastday_max', 'embed_1-5_64_time_mean', 'embed_1-5_64_time_sum', 'embed_1-5_64_time_max', 'embed_1-5_64_recsys_mean', 'embed_1-5_64_recsys_sum', 'embed_1-5_64_recsys_max',\n",
    "]\n"
   ]
  },
  {
   "cell_type": "code",
   "execution_count": 17,
   "metadata": {},
   "outputs": [],
   "source": [
    "FEATURES += [\n",
    "    'popularity_week_clicks_rank', 'popularity_day_clicks_rank', 'popularity_hour_clicks_rank', 'popularity_hour/day_clicks_rank', 'popularity_day/week_clicks_rank', 'popularity_week_carts_rank', 'popularity_day_carts_rank', 'popularity_hour_carts_rank', 'popularity_hour/day_carts_rank', 'popularity_day/week_carts_rank', 'popularity_week_orders_rank', 'popularity_day_orders_rank', 'popularity_hour_orders_rank', 'popularity_hour/day_orders_rank', 'popularity_day/week_orders_rank',\n",
    "    'embed_1-9_64_cartbuy_last_0_rank', 'embed_1-9_64_cartbuy_last_1_rank', 'embed_1-9_64_cartbuy_last_2_rank', 'embed_1-9_64_cartbuy_last_3_rank', 'embed_1-9_64_cartbuy_last_4_rank', 'embed_1-9_64_cartbuy_pos-log_mean_rank', 'embed_1-9_64_cartbuy_type-163_mean_rank', 'embed_1-9_64_cartbuy_lastday_mean_rank', 'embed_1-9_64_cartbuy_time_mean_rank', 'embed_1-9_64_cartbuy_recsys_mean_rank', 'embed_1_64_last_0_rank', 'embed_1_64_last_1_rank', 'embed_1_64_last_2_rank', 'embed_1_64_last_3_rank', 'embed_1_64_last_4_rank', 'embed_1_64_pos-log_mean_rank', 'embed_1_64_type-163_mean_rank', 'embed_1_64_lastday_mean_rank', 'embed_1_64_time_mean_rank', 'embed_1_64_recsys_mean_rank', 'embed_1-5_64_last_0_rank', 'embed_1-5_64_last_1_rank', 'embed_1-5_64_last_2_rank', 'embed_1-5_64_last_3_rank', 'embed_1-5_64_last_4_rank', 'embed_1-5_64_pos-log_mean_rank', 'embed_1-5_64_type-163_mean_rank', 'embed_1-5_64_lastday_mean_rank', 'embed_1-5_64_time_mean_rank', 'embed_1-5_64_recsys_mean_rank'\n",
    "]"
   ]
  },
  {
   "cell_type": "code",
   "execution_count": 18,
   "metadata": {},
   "outputs": [],
   "source": [
    "FEATURES += [\n",
    "    'w2v_sim_1', 'w2v_sim_2', 'w2v_sim_3', 'w2v_sim_wgt_1', 'w2v_sim_wgt_2', 'w2v_sim_last', 'w2v_sim_type_1', 'w2v_sim_1_rank', 'w2v_sim_2_rank', 'w2v_sim_3_rank', 'w2v_sim_wgt_1_rank', 'w2v_sim_wgt_2_rank', 'w2v_sim_last_rank', 'w2v_sim_type_1_rank',\n",
    "    'matrix_gpu-155_mean', 'matrix_gpu-155_sum', 'matrix_gpu-155_max', 'matrix_gpu-155_pos-log_mean', 'matrix_gpu-155_pos-log_sum', 'matrix_gpu-155_pos-log_max', 'matrix_gpu-155_type-163_mean', 'matrix_gpu-155_type-163_sum', 'matrix_gpu-155_type-163_max', 'matrix_gpu-155_lastday_mean', 'matrix_gpu-155_lastday_sum', 'matrix_gpu-155_lastday_max', 'matrix_gpu-155_time_mean', 'matrix_gpu-155_time_sum', 'matrix_gpu-155_time_max', 'matrix_gpu-155_recsys_mean', 'matrix_gpu-155_recsys_sum', 'matrix_gpu-155_recsys_max',\n",
    "    'matrix_gpu-157_mean', 'matrix_gpu-157_sum', 'matrix_gpu-157_max', 'matrix_gpu-157_pos-log_mean', 'matrix_gpu-157_pos-log_sum', 'matrix_gpu-157_pos-log_max', 'matrix_gpu-157_type-163_mean', 'matrix_gpu-157_type-163_sum', 'matrix_gpu-157_type-163_max', 'matrix_gpu-157_lastday_mean', 'matrix_gpu-157_lastday_sum', 'matrix_gpu-157_lastday_max', 'matrix_gpu-157_time_mean', 'matrix_gpu-157_time_sum', 'matrix_gpu-157_time_max', 'matrix_gpu-157_recsys_mean', 'matrix_gpu-157_recsys_sum', 'matrix_gpu-157_recsys_max',\n",
    "    'matrix_gpu-155_mean_rank', 'matrix_gpu-155_pos-log_mean_rank', 'matrix_gpu-155_type-163_mean_rank', 'matrix_gpu-155_lastday_mean_rank', 'matrix_gpu-155_time_mean_rank', 'matrix_gpu-155_recsys_mean_rank', 'matrix_gpu-157_mean_rank', 'matrix_gpu-157_pos-log_mean_rank', 'matrix_gpu-157_type-163_mean_rank', 'matrix_gpu-157_lastday_mean_rank', 'matrix_gpu-157_time_mean_rank', 'matrix_gpu-157_recsys_mean_rank', \n",
    "]"
   ]
  },
  {
   "cell_type": "code",
   "execution_count": 19,
   "metadata": {},
   "outputs": [],
   "source": [
    "# df_train = load_parquets_cudf_folds(\n",
    "#     f\"../output/features/fts_val_{VERSION}/*\",\n",
    "#     \"../input/folds_4.csv\",\n",
    "#     fold=0,\n",
    "#     pos_ratio=POS_RATIO,\n",
    "#     target=TARGET,\n",
    "#     max_n=1,\n",
    "#     train_only=True,\n",
    "# )\n",
    "# [c for c in df_train.columns if c not in FEATURES ]"
   ]
  },
  {
   "cell_type": "code",
   "execution_count": 20,
   "metadata": {},
   "outputs": [],
   "source": [
    "TO_REMOVE = []\n",
    "TO_REMOVE += [f for f in FEATURES if \"popularity_w_time\" in f]\n",
    "TO_REMOVE += [f for f in FEATURES if \"popularity_w_lastday_w\" in f]\n",
    "\n",
    "FEATURES = [f for f in FEATURES if f not in TO_REMOVE]"
   ]
  },
  {
   "cell_type": "code",
   "execution_count": 21,
   "metadata": {},
   "outputs": [
    {
     "data": {
      "text/plain": [
       "626"
      ]
     },
     "execution_count": 21,
     "metadata": {},
     "output_type": "execute_result"
    }
   ],
   "source": [
    "len(FEATURES)"
   ]
  },
  {
   "cell_type": "code",
   "execution_count": 22,
   "metadata": {},
   "outputs": [],
   "source": [
    "# df_train = cudf.from_pandas(df_train)\n",
    "# corr = df_train[FEATURES].corr()\n",
    "# corr = corr.to_pandas()\n",
    "# corr = corr.values\n",
    "\n",
    "# mask = np.zeros_like(corr, dtype=bool)\n",
    "# mask[np.triu_indices_from(mask)] = True\n",
    "# corr[mask] = 0"
   ]
  },
  {
   "cell_type": "code",
   "execution_count": 23,
   "metadata": {},
   "outputs": [],
   "source": [
    "# TH = 0.99\n",
    "\n",
    "# for i in range(len(corr)):\n",
    "#     for j in range(len(corr)):\n",
    "#         if corr[i, j] > TH:\n",
    "#             if FEATURES[i] in TO_REMOVE or FEATURES[j] in TO_REMOVE:\n",
    "#                 continue\n",
    "#             print(FEATURES[i], FEATURES[j], f'{corr[i, j] :.3f}')"
   ]
  },
  {
   "cell_type": "code",
   "execution_count": 24,
   "metadata": {},
   "outputs": [],
   "source": [
    "# df = cudf.read_parquet(glob.glob(REGEX)[0])\n",
    "# df = df.rename(columns={\"clicks_popularity_w_pos-log_rank\" : \"clicks_popularity_w_pos-log_rank_ref\"})\n",
    "# df = cudf.read_parquet(glob.glob(TEST_REGEX)[0])\n",
    "\n",
    "# from data.fe import add_rank_feature\n",
    "# for c in ['clicks_popularity_w_pos-log', 'clicks_popularity_w_type-163', 'clicks_popularity_w_lastday']:\n",
    "#     if c + \"_rank\" not in df.columns:\n",
    "#         print(f'Add rank ft for {c}')\n",
    "#         df = df.reset_index(drop=True)\n",
    "#         add_rank_feature(df, c)\n",
    "# (df['clicks_popularity_w_pos-log_rank'] == df['clicks_popularity_w_pos-log_rank_ref']).all()\n",
    "\n",
    "# for f in tqdm(glob.glob(TEST_REGEX)):\n",
    "#     dft = cudf.read_parquet(f, columns=['clicks_popularity_w_pos-log_rank'])"
   ]
  },
  {
   "cell_type": "markdown",
   "metadata": {},
   "source": [
    "### Params"
   ]
  },
  {
   "cell_type": "code",
   "execution_count": 25,
   "metadata": {},
   "outputs": [],
   "source": [
    "PARAMS = {\n",
    "    \"xgb\":\n",
    "    {\n",
    "        \"learning_rate\": 0.01,\n",
    "        'max_depth': 8,\n",
    "        \"subsample\": 0.9,  # 0.7 / 0.8 / O.9\n",
    "        'colsample_bytree': 0.7,  # 0.7 / 0.8 / 0.9\n",
    "        'reg_alpha': 0.01,\n",
    "        'reg_lambda': 0.1,\n",
    "        \"min_child_weight\": 0,\n",
    "#         \"gamma\": 0.01,\n",
    "        'scale_pos_weight': 1,\n",
    "        'eval_metric': 'auc',\n",
    "        'objective': 'binary:logistic',  # 'binary:logistic',\n",
    "        'tree_method':'gpu_hist',\n",
    "        'predictor':'gpu_predictor',\n",
    "        \"random_state\": 42,\n",
    "    },\n",
    "    \"lgbm\": {\n",
    "        \"num_leaves\": 64,\n",
    "        \"learning_rate\": 0.01,\n",
    "        #max_depth=4,\n",
    "        #max_bin=20,\n",
    "        #subsample_for_bin=20000,\n",
    "        \"subsample\": 0.7,\n",
    "        \"reg_alpha\": 0,\n",
    "        \"reg_lambda\": 0,\n",
    "        \"colsample_bytree\": 0.5,\n",
    "    }\n",
    "}"
   ]
  },
  {
   "cell_type": "code",
   "execution_count": 26,
   "metadata": {},
   "outputs": [],
   "source": [
    "TO_REMOVE = [\n",
    "    'matrix_gpu-700_lastday_max', 'candidate_*_before', 'matrix_cpu-90_lastday_max', 'matrix_gpu-226_lastday_max', 'matrix_12__20_lastday_max', 'matrix_gpu-700_lastday_sum', 'popularity_week_orders', 'matrix_gpu-700_sum', 'matrix_gpu-700_type-163_max', 'matrix_gpu-700_max', 'matrix_gpu-700_pos-log_max', 'matrix_gpu-700_type-163_sum', 'matrix_123_type136_20_lastday_max', 'matrix_gpu-700_pos-log_sum', 'matrix_12__20_lastday_sum', 'matrix_cpu-90_lastday_sum', 'matrix_gpu-217_lastday_max', 'matrix_gpu-226_lastday_sum', 'matrix_cpu-90_time_sum', 'matrix_cpu-90_max', 'popularity_week_carts', 'matrix_12__20_pos-log_max', 'matrix_123_type136_20_lastday_sum', 'matrix_gpu-700_time_sum', 'matrix_12__20_time_sum', 'matrix_gpu-700_time_mean', 'matrix_gpu-226_max',\n",
    "    'matrix_123_type136_20_time_sum', 'matrix_12__20_type-163_max', 'matrix_12__20_pos-log_sum', 'matrix_12__20_sum', 'matrix_cpu-90_type-163_max', 'matrix_123_type136_20_type-163_max', 'matrix_gpu-217_sum', 'matrix_gpu-226_sum', 'matrix_12__20_max', 'matrix_gpu-217_lastday_sum', 'matrix_123_type136_20_lastday_mean', 'matrix_12__20_type-163_sum', 'matrix_123_type136_20_pos-log_sum', 'matrix_12__20_time_mean', 'matrix_cpu-90_sum', 'matrix_cpu-90_pos-log_sum', 'matrix_123_type136_20_pos-log_max', 'matrix_cpu-90_pos-log_max', 'matrix_123_type136_20_time_mean', 'matrix_cpu-90_lastday_mean', 'matrix_123_type136_20_type-163_sum', 'matrix_cpu-90_time_mean', 'matrix_gpu-700_time_max', 'popularity_hour_orders', 'matrix_12__20_lastday_mean', 'matrix_123_type136_20_time_max',\n",
    "    'matrix_123_temporal_20_time_sum', 'matrix_cpu-90_time_max', 'matrix_gpu-226_pos-log_max', 'matrix_gpu-700_pos-log_mean', 'matrix_12__20_pos-log_mean', 'matrix_gpu-700_type-163_mean', 'matrix_gpu-700_lastday_mean', 'matrix_123_type136_20_sum', 'matrix_cpu-90_type-163_sum', 'matrix_123_type0.590.5_20_time_sum', 'matrix_123_type136_20_pos-log_mean', 'matrix_gpu-217_time_sum', 'matrix_cpu-99_time_sum', 'popularity_hour/day_orders', 'matrix_gpu-226_pos-log_sum', 'matrix_12__20_time_max', 'matrix_gpu-226_type-163_max', 'matrix_123_type136_20_type-163_mean', 'matrix_gpu-217_type-163_max', 'matrix_cpu-95_time_sum', 'matrix_123_type136_20_max', 'matrix_123_temporal_20_lastday_max', 'matrix_123_type0.590.5_20_lastday_sum', 'matrix_123_type0.590.5_20_lastday_max', 'matrix_gpu-701_lastday_max', 'matrix_12__20_type-163_mean', 'matrix_gpu-226_time_sum', 'matrix_123_type0.590.5_20_type-163_max', 'matrix_123_type0.590.5_20_pos-log_sum', 'matrix_cpu-90_pos-log_mean',\n",
    "    'matrix_gpu-226_type-163_sum', 'matrix_gpu-701_time_sum', 'matrix_123_temporal_20_time_mean', 'matrix_cpu-99_time_mean', 'matrix_123_type0.590.5_20_sum', 'matrix_gpu-701_sum', 'popularity_week_clicks', 'matrix_cpu-99_lastday_sum', 'matrix_gpu-217_pos-log_sum', 'matrix_123_temporal_20_lastday_mean', 'matrix_123_temporal_20_time_max', 'matrix_gpu-701_lastday_sum', 'matrix_gpu-217_time_mean', 'matrix_gpu-217_time_max', 'matrix_123_type136_20_mean', 'matrix_cpu-95_lastday_max', 'matrix_gpu-226_time_mean', 'matrix_gpu-217_lastday_mean', 'matrix_gpu-701_lastday_mean', 'matrix_123_type0.590.5_20_type-163_sum', 'matrix_123_temporal_20_lastday_sum', 'matrix_gpu-217_max', 'matrix_cpu-90_type-163_mean', 'matrix_gpu-232_time_sum', 'matrix_12__20_mean', 'matrix_gpu-700_recsys_sum', 'matrix_cpu-95_lastday_sum', 'matrix_gpu-226_time_max', 'matrix_gpu-701_pos-log_sum', 'matrix_gpu-701_pos-log_max', 'matrix_gpu-217_type-163_sum', 'matrix_gpu-232_time_mean',\n",
    "    'matrix_gpu-217_pos-log_max', 'matrix_cpu-95_time_mean', 'matrix_123_temporal_20_type-163_max', 'matrix_gpu-701_time_mean', 'matrix_gpu-701_pos-log_mean', 'matrix_gpu-226_lastday_mean', 'matrix_cpu-99_lastday_mean', 'matrix_123_type0.590.5_20_time_mean', 'matrix_123_type0.590.5_20_time_max', 'matrix_cpu-99_type-163_sum', 'matrix_cpu-95_time_max', 'matrix_123_type0.590.5_20_lastday_mean', 'matrix_cpu-95_lastday_mean', 'matrix_123_type0.590.5_20_pos-log_max', 'matrix_123_temporal_20_pos-log_max', 'matrix_123_type0.590.5_20_pos-log_mean', 'matrix_gpu-232_lastday_sum', 'candidate_clicks_before', 'matrix_gpu-700_mean', 'matrix_gpu-155_lastday_max', 'matrix_123_temporal_20_pos-log_sum', 'matrix_cpu-99_pos-log_sum', 'matrix_gpu-232_lastday_mean', 'matrix_cpu-95_type-163_sum', 'matrix_gpu-155_time_sum', 'matrix_gpu-701_type-163_max', 'matrix_cpu-99_type-163_mean', 'matrix_gpu-701_time_max', 'matrix_cpu-99_pos-log_mean', 'matrix_gpu-239_lastday_max', 'matrix_123_temporal_20_type-163_sum', 'matrix_123_temporal_20_sum', 'matrix_gpu-701_type-163_sum', 'matrix_cpu-95_type-163_max', 'matrix_cpu-99_lastday_max',\n",
    "    'matrix_123_type0.590.5_20_type-163_mean', 'matrix_gpu-700_recsys_mean', 'matrix_gpu-217_mean', 'matrix_gpu-155_lastday_sum', 'matrix_cpu-99_type-163_max', 'matrix_123_type136_20_recsys_sum', 'matrix_cpu-95_pos-log_mean', 'matrix_gpu-116_lastday_sum', 'matrix_gpu-701_type-163_mean', 'matrix_gpu-232_lastday_max', 'matrix_cpu-99_sum', 'matrix_gpu-93_lastday_max', 'matrix_cpu-95_sum', 'matrix_gpu-226_pos-log_mean', 'matrix_cpu-90_mean', 'matrix_gpu-93_time_sum', 'matrix_123_temporal_20_type-163_mean', 'matrix_gpu-93_lastday_sum', 'matrix_cpu-95_pos-log_sum', 'n_views', 'embed_1-9_64_cartbuy_last_4_rank', 'matrix_gpu-226_type-163_mean', 'matrix_cpu-95_type-163_mean', 'matrix_123_temporal_20_pos-log_mean', 'matrix_gpu-232_time_max', 'matrix_gpu-217_pos-log_mean', 'matrix_gpu-232_mean', 'matrix_123_type136_20_recsys_mean', 'matrix_gpu-93_lastday_mean', 'matrix_gpu-116_lastday_max', 'matrix_123_type0.590.5_20_max', 'matrix_gpu-232_sum',\n",
    "    'matrix_gpu-116_time_sum', 'matrix_cpu-99_pos-log_max', 'matrix_gpu-239_time_sum', 'matrix_gpu-155_time_mean', 'matrix_gpu-226_mean', 'matrix_gpu-93_time_mean', 'matrix_gpu-701_mean', 'matrix_12__20_recsys_sum', 'matrix_123_type0.590.5_20_mean', 'matrix_gpu-239_lastday_sum', 'matrix_gpu-217_type-163_mean', 'matrix_cpu-95_mean', 'matrix_gpu-232_pos-log_sum', 'matrix_gpu-700_recsys_max', 'matrix_123_type136_20_recsys_max', 'matrix_gpu-232_pos-log_mean', 'matrix_12__20_time_mean_rank', 'matrix_cpu-99_time_max'\n",
    "]"
   ]
  },
  {
   "cell_type": "code",
   "execution_count": 27,
   "metadata": {},
   "outputs": [],
   "source": [
    "class Config:\n",
    "    seed = 42\n",
    "    version = VERSION\n",
    "    \n",
    "    folds_file = \"../input/folds_4.csv\"\n",
    "    k = 4\n",
    "    mode = \"\"\n",
    "\n",
    "    features = FEATURES\n",
    "#     features = [ft for ft in features if ft not in TO_REMOVE[:100]]\n",
    "    nb_features = len(features)\n",
    "\n",
    "    cat_features = []\n",
    "\n",
    "    target = TARGET\n",
    "    pos_ratio = POS_RATIO\n",
    "\n",
    "    use_gt_sessions = True  # filter out sessions with no gt\n",
    "    use_gt_pos = False  # add candidates from gt\n",
    "    gt_regex = \"\"\n",
    "    \n",
    "    model = \"lgbm\"\n",
    "\n",
    "    params = PARAMS[model]\n",
    "\n",
    "    use_es = True\n",
    "    num_boost_round = 10000\n",
    "\n",
    "    probs_file = None  # PROBS_PATHS[target]\n",
    "    probs_mode = \"\"  # \"head\"  \"rank_40\"\n",
    "    restrict_all = False\n",
    "\n",
    "    selected_folds = [0]\n",
    "    folds_optimize = [] #0, 1, 2, 3]\n",
    "    n_trials = 20\n",
    "\n",
    "    pca_components = 0\n",
    "    \n",
    "    use_extra = False\n",
    "    extra_regex = EXTRA_REGEX\n",
    "    extra_prop = 0."
   ]
  },
  {
   "cell_type": "markdown",
   "metadata": {},
   "source": [
    "### Main"
   ]
  },
  {
   "cell_type": "code",
   "execution_count": 28,
   "metadata": {},
   "outputs": [],
   "source": [
    "DEBUG = False\n",
    "DEBUG_MORE = False"
   ]
  },
  {
   "cell_type": "code",
   "execution_count": 29,
   "metadata": {},
   "outputs": [],
   "source": [
    "os.environ[\"NEPTUNE_API_TOKEN\"] = \"eyJhcGlfYWRkcmVzcyI6Imh0dHBzOi8vYXBwLm5lcHR1bmUuYWkiLCJhcGlfdXJsIjoiaHR0cHM6Ly9hcHAubmVwdHVuZS5haSIsImFwaV9rZXkiOiI4ZTllMDAwYy04ZDU3LTRmOGEtYWI4OS1mNzJlYjYwMDc1MDMifQ==\""
   ]
  },
  {
   "cell_type": "code",
   "execution_count": 30,
   "metadata": {},
   "outputs": [
    {
     "name": "stdout",
     "output_type": "stream",
     "text": [
      "\n",
      "https://app.neptune.ai/KagglingTheo/Otto-Recommender-System/e/OTTO-115\n",
      "Remember to stop your run once you’ve finished logging your metadata (https://docs.neptune.ai/api/run#stop). It will be stopped automatically only when the notebook kernel/interactive console is terminated.\n",
      "Warning: string 'global/parameters/features' value was longer than 16384 characters and was truncated. This warning is printed only once.\n",
      "\n",
      "Logging results to ../logs/2023-01-26/23/\n",
      "\n",
      "=============   Fold 1 / 4   =============\n",
      "\n",
      "\n",
      "-------------  Training LGBM Model  -------------\n",
      "\n",
      "    -> 937.86K training candidates\n",
      "    -> 4.23M validation candidates\n",
      "\n",
      "[100]\tvalid_0's map@20: 0.805909\n",
      "[200]\tvalid_0's map@20: 0.808153\n",
      "[300]\tvalid_0's map@20: 0.810231\n",
      "[400]\tvalid_0's map@20: 0.811842\n",
      "[500]\tvalid_0's map@20: 0.813241\n",
      "[600]\tvalid_0's map@20: 0.814141\n",
      "[700]\tvalid_0's map@20: 0.814547\n",
      "[800]\tvalid_0's map@20: 0.814985\n",
      "[900]\tvalid_0's map@20: 0.815486\n",
      "[1000]\tvalid_0's map@20: 0.816026\n",
      "[1100]\tvalid_0's map@20: 0.816144\n",
      "[1200]\tvalid_0's map@20: 0.816202\n",
      "[1300]\tvalid_0's map@20: 0.816114\n",
      "\n",
      "-> gt_orders  -  Recall : 0.6672\n",
      "\n",
      "\n",
      " -> Saving val predictions \n",
      "\n",
      "[W] [17:56:16.379779] Treelite currently does not support float64 model parameters. Accuracy may degrade slightly relative to native LightGBM invocation.\n",
      "\n",
      "[Infering]\n",
      "\n",
      " -> Saving test predictions \n",
      "\n",
      "Shutting down background jobs, please wait a moment...\n",
      "Done!\n",
      "Waiting for the remaining 2 operations to synchronize with Neptune. Do not kill this process.\n",
      "All 2 operations synced, thanks for waiting!\n",
      "Explore the metadata in the Neptune app:\n",
      "https://app.neptune.ai/KagglingTheo/Otto-Recommender-System/e/OTTO-115\n",
      "CPU times: user 2h 34min 50s, sys: 53min 43s, total: 3h 28min 34s\n",
      "Wall time: 1h 12min 15s\n"
     ]
    }
   ],
   "source": [
    "%%time\n",
    "\n",
    "log_folder = None\n",
    "run = None\n",
    "if not DEBUG:\n",
    "    log_folder = prepare_log_folder(LOG_PATH)\n",
    "    if not DEBUG_MORE:\n",
    "        run = init_neptune(Config, log_folder)\n",
    "    print(f'Logging results to {log_folder}')\n",
    "    create_logger(directory=log_folder, name=\"logs.txt\")\n",
    "\n",
    "    save_config(Config, log_folder + 'config')\n",
    "\n",
    "ft_imp = kfold(REGEX, TEST_REGEX, Config, log_folder=log_folder, debug=DEBUG_MORE, run=run)\n",
    "\n",
    "if run is not None:\n",
    "    run.stop()"
   ]
  },
  {
   "cell_type": "markdown",
   "metadata": {},
   "source": [
    "Done"
   ]
  }
 ],
 "metadata": {
  "kernelspec": {
   "display_name": "Python 3 (ipykernel)",
   "language": "python",
   "name": "python3"
  },
  "language_info": {
   "codemirror_mode": {
    "name": "ipython",
    "version": 3
   },
   "file_extension": ".py",
   "mimetype": "text/x-python",
   "name": "python",
   "nbconvert_exporter": "python",
   "pygments_lexer": "ipython3",
   "version": "3.8.10"
  }
 },
 "nbformat": 4,
 "nbformat_minor": 4
}
