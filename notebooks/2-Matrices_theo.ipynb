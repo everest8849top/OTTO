{
 "cells": [
  {
   "cell_type": "markdown",
   "metadata": {},
   "source": [
    "**About :** Computes Theo's covisitation matrices."
   ]
  },
  {
   "cell_type": "code",
   "execution_count": null,
   "metadata": {},
   "outputs": [],
   "source": [
    "cd ../src"
   ]
  },
  {
   "cell_type": "code",
   "execution_count": null,
   "metadata": {},
   "outputs": [],
   "source": [
    "%load_ext autoreload\n",
    "%autoreload 2"
   ]
  },
  {
   "cell_type": "code",
   "execution_count": null,
   "metadata": {},
   "outputs": [],
   "source": [
    "import os\n",
    "import gc\n",
    "import cudf\n",
    "import json\n",
    "import glob\n",
    "import numpy as np\n",
    "import pandas as pd\n",
    "from tqdm import tqdm\n",
    "\n",
    "from params import *\n",
    "from data.covisitation import compute_covisitation_matrix, read_file_to_cache"
   ]
  },
  {
   "cell_type": "markdown",
   "metadata": {},
   "source": [
    "## Covisitation matrices\n",
    "- Recompute on train without using val ??"
   ]
  },
  {
   "cell_type": "code",
   "execution_count": null,
   "metadata": {},
   "outputs": [],
   "source": [
    "MATRIX_FOLDER = \"../output/matrices/\"\n",
    "os.makedirs(MATRIX_FOLDER, exist_ok=True)"
   ]
  },
  {
   "cell_type": "code",
   "execution_count": null,
   "metadata": {},
   "outputs": [],
   "source": [
    "MODE = \"val\""
   ]
  },
  {
   "cell_type": "code",
   "execution_count": null,
   "metadata": {},
   "outputs": [],
   "source": [
    "if MODE == \"val\":\n",
    "    files = glob.glob(\"../output/full_train_parquet/*\") +  glob.glob(\"../output/val_parquet/*\")\n",
    "elif MODE == \"test\":\n",
    "    files = glob.glob(\"../output/full_train_val_parquet/*\") +  glob.glob(\"../output/test_parquet/*\")\n",
    "else:\n",
    "    raise NotImplementedError"
   ]
  },
  {
   "cell_type": "code",
   "execution_count": null,
   "metadata": {},
   "outputs": [],
   "source": [
    "data_cache = {}\n",
    "for f in tqdm(files):\n",
    "    data_cache[f] = read_file_to_cache(f)"
   ]
  },
  {
   "cell_type": "code",
   "execution_count": null,
   "metadata": {},
   "outputs": [],
   "source": [
    "for n in [20, 40]:\n",
    "    compute_covisitation_matrix(\n",
    "        files,\n",
    "        data_cache,\n",
    "        weighting=\"temporal\",\n",
    "        n=n,\n",
    "        save_folder=MATRIX_FOLDER,\n",
    "        suffix=MODE,\n",
    "    )\n",
    "\n",
    "    compute_covisitation_matrix(\n",
    "        files,\n",
    "        data_cache,\n",
    "        weighting=\"type\",\n",
    "        type_weight={0: 1, 1: 3, 2: 6},\n",
    "        n=n,\n",
    "        save_folder=MATRIX_FOLDER,\n",
    "        suffix=MODE,\n",
    "    )\n",
    "    \n",
    "    compute_covisitation_matrix(\n",
    "        files,\n",
    "        data_cache,\n",
    "        considered_types=[1, 2],\n",
    "        weighting=\"\",\n",
    "        n=n,\n",
    "        save_folder=MATRIX_FOLDER,\n",
    "        suffix=MODE,\n",
    "    )\n",
    "\n",
    "    compute_covisitation_matrix(\n",
    "        files,\n",
    "        data_cache,\n",
    "        weighting=\"type\",\n",
    "        type_weight={0: 0.5, 1: 9, 2: 0.5},\n",
    "        n=n,\n",
    "        save_folder=MATRIX_FOLDER,\n",
    "        suffix=MODE,\n",
    "    )"
   ]
  },
  {
   "cell_type": "markdown",
   "metadata": {},
   "source": [
    "Done !"
   ]
  }
 ],
 "metadata": {
  "kernelspec": {
   "display_name": "Python 3.10.9 64-bit (microsoft store)",
   "language": "python",
   "name": "python3"
  },
  "language_info": {
   "codemirror_mode": {
    "name": "ipython",
    "version": 3
   },
   "file_extension": ".py",
   "mimetype": "text/x-python",
   "name": "python",
   "nbconvert_exporter": "python",
   "pygments_lexer": "ipython3",
   "version": "3.10.9"
  },
  "vscode": {
   "interpreter": {
    "hash": "f7241b2af102f7e024509099765066b36197b195077f7bfac6e5bc041ba17c8c"
   }
  }
 },
 "nbformat": 4,
 "nbformat_minor": 4
}
