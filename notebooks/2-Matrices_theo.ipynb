{
 "cells": [
  {
   "cell_type": "markdown",
   "metadata": {},
   "source": [
    "**About :** Generates candidates.\n",
    "\n",
    "**TODO**:"
   ]
  },
  {
   "cell_type": "code",
   "execution_count": 1,
   "metadata": {},
   "outputs": [
    {
     "name": "stdout",
     "output_type": "stream",
     "text": [
      "/workspace/kaggle_otto_rs/src\n"
     ]
    }
   ],
   "source": [
    "cd ../src"
   ]
  },
  {
   "cell_type": "code",
   "execution_count": 2,
   "metadata": {},
   "outputs": [],
   "source": [
    "%load_ext autoreload\n",
    "%autoreload 2"
   ]
  },
  {
   "cell_type": "code",
   "execution_count": 3,
   "metadata": {},
   "outputs": [],
   "source": [
    "import os\n",
    "os.environ[\"CUDA_VISIBLE_DEVICES\"] = \"1\""
   ]
  },
  {
   "cell_type": "code",
   "execution_count": 4,
   "metadata": {},
   "outputs": [
    {
     "name": "stdout",
     "output_type": "stream",
     "text": [
      "INFO: Pandarallel will run on 32 workers.\n",
      "INFO: Pandarallel will use Memory file system to transfer data between the main process and workers.\n"
     ]
    }
   ],
   "source": [
    "import os\n",
    "import gc\n",
    "import sys\n",
    "import cudf\n",
    "import json\n",
    "import glob\n",
    "import pickle\n",
    "import warnings\n",
    "import itertools\n",
    "import numpy as np\n",
    "import pandas as pd\n",
    "import seaborn as sns\n",
    "import matplotlib.pyplot as plt\n",
    "\n",
    "from tqdm import tqdm\n",
    "from datetime import datetime\n",
    "from collections import Counter\n",
    "from pandarallel import pandarallel\n",
    "from numerize.numerize import numerize\n",
    "\n",
    "\n",
    "warnings.simplefilter(action=\"ignore\", category=FutureWarning)\n",
    "pandarallel.initialize(nb_workers=32, progress_bar=False)"
   ]
  },
  {
   "cell_type": "code",
   "execution_count": 5,
   "metadata": {},
   "outputs": [],
   "source": [
    "from params import *\n",
    "\n",
    "from data.covisitation import compute_covisitation_matrix\n",
    "from data.candidates import load_parquets, create_candidates, explode, matrix_to_candids_dict\n",
    "\n",
    "from utils.metrics import get_coverage\n",
    "from utils.chris import suggest_clicks, suggest_buys, read_file_to_cache"
   ]
  },
  {
   "cell_type": "markdown",
   "metadata": {},
   "source": [
    "## Covisitation matrices\n",
    "- Recompute on train without using val ??"
   ]
  },
  {
   "cell_type": "code",
   "execution_count": 6,
   "metadata": {},
   "outputs": [],
   "source": [
    "MATRIX_FOLDER = \"../output/matrices_2/\"\n",
    "\n",
    "os.makedirs(MATRIX_FOLDER, exist_ok=True)"
   ]
  },
  {
   "cell_type": "code",
   "execution_count": 7,
   "metadata": {},
   "outputs": [],
   "source": [
    "MODE = \"val\""
   ]
  },
  {
   "cell_type": "code",
   "execution_count": 12,
   "metadata": {},
   "outputs": [],
   "source": [
    "if MODE == \"val\":\n",
    "    files = glob.glob(\"../output/full_train_parquet/*\") +  glob.glob(\"../output/val_parquet/*\")\n",
    "    files += glob.glob(\"../output/val_trimmed_parquet/*\")\n",
    "elif MODE == \"test\":\n",
    "    files = glob.glob(\"../output/full_train_val_parquet/*\") +  glob.glob(\"../output/test_parquet/*\")\n",
    "else:\n",
    "    raise NotImplementedError"
   ]
  },
  {
   "cell_type": "code",
   "execution_count": 14,
   "metadata": {},
   "outputs": [
    {
     "name": "stderr",
     "output_type": "stream",
     "text": [
      "100%|██████████| 156/156 [01:18<00:00,  2.00it/s]\n"
     ]
    }
   ],
   "source": [
    "data_cache = {}\n",
    "for f in tqdm(files):\n",
    "    data_cache[f] = read_file_to_cache(f)"
   ]
  },
  {
   "cell_type": "code",
   "execution_count": 15,
   "metadata": {},
   "outputs": [
    {
     "name": "stderr",
     "output_type": "stream",
     "text": [
      "100%|██████████| 16/16 [00:43<00:00,  2.74s/it]\n",
      "100%|██████████| 16/16 [00:42<00:00,  2.65s/it]\n",
      "100%|██████████| 16/16 [00:42<00:00,  2.63s/it]\n",
      "100%|██████████| 16/16 [00:42<00:00,  2.63s/it]\n"
     ]
    },
    {
     "name": "stdout",
     "output_type": "stream",
     "text": [
      "Saving matrix to ../output/matrices_2/matrix_123_temporal_20_val.pqt\n"
     ]
    },
    {
     "name": "stderr",
     "output_type": "stream",
     "text": [
      "100%|██████████| 16/16 [00:41<00:00,  2.62s/it]\n",
      "100%|██████████| 16/16 [00:43<00:00,  2.69s/it]\n",
      "100%|██████████| 16/16 [00:42<00:00,  2.68s/it]\n",
      "100%|██████████| 16/16 [00:42<00:00,  2.66s/it]\n"
     ]
    },
    {
     "name": "stdout",
     "output_type": "stream",
     "text": [
      "Saving matrix to ../output/matrices_2/matrix_123_type136_20_val.pqt\n"
     ]
    },
    {
     "name": "stderr",
     "output_type": "stream",
     "text": [
      "100%|██████████| 16/16 [00:14<00:00,  1.11it/s]\n",
      "100%|██████████| 16/16 [00:12<00:00,  1.30it/s]\n",
      "100%|██████████| 16/16 [00:12<00:00,  1.30it/s]\n",
      "100%|██████████| 16/16 [00:12<00:00,  1.31it/s]\n"
     ]
    },
    {
     "name": "stdout",
     "output_type": "stream",
     "text": [
      "Saving matrix to ../output/matrices_2/matrix_12__20_val.pqt\n"
     ]
    },
    {
     "name": "stderr",
     "output_type": "stream",
     "text": [
      "100%|██████████| 16/16 [00:40<00:00,  2.54s/it]\n",
      "100%|██████████| 16/16 [00:40<00:00,  2.52s/it]\n",
      "100%|██████████| 16/16 [00:40<00:00,  2.52s/it]\n",
      "100%|██████████| 16/16 [00:39<00:00,  2.50s/it]\n"
     ]
    },
    {
     "name": "stdout",
     "output_type": "stream",
     "text": [
      "Saving matrix to ../output/matrices_2/matrix_123_type0.590.5_20_val.pqt\n"
     ]
    },
    {
     "name": "stderr",
     "output_type": "stream",
     "text": [
      "100%|██████████| 16/16 [00:39<00:00,  2.44s/it]\n",
      "100%|██████████| 16/16 [00:39<00:00,  2.45s/it]\n",
      "100%|██████████| 16/16 [00:39<00:00,  2.48s/it]\n",
      "100%|██████████| 16/16 [00:39<00:00,  2.46s/it]\n"
     ]
    },
    {
     "name": "stdout",
     "output_type": "stream",
     "text": [
      "Saving matrix to ../output/matrices_2/matrix_123_temporal_40_val.pqt\n"
     ]
    },
    {
     "name": "stderr",
     "output_type": "stream",
     "text": [
      "100%|██████████| 16/16 [00:39<00:00,  2.49s/it]\n",
      "100%|██████████| 16/16 [00:39<00:00,  2.49s/it]\n",
      "100%|██████████| 16/16 [00:39<00:00,  2.49s/it]\n",
      "100%|██████████| 16/16 [00:39<00:00,  2.48s/it]\n"
     ]
    },
    {
     "name": "stdout",
     "output_type": "stream",
     "text": [
      "Saving matrix to ../output/matrices_2/matrix_123_type136_40_val.pqt\n"
     ]
    },
    {
     "name": "stderr",
     "output_type": "stream",
     "text": [
      "100%|██████████| 16/16 [00:11<00:00,  1.39it/s]\n",
      "100%|██████████| 16/16 [00:11<00:00,  1.41it/s]\n",
      "100%|██████████| 16/16 [00:11<00:00,  1.41it/s]\n",
      "100%|██████████| 16/16 [00:12<00:00,  1.32it/s]\n"
     ]
    },
    {
     "name": "stdout",
     "output_type": "stream",
     "text": [
      "Saving matrix to ../output/matrices_2/matrix_12__40_val.pqt\n"
     ]
    },
    {
     "name": "stderr",
     "output_type": "stream",
     "text": [
      "100%|██████████| 16/16 [00:40<00:00,  2.51s/it]\n",
      "100%|██████████| 16/16 [00:40<00:00,  2.51s/it]\n",
      "100%|██████████| 16/16 [00:41<00:00,  2.57s/it]\n",
      "100%|██████████| 16/16 [00:42<00:00,  2.63s/it]\n"
     ]
    },
    {
     "name": "stdout",
     "output_type": "stream",
     "text": [
      "Saving matrix to ../output/matrices_2/matrix_123_type0.590.5_40_val.pqt\n"
     ]
    }
   ],
   "source": [
    "for n in [20, 40]:\n",
    "    compute_covisitation_matrix(\n",
    "        files,\n",
    "        data_cache,\n",
    "        weighting=\"temporal\",\n",
    "        n=n,\n",
    "        save_folder=MATRIX_FOLDER,\n",
    "        suffix=MODE,\n",
    "    )\n",
    "\n",
    "    compute_covisitation_matrix(\n",
    "        files,\n",
    "        data_cache,\n",
    "        weighting=\"type\",\n",
    "        type_weight={0: 1, 1: 3, 2: 6},\n",
    "        n=n,\n",
    "        save_folder=MATRIX_FOLDER,\n",
    "        suffix=MODE,\n",
    "    )\n",
    "    \n",
    "    compute_covisitation_matrix(\n",
    "        files,\n",
    "        data_cache,\n",
    "        considered_types=[1, 2],\n",
    "        weighting=\"\",\n",
    "        n=n,\n",
    "        save_folder=MATRIX_FOLDER,\n",
    "        suffix=MODE,\n",
    "    )\n",
    "\n",
    "    compute_covisitation_matrix(\n",
    "        files,\n",
    "        data_cache,\n",
    "        weighting=\"type\",\n",
    "        type_weight={0: 0.5, 1: 9, 2: 0.5},\n",
    "        n=n,\n",
    "        save_folder=MATRIX_FOLDER,\n",
    "        suffix=MODE,\n",
    "    )"
   ]
  },
  {
   "cell_type": "markdown",
   "metadata": {},
   "source": [
    "Done"
   ]
  }
 ],
 "metadata": {
  "kernelspec": {
   "display_name": "Python 3 (ipykernel)",
   "language": "python",
   "name": "python3"
  },
  "language_info": {
   "codemirror_mode": {
    "name": "ipython",
    "version": 3
   },
   "file_extension": ".py",
   "mimetype": "text/x-python",
   "name": "python",
   "nbconvert_exporter": "python",
   "pygments_lexer": "ipython3",
   "version": "3.8.10"
  }
 },
 "nbformat": 4,
 "nbformat_minor": 4
}
