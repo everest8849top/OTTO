{
 "cells": [
  {
   "cell_type": "markdown",
   "metadata": {},
   "source": [
    "**About :** Blend & evaluate models."
   ]
  },
  {
   "cell_type": "code",
   "execution_count": 1,
   "metadata": {},
   "outputs": [
    {
     "name": "stdout",
     "output_type": "stream",
     "text": [
      "/workspace/kaggle_otto_rs/src\n"
     ]
    }
   ],
   "source": [
    "cd ../src"
   ]
  },
  {
   "cell_type": "code",
   "execution_count": 2,
   "metadata": {},
   "outputs": [],
   "source": [
    "%load_ext autoreload\n",
    "%autoreload 2"
   ]
  },
  {
   "cell_type": "code",
   "execution_count": 3,
   "metadata": {},
   "outputs": [],
   "source": [
    "import os\n",
    "os.environ[\"CUDA_VISIBLE_DEVICES\"] = \"1\""
   ]
  },
  {
   "cell_type": "code",
   "execution_count": 4,
   "metadata": {},
   "outputs": [
    {
     "name": "stdout",
     "output_type": "stream",
     "text": [
      "INFO: Pandarallel will run on 32 workers.\n",
      "INFO: Pandarallel will use Memory file system to transfer data between the main process and workers.\n"
     ]
    }
   ],
   "source": [
    "import os\n",
    "import gc\n",
    "import cudf\n",
    "import json\n",
    "import glob\n",
    "import numba\n",
    "import xgboost\n",
    "import warnings\n",
    "import numpy as np\n",
    "import pandas as pd\n",
    "import seaborn as sns\n",
    "import matplotlib.pyplot as plt\n",
    "\n",
    "from tqdm import tqdm\n",
    "from numerize.numerize import numerize\n",
    "from pandarallel import pandarallel\n",
    "\n",
    "warnings.simplefilter(action=\"ignore\", category=FutureWarning)\n",
    "pd.options.display.max_columns = 500\n",
    "pd.options.display.max_rows = 500\n",
    "pandarallel.initialize(nb_workers=32, progress_bar=False)"
   ]
  },
  {
   "cell_type": "code",
   "execution_count": 5,
   "metadata": {},
   "outputs": [],
   "source": [
    "from params import *\n",
    "\n",
    "from utils.metrics import get_coverage, evaluate\n",
    "from utils.plot import plot_importances\n",
    "from utils.load import *\n",
    "from utils.logger import *\n",
    "\n",
    "from inference.boosting import inference"
   ]
  },
  {
   "cell_type": "markdown",
   "metadata": {},
   "source": [
    "### Inf"
   ]
  },
  {
   "cell_type": "code",
   "execution_count": 6,
   "metadata": {},
   "outputs": [],
   "source": [
    "# EXP_FOLDER = \"../logs/2023-01-25/15/\"\n",
    "EXP_FOLDER = \"../logs/2023-01-28/19/\"\n",
    "#     [\"../logs/2023-01-28/18/\", \"../logs/2023-01-28/17/\"]   # CARTS Pos ratio 0.2  - CV xx\n",
    "#         [\"../logs/2023-01-28/19/\", \"../logs/2023-01-28/20/\"]   # CARTS Pos ratio 0.2  - CV xx\n",
    "\n",
    "# VERSION = \"cv7+-tv5.12_2\"  # \n",
    "VERSION = \"cv7+-tv5.12_cb\"  #  0.669248  0.671884  0.668683  0.66967\n",
    "\n",
    "\n",
    "REGEX = f\"../output/features/fts_val_{VERSION}/*\"\n",
    "TEST_REGEX = None  # f\"../output/features/fts_test_{VERSION}/*\""
   ]
  },
  {
   "cell_type": "code",
   "execution_count": 7,
   "metadata": {},
   "outputs": [],
   "source": [
    "# inference(REGEX, TEST_REGEX, EXP_FOLDER, debug=False, save=True)  # CV 0.6696  //  0.6692 - 0.6716 - 0.6684 - 0.6693"
   ]
  },
  {
   "cell_type": "code",
   "execution_count": 8,
   "metadata": {},
   "outputs": [],
   "source": [
    "# ft_imp = pd.read_csv(\"../logs/2023-01-25/13/ft_imp.csv\")\n",
    "# ft_imp = ft_imp[ft_imp['index'].apply(lambda x: \"embed\" in x or \"w2v\" in x)]\n",
    "\n",
    "# list(ft_imp.sort_values('importance')[\"index\"])[:200]\n",
    "# plot_importances(ft_imp.set_index(\"index\"))"
   ]
  },
  {
   "cell_type": "code",
   "execution_count": 9,
   "metadata": {},
   "outputs": [],
   "source": [
    "# REGEX = \"../output/val_parquet/*\"\n",
    "\n",
    "# sessions = load_sessions(REGEX)\n",
    "# sessions_g = sessions[[\"session\", \"aid\"]].groupby('session').agg(\"count\").reset_index()\n",
    "# sessions_len_1 = sessions_g[sessions_g['aid'] == 1]\n",
    "\n",
    "# sessions_len_more = sessions_g[sessions_g['aid'] > 1]\n",
    "# # sessions_g = sessions_g.merge(sessions_g2, on=\"session\", suffixes=('', '_'), how=\"left\")\n",
    "# # sessions_len_1 = sessions_g.dropna(0)"
   ]
  },
  {
   "cell_type": "markdown",
   "metadata": {},
   "source": [
    "### Load"
   ]
  },
  {
   "cell_type": "markdown",
   "metadata": {},
   "source": [
    "#### Train data\n",
    "- neg sampling could use candidates from lower versions"
   ]
  },
  {
   "cell_type": "code",
   "execution_count": 10,
   "metadata": {},
   "outputs": [],
   "source": [
    "EXP_FOLDERS = [  # Clicks - 0.5593\n",
    "    [\"../logs/2023-01-20/26/\", \"../logs/2023-01-20/23/\", \"../logs/2023-01-20/30/\", \"../logs/2023-01-20/32/\"],\n",
    "]\n",
    "\n",
    "WEIGHTS = [1] * len(EXP_FOLDERS)"
   ]
  },
  {
   "cell_type": "code",
   "execution_count": 11,
   "metadata": {},
   "outputs": [],
   "source": [
    "EXP_FOLDERS = [\n",
    "#     \"../logs/2023-01-24/29/\",  # CARTS - Pos ratio 0.2 - Extra_prop 0                CV 0.4420\n",
    "#     \"../logs/2023-01-24/28/\",  # ORDER - Pos ratio 0.2 - Extra_prop 0.5              CV 0.6694\n",
    "#     \"../logs/2023-01-24/27/\",  # ORDER - Pos ratio 0.5 - Extra_prop 1                CV 0.6696\n",
    "#     \"../logs/2023-01-24/22/\",  # ORDER - Pos ratio 0.2 - Extra_prop 0                CV 0.6691\n",
    "#     \"../logs/2023-01-24/17/\",  # ORDER - Pos ratio 0.2 - Extra_prop 0.5  rm low imp  CV 0.6694\n",
    "#     [\"../logs/2023-01-25/0/\", \"../logs/2023-01-25/4/\",  \"../logs/2023-01-25/6/\", \"../logs/2023-01-25/7/\"],  # CARTS Pos ratio 0.5 - Extra_prop 1.0    CV 0.4424\n",
    "#     [\"../logs/2023-01-26/3/\", \"../logs/2023-01-26/2/\"],                                                     # CARTS Pos ratio 0.5 - Extra_prop 2.0    CV 0.4426\n",
    "    \n",
    "#     \"../logs/2023-01-25/11/\",  # ORDER - Pos ratio 0.5 - Extra_prop 2.0               CV 0.6697\n",
    "    \"../logs/2023-01-25/15/\",  # ORDER - Pos ratio 0.25 - Extra_prop *                CV 0.6699\n",
    "    ## cv7+-tv5.12\n",
    "#     [\"../logs/2023-01-28/7/\", \"../logs/2023-01-28/30/\"],  # ORDER Pos ratio 0.5  - CV 0.6703\n",
    "#     [\"../logs/2023-01-28/22/\", \"../logs/2023-01-28/29/\", \"../logs/2023-01-28/26/\"],  # ORDER Pos ratio 0.25  - CV 0.6703\n",
    "    [\"../logs/2023-01-28/6/\", \"../logs/2023-01-28/27/\"],   # ORDER Pos ratio 0.2  - CV 0.6704\n",
    "#     [\"../logs/2023-01-28/18/\", \"../logs/2023-01-28/17/\"],   # CARTS Pos ratio 0.2  - CV 0.4436\n",
    "#     [\"../logs/2023-01-28/19/\", \"../logs/2023-01-28/20/\"],   # CARTS Pos ratio 0.5  - CV 0.4436\n",
    "#     [\"../logs/2023-01-28/15/\", \"../logs/2023-01-28/16/\"],  # Clicks  Pos ratio 0.2   - CV 0.5621\n",
    "#     [\"../logs/2023-01-20/26/\", \"../logs/2023-01-20/23/\", \"../logs/2023-01-20/30/\", \"../logs/2023-01-20/32/\"],  # 0.5593\n",
    "]\n",
    "\n",
    "WEIGHTS = [1] * len(EXP_FOLDERS)"
   ]
  },
  {
   "cell_type": "code",
   "execution_count": 102,
   "metadata": {},
   "outputs": [],
   "source": [
    "EXP_FOLDERS = [  # 0.4438\n",
    "    \"../logs/2023-01-24/29/\",  # CARTS - Pos ratio 0.2 - Extra_prop 0                CV 0.4420\n",
    "    [\"../logs/2023-01-25/0/\", \"../logs/2023-01-25/4/\",  \"../logs/2023-01-25/6/\", \"../logs/2023-01-25/7/\"],  # CARTS Pos ratio 0.5 - Extra_prop 1.0    CV 0.4424\n",
    "    [\"../logs/2023-01-26/3/\", \"../logs/2023-01-26/2/\"],                                                     # CARTS Pos ratio 0.5 - Extra_prop 2.0    CV 0.4426\n",
    "    [\"../logs/2023-01-28/18/\", \"../logs/2023-01-28/17/\"],   # CARTS Pos ratio 0.2  - CV 0.4436\n",
    "    [\"../logs/2023-01-28/19/\", \"../logs/2023-01-28/20/\"],   # CARTS Pos ratio 0.5  - CV 0.4436\n",
    "]\n",
    "\n",
    "WEIGHTS = [1, 1, 2, 10, 10]  # Carts 0.44376"
   ]
  },
  {
   "cell_type": "code",
   "execution_count": 14,
   "metadata": {},
   "outputs": [],
   "source": [
    "EXP_FOLDERS = [  # 0.5621\n",
    "    [\"../logs/2023-01-28/15/\", \"../logs/2023-01-28/16/\"],  # Clicks  Pos ratio 0.2   - CV 0.5621\n",
    "#     [\"../logs/2023-01-20/26/\", \"../logs/2023-01-20/23/\", \"../logs/2023-01-20/30/\", \"../logs/2023-01-20/32/\"], # 0.5593\n",
    "]\n",
    "\n",
    "WEIGHTS = [1]"
   ]
  },
  {
   "cell_type": "code",
   "execution_count": 134,
   "metadata": {},
   "outputs": [],
   "source": [
    "EXP_FOLDERS = [  # 0.6706\n",
    "    \"../logs/2023-01-25/15/\",  # ORDER - Pos ratio 0.25 - Extra_prop *                CV 0.6699\n",
    "    ## cv7+-tv5.12\n",
    "    [\"../logs/2023-01-28/7/\", \"../logs/2023-01-28/30/\"],  # ORDER Pos ratio 0.5  - CV 0.6703\n",
    "    [\"../logs/2023-01-28/22/\", \"../logs/2023-01-28/29/\", \"../logs/2023-01-28/26/\"],  # ORDER Pos ratio 0.25  - CV 0.6703\n",
    "    [\"../logs/2023-01-28/6/\", \"../logs/2023-01-28/27/\"],   # ORDER Pos ratio 0.2  - CV 0.6704\n",
    "]\n",
    "WEIGHTS = [2, 1, 2, 2]"
   ]
  },
  {
   "cell_type": "code",
   "execution_count": 144,
   "metadata": {},
   "outputs": [
    {
     "name": "stdout",
     "output_type": "stream",
     "text": [
      "\t === Exp ../logs/2023-01-25/15/\t Target gt_orders ===\n",
      "\n",
      "cv7-tv5.11 - Pos ratio 0.25 - Extra_prop 0.0\n",
      "\n",
      "\t === Exp ../logs/2023-01-28/7/\t Target gt_orders ===\n",
      "\n",
      "cv7+-tv5.12_cb - Pos ratio 0.5 - Extra_prop 0.0\n",
      "\n",
      "\t === Exp ../logs/2023-01-28/30/\t Target gt_orders ===\n",
      "\n",
      "cv7+-tv5.12_cb - Pos ratio 0.5 - Extra_prop 0.0\n",
      "\n",
      "\t === Exp ../logs/2023-01-28/22/\t Target gt_orders ===\n",
      "\n",
      "cv7+-tv5.12_cb - Pos ratio 0.25 - Extra_prop 0.0\n",
      "\n",
      "\t === Exp ../logs/2023-01-28/29/\t Target gt_orders ===\n",
      "\n",
      "cv7+-tv5.12_cb - Pos ratio 0.25 - Extra_prop 0.0\n",
      "\n",
      "\t === Exp ../logs/2023-01-28/26/\t Target gt_orders ===\n",
      "\n",
      "cv7+-tv5.12_cb - Pos ratio 0.25 - Extra_prop 0.0\n",
      "\n",
      "\t === Exp ../logs/2023-01-28/6/\t Target gt_orders ===\n",
      "\n",
      "cv7+-tv5.12_cb - Pos ratio 0.2 - Extra_prop 0.0\n",
      "\n",
      "\t === Exp ../logs/2023-01-28/27/\t Target gt_orders ===\n",
      "\n",
      "cv7+-tv5.12_cb - Pos ratio 0.2 - Extra_prop 0.0\n",
      "\n"
     ]
    }
   ],
   "source": [
    "df_val_ = None\n",
    "dfs_val_list = []\n",
    "for exp_folders, w in zip(EXP_FOLDERS, WEIGHTS):\n",
    "    \n",
    "    if not isinstance(exp_folders, list):\n",
    "        exp_folders = [exp_folders]\n",
    "\n",
    "    dfs_val = []\n",
    "    for exp_folder in exp_folders:\n",
    "        config = Config(json.load(open(exp_folder + \"config.json\", \"r\")))\n",
    "        print(f'\\t === Exp {exp_folder}\\t Target {config.target} ===\\n')\n",
    "        TARGET = config.target\n",
    "        try:\n",
    "            print(f\"{config.version} - Pos ratio {config.pos_ratio} - Extra_prop {config.extra_prop if config.use_extra else None}\\n\")\n",
    "        except:\n",
    "            print(f\"{config.version} - Pos ratio {config.pos_ratio} - Extra_prop None\\n\")\n",
    "\n",
    "        for fold in range(config.k):\n",
    "#             if fold == 3:\n",
    "#                 continue\n",
    "            try:\n",
    "                df_val = cudf.read_parquet(exp_folder + f\"df_val_{fold}.parquet\")\n",
    "#                 df_val = df_val.merge(sessions_len_1, on=\"session\", how=\"left\").dropna(0)\n",
    "#                 df_val = df_val.merge(sessions_len_more, on=\"session\", how=\"left\").dropna(0)\n",
    "\n",
    "#                 df_val['pred'] = df_val.groupby('session')['pred'].rank()\n",
    "#                 df_val['pred'] = (df_val['pred'] - df_val['pred'].min()) / (df_val['pred'].max() - df_val['pred'].min())\n",
    "                df_val['pred'] *= w\n",
    "\n",
    "                dfs_val.append(df_val)\n",
    "                if len(EXP_FOLDERS) == 1:\n",
    "                    print(f'-> Retrieved fold {fold}', end=\"\")\n",
    "                    evaluate(df_val, TARGET)\n",
    "            except FileNotFoundError:\n",
    "                pass\n",
    "\n",
    "#             break\n",
    "\n",
    "    dfs_val = cudf.concat(dfs_val, ignore_index=True)\n",
    "    dfs_val_list.append(dfs_val.sort_values(['session', 'candidates'], ignore_index=True))\n",
    "\n",
    "#     print('\\n ===> CV :')\n",
    "#     cv = evaluate(dfs_val, TARGET)    \n",
    "#     print(cv)\n",
    "\n",
    "    if df_val_ is None: \n",
    "        df_val_ = dfs_val.copy()\n",
    "    else:\n",
    "        df_val_ = df_val_.set_index(['session', 'candidates']).add(\n",
    "            dfs_val.set_index(['session', 'candidates']), fill_value=0\n",
    "        ).reset_index()\n",
    "        \n",
    "    \n",
    "\n",
    "    del dfs_val\n",
    "    numba.cuda.current_context().deallocations.clear()\n",
    "    gc.collect()"
   ]
  },
  {
   "cell_type": "code",
   "execution_count": 145,
   "metadata": {},
   "outputs": [
    {
     "name": "stdout",
     "output_type": "stream",
     "text": [
      " ===> CV : 0.6706136\n"
     ]
    }
   ],
   "source": [
    "score = evaluate(df_val_, TARGET, verbose=0)\n",
    "print(f' ===> CV : {score:.7f}')"
   ]
  },
  {
   "cell_type": "markdown",
   "metadata": {},
   "source": [
    "### Subs"
   ]
  },
  {
   "cell_type": "code",
   "execution_count": 60,
   "metadata": {},
   "outputs": [],
   "source": [
    "from params import WEIGHTS\n",
    "import numpy as np"
   ]
  },
  {
   "cell_type": "code",
   "execution_count": 82,
   "metadata": {},
   "outputs": [
    {
     "name": "stdout",
     "output_type": "stream",
     "text": [
      "-> CV : 0.5917\n"
     ]
    }
   ],
   "source": [
    "cv = np.average([0.5621, 0.4438, 0.6706], weights=WEIGHTS)  # LB 0.6029\n",
    "print(f\"-> CV : {cv:.4f}\")"
   ]
  },
  {
   "cell_type": "code",
   "execution_count": 80,
   "metadata": {},
   "outputs": [
    {
     "name": "stdout",
     "output_type": "stream",
     "text": [
      "-> CV : 0.5907\n"
     ]
    }
   ],
   "source": [
    "cv = np.average([0.5593, 0.4428, 0.6699], weights=WEIGHTS)  # LB 0.6020\n",
    "print(f\"-> CV : {cv:.4f}\")"
   ]
  },
  {
   "cell_type": "code",
   "execution_count": 63,
   "metadata": {},
   "outputs": [
    {
     "name": "stdout",
     "output_type": "stream",
     "text": [
      "-> CV : 0.5903\n"
     ]
    }
   ],
   "source": [
    "cv = np.average([0.5593, 0.4424, 0.6694], weights=WEIGHTS)  # LB 0.6016\n",
    "print(f\"-> CV : {cv:.4f}\")"
   ]
  },
  {
   "cell_type": "code",
   "execution_count": 64,
   "metadata": {},
   "outputs": [
    {
     "name": "stdout",
     "output_type": "stream",
     "text": [
      "-> CV : 0.5900\n"
     ]
    }
   ],
   "source": [
    "cv = np.average([0.5593, 0.4420, 0.6691], weights=WEIGHTS)  # LB 0.6013\n",
    "print(f\"-> CV : {cv:.4f}\")"
   ]
  },
  {
   "cell_type": "code",
   "execution_count": 65,
   "metadata": {},
   "outputs": [
    {
     "name": "stdout",
     "output_type": "stream",
     "text": [
      "-> CV : 0.5888\n"
     ]
    }
   ],
   "source": [
    "cv = np.average([0.5593, 0.4404, 0.6680], weights=WEIGHTS)  # LB 0.6002\n",
    "print(f\"-> CV : {cv:.4f}\")"
   ]
  },
  {
   "cell_type": "code",
   "execution_count": 66,
   "metadata": {},
   "outputs": [
    {
     "name": "stdout",
     "output_type": "stream",
     "text": [
      "-> CV : 0.5883\n"
     ]
    }
   ],
   "source": [
    "cv = np.average([0.554, 0.4404, 0.6680], weights=WEIGHTS)  # LB 0.5997\n",
    "print(f\"-> CV : {cv:.4f}\")  "
   ]
  },
  {
   "cell_type": "code",
   "execution_count": 67,
   "metadata": {},
   "outputs": [
    {
     "name": "stdout",
     "output_type": "stream",
     "text": [
      "-> CV : 0.5875\n"
     ]
    }
   ],
   "source": [
    "cv = np.average([0.554, 0.4392, 0.6673], weights=WEIGHTS)  # LB 0.5990\n",
    "print(f\"-> CV : {cv:.4f}\")"
   ]
  },
  {
   "cell_type": "code",
   "execution_count": 68,
   "metadata": {},
   "outputs": [
    {
     "name": "stdout",
     "output_type": "stream",
     "text": [
      "-> CV : 0.5869\n"
     ]
    }
   ],
   "source": [
    "cv = np.average([0.554, 0.4382, 0.6668], weights=WEIGHTS)  # LB 0.5984\n",
    "print(f\"-> CV : {cv:.4f}\")"
   ]
  },
  {
   "cell_type": "markdown",
   "metadata": {},
   "source": [
    "### Test"
   ]
  },
  {
   "cell_type": "code",
   "execution_count": 157,
   "metadata": {},
   "outputs": [
    {
     "name": "stdout",
     "output_type": "stream",
     "text": [
      "\t === Exp ../logs/2023-01-25/15/\t Target gt_orders ===\n",
      "\n",
      "-> Retrieved fold 0\n",
      "\n",
      "-> Retrieved fold 1\n",
      "\n",
      "-> Retrieved fold 2\n",
      "\n",
      "-> Retrieved fold 3\n",
      "\n",
      "- Retrieved 120194976 test candidates.\n",
      "\n",
      "\t === Exp ../logs/2023-01-28/7/\t Target gt_orders ===\n",
      "\n",
      "-> Retrieved fold 0\n",
      "\n",
      "-> Retrieved fold 1\n",
      "\n",
      "\t === Exp ../logs/2023-01-28/30/\t Target gt_orders ===\n",
      "\n",
      "-> Retrieved fold 2\n",
      "\n",
      "-> Retrieved fold 3\n",
      "\n",
      "- Retrieved 139471776 test candidates.\n",
      "\n",
      "\t === Exp ../logs/2023-01-28/22/\t Target gt_orders ===\n",
      "\n",
      "-> Retrieved fold 0\n",
      "\n",
      "\t === Exp ../logs/2023-01-28/29/\t Target gt_orders ===\n",
      "\n",
      "-> Retrieved fold 1\n",
      "\n",
      "\t === Exp ../logs/2023-01-28/26/\t Target gt_orders ===\n",
      "\n",
      "-> Retrieved fold 2\n",
      "\n",
      "-> Retrieved fold 3\n",
      "\n",
      "- Retrieved 139471776 test candidates.\n",
      "\n",
      "\t === Exp ../logs/2023-01-28/6/\t Target gt_orders ===\n",
      "\n",
      "-> Retrieved fold 0\n",
      "\n",
      "\t === Exp ../logs/2023-01-28/27/\t Target gt_orders ===\n",
      "\n",
      "-> Retrieved fold 2\n",
      "\n",
      "-> Retrieved fold 3\n",
      "\n",
      "- Retrieved 139471776 test candidates.\n",
      "\n"
     ]
    }
   ],
   "source": [
    "df_test = None\n",
    "for exp_folders, w  in zip(EXP_FOLDERS, WEIGHTS):\n",
    "    dfs_test = None\n",
    "\n",
    "    if not isinstance(exp_folders, list):\n",
    "        exp_folders = [exp_folders]\n",
    "    \n",
    "    for exp_folder in exp_folders:\n",
    "        config = Config(json.load(open(exp_folder + \"config.json\", \"r\")))\n",
    "        print(f'\\t === Exp {exp_folder}\\t Target {config.target} ===\\n')\n",
    "        TARGET = config.target\n",
    "\n",
    "        for fold in range(config.k):\n",
    "            try:\n",
    "                df_test_ = cudf.read_parquet(exp_folder + f\"df_test_{fold}.parquet\")\n",
    "                df_test_['pred'] *= (w / 4)\n",
    "                print(f'-> Retrieved fold {fold}\\n')\n",
    "                \n",
    "                if dfs_test is None:\n",
    "                    dfs_test = df_test_\n",
    "                else:\n",
    "                    dfs_test = dfs_test.set_index(['session', 'candidates']).add(\n",
    "                        df_test_.set_index(['session', 'candidates']), fill_value=0\n",
    "                    ).reset_index()\n",
    "                \n",
    "                del df_test_\n",
    "                numba.cuda.current_context().deallocations.clear()\n",
    "                gc.collect()\n",
    "\n",
    "            except FileNotFoundError:\n",
    "                pass\n",
    "\n",
    "    print(f'- Retrieved {len(dfs_test)} test candidates.\\n')\n",
    "\n",
    "    if df_test is None:\n",
    "        df_test = dfs_test\n",
    "    else:\n",
    "        df_test = df_test.set_index(['session', 'candidates']).add(\n",
    "            dfs_test.set_index(['session', 'candidates']), fill_value=0\n",
    "        ).reset_index()\n",
    "\n",
    "    del dfs_test\n",
    "    numba.cuda.current_context().deallocations.clear()\n",
    "    gc.collect()"
   ]
  },
  {
   "cell_type": "code",
   "execution_count": 70,
   "metadata": {},
   "outputs": [],
   "source": [
    "preds = df_test[['session', 'candidates', 'pred']].copy()\n",
    "\n",
    "preds = preds.sort_values(['session', 'pred'], ascending=[True, False])\n",
    "preds = preds[['session', 'candidates', 'pred']].groupby('session').agg(list).reset_index()\n",
    "\n",
    "preds = preds.to_pandas()\n",
    "preds['candidates'] = preds['candidates'].apply(lambda x: x[:20])"
   ]
  },
  {
   "cell_type": "code",
   "execution_count": 71,
   "metadata": {},
   "outputs": [
    {
     "data": {
      "text/plain": [
       "35"
      ]
     },
     "execution_count": 71,
     "metadata": {},
     "output_type": "execute_result"
    }
   ],
   "source": [
    "dfs = load_sessions(f\"../output/test_parquet/*\")\n",
    "\n",
    "if config.target == \"gt_carts\":\n",
    "    top = dfs.loc[dfs[\"type\"] == 1, \"aid\"].value_counts().index.values[:20].tolist()\n",
    "elif config.target == \"gt_orders\":\n",
    "    top = dfs.loc[dfs[\"type\"] == 2, \"aid\"].value_counts().index.values[:20].tolist()\n",
    "else:\n",
    "    top = dfs.loc[dfs[\"type\"] == 0, \"aid\"].value_counts().index.values[:20].tolist()\n",
    "\n",
    "preds['candidates'] = preds['candidates'].apply(lambda x: list(x) + top[: 20 - len(x)])\n",
    "\n",
    "del dfs\n",
    "numba.cuda.current_context().deallocations.clear()\n",
    "gc.collect()"
   ]
  },
  {
   "cell_type": "markdown",
   "metadata": {},
   "source": [
    "### Save"
   ]
  },
  {
   "cell_type": "code",
   "execution_count": 72,
   "metadata": {},
   "outputs": [],
   "source": [
    "FT_VERSION = \"cv7+-tv5.11\"\n",
    "MODEL_VERSION = \"1\""
   ]
  },
  {
   "cell_type": "code",
   "execution_count": 73,
   "metadata": {},
   "outputs": [],
   "source": [
    "log_folder_2 = LOG_PATH + f\"{FT_VERSION}.{MODEL_VERSION}/\"\n",
    "\n",
    "os.makedirs(log_folder_2, exist_ok=True)\n",
    "save_config(config, log_folder_2 + 'config')"
   ]
  },
  {
   "cell_type": "code",
   "execution_count": 74,
   "metadata": {},
   "outputs": [
    {
     "name": "stdout",
     "output_type": "stream",
     "text": [
      "-> Saved sub to ../logs/cv7+-tv5.11.1/sub_gt_orders.csv\n",
      "\n"
     ]
    },
    {
     "data": {
      "text/html": [
       "<div>\n",
       "<style scoped>\n",
       "    .dataframe tbody tr th:only-of-type {\n",
       "        vertical-align: middle;\n",
       "    }\n",
       "\n",
       "    .dataframe tbody tr th {\n",
       "        vertical-align: top;\n",
       "    }\n",
       "\n",
       "    .dataframe thead th {\n",
       "        text-align: right;\n",
       "    }\n",
       "</style>\n",
       "<table border=\"1\" class=\"dataframe\">\n",
       "  <thead>\n",
       "    <tr style=\"text-align: right;\">\n",
       "      <th></th>\n",
       "      <th>session_type</th>\n",
       "      <th>labels</th>\n",
       "    </tr>\n",
       "  </thead>\n",
       "  <tbody>\n",
       "    <tr>\n",
       "      <th>0</th>\n",
       "      <td>12899779_orders</td>\n",
       "      <td>59625 731692 1253524 941596 1790770 737445 448...</td>\n",
       "    </tr>\n",
       "    <tr>\n",
       "      <th>1</th>\n",
       "      <td>12899780_orders</td>\n",
       "      <td>1142000 582732 736515 973453 487136 1758603 12...</td>\n",
       "    </tr>\n",
       "    <tr>\n",
       "      <th>2</th>\n",
       "      <td>12899781_orders</td>\n",
       "      <td>199008 918667 141736 759436 754412 950718 8110...</td>\n",
       "    </tr>\n",
       "    <tr>\n",
       "      <th>3</th>\n",
       "      <td>12899782_orders</td>\n",
       "      <td>1711180 127404 987399 1344773 740494 1494780 7...</td>\n",
       "    </tr>\n",
       "    <tr>\n",
       "      <th>4</th>\n",
       "      <td>12899783_orders</td>\n",
       "      <td>1817895 1811433 1729553 573058 58861 408787 14...</td>\n",
       "    </tr>\n",
       "  </tbody>\n",
       "</table>\n",
       "</div>"
      ],
      "text/plain": [
       "      session_type                                             labels\n",
       "0  12899779_orders  59625 731692 1253524 941596 1790770 737445 448...\n",
       "1  12899780_orders  1142000 582732 736515 973453 487136 1758603 12...\n",
       "2  12899781_orders  199008 918667 141736 759436 754412 950718 8110...\n",
       "3  12899782_orders  1711180 127404 987399 1344773 740494 1494780 7...\n",
       "4  12899783_orders  1817895 1811433 1729553 573058 58861 408787 14..."
      ]
     },
     "metadata": {},
     "output_type": "display_data"
    }
   ],
   "source": [
    "sub = preds[['session', 'candidates']].copy()\n",
    "assert len(sub) == 1671803\n",
    "\n",
    "sub['candidates'] = sub['candidates'].parallel_apply(lambda x: \" \".join(map(str, x)))\n",
    "sub['session'] =  sub['session'].astype(str) + \"_\" + TARGET[3:]\n",
    "sub.columns = [\"session_type\", \"labels\"]\n",
    "\n",
    "sub.to_csv(log_folder_2 + f'sub_{TARGET}.csv', index=False)\n",
    "print(f\"-> Saved sub to {log_folder_2 + f'sub_{TARGET}.csv'}\\n\")\n",
    "\n",
    "display(sub.head())"
   ]
  },
  {
   "cell_type": "code",
   "execution_count": 77,
   "metadata": {},
   "outputs": [
    {
     "name": "stdout",
     "output_type": "stream",
     "text": [
      "\n",
      "-> Saved final sub to ../logs/cv7+-tv5.11.1/submission.csv\n",
      "\n"
     ]
    },
    {
     "data": {
      "text/html": [
       "<div>\n",
       "<style scoped>\n",
       "    .dataframe tbody tr th:only-of-type {\n",
       "        vertical-align: middle;\n",
       "    }\n",
       "\n",
       "    .dataframe tbody tr th {\n",
       "        vertical-align: top;\n",
       "    }\n",
       "\n",
       "    .dataframe thead th {\n",
       "        text-align: right;\n",
       "    }\n",
       "</style>\n",
       "<table border=\"1\" class=\"dataframe\">\n",
       "  <thead>\n",
       "    <tr style=\"text-align: right;\">\n",
       "      <th></th>\n",
       "      <th>session_type</th>\n",
       "      <th>labels</th>\n",
       "    </tr>\n",
       "  </thead>\n",
       "  <tbody>\n",
       "    <tr>\n",
       "      <th>537132</th>\n",
       "      <td>13436911_clicks</td>\n",
       "      <td>1587410 484515 1829472 1810431 1597139 825269 ...</td>\n",
       "    </tr>\n",
       "    <tr>\n",
       "      <th>2032970</th>\n",
       "      <td>13260946_carts</td>\n",
       "      <td>1544612 1492725 727301 1244717 1797902 1531805...</td>\n",
       "    </tr>\n",
       "    <tr>\n",
       "      <th>2966281</th>\n",
       "      <td>14194257_carts</td>\n",
       "      <td>1243313 890996 1230601 779056 1377352 979687 6...</td>\n",
       "    </tr>\n",
       "    <tr>\n",
       "      <th>427884</th>\n",
       "      <td>13327663_clicks</td>\n",
       "      <td>825591 500073 876456 1778843 822497 835958 852...</td>\n",
       "    </tr>\n",
       "    <tr>\n",
       "      <th>4397794</th>\n",
       "      <td>13953967_orders</td>\n",
       "      <td>961113 1838158 1543589 216668 1001469 234245 1...</td>\n",
       "    </tr>\n",
       "  </tbody>\n",
       "</table>\n",
       "</div>"
      ],
      "text/plain": [
       "            session_type                                             labels\n",
       "537132   13436911_clicks  1587410 484515 1829472 1810431 1597139 825269 ...\n",
       "2032970   13260946_carts  1544612 1492725 727301 1244717 1797902 1531805...\n",
       "2966281   14194257_carts  1243313 890996 1230601 779056 1377352 979687 6...\n",
       "427884   13327663_clicks  825591 500073 876456 1778843 822497 835958 852...\n",
       "4397794  13953967_orders  961113 1838158 1543589 216668 1001469 234245 1..."
      ]
     },
     "metadata": {},
     "output_type": "display_data"
    }
   ],
   "source": [
    "if all([os.path.exists(log_folder_2 + f'sub_gt_{c}.csv') for c in CLASSES]):\n",
    "    sub_final = cudf.concat([\n",
    "        cudf.read_csv(log_folder_2 + f'sub_gt_{c}.csv') for c in CLASSES\n",
    "    ], ignore_index=True)\n",
    "\n",
    "    assert len(sub_final) == 5015409\n",
    "    sub_final.to_csv(log_folder_2 + f\"submission.csv\", index=False)\n",
    "\n",
    "    print(f\"\\n-> Saved final sub to {log_folder_2 + f'submission.csv'}\\n\")\n",
    "\n",
    "    display(sub_final.sample(5))"
   ]
  },
  {
   "cell_type": "code",
   "execution_count": null,
   "metadata": {},
   "outputs": [],
   "source": [
    "# kaggle competitions submit -c otto-recommender-system -f submission.csv -m \"Message\""
   ]
  },
  {
   "cell_type": "markdown",
   "metadata": {},
   "source": [
    "Done !"
   ]
  }
 ],
 "metadata": {
  "kernelspec": {
   "display_name": "Python 3.10.9 64-bit (microsoft store)",
   "language": "python",
   "name": "python3"
  },
  "language_info": {
   "codemirror_mode": {
    "name": "ipython",
    "version": 3
   },
   "file_extension": ".py",
   "mimetype": "text/x-python",
   "name": "python",
   "nbconvert_exporter": "python",
   "pygments_lexer": "ipython3",
   "version": "3.10.9"
  },
  "vscode": {
   "interpreter": {
    "hash": "f7241b2af102f7e024509099765066b36197b195077f7bfac6e5bc041ba17c8c"
   }
  }
 },
 "nbformat": 4,
 "nbformat_minor": 4
}
