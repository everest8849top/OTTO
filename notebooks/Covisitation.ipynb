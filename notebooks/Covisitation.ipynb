{
 "cells": [
  {
   "cell_type": "code",
   "execution_count": 1,
   "metadata": {},
   "outputs": [
    {
     "name": "stdout",
     "output_type": "stream",
     "text": [
      "/workspace/kaggle_otto_rs/src\n"
     ]
    }
   ],
   "source": [
    "cd ../src"
   ]
  },
  {
   "cell_type": "code",
   "execution_count": 2,
   "metadata": {},
   "outputs": [],
   "source": [
    "%load_ext autoreload\n",
    "%autoreload 2"
   ]
  },
  {
   "cell_type": "code",
   "execution_count": 3,
   "metadata": {},
   "outputs": [],
   "source": [
    "%load_ext lab_black"
   ]
  },
  {
   "cell_type": "code",
   "execution_count": 4,
   "metadata": {},
   "outputs": [
    {
     "name": "stdout",
     "output_type": "stream",
     "text": [
      "INFO: Pandarallel will run on 8 workers.\n",
      "INFO: Pandarallel will use Memory file system to transfer data between the main process and workers.\n"
     ]
    }
   ],
   "source": [
    "import os\n",
    "import gc\n",
    "import sys\n",
    "import cudf\n",
    "import json\n",
    "import glob\n",
    "import pickle\n",
    "import warnings\n",
    "import itertools\n",
    "import numpy as np\n",
    "import pandas as pd\n",
    "import seaborn as sns\n",
    "import matplotlib.pyplot as plt\n",
    "\n",
    "from tqdm import tqdm\n",
    "from datetime import datetime\n",
    "from collections import Counter\n",
    "from pandarallel import pandarallel\n",
    "from numerize.numerize import numerize\n",
    "\n",
    "os.environ[\"CUDA_VISIBLE_DEVICES\"] = \"0\"\n",
    "warnings.simplefilter(action=\"ignore\", category=FutureWarning)\n",
    "\n",
    "pandarallel.initialize(nb_workers=8, progress_bar=False)"
   ]
  },
  {
   "cell_type": "code",
   "execution_count": 5,
   "metadata": {},
   "outputs": [],
   "source": [
    "from params import *\n",
    "from utils.chris import *\n",
    "from utils.metrics import *"
   ]
  },
  {
   "cell_type": "markdown",
   "metadata": {},
   "source": [
    "## Matrix computation"
   ]
  },
  {
   "cell_type": "code",
   "execution_count": 6,
   "metadata": {},
   "outputs": [],
   "source": [
    "# data_cache = {}\n",
    "# type_labels = {\"clicks\": 0, \"carts\": 1, \"orders\": 2}\n",
    "# files = glob.glob(\"../input/chris/*_parquet/*\")\n",
    "\n",
    "# for f in tqdm(files):\n",
    "#     data_cache[f] = read_file_to_cache(f)"
   ]
  },
  {
   "cell_type": "code",
   "execution_count": 7,
   "metadata": {},
   "outputs": [],
   "source": [
    "# clicks_candids = compute_covisitation_matrix(\n",
    "#     files,\n",
    "#     data_cache,\n",
    "#     weighting=\"temporal\",\n",
    "#     n=15,\n",
    "#     save_folder=\"../output/\",\n",
    "# )"
   ]
  },
  {
   "cell_type": "code",
   "execution_count": 8,
   "metadata": {},
   "outputs": [],
   "source": [
    "# type_weighted_candids = compute_covisitation_matrix(\n",
    "#     files,\n",
    "#     data_cache,\n",
    "#     weighting=\"type\",\n",
    "#     type_weight={0: 1, 1: 3, 2: 6},  # weird ?\n",
    "#     n=20,\n",
    "#     save_folder=\"../output/\",\n",
    "# )"
   ]
  },
  {
   "cell_type": "code",
   "execution_count": 9,
   "metadata": {},
   "outputs": [],
   "source": [
    "# cartbuy_matrix_candids = compute_covisitation_matrix(\n",
    "#     files,\n",
    "#     data_cache,\n",
    "#     considered_types=[1, 2],\n",
    "#     weighting=\"\",\n",
    "#     n=20,\n",
    "#     save_folder=\"../output/\",\n",
    "# )"
   ]
  },
  {
   "cell_type": "markdown",
   "metadata": {},
   "source": [
    "### Val data"
   ]
  },
  {
   "cell_type": "code",
   "execution_count": 10,
   "metadata": {},
   "outputs": [],
   "source": [
    "gt = pd.read_parquet(\"../input/chris/test_labels.parquet\")"
   ]
  },
  {
   "cell_type": "code",
   "execution_count": 11,
   "metadata": {},
   "outputs": [],
   "source": [
    "df_val = load_val()\n",
    "df_val = df_val.sort_values([\"session\", \"ts\"]).reset_index(drop=True)"
   ]
  },
  {
   "cell_type": "code",
   "execution_count": 12,
   "metadata": {},
   "outputs": [],
   "source": [
    "top_clicks = df_val.loc[df_val[\"type\"] == 0, \"aid\"].value_counts().index.values[:20]\n",
    "\n",
    "top_orders = df_val.loc[df_val[\"type\"] == 2, \"aid\"].value_counts().index.values[:20]"
   ]
  },
  {
   "cell_type": "markdown",
   "metadata": {},
   "source": [
    "### Chris"
   ]
  },
  {
   "cell_type": "code",
   "execution_count": 13,
   "metadata": {},
   "outputs": [],
   "source": [
    "# clicks_candids = matrix_to_candids_dict(\n",
    "#     cudf.read_parquet(\"../output/matrix_123_temporal_20.pqt\")\n",
    "# )\n",
    "# type_weighted_candids = matrix_to_candids_dict(\n",
    "#     cudf.read_parquet(\"../output/matrix_123_type_15.pqt\")\n",
    "# )\n",
    "# cartbuy_matrix_candids = matrix_to_candids_dict(\n",
    "#     cudf.read_parquet(\"../output/matrix_12__15.pqt\")\n",
    "# )"
   ]
  },
  {
   "cell_type": "code",
   "execution_count": 14,
   "metadata": {},
   "outputs": [],
   "source": [
    "# %%time\n",
    "# pred_df_clicks = df_val.groupby([\"session\"]).apply(\n",
    "#     lambda x: suggest_clicks(x)\n",
    "# )"
   ]
  },
  {
   "cell_type": "code",
   "execution_count": 15,
   "metadata": {},
   "outputs": [],
   "source": [
    "# %%time\n",
    "# pred_df_buys = df_val.groupby([\"session\"]).apply(\n",
    "#     lambda x: suggest_buys(x)\n",
    "# )"
   ]
  },
  {
   "cell_type": "code",
   "execution_count": 16,
   "metadata": {},
   "outputs": [],
   "source": [
    "# %%time\n",
    "\n",
    "# clicks_pred_df = pd.DataFrame(pred_df_clicks.add_suffix(\"_clicks\"), columns=[\"labels\"]).reset_index()\n",
    "# orders_pred_df = pd.DataFrame(pred_df_buys.add_suffix(\"_orders\"), columns=[\"labels\"]).reset_index()\n",
    "# carts_pred_df = pd.DataFrame(pred_df_buys.add_suffix(\"_carts\"), columns=[\"labels\"]).reset_index()\n",
    "\n",
    "# pred_df = pd.concat([clicks_pred_df, orders_pred_df, carts_pred_df])\n",
    "# pred_df.columns = [\"session_type\", \"labels_l\"]\n",
    "# pred_df[\"labels\"] = pred_df[\"labels_l\"].apply(lambda x: \" \".join(map(str, x)))"
   ]
  },
  {
   "cell_type": "code",
   "execution_count": 17,
   "metadata": {},
   "outputs": [],
   "source": [
    "# score = 0\n",
    "# weights = {'clicks': 0.10, 'carts': 0.30, 'orders': 0.60}\n",
    "# for t in tqdm(['clicks','carts','orders']):\n",
    "#     sub = pred_df.loc[pred_df.session_type.str.contains(t)].copy()\n",
    "#     sub['session'] = sub.session_type.apply(lambda x: int(x.split('_')[0]))\n",
    "#     sub.labels = sub.labels.apply(lambda x: [int(i) for i in x.split(' ')[:20]])\n",
    "\n",
    "#     test_labels = gt.loc[gt['type']==t]\n",
    "#     test_labels = test_labels.merge(sub, how='left', on=['session'])\n",
    "#     test_labels['hits'] = test_labels.apply(lambda df: len(set(df.ground_truth).intersection(set(df.labels))), axis=1)\n",
    "#     test_labels['gt_count'] = test_labels.ground_truth.str.len().clip(0, 20)\n",
    "\n",
    "#     recall = test_labels['hits'].sum() / test_labels['gt_count'].sum()\n",
    "#     score += weights[t]*recall\n",
    "#     print(f'- {t} Recall :\\t{recall:.4f}')\n",
    "\n",
    "# print(f'\\n -> CV Score : {score:.4f} ')"
   ]
  },
  {
   "cell_type": "markdown",
   "metadata": {},
   "source": [
    "- clicks Recall :\t0.5256\n",
    "- carts Recall :\t0.4096\n",
    "- orders Recall :\t0.6490\n",
    "\n",
    " -> CV Score : 0.5648 "
   ]
  },
  {
   "cell_type": "code",
   "execution_count": 18,
   "metadata": {},
   "outputs": [],
   "source": [
    "# df_pred = pred_df[[\"session_type\", \"labels_l\"]].copy()\n",
    "# df_pred.columns = [\"session_type\", \"candidates\"]\n",
    "# df_pred[\"session\"] = (\n",
    "#     df_pred[\"session_type\"].apply(lambda x: x.split(\"_\")[0]).astype(int)\n",
    "# )\n",
    "# df_pred[\"type\"] = df_pred[\"session_type\"].apply(lambda x: x.split(\"_\")[1])\n",
    "\n",
    "# df_pred = df_pred.merge(gt, on=[\"session\", \"type\"], how=\"left\")\n",
    "\n",
    "# for col in CLASSES:\n",
    "#     df_pred_c = df_pred[df_pred[\"type\"] == col]\n",
    "\n",
    "#     n_preds, n_gts, n_found = get_coverage(\n",
    "#         df_pred_c[\"candidates\"].values, df_pred_c[\"ground_truth\"].values\n",
    "#     )\n",
    "\n",
    "#     print(\n",
    "#         f\"- {col}\\t- Found {numerize(n_found)} GTs with {numerize(n_preds)} candidates (pos_prop={n_found / n_preds * 100 :.2f}%)\"\n",
    "#     )"
   ]
  },
  {
   "cell_type": "markdown",
   "metadata": {},
   "source": [
    "- clicks\t- Found 922.64K (52.56%) GTs with 35.74M candidates (pos_prop=2.58%)\n",
    "- carts\t- Found 236.14K (40.96%) GTs with 32.3M candidates (pos_prop=0.73%)\n",
    "- orders\t- Found 203.32K (64.90%) GTs with 32.3M candidates (pos_prop=0.63%)"
   ]
  },
  {
   "cell_type": "markdown",
   "metadata": {},
   "source": [
    "## Candidates"
   ]
  },
  {
   "cell_type": "code",
   "execution_count": 19,
   "metadata": {},
   "outputs": [
    {
     "data": {
      "text/html": [
       "<div>\n",
       "<style scoped>\n",
       "    .dataframe tbody tr th:only-of-type {\n",
       "        vertical-align: middle;\n",
       "    }\n",
       "\n",
       "    .dataframe tbody tr th {\n",
       "        vertical-align: top;\n",
       "    }\n",
       "\n",
       "    .dataframe thead th {\n",
       "        text-align: right;\n",
       "    }\n",
       "</style>\n",
       "<table border=\"1\" class=\"dataframe\">\n",
       "  <thead>\n",
       "    <tr style=\"text-align: right;\">\n",
       "      <th></th>\n",
       "      <th>session</th>\n",
       "      <th>aid</th>\n",
       "      <th>ts</th>\n",
       "      <th>type</th>\n",
       "    </tr>\n",
       "  </thead>\n",
       "  <tbody>\n",
       "    <tr>\n",
       "      <th>0</th>\n",
       "      <td>11098528</td>\n",
       "      <td>11830</td>\n",
       "      <td>1661119200</td>\n",
       "      <td>0</td>\n",
       "    </tr>\n",
       "    <tr>\n",
       "      <th>1</th>\n",
       "      <td>11098529</td>\n",
       "      <td>1105029</td>\n",
       "      <td>1661119200</td>\n",
       "      <td>0</td>\n",
       "    </tr>\n",
       "    <tr>\n",
       "      <th>2</th>\n",
       "      <td>11098530</td>\n",
       "      <td>264500</td>\n",
       "      <td>1661119200</td>\n",
       "      <td>0</td>\n",
       "    </tr>\n",
       "    <tr>\n",
       "      <th>3</th>\n",
       "      <td>11098530</td>\n",
       "      <td>264500</td>\n",
       "      <td>1661119288</td>\n",
       "      <td>0</td>\n",
       "    </tr>\n",
       "    <tr>\n",
       "      <th>4</th>\n",
       "      <td>11098530</td>\n",
       "      <td>409236</td>\n",
       "      <td>1661119369</td>\n",
       "      <td>0</td>\n",
       "    </tr>\n",
       "  </tbody>\n",
       "</table>\n",
       "</div>"
      ],
      "text/plain": [
       "    session      aid          ts  type\n",
       "0  11098528    11830  1661119200     0\n",
       "1  11098529  1105029  1661119200     0\n",
       "2  11098530   264500  1661119200     0\n",
       "3  11098530   264500  1661119288     0\n",
       "4  11098530   409236  1661119369     0"
      ]
     },
     "execution_count": 19,
     "metadata": {},
     "output_type": "execute_result"
    }
   ],
   "source": [
    "df_val.head()"
   ]
  },
  {
   "cell_type": "code",
   "execution_count": 20,
   "metadata": {},
   "outputs": [],
   "source": [
    "N = 10\n",
    "\n",
    "clicks_candids = matrix_to_candids_dict(\n",
    "    cudf.read_parquet(f\"../output/matrix_123_temporal_{N}.pqt\")\n",
    ")\n",
    "type_weighted_candids = matrix_to_candids_dict(\n",
    "    cudf.read_parquet(f\"../output/matrix_123_type_{N}.pqt\")\n",
    ")\n",
    "# cartbuy_candidates = matrix_to_candids_dict(\n",
    "#     cudf.read_parquet(f\"../output/matrix_12__{N}.pqt\")\n",
    "# )"
   ]
  },
  {
   "cell_type": "code",
   "execution_count": 21,
   "metadata": {},
   "outputs": [],
   "source": [
    "df_val[\"clicks_candidates\"] = df_val[\"aid\"].map(clicks_candids)\n",
    "df_val[\"type_weighted_candidates\"] = df_val[\"aid\"].map(type_weighted_candids)\n",
    "# df_val[\"cartbuy_candidates\"] = df_val[\"aid\"].map(cartbuy_candidates)"
   ]
  },
  {
   "cell_type": "code",
   "execution_count": 22,
   "metadata": {},
   "outputs": [
    {
     "name": "stdout",
     "output_type": "stream",
     "text": [
      "CPU times: user 19.4 s, sys: 1.46 s, total: 20.9 s\n",
      "Wall time: 20.8 s\n"
     ]
    }
   ],
   "source": [
    "%%time\n",
    "\n",
    "df_val[\"coocurence_candidates\"] = (\n",
    "    df_val[\"clicks_candidates\"] +\n",
    "    df_val[\"type_weighted_candidates\"] # +\n",
    "#     df_val[\"cartbuy_candidates\"]\n",
    ")"
   ]
  },
  {
   "cell_type": "code",
   "execution_count": 23,
   "metadata": {},
   "outputs": [
    {
     "data": {
      "text/html": [
       "<div>\n",
       "<style scoped>\n",
       "    .dataframe tbody tr th:only-of-type {\n",
       "        vertical-align: middle;\n",
       "    }\n",
       "\n",
       "    .dataframe tbody tr th {\n",
       "        vertical-align: top;\n",
       "    }\n",
       "\n",
       "    .dataframe thead th {\n",
       "        text-align: right;\n",
       "    }\n",
       "</style>\n",
       "<table border=\"1\" class=\"dataframe\">\n",
       "  <thead>\n",
       "    <tr style=\"text-align: right;\">\n",
       "      <th></th>\n",
       "      <th>session</th>\n",
       "      <th>aid</th>\n",
       "      <th>ts</th>\n",
       "      <th>type</th>\n",
       "      <th>clicks_candidates</th>\n",
       "      <th>type_weighted_candidates</th>\n",
       "      <th>coocurence_candidates</th>\n",
       "    </tr>\n",
       "  </thead>\n",
       "  <tbody>\n",
       "    <tr>\n",
       "      <th>0</th>\n",
       "      <td>11098528</td>\n",
       "      <td>11830</td>\n",
       "      <td>1661119200</td>\n",
       "      <td>0</td>\n",
       "      <td>[588923, 1732105, 571762, 884502, 1157882, 876...</td>\n",
       "      <td>[1732105, 588923, 884502, 1157882, 571762, 876...</td>\n",
       "      <td>[588923, 1732105, 571762, 884502, 1157882, 876...</td>\n",
       "    </tr>\n",
       "    <tr>\n",
       "      <th>1</th>\n",
       "      <td>11098529</td>\n",
       "      <td>1105029</td>\n",
       "      <td>1661119200</td>\n",
       "      <td>0</td>\n",
       "      <td>[459126, 1339838, 1544564, 217742, 1694360, 13...</td>\n",
       "      <td>[295362, 132016, 459126, 785427, 890962, 11352...</td>\n",
       "      <td>[459126, 1339838, 1544564, 217742, 1694360, 13...</td>\n",
       "    </tr>\n",
       "    <tr>\n",
       "      <th>2</th>\n",
       "      <td>11098530</td>\n",
       "      <td>264500</td>\n",
       "      <td>1661119200</td>\n",
       "      <td>0</td>\n",
       "      <td>[409236, 583026, 1603001, 254154, 364155, 8774...</td>\n",
       "      <td>[409236, 583026, 1603001, 254154, 364155, 9639...</td>\n",
       "      <td>[409236, 583026, 1603001, 254154, 364155, 8774...</td>\n",
       "    </tr>\n",
       "    <tr>\n",
       "      <th>3</th>\n",
       "      <td>11098530</td>\n",
       "      <td>264500</td>\n",
       "      <td>1661119288</td>\n",
       "      <td>0</td>\n",
       "      <td>[409236, 583026, 1603001, 254154, 364155, 8774...</td>\n",
       "      <td>[409236, 583026, 1603001, 254154, 364155, 9639...</td>\n",
       "      <td>[409236, 583026, 1603001, 254154, 364155, 8774...</td>\n",
       "    </tr>\n",
       "    <tr>\n",
       "      <th>4</th>\n",
       "      <td>11098530</td>\n",
       "      <td>409236</td>\n",
       "      <td>1661119369</td>\n",
       "      <td>0</td>\n",
       "      <td>[1603001, 963957, 254154, 583026, 167895, 3641...</td>\n",
       "      <td>[1603001, 254154, 963957, 583026, 752334, 3641...</td>\n",
       "      <td>[1603001, 963957, 254154, 583026, 167895, 3641...</td>\n",
       "    </tr>\n",
       "  </tbody>\n",
       "</table>\n",
       "</div>"
      ],
      "text/plain": [
       "    session      aid          ts  type  \\\n",
       "0  11098528    11830  1661119200     0   \n",
       "1  11098529  1105029  1661119200     0   \n",
       "2  11098530   264500  1661119200     0   \n",
       "3  11098530   264500  1661119288     0   \n",
       "4  11098530   409236  1661119369     0   \n",
       "\n",
       "                                   clicks_candidates  \\\n",
       "0  [588923, 1732105, 571762, 884502, 1157882, 876...   \n",
       "1  [459126, 1339838, 1544564, 217742, 1694360, 13...   \n",
       "2  [409236, 583026, 1603001, 254154, 364155, 8774...   \n",
       "3  [409236, 583026, 1603001, 254154, 364155, 8774...   \n",
       "4  [1603001, 963957, 254154, 583026, 167895, 3641...   \n",
       "\n",
       "                            type_weighted_candidates  \\\n",
       "0  [1732105, 588923, 884502, 1157882, 571762, 876...   \n",
       "1  [295362, 132016, 459126, 785427, 890962, 11352...   \n",
       "2  [409236, 583026, 1603001, 254154, 364155, 9639...   \n",
       "3  [409236, 583026, 1603001, 254154, 364155, 9639...   \n",
       "4  [1603001, 254154, 963957, 583026, 752334, 3641...   \n",
       "\n",
       "                               coocurence_candidates  \n",
       "0  [588923, 1732105, 571762, 884502, 1157882, 876...  \n",
       "1  [459126, 1339838, 1544564, 217742, 1694360, 13...  \n",
       "2  [409236, 583026, 1603001, 254154, 364155, 8774...  \n",
       "3  [409236, 583026, 1603001, 254154, 364155, 8774...  \n",
       "4  [1603001, 963957, 254154, 583026, 167895, 3641...  "
      ]
     },
     "execution_count": 23,
     "metadata": {},
     "output_type": "execute_result"
    }
   ],
   "source": [
    "df_val.head()"
   ]
  },
  {
   "cell_type": "code",
   "execution_count": 39,
   "metadata": {},
   "outputs": [
    {
     "name": "stdout",
     "output_type": "stream",
     "text": [
      "CPU times: user 1min 15s, sys: 5.09 s, total: 1min 20s\n",
      "Wall time: 1min 20s\n"
     ]
    }
   ],
   "source": [
    "%%time\n",
    "dfg = df_val.groupby(\"session\").agg({\"aid\": list, \"coocurence_candidates\": sum, \"type\": list}).reset_index()"
   ]
  },
  {
   "cell_type": "code",
   "execution_count": 40,
   "metadata": {},
   "outputs": [
    {
     "name": "stdout",
     "output_type": "stream",
     "text": [
      "CPU times: user 14.9 s, sys: 6.24 s, total: 21.2 s\n",
      "Wall time: 29.3 s\n"
     ]
    }
   ],
   "source": [
    "%%time\n",
    "\n",
    "N = 100\n",
    "dfg['coocurence_candidates'] = dfg['coocurence_candidates'].parallel_apply(\n",
    "    lambda x: [aid for aid, _ in Counter(x).most_common(N)] if len(x) > N else x\n",
    ")"
   ]
  },
  {
   "cell_type": "code",
   "execution_count": 41,
   "metadata": {},
   "outputs": [],
   "source": [
    "# %%time\n",
    "# dfg['in_cart'] = dfg.parallel_apply(lambda x: [aid for aid, t in zip(x.aid, x.type) if t], axis=1)"
   ]
  },
  {
   "cell_type": "code",
   "execution_count": 42,
   "metadata": {},
   "outputs": [],
   "source": [
    "# %%time\n",
    "# dfg['last_seen'] = dfg['aid'].parallel_apply(lambda x: x[-20:])"
   ]
  },
  {
   "cell_type": "code",
   "execution_count": 43,
   "metadata": {},
   "outputs": [
    {
     "name": "stdout",
     "output_type": "stream",
     "text": [
      "CPU times: user 11.3 s, sys: 1.41 s, total: 12.7 s\n",
      "Wall time: 12.7 s\n"
     ]
    }
   ],
   "source": [
    "%%time\n",
    "dfg[\"candidates\"] = (\n",
    "#     dfg[\"last_seen\"] +\n",
    "#     dfg[\"in_cart\"] +\n",
    "    dfg[\"aid\"] +\n",
    "    dfg[\"coocurence_candidates\"]\n",
    ")"
   ]
  },
  {
   "cell_type": "code",
   "execution_count": 44,
   "metadata": {},
   "outputs": [
    {
     "name": "stdout",
     "output_type": "stream",
     "text": [
      "CPU times: user 8.7 s, sys: 6.07 s, total: 14.8 s\n",
      "Wall time: 17.2 s\n"
     ]
    }
   ],
   "source": [
    "%%time\n",
    "dfg[\"candidates\"] = dfg[\"candidates\"].parallel_apply(lambda x: list(set(x)))\n",
    "# dfg[\"candidates\"] = dfg[\"candidates\"].parallel_apply(lambda x: list(set(x + popular)))"
   ]
  },
  {
   "cell_type": "code",
   "execution_count": 30,
   "metadata": {},
   "outputs": [],
   "source": [
    "n_candid = dfg[\"candidates\"].apply(len)"
   ]
  },
  {
   "cell_type": "code",
   "execution_count": 31,
   "metadata": {},
   "outputs": [
    {
     "data": {
      "text/plain": [
       "<AxesSubplot: xlabel='candidates', ylabel='Count'>"
      ]
     },
     "execution_count": 31,
     "metadata": {},
     "output_type": "execute_result"
    },
    {
     "data": {
      "image/png": "[encoded data removed]",
      "text/plain": [
       "<Figure size 640x480 with 1 Axes>"
      ]
     },
     "metadata": {},
     "output_type": "display_data"
    }
   ],
   "source": [
    "sns.histplot(np.clip(n_candid, 0, 150))"
   ]
  },
  {
   "cell_type": "code",
   "execution_count": 32,
   "metadata": {},
   "outputs": [
    {
     "data": {
      "text/plain": [
       "0.5617784528641483"
      ]
     },
     "execution_count": 32,
     "metadata": {},
     "output_type": "execute_result"
    }
   ],
   "source": [
    "(n_candid < 20).mean()"
   ]
  },
  {
   "cell_type": "code",
   "execution_count": 33,
   "metadata": {},
   "outputs": [],
   "source": [
    "# popular = list(set(top_orders.tolist()  + top_clicks.tolist()))\n",
    "\n",
    "# dfg[\"candidates\"] = dfg[\"candidates\"].apply(\n",
    "#     lambda x: x if len(x) > 40 else list(set(x + popular))\n",
    "# )"
   ]
  },
  {
   "cell_type": "markdown",
   "metadata": {},
   "source": [
    "### Coverage"
   ]
  },
  {
   "cell_type": "code",
   "execution_count": 51,
   "metadata": {},
   "outputs": [
    {
     "name": "stdout",
     "output_type": "stream",
     "text": [
      "clicks\t- Found 923K GTs with 50.63M candidates (pos_prop=1.82%)\t-  Highest reachable Recall : 0.526\n",
      "carts\t- Found 258.84K GTs with 50.63M candidates (pos_prop=0.51%)\t-  Highest reachable Recall : 0.449\n",
      "orders\t- Found 212.1K GTs with 50.63M candidates (pos_prop=0.42%)\t-  Highest reachable Recall : 0.677\n"
     ]
    }
   ],
   "source": [
    "recalls = []\n",
    "for col in CLASSES:\n",
    "    if f\"gt_{col}\" not in dfg.columns:\n",
    "        dfg = dfg.merge(gt[gt[\"type\"] == col].drop(\"type\", axis=1), how=\"left\").rename(\n",
    "            columns={\"ground_truth\": f\"gt_{col}\"}\n",
    "        )\n",
    "\n",
    "    n_preds, n_gts, n_found = get_coverage(\n",
    "        dfg[\"candidates\"].values, dfg[f\"gt_{col}\"].values\n",
    "    )\n",
    "\n",
    "    print(\n",
    "        f\"{col}\\t- Found {numerize(n_found)} GTs with {numerize(n_preds)} candidates (pos_prop={n_found / n_preds * 100 :.2f}%)\\t-  Highest reachable Recall : {n_found / n_gts :.3f}\"\n",
    "    )\n",
    "    recalls.append(n_found / n_gts)"
   ]
  },
  {
   "cell_type": "code",
   "execution_count": 52,
   "metadata": {},
   "outputs": [
    {
     "name": "stdout",
     "output_type": "stream",
     "text": [
      "-> Highest reachable CV : 0.593\n"
     ]
    }
   ],
   "source": [
    "cv = np.average(recalls, weights=WEIGHTS)\n",
    "print(f\"-> Highest reachable CV : {cv:.3f}\")"
   ]
  },
  {
   "cell_type": "markdown",
   "metadata": {},
   "source": [
    "### Explode for saving"
   ]
  },
  {
   "cell_type": "code",
   "execution_count": 45,
   "metadata": {},
   "outputs": [],
   "source": [
    "dfg.drop([\"aid\", \"coocurence_candidates\", \"type\"], axis=1, inplace=True)"
   ]
  },
  {
   "cell_type": "code",
   "execution_count": 56,
   "metadata": {},
   "outputs": [
    {
     "name": "stdout",
     "output_type": "stream",
     "text": [
      "<class 'cudf.core.dataframe.DataFrame'>\n",
      "Int64Index: 1801251 entries, 0 to 1801250\n",
      "Data columns (total 5 columns):\n",
      " #   Column      Dtype\n",
      "---  ------      -----\n",
      " 0   session     int64\n",
      " 1   candidates  list\n",
      " 2   gt_clicks   list\n",
      " 3   gt_carts    list\n",
      " 4   gt_orders   list\n",
      "dtypes: int64(1), list(4)\n",
      "memory usage: 462.1 MB\n"
     ]
    }
   ],
   "source": [
    "dfg.info()"
   ]
  },
  {
   "cell_type": "code",
   "execution_count": 55,
   "metadata": {},
   "outputs": [],
   "source": [
    "dfg = cudf.from_pandas(dfg)"
   ]
  },
  {
   "cell_type": "code",
   "execution_count": 57,
   "metadata": {},
   "outputs": [],
   "source": [
    "df_exp = dfg.explode(\"candidates\")"
   ]
  },
  {
   "cell_type": "code",
   "execution_count": 67,
   "metadata": {},
   "outputs": [],
   "source": [
    "df_exp[\"candidates\"] = df_exp[\"candidates\"].astype(\"uint32\")\n",
    "df_exp[\"session\"] = df_exp[\"session\"].astype(\"uint32\")"
   ]
  },
  {
   "cell_type": "code",
   "execution_count": 69,
   "metadata": {},
   "outputs": [
    {
     "name": "stdout",
     "output_type": "stream",
     "text": [
      "<class 'cudf.core.dataframe.DataFrame'>\n",
      "Int64Index: 50628692 entries, 0 to 1801250\n",
      "Data columns (total 5 columns):\n",
      " #   Column      Dtype\n",
      "---  ------      -----\n",
      " 0   session     uint32\n",
      " 1   candidates  uint32\n",
      " 2   gt_clicks   list\n",
      " 3   gt_carts    list\n",
      " 4   gt_orders   list\n",
      "dtypes: list(3), uint32(2)\n",
      "memory usage: 2.1 GB\n"
     ]
    }
   ],
   "source": [
    "df_exp.info()"
   ]
  },
  {
   "cell_type": "code",
   "execution_count": 70,
   "metadata": {},
   "outputs": [],
   "source": [
    "df_exp = df_exp.sort_values([\"session\", \"candidates\"]).reset_index(drop=True)"
   ]
  },
  {
   "cell_type": "code",
   "execution_count": 71,
   "metadata": {},
   "outputs": [],
   "source": [
    "tgt_order = (\n",
    "    df_exp[[\"session\", \"candidates\", \"gt_orders\"]]\n",
    "    .explode(\"gt_orders\")\n",
    "    .reset_index(drop=True)\n",
    ").fillna(-1)\n",
    "tgt_order[\"gt_orders\"] = tgt_order[\"gt_orders\"] == tgt_order[\"candidates\"]\n",
    "tgt_order = tgt_order.groupby([\"session\", \"candidates\"]).max().reset_index()\n",
    "tgt_order = tgt_order.sort_values([\"session\", \"candidates\"]).reset_index(drop=True)\n",
    "\n",
    "df_exp[\"gt_orders\"] = tgt_order[\"gt_orders\"].astype(\"uint8\")"
   ]
  },
  {
   "cell_type": "code",
   "execution_count": 72,
   "metadata": {},
   "outputs": [],
   "source": [
    "tgt_cart = (\n",
    "    df_exp[[\"session\", \"candidates\", \"gt_carts\"]]\n",
    "    .explode(\"gt_carts\")\n",
    "    .reset_index(drop=True)\n",
    ").fillna(-1)\n",
    "tgt_cart[\"gt_carts\"] = tgt_cart[\"gt_carts\"] == tgt_cart[\"candidates\"]\n",
    "tgt_cart = tgt_cart.groupby([\"session\", \"candidates\"]).max().reset_index()\n",
    "tgt_cart = tgt_cart.sort_values([\"session\", \"candidates\"]).reset_index(drop=True)\n",
    "\n",
    "df_exp[\"gt_carts\"] = tgt_cart[\"gt_carts\"].astype(\"uint8\")"
   ]
  },
  {
   "cell_type": "code",
   "execution_count": 73,
   "metadata": {},
   "outputs": [],
   "source": [
    "tgt_click = (\n",
    "    df_exp[[\"session\", \"candidates\", \"gt_clicks\"]]\n",
    "    .explode(\"gt_clicks\")\n",
    "    .reset_index(drop=True)\n",
    ").fillna(-1)\n",
    "tgt_click[\"gt_clicks\"] = tgt_click[\"gt_clicks\"] == tgt_click[\"candidates\"]\n",
    "tgt_click = tgt_click.groupby([\"session\", \"candidates\"]).max().reset_index()\n",
    "tgt_click = tgt_click.sort_values([\"session\", \"candidates\"]).reset_index(drop=True)\n",
    "\n",
    "df_exp[\"gt_clicks\"] = tgt_click[\"gt_clicks\"].astype(\"uint8\")"
   ]
  },
  {
   "cell_type": "code",
   "execution_count": 79,
   "metadata": {},
   "outputs": [
    {
     "name": "stdout",
     "output_type": "stream",
     "text": [
      "Saved to ../output/candidates_g_val_593.csv\n"
     ]
    }
   ],
   "source": [
    "df_exp.to_parquet(\n",
    "    f\"../output/candidates_val_{int(np.round(cv, 3) * 1000)}.csv\", index=False\n",
    ")\n",
    "print(f\"Saved to ../output/candidates_g_val_{int(np.round(cv, 3) * 1000)}.csv\")"
   ]
  },
  {
   "cell_type": "markdown",
   "metadata": {},
   "source": [
    "Done"
   ]
  }
 ],
 "metadata": {
  "kernelspec": {
   "display_name": "Python 3 (ipykernel)",
   "language": "python",
   "name": "python3"
  },
  "language_info": {
   "codemirror_mode": {
    "name": "ipython",
    "version": 3
   },
   "file_extension": ".py",
   "mimetype": "text/x-python",
   "name": "python",
   "nbconvert_exporter": "python",
   "pygments_lexer": "ipython3",
   "version": "3.8.13"
  }
 },
 "nbformat": 4,
 "nbformat_minor": 4
}
