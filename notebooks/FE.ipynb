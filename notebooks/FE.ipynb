{
 "cells": [
  {
   "cell_type": "markdown",
   "metadata": {},
   "source": [
    "**About :** Computes Features.\n",
    "\n",
    "**TODO**:\n",
    "- for loop to automatize"
   ]
  },
  {
   "cell_type": "code",
   "execution_count": null,
   "metadata": {},
   "outputs": [],
   "source": [
    "cd ../src"
   ]
  },
  {
   "cell_type": "code",
   "execution_count": null,
   "metadata": {},
   "outputs": [],
   "source": [
    "%load_ext autoreload\n",
    "%autoreload 2"
   ]
  },
  {
   "cell_type": "code",
   "execution_count": null,
   "metadata": {},
   "outputs": [],
   "source": [
    "import os\n",
    "os.environ[\"CUDA_VISIBLE_DEVICES\"] = \"1\""
   ]
  },
  {
   "cell_type": "code",
   "execution_count": null,
   "metadata": {},
   "outputs": [],
   "source": [
    "import os\n",
    "import gc\n",
    "import re\n",
    "import cudf\n",
    "import glob\n",
    "import numba\n",
    "import warnings\n",
    "import numpy as np\n",
    "import pandas as pd\n",
    "import seaborn as sns\n",
    "\n",
    "from tqdm import tqdm\n",
    "from datetime import datetime\n",
    "from collections import Counter\n",
    "from pandarallel import pandarallel\n",
    "from numerize.numerize import numerize\n",
    "\n",
    "warnings.simplefilter(action=\"ignore\", category=FutureWarning)\n",
    "pandarallel.initialize(nb_workers=32, progress_bar=False)\n",
    "pd.options.display.max_columns = 500"
   ]
  },
  {
   "cell_type": "code",
   "execution_count": null,
   "metadata": {},
   "outputs": [],
   "source": [
    "from params import *\n",
    "from data.fe import *\n",
    "from utils.load import load_sessions"
   ]
  },
  {
   "cell_type": "markdown",
   "metadata": {},
   "source": [
    "### Load candidates"
   ]
  },
  {
   "cell_type": "code",
   "execution_count": null,
   "metadata": {},
   "outputs": [],
   "source": [
    "MODE = \"val\"  #  \"val\", \"test\"\n",
    "CANDIDATES_VERSION = \"c-orders-v3\"\n",
    "FEATURES_VERSION = \"6\"\n",
    "\n",
    "SUFFIX = f\"{CANDIDATES_VERSION}.{FEATURES_VERSION}\""
   ]
  },
  {
   "cell_type": "code",
   "execution_count": null,
   "metadata": {},
   "outputs": [],
   "source": [
    "CANDIDATE_FILE = f'../output/candidates/candidates_{CANDIDATES_VERSION}_{MODE}.parquet'\n",
    "PARQUET_FILES = f\"../output/{MODE}_parquet/*\"\n",
    "\n",
    "if MODE == \"val\":\n",
    "    OLD_PARQUET_FILES = \"../output/full_train_parquet/*\"\n",
    "elif MODE == \"train\":\n",
    "    OLD_PARQUET_FILES = \"../output/other_parquet/*\"\n",
    "else:\n",
    "    raise NotImplementedError"
   ]
  },
  {
   "cell_type": "code",
   "execution_count": null,
   "metadata": {},
   "outputs": [],
   "source": [
    "pairs = cudf.read_parquet(CANDIDATE_FILE)\n",
    "pairs = pairs.sort_values(['session', 'candidates']).reset_index(drop=True)"
   ]
  },
  {
   "cell_type": "code",
   "execution_count": null,
   "metadata": {},
   "outputs": [],
   "source": [
    "PART = 2\n",
    "CHUNK_SIZE = 1_000_000  # PER SESSION INSTEAD ??\n",
    "\n",
    "ids = np.arange(PART * CHUNK_SIZE, min((PART + 1) * CHUNK_SIZE, len(pairs)))\n",
    "pairs = pairs.iloc[ids].reset_index(drop=True)\n",
    "print(pairs.shape)"
   ]
  },
  {
   "cell_type": "markdown",
   "metadata": {},
   "source": [
    "### Time weighting"
   ]
  },
  {
   "cell_type": "code",
   "execution_count": null,
   "metadata": {},
   "outputs": [],
   "source": [
    "sessions = load_sessions(PARQUET_FILES)\n",
    "weights = compute_weights(sessions)"
   ]
  },
  {
   "cell_type": "code",
   "execution_count": null,
   "metadata": {},
   "outputs": [],
   "source": [
    "pairs = pairs.merge(weights, how=\"left\", on=[\"session\", \"candidates\"])\n",
    "pairs = pairs.sort_values(['session', 'candidates']).reset_index(drop=True)\n",
    "\n",
    "for c in weights.columns[2:]:\n",
    "    pairs[c] = pairs[c].fillna(pairs[c].min() / 2).astype(\"float32\")"
   ]
  },
  {
   "cell_type": "code",
   "execution_count": null,
   "metadata": {},
   "outputs": [],
   "source": [
    "del sessions\n",
    "numba.cuda.current_context().deallocations.clear()\n",
    "gc.collect()"
   ]
  },
  {
   "cell_type": "markdown",
   "metadata": {},
   "source": [
    "### Popularity\n",
    "TODO :\n",
    "- Popularity of items in session ?\n",
    "- build session clusters and find popularity among it"
   ]
  },
  {
   "cell_type": "code",
   "execution_count": null,
   "metadata": {},
   "outputs": [],
   "source": [
    "pairs = compute_popularity_features(pairs, [OLD_PARQUET_FILES, PARQUET_FILES], \"\")\n",
    "pairs = compute_popularity_features(pairs, OLD_PARQUET_FILES, \"_old\")\n",
    "pairs = compute_popularity_features(pairs, PARQUET_FILES, \"_w\")"
   ]
  },
  {
   "cell_type": "code",
   "execution_count": null,
   "metadata": {},
   "outputs": [],
   "source": [
    "numba.cuda.current_context().deallocations.clear()\n",
    "gc.collect()"
   ]
  },
  {
   "cell_type": "markdown",
   "metadata": {},
   "source": [
    "### Covisitation features\n",
    "TODO :\n",
    "- merge rank in matrix"
   ]
  },
  {
   "cell_type": "code",
   "execution_count": null,
   "metadata": {},
   "outputs": [],
   "source": [
    "MATRIX_FOLDER = \"../output/matrices/\"\n",
    "MATRIX_NAMES = [f\"matrix_123_temporal_20_{MODE}\", f\"matrix_123_type136_20_{MODE}\", f\"matrix_12__20_{MODE}\", f\"matrix_123_type0.590.5_20_{MODE}\"]"
   ]
  },
  {
   "cell_type": "code",
   "execution_count": null,
   "metadata": {},
   "outputs": [],
   "source": [
    "sessions = load_sessions(PARQUET_FILES)\n",
    "\n",
    "sessions = sessions.sort_values(['session', \"aid\"]).groupby('session').agg(list).reset_index()\n",
    "pairs = pairs.merge(sessions[[\"session\", \"aid\"]], how=\"left\", on=\"session\")\n",
    "pairs = pairs.sort_values(['session', 'candidates']).reset_index(drop=True)"
   ]
  },
  {
   "cell_type": "code",
   "execution_count": null,
   "metadata": {},
   "outputs": [],
   "source": [
    "for name in MATRIX_NAMES:\n",
    "    print(f' -> Features from {name}')\n",
    "\n",
    "    fts = compute_coocurence_features(\n",
    "        pairs[['session', 'candidates', 'aid']],\n",
    "        os.path.join(MATRIX_FOLDER, name + \".pqt\"),\n",
    "        weights\n",
    "    )\n",
    "\n",
    "    for c in fts.columns[2:]:\n",
    "        pairs[f\"{name.rsplit('_', 1)[0]}_{re.sub('w_', '', c)}\"] = fts[c].values\n",
    "\n",
    "    break\n",
    "    del fts\n",
    "    numba.cuda.current_context().deallocations.clear()\n",
    "    gc.collect()\n",
    "    \n",
    "pairs.drop('aid', axis=1, inplace=True)\n",
    "\n",
    "del sessions, weights\n",
    "numba.cuda.current_context().deallocations.clear()\n",
    "gc.collect()"
   ]
  },
  {
   "cell_type": "markdown",
   "metadata": {},
   "source": [
    "#### Popularity x day/weekday/hour\n",
    "- popularity tomorrow ?"
   ]
  },
  {
   "cell_type": "code",
   "execution_count": null,
   "metadata": {},
   "outputs": [],
   "source": [
    "# sessions = load_sessions(PARQUET_FILES)\n",
    "# sessions = get_datetime_info(sessions)\n",
    "\n",
    "# sessions = sessions.groupby('session').max().reset_index().drop(['aid', 'ts', 'type'], axis=1)\n",
    "# pairs = pairs.merge(sessions, on=\"session\", how=\"left\").sort_values(['session', 'candidates']).reset_index(drop=True)"
   ]
  },
  {
   "cell_type": "code",
   "execution_count": null,
   "metadata": {},
   "outputs": [],
   "source": [
    "# COLS = [\"day\", \"weekday\", \"hour\"]\n",
    "\n",
    "# for i, c in enumerate(CLASSES): # + [\"*\"]\n",
    "#     if c == \"clicks\":\n",
    "#         continue\n",
    "\n",
    "#     print(f'-> Popularity for {c if c != \"*\" else \"views\"}')\n",
    "\n",
    "#     sessions = load_sessions([OLD_PARQUET_FILES, PARQUET_FILES])\n",
    "#     sessions = sessions[sessions[\"type\"] == i]\n",
    "#     sessions = get_datetime_info(sessions)\n",
    "\n",
    "#     for col in COLS:\n",
    "#         popularity = sessions[['aid', col, 'type']].groupby(['aid', col]).count().reset_index()\n",
    "\n",
    "#         popularity.columns = [\"candidates\", col, f\"{col}_{c}_popularity\"]\n",
    "#         popularity[col] = popularity[col].astype(sessions[col].dtype)\n",
    "#         popularity[f\"{col}_{c}_popularity\"] = np.clip(popularity[f\"{col}_{c}_popularity\"], 0, 2 ** 15 - 1).astype('int16')\n",
    "\n",
    "#         pairs = pairs.merge(popularity, how=\"left\", on=[\"candidates\", col]).fillna(0)\n",
    "        \n",
    "# #         break\n",
    "# #     break\n",
    "# pairs.drop(['day'], axis=1, inplace=True)"
   ]
  },
  {
   "cell_type": "code",
   "execution_count": null,
   "metadata": {},
   "outputs": [],
   "source": [
    "# del sessions, popularity\n",
    "# numba.cuda.current_context().deallocations.clear()\n",
    "# gc.collect()"
   ]
  },
  {
   "cell_type": "markdown",
   "metadata": {},
   "source": [
    "### Session features\n",
    "- Count views/clicks/carts/orders of session\n",
    "- Count views/clicks/carts/orders of each candidate\n",
    "\n",
    "TODO :\n",
    "- Distance to last view"
   ]
  },
  {
   "cell_type": "code",
   "execution_count": null,
   "metadata": {},
   "outputs": [],
   "source": [
    "pairs = pairs.sort_values(['session', 'candidates']).reset_index(drop=True)\n",
    "\n",
    "for i, c in enumerate(CLASSES + [\"*\"]):\n",
    "    print(f'-> Candidate {c if c != \"*\" else \"views\"} in session')\n",
    "\n",
    "    sessions = load_sessions(PARQUET_FILES)\n",
    "    \n",
    "    if c != \"*\":\n",
    "        sessions.loc[sessions[\"type\"] != i, \"aid\"] = -1\n",
    "    sessions = sessions.groupby('session').agg(list).reset_index()\n",
    "\n",
    "    pairs[f'candidate_{c}_before'] = count_actions(\n",
    "        pairs[['session', 'candidates']],\n",
    "        sessions\n",
    "    )\n",
    "\n",
    "    del sessions\n",
    "    numba.cuda.current_context().deallocations.clear()\n",
    "    gc.collect()\n",
    "    \n",
    "#     break"
   ]
  },
  {
   "cell_type": "code",
   "execution_count": null,
   "metadata": {},
   "outputs": [],
   "source": [
    "sessions = load_sessions(PARQUET_FILES)\n",
    "\n",
    "n_views = sessions[['session', 'ts']].groupby('session').count().reset_index().rename(columns={\"ts\": \"n_views\"})\n",
    "n_clicks = sessions[sessions['type'] == 0][['session', 'ts']].groupby('session').count().reset_index().rename(columns={\"ts\": \"n_clicks\"})\n",
    "n_carts = sessions[sessions['type'] == 1][['session', 'ts']].groupby('session').count().reset_index().rename(columns={\"ts\": \"n_carts\"})\n",
    "n_orders = sessions[sessions['type'] == 2][['session', 'ts']].groupby('session').count().reset_index().rename(columns={\"ts\": \"n_orders\"})\n",
    "\n",
    "sessions_fts = n_views.merge(n_clicks, how=\"left\", on=\"session\").fillna(0)\n",
    "sessions_fts = sessions_fts.merge(n_carts, how=\"left\", on=\"session\").fillna(0)\n",
    "sessions_fts = sessions_fts.merge(n_orders, how=\"left\", on=\"session\").fillna(0)\n",
    "\n",
    "for c in sessions_fts.columns[1:]:\n",
    "    sessions_fts[c] = np.clip(sessions_fts[c], 0, 255).astype(np.uint8)"
   ]
  },
  {
   "cell_type": "code",
   "execution_count": null,
   "metadata": {},
   "outputs": [],
   "source": [
    "pairs = pairs.merge(sessions_fts, on=\"session\", how=\"left\")\n",
    "pairs = pairs.sort_values(['session', 'candidates'])"
   ]
  },
  {
   "cell_type": "markdown",
   "metadata": {},
   "source": [
    "### Save"
   ]
  },
  {
   "cell_type": "code",
   "execution_count": null,
   "metadata": {},
   "outputs": [],
   "source": [
    "save_by_chunks(pairs, f\"../output/features/fts_{MODE}_{SUFFIX}/\", part=PART)"
   ]
  },
  {
   "cell_type": "code",
   "execution_count": null,
   "metadata": {},
   "outputs": [],
   "source": [
    "pairs.head()"
   ]
  },
  {
   "cell_type": "markdown",
   "metadata": {},
   "source": [
    "Done"
   ]
  }
 ],
 "metadata": {
  "kernelspec": {
   "display_name": "Python 3 (ipykernel)",
   "language": "python",
   "name": "python3"
  },
  "language_info": {
   "codemirror_mode": {
    "name": "ipython",
    "version": 3
   },
   "file_extension": ".py",
   "mimetype": "text/x-python",
   "name": "python",
   "nbconvert_exporter": "python",
   "pygments_lexer": "ipython3",
   "version": "3.8.10"
  }
 },
 "nbformat": 4,
 "nbformat_minor": 4
}
