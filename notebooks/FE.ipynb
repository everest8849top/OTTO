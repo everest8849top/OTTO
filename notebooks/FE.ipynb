{
 "cells": [
  {
   "cell_type": "markdown",
   "metadata": {},
   "source": [
    "**About :** Computes Features.\n",
    "\n",
    "**TODO**:\n",
    "- for loop to automatize"
   ]
  },
  {
   "cell_type": "code",
   "execution_count": 125,
   "metadata": {},
   "outputs": [
    {
     "name": "stdout",
     "output_type": "stream",
     "text": [
      "/workspace/kaggle_otto_rs/src\n"
     ]
    }
   ],
   "source": [
    "cd ../src"
   ]
  },
  {
   "cell_type": "code",
   "execution_count": 126,
   "metadata": {},
   "outputs": [
    {
     "name": "stdout",
     "output_type": "stream",
     "text": [
      "The autoreload extension is already loaded. To reload it, use:\n",
      "  %reload_ext autoreload\n"
     ]
    }
   ],
   "source": [
    "%load_ext autoreload\n",
    "%autoreload 2"
   ]
  },
  {
   "cell_type": "code",
   "execution_count": 127,
   "metadata": {},
   "outputs": [],
   "source": [
    "import os\n",
    "os.environ[\"CUDA_VISIBLE_DEVICES\"] = \"0\""
   ]
  },
  {
   "cell_type": "code",
   "execution_count": 128,
   "metadata": {},
   "outputs": [
    {
     "name": "stdout",
     "output_type": "stream",
     "text": [
      "INFO: Pandarallel will run on 32 workers.\n",
      "INFO: Pandarallel will use Memory file system to transfer data between the main process and workers.\n"
     ]
    }
   ],
   "source": [
    "import os\n",
    "import gc\n",
    "import re\n",
    "import cudf\n",
    "import glob\n",
    "import numba\n",
    "import warnings\n",
    "import numpy as np\n",
    "import pandas as pd\n",
    "import seaborn as sns\n",
    "\n",
    "from tqdm import tqdm\n",
    "from datetime import datetime\n",
    "from collections import Counter\n",
    "from pandarallel import pandarallel\n",
    "from numerize.numerize import numerize\n",
    "\n",
    "warnings.simplefilter(action=\"ignore\", category=FutureWarning)\n",
    "warnings.simplefilter(action=\"ignore\", category=UserWarning)\n",
    "pandarallel.initialize(nb_workers=32, progress_bar=False)\n",
    "pd.options.display.max_columns = 500\n",
    "pd.options.display.max_rows = 50"
   ]
  },
  {
   "cell_type": "code",
   "execution_count": 129,
   "metadata": {},
   "outputs": [],
   "source": [
    "from params import *\n",
    "from data.fe import *\n",
    "from utils.load import load_sessions"
   ]
  },
  {
   "cell_type": "markdown",
   "metadata": {},
   "source": [
    "### Load candidates"
   ]
  },
  {
   "cell_type": "code",
   "execution_count": 130,
   "metadata": {},
   "outputs": [],
   "source": [
    "MODE = \"val\"  #  \"val\", \"test\"\n",
    "CANDIDATES_VERSION = \"c-orders-v3\"\n",
    "FEATURES_VERSION = \"8\"\n",
    "\n",
    "SUFFIX = f\"{CANDIDATES_VERSION}.{FEATURES_VERSION}\""
   ]
  },
  {
   "cell_type": "code",
   "execution_count": 131,
   "metadata": {},
   "outputs": [],
   "source": [
    "CANDIDATE_FILE = f'../output/candidates/candidates_{CANDIDATES_VERSION}_{MODE}.parquet'\n",
    "PARQUET_FILES = f\"../output/{MODE}_parquet/*\"\n",
    "\n",
    "if MODE == \"val\":\n",
    "    OLD_PARQUET_FILES = \"../output/full_train_parquet/*\"\n",
    "elif MODE == \"train\":\n",
    "    OLD_PARQUET_FILES = \"../output/other_parquet/*\"\n",
    "else:\n",
    "    raise NotImplementedError"
   ]
  },
  {
   "cell_type": "code",
   "execution_count": 132,
   "metadata": {},
   "outputs": [],
   "source": [
    "pairs = cudf.read_parquet(CANDIDATE_FILE)\n",
    "pairs = pairs.sort_values(['session', 'candidates']).reset_index(drop=True)"
   ]
  },
  {
   "cell_type": "code",
   "execution_count": 133,
   "metadata": {},
   "outputs": [
    {
     "name": "stdout",
     "output_type": "stream",
     "text": [
      "(1000000, 5)\n"
     ]
    }
   ],
   "source": [
    "PART = 0\n",
    "CHUNK_SIZE = 1_000_000  # PER SESSION INSTEAD ??\n",
    "\n",
    "ids = np.arange(PART * CHUNK_SIZE, min((PART + 1) * CHUNK_SIZE, len(pairs)))\n",
    "pairs = pairs.iloc[ids].reset_index(drop=True)\n",
    "print(pairs.shape)"
   ]
  },
  {
   "cell_type": "markdown",
   "metadata": {},
   "source": [
    "### Time weighting"
   ]
  },
  {
   "cell_type": "code",
   "execution_count": 134,
   "metadata": {},
   "outputs": [],
   "source": [
    "sessions = load_sessions(PARQUET_FILES)\n",
    "weights = compute_weights(sessions)"
   ]
  },
  {
   "cell_type": "code",
   "execution_count": 135,
   "metadata": {},
   "outputs": [],
   "source": [
    "pairs = pairs.merge(weights, how=\"left\", on=[\"session\", \"candidates\"])\n",
    "pairs = pairs.sort_values(['session', 'candidates']).reset_index(drop=True)\n",
    "\n",
    "for c in weights.columns[2:]:\n",
    "    pairs[c] = pairs[c].fillna(pairs[c].min() / 2).astype(\"float32\")"
   ]
  },
  {
   "cell_type": "code",
   "execution_count": 136,
   "metadata": {},
   "outputs": [
    {
     "data": {
      "text/plain": [
       "2160"
      ]
     },
     "execution_count": 136,
     "metadata": {},
     "output_type": "execute_result"
    }
   ],
   "source": [
    "del sessions\n",
    "numba.cuda.current_context().deallocations.clear()\n",
    "gc.collect()"
   ]
  },
  {
   "cell_type": "markdown",
   "metadata": {},
   "source": [
    "### Word2vec"
   ]
  },
  {
   "cell_type": "code",
   "execution_count": 111,
   "metadata": {},
   "outputs": [
    {
     "name": "stdout",
     "output_type": "stream",
     "text": [
      "-> Computing Word2Vec similarities from matrix word2vec_val.emb\n"
     ]
    }
   ],
   "source": [
    "pairs = compute_w2v_features(pairs, PARQUET_FILES, f'../output/matrix_factorization/word2vec_{MODE}.emb')"
   ]
  },
  {
   "cell_type": "code",
   "execution_count": 112,
   "metadata": {},
   "outputs": [
    {
     "data": {
      "text/html": [
       "<div>\n",
       "<style scoped>\n",
       "    .dataframe tbody tr th:only-of-type {\n",
       "        vertical-align: middle;\n",
       "    }\n",
       "\n",
       "    .dataframe tbody tr th {\n",
       "        vertical-align: top;\n",
       "    }\n",
       "\n",
       "    .dataframe thead th {\n",
       "        text-align: right;\n",
       "    }\n",
       "</style>\n",
       "<table border=\"1\" class=\"dataframe\">\n",
       "  <thead>\n",
       "    <tr style=\"text-align: right;\">\n",
       "      <th></th>\n",
       "      <th>session</th>\n",
       "      <th>candidates</th>\n",
       "      <th>gt_clicks</th>\n",
       "      <th>gt_carts</th>\n",
       "      <th>gt_orders</th>\n",
       "      <th>w_pos-log</th>\n",
       "      <th>w_type-163</th>\n",
       "      <th>w_lastday</th>\n",
       "      <th>w_time</th>\n",
       "      <th>w_recsys</th>\n",
       "      <th>w2v_sim_1</th>\n",
       "      <th>w2v_sim_2</th>\n",
       "      <th>w2v_sim_3</th>\n",
       "      <th>w2v_sim_wgt_1</th>\n",
       "      <th>w2v_sim_wgt_2</th>\n",
       "      <th>w2v_sim_last</th>\n",
       "      <th>w2v_sim_type_1</th>\n",
       "    </tr>\n",
       "  </thead>\n",
       "  <tbody>\n",
       "    <tr>\n",
       "      <th>0</th>\n",
       "      <td>11098528</td>\n",
       "      <td>2911</td>\n",
       "      <td>0</td>\n",
       "      <td>0</td>\n",
       "      <td>0</td>\n",
       "      <td>0.035887</td>\n",
       "      <td>0.5</td>\n",
       "      <td>0.0</td>\n",
       "      <td>0.054250</td>\n",
       "      <td>0.000703</td>\n",
       "      <td>0.969566</td>\n",
       "      <td>0.648074</td>\n",
       "      <td>6</td>\n",
       "      <td>0.140399</td>\n",
       "      <td>0.208146</td>\n",
       "      <td>0.969566</td>\n",
       "      <td>0.324037</td>\n",
       "    </tr>\n",
       "    <tr>\n",
       "      <th>1</th>\n",
       "      <td>11098528</td>\n",
       "      <td>7555</td>\n",
       "      <td>0</td>\n",
       "      <td>0</td>\n",
       "      <td>0</td>\n",
       "      <td>0.035887</td>\n",
       "      <td>0.5</td>\n",
       "      <td>0.0</td>\n",
       "      <td>0.054250</td>\n",
       "      <td>0.000703</td>\n",
       "      <td>0.905576</td>\n",
       "      <td>0.613560</td>\n",
       "      <td>6</td>\n",
       "      <td>0.133495</td>\n",
       "      <td>0.197423</td>\n",
       "      <td>0.905576</td>\n",
       "      <td>0.306780</td>\n",
       "    </tr>\n",
       "    <tr>\n",
       "      <th>2</th>\n",
       "      <td>11098528</td>\n",
       "      <td>11830</td>\n",
       "      <td>0</td>\n",
       "      <td>0</td>\n",
       "      <td>1</td>\n",
       "      <td>0.071773</td>\n",
       "      <td>1.0</td>\n",
       "      <td>1.0</td>\n",
       "      <td>0.434294</td>\n",
       "      <td>0.165468</td>\n",
       "      <td>1.000000</td>\n",
       "      <td>0.552832</td>\n",
       "      <td>5</td>\n",
       "      <td>0.137038</td>\n",
       "      <td>0.188457</td>\n",
       "      <td>0.608779</td>\n",
       "      <td>0.276416</td>\n",
       "    </tr>\n",
       "    <tr>\n",
       "      <th>3</th>\n",
       "      <td>11098528</td>\n",
       "      <td>92401</td>\n",
       "      <td>0</td>\n",
       "      <td>0</td>\n",
       "      <td>1</td>\n",
       "      <td>0.071773</td>\n",
       "      <td>1.0</td>\n",
       "      <td>1.0</td>\n",
       "      <td>0.621335</td>\n",
       "      <td>0.346060</td>\n",
       "      <td>1.000000</td>\n",
       "      <td>0.576727</td>\n",
       "      <td>4</td>\n",
       "      <td>0.125390</td>\n",
       "      <td>0.185514</td>\n",
       "      <td>0.611477</td>\n",
       "      <td>0.288364</td>\n",
       "    </tr>\n",
       "    <tr>\n",
       "      <th>4</th>\n",
       "      <td>11098528</td>\n",
       "      <td>136418</td>\n",
       "      <td>0</td>\n",
       "      <td>0</td>\n",
       "      <td>0</td>\n",
       "      <td>0.035887</td>\n",
       "      <td>0.5</td>\n",
       "      <td>0.0</td>\n",
       "      <td>0.054250</td>\n",
       "      <td>0.000703</td>\n",
       "      <td>0.953659</td>\n",
       "      <td>0.639578</td>\n",
       "      <td>6</td>\n",
       "      <td>0.138836</td>\n",
       "      <td>0.205593</td>\n",
       "      <td>0.953659</td>\n",
       "      <td>0.319789</td>\n",
       "    </tr>\n",
       "  </tbody>\n",
       "</table>\n",
       "</div>"
      ],
      "text/plain": [
       "    session  candidates  gt_clicks  gt_carts  gt_orders  w_pos-log  \\\n",
       "0  11098528        2911          0         0          0   0.035887   \n",
       "1  11098528        7555          0         0          0   0.035887   \n",
       "2  11098528       11830          0         0          1   0.071773   \n",
       "3  11098528       92401          0         0          1   0.071773   \n",
       "4  11098528      136418          0         0          0   0.035887   \n",
       "\n",
       "   w_type-163  w_lastday    w_time  w_recsys  w2v_sim_1  w2v_sim_2  w2v_sim_3  \\\n",
       "0         0.5        0.0  0.054250  0.000703   0.969566   0.648074          6   \n",
       "1         0.5        0.0  0.054250  0.000703   0.905576   0.613560          6   \n",
       "2         1.0        1.0  0.434294  0.165468   1.000000   0.552832          5   \n",
       "3         1.0        1.0  0.621335  0.346060   1.000000   0.576727          4   \n",
       "4         0.5        0.0  0.054250  0.000703   0.953659   0.639578          6   \n",
       "\n",
       "   w2v_sim_wgt_1  w2v_sim_wgt_2  w2v_sim_last  w2v_sim_type_1  \n",
       "0       0.140399       0.208146      0.969566        0.324037  \n",
       "1       0.133495       0.197423      0.905576        0.306780  \n",
       "2       0.137038       0.188457      0.608779        0.276416  \n",
       "3       0.125390       0.185514      0.611477        0.288364  \n",
       "4       0.138836       0.205593      0.953659        0.319789  "
      ]
     },
     "execution_count": 112,
     "metadata": {},
     "output_type": "execute_result"
    }
   ],
   "source": [
    "pairs.head()"
   ]
  },
  {
   "cell_type": "markdown",
   "metadata": {},
   "source": [
    "### Matrix Factorization"
   ]
  },
  {
   "cell_type": "code",
   "execution_count": 114,
   "metadata": {},
   "outputs": [],
   "source": [
    "EMBED_PATH = \"../output/matrix_factorization/\"\n",
    "\n",
    "EMBED_NAMES = [\n",
    "    f'embed_1-9_64_cartbuy_{MODE}',\n",
    "    f'embed_1_64_{MODE}',\n",
    "    f'embed_1-5_64_{MODE}',\n",
    "]"
   ]
  },
  {
   "cell_type": "code",
   "execution_count": 115,
   "metadata": {},
   "outputs": [
    {
     "name": "stdout",
     "output_type": "stream",
     "text": [
      "-> Features from matrix embed_1-9_64_cartbuy_val\n",
      "-> Features from matrix embed_1_64_val\n"
     ]
    },
    {
     "ename": "KeyboardInterrupt",
     "evalue": "",
     "output_type": "error",
     "traceback": [
      "\u001b[0;31m---------------------------------------------------------------------------\u001b[0m",
      "\u001b[0;31mKeyboardInterrupt\u001b[0m                         Traceback (most recent call last)",
      "Cell \u001b[0;32mIn[115], line 32\u001b[0m\n\u001b[1;32m     30\u001b[0m \u001b[38;5;28;01mfor\u001b[39;00m n \u001b[38;5;129;01min\u001b[39;00m \u001b[38;5;28mrange\u001b[39m(\u001b[38;5;241m5\u001b[39m):\n\u001b[1;32m     31\u001b[0m     pairs[\u001b[38;5;124mf\u001b[39m\u001b[38;5;124m\"\u001b[39m\u001b[38;5;124mlast_\u001b[39m\u001b[38;5;132;01m{\u001b[39;00mn\u001b[38;5;132;01m}\u001b[39;00m\u001b[38;5;124m\"\u001b[39m] \u001b[38;5;241m=\u001b[39m pairs[\u001b[38;5;124mf\u001b[39m\u001b[38;5;124m\"\u001b[39m\u001b[38;5;124mlast_\u001b[39m\u001b[38;5;132;01m{\u001b[39;00mn\u001b[38;5;132;01m}\u001b[39;00m\u001b[38;5;124m\"\u001b[39m]\u001b[38;5;241m.\u001b[39mfillna(embed\u001b[38;5;241m.\u001b[39mshape[\u001b[38;5;241m0\u001b[39m] \u001b[38;5;241m-\u001b[39m \u001b[38;5;241m1\u001b[39m)\u001b[38;5;241m.\u001b[39mastype(\u001b[38;5;124m\"\u001b[39m\u001b[38;5;124mint32\u001b[39m\u001b[38;5;124m\"\u001b[39m)\n\u001b[0;32m---> 32\u001b[0m     pairs[\u001b[38;5;124mf\u001b[39m\u001b[38;5;124m'\u001b[39m\u001b[38;5;132;01m{\u001b[39;00mname\u001b[38;5;132;01m}\u001b[39;00m\u001b[38;5;124m_last_\u001b[39m\u001b[38;5;132;01m{\u001b[39;00mn\u001b[38;5;132;01m}\u001b[39;00m\u001b[38;5;124m'\u001b[39m] \u001b[38;5;241m=\u001b[39m np\u001b[38;5;241m.\u001b[39msum(embed[pairs[\u001b[38;5;124m'\u001b[39m\u001b[38;5;124mcandidates\u001b[39m\u001b[38;5;124m'\u001b[39m]\u001b[38;5;241m.\u001b[39mto_pandas()\u001b[38;5;241m.\u001b[39mvalues] \u001b[38;5;241m*\u001b[39m \u001b[43membed\u001b[49m\u001b[43m[\u001b[49m\u001b[43mpairs\u001b[49m\u001b[43m[\u001b[49m\u001b[38;5;124;43mf\u001b[39;49m\u001b[38;5;124;43m'\u001b[39;49m\u001b[38;5;124;43mlast_\u001b[39;49m\u001b[38;5;132;43;01m{\u001b[39;49;00m\u001b[43mn\u001b[49m\u001b[38;5;132;43;01m}\u001b[39;49;00m\u001b[38;5;124;43m'\u001b[39;49m\u001b[43m]\u001b[49m\u001b[38;5;241;43m.\u001b[39;49m\u001b[43mto_pandas\u001b[49m\u001b[43m(\u001b[49m\u001b[43m)\u001b[49m\u001b[38;5;241;43m.\u001b[39;49m\u001b[43mvalues\u001b[49m\u001b[43m]\u001b[49m, axis\u001b[38;5;241m=\u001b[39m\u001b[38;5;241m1\u001b[39m)\n\u001b[1;32m     33\u001b[0m     pairs[\u001b[38;5;124mf\u001b[39m\u001b[38;5;124m'\u001b[39m\u001b[38;5;132;01m{\u001b[39;00mname\u001b[38;5;132;01m}\u001b[39;00m\u001b[38;5;124m_last_\u001b[39m\u001b[38;5;132;01m{\u001b[39;00mn\u001b[38;5;132;01m}\u001b[39;00m\u001b[38;5;124m'\u001b[39m] \u001b[38;5;241m-\u001b[39m\u001b[38;5;241m=\u001b[39m (pairs[\u001b[38;5;124mf\u001b[39m\u001b[38;5;124m'\u001b[39m\u001b[38;5;124mlast_\u001b[39m\u001b[38;5;132;01m{\u001b[39;00mn\u001b[38;5;132;01m}\u001b[39;00m\u001b[38;5;124m'\u001b[39m] \u001b[38;5;241m==\u001b[39m embed\u001b[38;5;241m.\u001b[39mshape[\u001b[38;5;241m0\u001b[39m] \u001b[38;5;241m-\u001b[39m \u001b[38;5;241m1\u001b[39m)  \u001b[38;5;66;03m# nan are set to -1\u001b[39;00m\n\u001b[1;32m     34\u001b[0m     pairs\u001b[38;5;241m.\u001b[39mdrop(\u001b[38;5;124mf\u001b[39m\u001b[38;5;124m'\u001b[39m\u001b[38;5;124mlast_\u001b[39m\u001b[38;5;132;01m{\u001b[39;00mn\u001b[38;5;132;01m}\u001b[39;00m\u001b[38;5;124m'\u001b[39m, axis\u001b[38;5;241m=\u001b[39m\u001b[38;5;241m1\u001b[39m, inplace\u001b[38;5;241m=\u001b[39m\u001b[38;5;28;01mTrue\u001b[39;00m)\n",
      "\u001b[0;31mKeyboardInterrupt\u001b[0m: "
     ]
    }
   ],
   "source": [
    "for embed_name in EMBED_NAMES:\n",
    "    print(f'-> Features from matrix {embed_name}')\n",
    "    name = embed_name.rsplit('_', 1)[0]\n",
    "\n",
    "    # Load embeddings\n",
    "    embed_path = os.path.join(EMBED_PATH, embed_name + \".npy\")\n",
    "    embed = np.load(embed_path)\n",
    "    embed /= np.reshape(np.sqrt(np.sum(embed * embed, axis=1)), (-1, 1))\n",
    "    embed = np.concatenate((embed, np.zeros((1, embed.shape[1])))).astype(np.float32)\n",
    "    \n",
    "    # Retrieve sessions\n",
    "    sessions = load_sessions(PARQUET_FILES)\n",
    "    if \"_cartbuy\" in embed_path:\n",
    "        sessions = sessions[sessions['type'] != 0]\n",
    "    sessions = sessions.sort_values(['session', \"ts\"], ascending=[True, False])\n",
    "    \n",
    "    # Last n events\n",
    "    df_s = sessions[['session', \"aid\"]].groupby('session').first().reset_index()\n",
    "    df_s.columns = ['session', 'last_0']\n",
    "    \n",
    "    sessions['n'] = sessions[['session', \"aid\"]].groupby('session').cumcount()\n",
    "    for n in range(5):\n",
    "        if n > 0:\n",
    "            df_s = df_s.merge(\n",
    "                sessions[['session', \"aid\"]][sessions['n'] == n], how=\"left\", on=\"session\"\n",
    "            ).rename(columns={\"aid\": f\"last_{n}\"})\n",
    "        df_s[f\"last_{n}\"] = df_s[f\"last_{n}\"].fillna(embed.shape[0] - 1).astype(\"int32\")\n",
    "    \n",
    "    pairs = pairs.merge(df_s, how=\"left\", on=\"session\")\n",
    "    for n in range(5):\n",
    "        pairs[f\"last_{n}\"] = pairs[f\"last_{n}\"].fillna(embed.shape[0] - 1).astype(\"int32\")\n",
    "        pairs[f'{name}_last_{n}'] = np.sum(embed[pairs['candidates'].to_pandas().values] * embed[pairs[f'last_{n}'].to_pandas().values], axis=1)\n",
    "        pairs[f'{name}_last_{n}'] -= (pairs[f'last_{n}'] == embed.shape[0] - 1)  # nan are set to -1\n",
    "        pairs.drop(f'last_{n}', axis=1, inplace=True)\n",
    "\n",
    "    weights_noclick = None\n",
    "    if \"_cartbuy\" in embed_path:\n",
    "        sessions = load_sessions(PARQUET_FILES)\n",
    "        weights_noclick = compute_weights(sessions, no_click=True)\n",
    "\n",
    "    sessions = sessions.sort_values(['session', \"ts\"], ascending=[True, False])\n",
    "    \n",
    "    sessions = sessions.sort_values(['session', \"aid\"]).groupby('session').agg(list).reset_index()\n",
    "    pairs = pairs.merge(sessions[[\"session\", \"aid\"]], how=\"left\", on=\"session\")\n",
    "    pairs = pairs.sort_values(['session', 'candidates']).reset_index(drop=True)\n",
    "    \n",
    "    fts = compute_matrix_factorization_features(\n",
    "        pairs[[\"session\", \"candidates\", \"aid\"]],\n",
    "        embed,\n",
    "        weights if weights_noclick is None else weights_noclick\n",
    "    )\n",
    "    \n",
    "    for c in fts.columns[2:]:\n",
    "        pairs[f\"{name}_{re.sub('w_', '', c)}\"] = fts[c].values\n",
    "\n",
    "    del fts, sessions, weights_noclick, df_s, embed\n",
    "    numba.cuda.current_context().deallocations.clear()\n",
    "    gc.collect()\n",
    "\n",
    "    pairs.drop('aid', axis=1, inplace=True)"
   ]
  },
  {
   "cell_type": "markdown",
   "metadata": {},
   "source": [
    "### Popularity"
   ]
  },
  {
   "cell_type": "code",
   "execution_count": null,
   "metadata": {},
   "outputs": [],
   "source": [
    "pairs = compute_popularity_features(pairs, [OLD_PARQUET_FILES, PARQUET_FILES], \"\")\n",
    "pairs = compute_popularity_features(pairs, PARQUET_FILES, \"_w\")"
   ]
  },
  {
   "cell_type": "code",
   "execution_count": null,
   "metadata": {},
   "outputs": [],
   "source": [
    "numba.cuda.current_context().deallocations.clear()\n",
    "gc.collect()"
   ]
  },
  {
   "cell_type": "markdown",
   "metadata": {},
   "source": [
    "### Popularity 2"
   ]
  },
  {
   "cell_type": "code",
   "execution_count": 137,
   "metadata": {},
   "outputs": [],
   "source": [
    "sessions = load_sessions(PARQUET_FILES)"
   ]
  },
  {
   "cell_type": "code",
   "execution_count": 138,
   "metadata": {},
   "outputs": [
    {
     "name": "stdout",
     "output_type": "stream",
     "text": [
      "SKIP CLIC\n",
      "-> Popularity for carts\n",
      "-> Popularity for orders\n"
     ]
    }
   ],
   "source": [
    "pairs = compute_popularities_new(pairs, sessions, mode=MODE)"
   ]
  },
  {
   "cell_type": "code",
   "execution_count": 139,
   "metadata": {},
   "outputs": [
    {
     "data": {
      "text/html": [
       "<div>\n",
       "<style scoped>\n",
       "    .dataframe tbody tr th:only-of-type {\n",
       "        vertical-align: middle;\n",
       "    }\n",
       "\n",
       "    .dataframe tbody tr th {\n",
       "        vertical-align: top;\n",
       "    }\n",
       "\n",
       "    .dataframe thead th {\n",
       "        text-align: right;\n",
       "    }\n",
       "</style>\n",
       "<table border=\"1\" class=\"dataframe\">\n",
       "  <thead>\n",
       "    <tr style=\"text-align: right;\">\n",
       "      <th></th>\n",
       "      <th>session</th>\n",
       "      <th>candidates</th>\n",
       "      <th>gt_clicks</th>\n",
       "      <th>gt_carts</th>\n",
       "      <th>w_pos-log</th>\n",
       "      <th>w_type-163</th>\n",
       "      <th>w_lastday</th>\n",
       "      <th>w_time</th>\n",
       "      <th>w_recsys</th>\n",
       "      <th>popularity_week_carts</th>\n",
       "      <th>popularity_day_carts</th>\n",
       "      <th>popularity_hour_carts</th>\n",
       "      <th>popularity_hour/day_carts</th>\n",
       "      <th>popularity_day/week_carts</th>\n",
       "      <th>popularity_week_orders</th>\n",
       "      <th>popularity_day_orders</th>\n",
       "      <th>popularity_hour_orders</th>\n",
       "      <th>popularity_hour/day_orders</th>\n",
       "      <th>popularity_day/week_orders</th>\n",
       "    </tr>\n",
       "    <tr>\n",
       "      <th>gt_orders</th>\n",
       "      <th></th>\n",
       "      <th></th>\n",
       "      <th></th>\n",
       "      <th></th>\n",
       "      <th></th>\n",
       "      <th></th>\n",
       "      <th></th>\n",
       "      <th></th>\n",
       "      <th></th>\n",
       "      <th></th>\n",
       "      <th></th>\n",
       "      <th></th>\n",
       "      <th></th>\n",
       "      <th></th>\n",
       "      <th></th>\n",
       "      <th></th>\n",
       "      <th></th>\n",
       "      <th></th>\n",
       "      <th></th>\n",
       "    </tr>\n",
       "  </thead>\n",
       "  <tbody>\n",
       "    <tr>\n",
       "      <th>0</th>\n",
       "      <td>1.110874e+07</td>\n",
       "      <td>888708.479323</td>\n",
       "      <td>0.011280</td>\n",
       "      <td>0.002204</td>\n",
       "      <td>0.058577</td>\n",
       "      <td>0.605996</td>\n",
       "      <td>0.085993</td>\n",
       "      <td>0.118627</td>\n",
       "      <td>0.087436</td>\n",
       "      <td>0.213671</td>\n",
       "      <td>0.244853</td>\n",
       "      <td>0.004422</td>\n",
       "      <td>0.006351</td>\n",
       "      <td>0.798954</td>\n",
       "      <td>0.223968</td>\n",
       "      <td>0.242399</td>\n",
       "      <td>0.003511</td>\n",
       "      <td>0.001860</td>\n",
       "      <td>0.355754</td>\n",
       "    </tr>\n",
       "    <tr>\n",
       "      <th>1</th>\n",
       "      <td>1.110932e+07</td>\n",
       "      <td>938360.709948</td>\n",
       "      <td>0.192968</td>\n",
       "      <td>0.408710</td>\n",
       "      <td>0.442770</td>\n",
       "      <td>5.724331</td>\n",
       "      <td>1.985617</td>\n",
       "      <td>1.406937</td>\n",
       "      <td>1.514609</td>\n",
       "      <td>0.315921</td>\n",
       "      <td>0.490269</td>\n",
       "      <td>0.053245</td>\n",
       "      <td>0.236783</td>\n",
       "      <td>2.475041</td>\n",
       "      <td>0.400702</td>\n",
       "      <td>0.595318</td>\n",
       "      <td>0.019225</td>\n",
       "      <td>0.008237</td>\n",
       "      <td>0.646194</td>\n",
       "    </tr>\n",
       "  </tbody>\n",
       "</table>\n",
       "</div>"
      ],
      "text/plain": [
       "                session     candidates  gt_clicks  gt_carts  w_pos-log  \\\n",
       "gt_orders                                                                \n",
       "0          1.110874e+07  888708.479323   0.011280  0.002204   0.058577   \n",
       "1          1.110932e+07  938360.709948   0.192968  0.408710   0.442770   \n",
       "\n",
       "           w_type-163  w_lastday    w_time  w_recsys  popularity_week_carts  \\\n",
       "gt_orders                                                                     \n",
       "0            0.605996   0.085993  0.118627  0.087436               0.213671   \n",
       "1            5.724331   1.985617  1.406937  1.514609               0.315921   \n",
       "\n",
       "           popularity_day_carts  popularity_hour_carts  \\\n",
       "gt_orders                                                \n",
       "0                      0.244853               0.004422   \n",
       "1                      0.490269               0.053245   \n",
       "\n",
       "           popularity_hour/day_carts  popularity_day/week_carts  \\\n",
       "gt_orders                                                         \n",
       "0                           0.006351                   0.798954   \n",
       "1                           0.236783                   2.475041   \n",
       "\n",
       "           popularity_week_orders  popularity_day_orders  \\\n",
       "gt_orders                                                  \n",
       "0                        0.223968               0.242399   \n",
       "1                        0.400702               0.595318   \n",
       "\n",
       "           popularity_hour_orders  popularity_hour/day_orders  \\\n",
       "gt_orders                                                       \n",
       "0                        0.003511                    0.001860   \n",
       "1                        0.019225                    0.008237   \n",
       "\n",
       "           popularity_day/week_orders  \n",
       "gt_orders                              \n",
       "0                            0.355754  \n",
       "1                            0.646194  "
      ]
     },
     "execution_count": 139,
     "metadata": {},
     "output_type": "execute_result"
    }
   ],
   "source": [
    "pairs.groupby('gt_orders').mean()"
   ]
  },
  {
   "cell_type": "markdown",
   "metadata": {},
   "source": [
    "### Covisitation features"
   ]
  },
  {
   "cell_type": "code",
   "execution_count": null,
   "metadata": {},
   "outputs": [],
   "source": [
    "MATRIX_FOLDER = \"../output/matrices/\"\n",
    "# MATRIX_NAMES = [f\"matrix_123_temporal_20_{MODE}\", f\"matrix_123_type136_20_{MODE}\", f\"matrix_12__20_{MODE}\", f\"matrix_123_type0.590.5_20_{MODE}\"]"
   ]
  },
  {
   "cell_type": "code",
   "execution_count": null,
   "metadata": {},
   "outputs": [],
   "source": [
    "MATRIX_NAMES = [\n",
    "    f\"matrix_123_temporal_20_{MODE}\",\n",
    "    f\"matrix_123_type136_20_{MODE}\",\n",
    "    f\"matrix_12__20_{MODE}\",\n",
    "    f\"matrix_123_type0.590.5_20_{MODE}\",\n",
    "    f\"matrix_cpu-90_{MODE}\",\n",
    "    f\"matrix_cpu-95_{MODE}\",\n",
    "    f\"matrix_cpu-99_{MODE}\",\n",
    "    f\"matrix_gpu-116_{MODE}\",\n",
    "    f\"matrix_gpu-115_{MODE}\",\n",
    "    f\"matrix_gpu-93_{MODE}\",\n",
    "    f\"matrix_gpu-217_{MODE}\",\n",
    "    f\"matrix_gpu-226_{MODE}\",\n",
    "    f\"matrix_gpu-232_{MODE}\",\n",
    "    f\"matrix_gpu-239_{MODE}\",\n",
    "    f\"matrix_gpu-700_{MODE}\",\n",
    "    f\"matrix_gpu-701_{MODE}\",\n",
    "]"
   ]
  },
  {
   "cell_type": "code",
   "execution_count": null,
   "metadata": {},
   "outputs": [],
   "source": [
    "sessions = load_sessions(PARQUET_FILES)\n",
    "\n",
    "sessions = sessions.sort_values(['session', \"aid\"]).groupby('session').agg(list).reset_index()\n",
    "pairs = pairs.merge(sessions[[\"session\", \"aid\"]], how=\"left\", on=\"session\")\n",
    "pairs = pairs.sort_values(['session', 'candidates']).reset_index(drop=True)"
   ]
  },
  {
   "cell_type": "code",
   "execution_count": null,
   "metadata": {},
   "outputs": [],
   "source": [
    "for name in MATRIX_NAMES:\n",
    "    print(f' -> Features from {name}')\n",
    "\n",
    "    fts = compute_coocurence_features(\n",
    "        pairs[['session', 'candidates', 'aid']],\n",
    "        os.path.join(MATRIX_FOLDER, name + \".pqt\"),\n",
    "        weights\n",
    "    )\n",
    "\n",
    "    for c in fts.columns[2:]:\n",
    "        pairs[f\"{name.rsplit('_', 1)[0]}_{re.sub('w_', '', c)}\"] = fts[c].values\n",
    "\n",
    "    del fts\n",
    "    numba.cuda.current_context().deallocations.clear()\n",
    "    gc.collect()\n",
    "    \n",
    "pairs.drop('aid', axis=1, inplace=True)\n",
    "\n",
    "del sessions, weights\n",
    "numba.cuda.current_context().deallocations.clear()\n",
    "gc.collect()"
   ]
  },
  {
   "cell_type": "markdown",
   "metadata": {},
   "source": [
    "### Rank ft"
   ]
  },
  {
   "cell_type": "code",
   "execution_count": null,
   "metadata": {},
   "outputs": [],
   "source": [
    "def add_rank_feature(pairs, feature):\n",
    "    df_ft = pairs[[\"session\", \"candidates\", feature]]\n",
    "    df_ft = df_ft.sort_values(feature, ascending=False, ignore_index=True)\n",
    "    df_ft[f'{feature}_rank'] = 1\n",
    "    df_ft[f'{feature}_rank'] = df_ft[f'{feature}_rank'].astype(\"uint8\")\n",
    "    df_ft[f'{feature}_rank'] = df_ft.groupby(\"session\")[f'{feature}_rank'].cumsum()\n",
    "\n",
    "    df_ft[f'{feature}_rank'] = df_ft.groupby([\"session\", feature])[f'{feature}_rank'].cummin()  # Ties\n",
    "\n",
    "    df_ft = df_ft.drop(feature, axis=1).sort_values([\"session\", \"candidates\"], ignore_index=True)\n",
    "\n",
    "    pairs[f'{feature}_rank'] = df_ft[f'{feature}_rank'].astype(\"uint8\")"
   ]
  },
  {
   "cell_type": "code",
   "execution_count": null,
   "metadata": {},
   "outputs": [],
   "source": [
    "fts_to_rank = [ft for ft in pairs.columns[5:] if not any([k in ft for k in [\"_rank\", \"_sum\", \"_max\"]])]"
   ]
  },
  {
   "cell_type": "code",
   "execution_count": null,
   "metadata": {},
   "outputs": [],
   "source": [
    "for ft in tqdm(fts_to_rank):\n",
    "    add_rank_feature(pairs, ft)"
   ]
  },
  {
   "cell_type": "markdown",
   "metadata": {},
   "source": [
    "### Correlations"
   ]
  },
  {
   "cell_type": "code",
   "execution_count": null,
   "metadata": {},
   "outputs": [],
   "source": [
    "# FEATURES = pairs.columns[5:]  # [ft for ft in pairs.columns[5:] if \"rank\" in ft]\n",
    "\n",
    "# corr = pairs[FEATURES].corr()\n",
    "# corr = corr.to_pandas()\n",
    "# corr = corr.values\n",
    "\n",
    "# mask = np.zeros_like(corr, dtype=bool)\n",
    "# mask[np.triu_indices_from(mask)] = True\n",
    "# corr[mask] = 0"
   ]
  },
  {
   "cell_type": "code",
   "execution_count": null,
   "metadata": {},
   "outputs": [],
   "source": [
    "# TH = 0.99\n",
    "\n",
    "# for i in range(len(corr)):\n",
    "#     for j in range(len(corr)):\n",
    "#         if corr[i, j] > TH:\n",
    "#             print(FEATURES[i], FEATURES[j], f'{corr[i, j] :.3f}')"
   ]
  },
  {
   "cell_type": "markdown",
   "metadata": {},
   "source": [
    "### Session features\n",
    "- Count views/clicks/carts/orders of session\n",
    "- Count views/clicks/carts/orders of each candidate\n",
    "\n",
    "TODO :\n",
    "- Distance to last view"
   ]
  },
  {
   "cell_type": "code",
   "execution_count": null,
   "metadata": {},
   "outputs": [],
   "source": [
    "pairs = pairs.sort_values(['session', 'candidates']).reset_index(drop=True)\n",
    "\n",
    "for i, c in enumerate(CLASSES + [\"*\"]):\n",
    "    print(f'-> Candidate {c if c != \"*\" else \"views\"} in session')\n",
    "\n",
    "    sessions = load_sessions(PARQUET_FILES)\n",
    "    \n",
    "    if c != \"*\":\n",
    "        sessions.loc[sessions[\"type\"] != i, \"aid\"] = -1\n",
    "    sessions = sessions.groupby('session').agg(list).reset_index()\n",
    "\n",
    "    pairs[f'candidate_{c}_before'] = count_actions(\n",
    "        pairs[['session', 'candidates']],\n",
    "        sessions\n",
    "    )\n",
    "\n",
    "    del sessions\n",
    "    numba.cuda.current_context().deallocations.clear()\n",
    "    gc.collect()\n",
    "    \n",
    "#     break"
   ]
  },
  {
   "cell_type": "code",
   "execution_count": null,
   "metadata": {},
   "outputs": [],
   "source": [
    "sessions = load_sessions(PARQUET_FILES)\n",
    "\n",
    "n_views = sessions[['session', 'ts']].groupby('session').count().reset_index().rename(columns={\"ts\": \"n_views\"})\n",
    "n_clicks = sessions[sessions['type'] == 0][['session', 'ts']].groupby('session').count().reset_index().rename(columns={\"ts\": \"n_clicks\"})\n",
    "n_carts = sessions[sessions['type'] == 1][['session', 'ts']].groupby('session').count().reset_index().rename(columns={\"ts\": \"n_carts\"})\n",
    "n_orders = sessions[sessions['type'] == 2][['session', 'ts']].groupby('session').count().reset_index().rename(columns={\"ts\": \"n_orders\"})\n",
    "\n",
    "sessions_fts = n_views.merge(n_clicks, how=\"left\", on=\"session\").fillna(0)\n",
    "sessions_fts = sessions_fts.merge(n_carts, how=\"left\", on=\"session\").fillna(0)\n",
    "sessions_fts = sessions_fts.merge(n_orders, how=\"left\", on=\"session\").fillna(0)\n",
    "\n",
    "for c in sessions_fts.columns[1:]:\n",
    "    sessions_fts[c] = np.clip(sessions_fts[c], 0, 255).astype(np.uint8)"
   ]
  },
  {
   "cell_type": "code",
   "execution_count": null,
   "metadata": {},
   "outputs": [],
   "source": [
    "pairs = pairs.merge(sessions_fts, on=\"session\", how=\"left\")\n",
    "pairs = pairs.sort_values(['session', 'candidates'])"
   ]
  },
  {
   "cell_type": "markdown",
   "metadata": {},
   "source": [
    "### Save"
   ]
  },
  {
   "cell_type": "code",
   "execution_count": null,
   "metadata": {},
   "outputs": [],
   "source": [
    "save_by_chunks(pairs, f\"../output/features/fts_{MODE}_{SUFFIX}/\", part=PART)"
   ]
  },
  {
   "cell_type": "code",
   "execution_count": null,
   "metadata": {},
   "outputs": [],
   "source": [
    "pairs.head()"
   ]
  },
  {
   "cell_type": "markdown",
   "metadata": {},
   "source": [
    "Done"
   ]
  }
 ],
 "metadata": {
  "kernelspec": {
   "display_name": "Python 3 (ipykernel)",
   "language": "python",
   "name": "python3"
  },
  "language_info": {
   "codemirror_mode": {
    "name": "ipython",
    "version": 3
   },
   "file_extension": ".py",
   "mimetype": "text/x-python",
   "name": "python",
   "nbconvert_exporter": "python",
   "pygments_lexer": "ipython3",
   "version": "3.8.10"
  }
 },
 "nbformat": 4,
 "nbformat_minor": 4
}
