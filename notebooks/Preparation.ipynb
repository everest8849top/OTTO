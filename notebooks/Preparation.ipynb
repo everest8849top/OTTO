{
 "cells": [
  {
   "cell_type": "code",
   "execution_count": 4,
   "id": "adeebba0",
   "metadata": {},
   "outputs": [],
   "source": [
    "%load_ext autoreload \n",
    "%autoreload 2"
   ]
  },
  {
   "cell_type": "code",
   "execution_count": 5,
   "id": "8849b350",
   "metadata": {},
   "outputs": [
    {
     "name": "stdout",
     "output_type": "stream",
     "text": [
      "/tmp/kaggle/kaggle_otto_rs/src\n"
     ]
    }
   ],
   "source": [
    "cd ../src"
   ]
  },
  {
   "cell_type": "markdown",
   "id": "11777f32",
   "metadata": {
    "papermill": {
     "duration": 0.005708,
     "end_time": "2022-11-02T16:29:16.373015",
     "exception": false,
     "start_time": "2022-11-02T16:29:16.367307",
     "status": "completed"
    },
    "tags": []
   },
   "source": [
    "### Initialization"
   ]
  },
  {
   "cell_type": "code",
   "execution_count": 6,
   "id": "192eca17",
   "metadata": {
    "_cell_guid": "b1076dfc-b9ad-4769-8c92-a6c4dae69d19",
    "_uuid": "8f2839f25d086af736a60e9eeb907d3b93b6e0e5",
    "papermill": {
     "duration": 1.265093,
     "end_time": "2022-11-02T16:29:17.662667",
     "exception": false,
     "start_time": "2022-11-02T16:29:16.397574",
     "status": "completed"
    },
    "tags": []
   },
   "outputs": [],
   "source": [
    "import os\n",
    "import numpy as np\n",
    "import pandas as pd\n",
    "import seaborn as sns\n",
    "import matplotlib.pyplot as plt\n",
    "\n",
    "from pathlib import Path\n",
    "from tqdm import tqdm\n",
    "from collections import Counter\n",
    "from joblib import Parallel, delayed"
   ]
  },
  {
   "cell_type": "code",
   "execution_count": 7,
   "id": "4200ceec",
   "metadata": {},
   "outputs": [],
   "source": [
    "def process_data(chunk, save_folder=\"\"):\n",
    "    arrays = c['events'].apply(lambda x: np.array([[c['aid'], c['ts'], CLASSES.index(c['type'])] for c in x]).astype(int)).values\n",
    "    \n",
    "    paths = []\n",
    "    for session, array in zip(chunk['session'], arrays):\n",
    "        paths.append(save_folder + f\"session_{session}.npy\")\n",
    "        if save_folder:\n",
    "            np.save(save_folder + f\"session_{session}.npy\", array)\n",
    "\n",
    "    start_times = [a[0, 1] for a in arrays]\n",
    "    end_times = [a[-1, 1] for a in arrays]\n",
    "    df = pd.DataFrame({\"path\": paths, \"start_time\": start_times, \"end_time\": end_times})\n",
    "    \n",
    "    return arrays, df"
   ]
  },
  {
   "cell_type": "markdown",
   "id": "670ae971",
   "metadata": {},
   "source": [
    "### Val Split"
   ]
  },
  {
   "cell_type": "code",
   "execution_count": 8,
   "id": "bb6d3e2c",
   "metadata": {},
   "outputs": [],
   "source": [
    "from recsys.testset import *\n",
    "\n",
    "@beartype\n",
    "def val_split(train_set: Path, output_path: Path, days: int, seed: int):\n",
    "    random.seed(seed)\n",
    "    max_ts = get_max_ts(train_set)\n",
    "\n",
    "    session_chunks = pd.read_json(train_set, lines=True, chunksize=100000)\n",
    "    train_file = output_path / 'train_sessions.jsonl'\n",
    "    test_file_full = output_path / 'val_sessions.jsonl'\n",
    "    train_test_split(session_chunks, train_file, test_file_full, max_ts, days)"
   ]
  },
  {
   "cell_type": "code",
   "execution_count": 9,
   "id": "7476be8e",
   "metadata": {},
   "outputs": [],
   "source": [
    "# val_split(\n",
    "#     Path('../input/train.jsonl'),\n",
    "#     Path(\"../output/\"),\n",
    "#     7,\n",
    "#     42\n",
    "# )"
   ]
  },
  {
   "cell_type": "markdown",
   "id": "93a1f65f",
   "metadata": {
    "papermill": {
     "duration": 0.004536,
     "end_time": "2022-11-02T16:29:17.672217",
     "exception": false,
     "start_time": "2022-11-02T16:29:17.667681",
     "status": "completed"
    },
    "tags": []
   },
   "source": [
    "### Data"
   ]
  },
  {
   "cell_type": "code",
   "execution_count": 10,
   "id": "f2346b13",
   "metadata": {},
   "outputs": [],
   "source": [
    "DATA_PATH = Path('../input/')\n",
    "OUT_DIR = Path(\"../output/\")"
   ]
  },
  {
   "cell_type": "code",
   "execution_count": 11,
   "id": "d2522f62",
   "metadata": {
    "papermill": {
     "duration": 0.01497,
     "end_time": "2022-11-02T16:29:17.692073",
     "exception": false,
     "start_time": "2022-11-02T16:29:17.677103",
     "status": "completed"
    },
    "tags": []
   },
   "outputs": [],
   "source": [
    "TRAIN_PATH = DATA_PATH / 'train.jsonl'\n",
    "TEST_PATH = DATA_PATH / 'test.jsonl'\n",
    "\n",
    "TRAIN_PATH = DATA_PATH / 'train_sessions.jsonl'\n",
    "VAL_PATH = DATA_PATH / 'val_sessions.jsonl'\n",
    "# train_sessions\n",
    "\n",
    "CLASSES = ['clicks', 'carts', 'orders']"
   ]
  },
  {
   "cell_type": "markdown",
   "id": "bf670dcc",
   "metadata": {},
   "source": [
    "## NPY"
   ]
  },
  {
   "cell_type": "code",
   "execution_count": 12,
   "id": "bc12a0a4",
   "metadata": {
    "papermill": {
     "duration": 0.021623,
     "end_time": "2022-11-02T16:29:17.718649",
     "exception": false,
     "start_time": "2022-11-02T16:29:17.697026",
     "status": "completed"
    },
    "tags": []
   },
   "outputs": [],
   "source": [
    "# SAVE_DIR = \"../input/processed/\"\n",
    "# os.makedirs(SAVE_DIR, exist_ok=True)\n",
    "\n",
    "# sample_size = 10000\n",
    "# n_chunks = 12899779 // sample_size + 1\n",
    "\n",
    "# chunks = pd.read_json(TRAIN_PATH, lines=True, chunksize=sample_size)"
   ]
  },
  {
   "cell_type": "code",
   "execution_count": 13,
   "id": "f6b265d3",
   "metadata": {
    "papermill": {
     "duration": 3.623102,
     "end_time": "2022-11-02T16:29:21.372234",
     "exception": false,
     "start_time": "2022-11-02T16:29:17.749132",
     "status": "completed"
    },
    "tags": []
   },
   "outputs": [],
   "source": [
    "# %%time\n",
    "\n",
    "# ids = set()\n",
    "# for c in chunks:\n",
    "#     arrays = process_data(c, \"\")\n",
    "\n",
    "#     ids_ = np.concatenate([a[:, 0] for a in arrays])\n",
    "#     ids.update(ids_.tolist())\n",
    "#     break"
   ]
  },
  {
   "cell_type": "code",
   "execution_count": 14,
   "id": "d485ef41",
   "metadata": {
    "papermill": {
     "duration": 2.587104,
     "end_time": "2022-11-02T16:29:23.989354",
     "exception": false,
     "start_time": "2022-11-02T16:29:21.402250",
     "status": "completed"
    },
    "tags": []
   },
   "outputs": [],
   "source": [
    "# chunks = pd.read_json(TRAIN_PATH, lines=True, chunksize=sample_size)\n",
    "\n",
    "# ids = set()\n",
    "# dfs = []\n",
    "\n",
    "# for c in tqdm(chunks, total=1110):\n",
    "#     arrays, df = process_data(c, SAVE_DIR)\n",
    "#     dfs.append(df)\n",
    "\n",
    "# df = pd.concat(dfs, ignore_index=True)\n",
    "# df.to_csv(OUT_DIR / \"train.csv\", index=False)"
   ]
  },
  {
   "cell_type": "markdown",
   "id": "743d1a7c",
   "metadata": {},
   "source": [
    "### Val"
   ]
  },
  {
   "cell_type": "code",
   "execution_count": 15,
   "id": "16ee77ee",
   "metadata": {},
   "outputs": [],
   "source": [
    "# SAVE_DIR = \"../input/processed_val/\"\n",
    "# os.makedirs(SAVE_DIR, exist_ok=True)\n",
    "\n",
    "# sample_size = 10000\n",
    "# n_chunks = 12899779 // sample_size + 1\n",
    "\n",
    "# chunks = pd.read_json(TRAIN_PATH, lines=True, chunksize=sample_size)"
   ]
  },
  {
   "cell_type": "code",
   "execution_count": 16,
   "id": "6ba922c8",
   "metadata": {
    "papermill": {
     "duration": 2.587104,
     "end_time": "2022-11-02T16:29:23.989354",
     "exception": false,
     "start_time": "2022-11-02T16:29:21.402250",
     "status": "completed"
    },
    "tags": []
   },
   "outputs": [],
   "source": [
    "# ids = set()\n",
    "# dfs = []\n",
    "\n",
    "# for c in tqdm(chunks, total=180):\n",
    "#     arrays, df = process_data(c, SAVE_DIR)\n",
    "#     dfs.append(df)\n",
    "\n",
    "# df = pd.concat(dfs, ignore_index=True)\n",
    "# df.to_csv(OUT_DIR / \"val.csv\", index=False)"
   ]
  },
  {
   "cell_type": "markdown",
   "id": "719ca3f7",
   "metadata": {},
   "source": [
    "### Test"
   ]
  },
  {
   "cell_type": "code",
   "execution_count": 17,
   "id": "7e7ebb60",
   "metadata": {
    "papermill": {
     "duration": 0.021623,
     "end_time": "2022-11-02T16:29:17.718649",
     "exception": false,
     "start_time": "2022-11-02T16:29:17.697026",
     "status": "completed"
    },
    "tags": []
   },
   "outputs": [],
   "source": [
    "# SAVE_DIR = \"../input/processed_test/\"\n",
    "# os.makedirs(SAVE_DIR, exist_ok=True)\n",
    "\n",
    "# sample_size = 10000\n",
    "# n_chunks = 1671803 // sample_size + 1\n",
    "\n",
    "# chunks = pd.read_json(TEST_PATH, lines=True, chunksize=sample_size)"
   ]
  },
  {
   "cell_type": "code",
   "execution_count": 18,
   "id": "5c873d62",
   "metadata": {
    "papermill": {
     "duration": 2.587104,
     "end_time": "2022-11-02T16:29:23.989354",
     "exception": false,
     "start_time": "2022-11-02T16:29:21.402250",
     "status": "completed"
    },
    "tags": []
   },
   "outputs": [],
   "source": [
    "# ids = set()\n",
    "# dfs = []\n",
    "\n",
    "# for c in tqdm(chunks, total=n_chunks):\n",
    "#     arrays, df = process_data(c, SAVE_DIR)\n",
    "#     dfs.append(df)\n",
    "# #     ids_ = np.concatenate([a[:, 0] for a in arrays])\n",
    "# #     ids.update(ids_.tolist())\n",
    "# #     break\n",
    "\n",
    "# df = pd.concat(dfs, ignore_index=True)\n",
    "# df.to_csv(OUT_DIR / \"test.csv\", index=False)"
   ]
  },
  {
   "cell_type": "code",
   "execution_count": 19,
   "id": "d9e83ade",
   "metadata": {
    "papermill": {
     "duration": 0.013787,
     "end_time": "2022-11-02T16:29:24.009854",
     "exception": false,
     "start_time": "2022-11-02T16:29:23.996067",
     "status": "completed"
    },
    "tags": []
   },
   "outputs": [],
   "source": [
    "# chunks = pd.read_json(TRAIN_PATH, lines=True, chunksize=sample_size)\n",
    "\n",
    "# _ = Parallel(n_jobs=os.cpu_count())(\n",
    "#     delayed(process_data)(c, OUT_DIR)\n",
    "#     for c in tqdm(chunks, total=n_chunks)\n",
    "# )"
   ]
  },
  {
   "cell_type": "markdown",
   "id": "94e81aa7",
   "metadata": {},
   "source": [
    "## Parquet"
   ]
  },
  {
   "cell_type": "code",
   "execution_count": 20,
   "id": "30b31f70",
   "metadata": {},
   "outputs": [],
   "source": [
    "from recsys.labels import ground_truth"
   ]
  },
  {
   "cell_type": "code",
   "execution_count": 21,
   "id": "42b16f71",
   "metadata": {},
   "outputs": [],
   "source": [
    "def jsonl_to_df(fn, total=1290, test=False):\n",
    "    \n",
    "    chunks = pd.read_json(fn, lines=True, chunksize=10000)\n",
    "\n",
    "    sessions, aids, tss, types, labels_clicks, labels_carts, labels_orders = [], [], [], [], [], [], []\n",
    "    for chunk in tqdm(chunks, total=total):\n",
    "        for row_idx, session_data in chunk.iterrows():\n",
    "            aids_, tss_, types_, labels_clicks_, labels_carts_, labels_orders_ = [], [], [], [], [], []\n",
    "            if len(session_data['events']) > 1 and not test:\n",
    "                events = ground_truth(session_data.events)\n",
    "                for event in events:\n",
    "                    aids_.append(event['aid'])\n",
    "                    tss_.append(event['ts'])\n",
    "                    types_.append(event['type'])\n",
    "                    labels_clicks_.append(event['labels'].get(\"clicks\", None))\n",
    "                    labels_carts_.append(list(event['labels'].get(\"carts\", [])))\n",
    "                    labels_orders_.append(list(event['labels'].get(\"orders\", [])))\n",
    "            else:\n",
    "                for event in session_data.events:\n",
    "                    aids_.append(event['aid'])\n",
    "                    tss_.append(event['ts'])\n",
    "                    types_.append(event['type'])\n",
    "\n",
    "            sessions.append(session_data.session)\n",
    "            aids.append(aids_)\n",
    "            tss.append(tss_)\n",
    "            types.append(types_)\n",
    "            labels_clicks.append(labels_clicks_)\n",
    "            labels_carts.append(labels_carts_)\n",
    "            labels_orders.append(labels_orders_)\n",
    "\n",
    "    df = pd.DataFrame(data={\n",
    "        'session': sessions,\n",
    "        'aid': aids,\n",
    "        'ts': tss,\n",
    "        'type': types,\n",
    "        \"labels_clicks\": labels_clicks,\n",
    "        \"labels_carts\": labels_carts,\n",
    "        \"labels_orders\": labels_orders,\n",
    "    })\n",
    "    df['target'] = df['type'].apply(lambda x: [CLASSES.index(c) for c in x])\n",
    "    \n",
    "    return df"
   ]
  },
  {
   "cell_type": "code",
   "execution_count": 22,
   "id": "8a8f9456",
   "metadata": {},
   "outputs": [],
   "source": [
    "def jsonl_to_df_train(fn, total=1290, test=False):\n",
    "    \n",
    "    chunks = pd.read_json(fn, lines=True, chunksize=200000)\n",
    "\n",
    "    for i, chunk in tqdm(enumerate(chunks), total=total):\n",
    "        sessions, aids, tss, types, labels_clicks, labels_carts, labels_orders = [], [], [], [], [], [], []\n",
    "\n",
    "        for row_idx, session_data in chunk.iterrows():\n",
    "            aids_, tss_, types_, labels_clicks_, labels_carts_, labels_orders_ = [], [], [], [], [], []\n",
    "            if len(session_data['events']) > 1 and not test:\n",
    "                events = ground_truth(session_data.events)\n",
    "                for event in events:\n",
    "                    aids_.append(event['aid'])\n",
    "                    tss_.append(event['ts'])\n",
    "                    types_.append(event['type'])\n",
    "                    labels_clicks_.append(event['labels'].get(\"clicks\", None))\n",
    "                    labels_carts_.append(list(event['labels'].get(\"carts\", [])))\n",
    "                    labels_orders_.append(list(event['labels'].get(\"orders\", [])))\n",
    "            else:\n",
    "                for event in session_data.events:\n",
    "                    aids_.append(event['aid'])\n",
    "                    tss_.append(event['ts'])\n",
    "                    types_.append(event['type'])\n",
    "\n",
    "            sessions.append(session_data.session)\n",
    "            aids.append(aids_)\n",
    "            tss.append(tss_)\n",
    "            types.append(types_)\n",
    "            labels_clicks.append(labels_clicks_)\n",
    "            labels_carts.append(labels_carts_)\n",
    "            labels_orders.append(labels_orders_)\n",
    "\n",
    "        df = pd.DataFrame(data={\n",
    "            'session': sessions,\n",
    "            'aid': aids,\n",
    "            'ts': tss,\n",
    "            'type': types,\n",
    "            \"labels_clicks\": labels_clicks,\n",
    "            \"labels_carts\": labels_carts,\n",
    "            \"labels_orders\": labels_orders,\n",
    "        })\n",
    "        df['target'] = df['type'].apply(lambda x: [CLASSES.index(c) for c in x])\n",
    "        \n",
    "        df.to_parquet(f'../output/train_{i}.parquet', index=False)"
   ]
  },
  {
   "cell_type": "code",
   "execution_count": 23,
   "id": "a6344864",
   "metadata": {},
   "outputs": [
    {
     "name": "stderr",
     "output_type": "stream",
     "text": [
      "  5%|▌         | 56/1110 [1:14:39<23:25:03, 79.98s/it]\n"
     ]
    },
    {
     "name": "stdout",
     "output_type": "stream",
     "text": [
      "CPU times: user 1h 9min 43s, sys: 4min 40s, total: 1h 14min 23s\n",
      "Wall time: 1h 14min 40s\n"
     ]
    }
   ],
   "source": [
    "%%time\n",
    "jsonl_to_df_train(TRAIN_PATH, total=56)"
   ]
  },
  {
   "cell_type": "code",
   "execution_count": 23,
   "id": "efb05987",
   "metadata": {},
   "outputs": [
    {
     "name": "stderr",
     "output_type": "stream",
     "text": [
      " 96%|█████████▌| 181/189 [06:54<00:18,  2.29s/it]\n"
     ]
    },
    {
     "name": "stdout",
     "output_type": "stream",
     "text": [
      "CPU times: user 6min 39s, sys: 10.1 s, total: 6min 50s\n",
      "Wall time: 7min 2s\n"
     ]
    }
   ],
   "source": [
    "%%time\n",
    "df_val = jsonl_to_df(VAL_PATH, total=181)"
   ]
  },
  {
   "cell_type": "code",
   "execution_count": 24,
   "id": "9aa191ba",
   "metadata": {},
   "outputs": [],
   "source": [
    "df_val.to_parquet('../output/val.parquet', index=False)"
   ]
  },
  {
   "cell_type": "code",
   "execution_count": 29,
   "id": "954f7087",
   "metadata": {},
   "outputs": [
    {
     "name": "stderr",
     "output_type": "stream",
     "text": [
      "168it [03:53,  1.39s/it]                         \n"
     ]
    },
    {
     "name": "stdout",
     "output_type": "stream",
     "text": [
      "CPU times: user 3min 39s, sys: 4.34 s, total: 3min 44s\n",
      "Wall time: 3min 59s\n"
     ]
    }
   ],
   "source": [
    "%%time\n",
    "df_test = jsonl_to_df(TEST_PATH, total=168, test=True)"
   ]
  },
  {
   "cell_type": "code",
   "execution_count": 30,
   "id": "75b35627",
   "metadata": {},
   "outputs": [],
   "source": [
    "df_test.to_parquet('../output/test.parquet', index=False)"
   ]
  }
 ],
 "metadata": {
  "kernelspec": {
   "display_name": "Python 3 (ipykernel)",
   "language": "python",
   "name": "python3"
  },
  "language_info": {
   "codemirror_mode": {
    "name": "ipython",
    "version": 3
   },
   "file_extension": ".py",
   "mimetype": "text/x-python",
   "name": "python",
   "nbconvert_exporter": "python",
   "pygments_lexer": "ipython3",
   "version": "3.8.13"
  },
  "papermill": {
   "default_parameters": {},
   "duration": 17.580155,
   "end_time": "2022-11-02T16:29:25.057961",
   "environment_variables": {},
   "exception": null,
   "input_path": "__notebook__.ipynb",
   "output_path": "__notebook__.ipynb",
   "parameters": {},
   "start_time": "2022-11-02T16:29:07.477806",
   "version": "2.3.4"
  },
  "widgets": {
   "application/vnd.jupyter.widget-state+json": {
    "state": {
     "00b765cb2aed441a93cc0bb6cbe82361": {
      "model_module": "@jupyter-widgets/base",
      "model_module_version": "1.2.0",
      "model_name": "LayoutModel",
      "state": {
       "_model_module": "@jupyter-widgets/base",
       "_model_module_version": "1.2.0",
       "_model_name": "LayoutModel",
       "_view_count": null,
       "_view_module": "@jupyter-widgets/base",
       "_view_module_version": "1.2.0",
       "_view_name": "LayoutView",
       "align_content": null,
       "align_items": null,
       "align_self": null,
       "border": null,
       "bottom": null,
       "display": null,
       "flex": null,
       "flex_flow": null,
       "grid_area": null,
       "grid_auto_columns": null,
       "grid_auto_flow": null,
       "grid_auto_rows": null,
       "grid_column": null,
       "grid_gap": null,
       "grid_row": null,
       "grid_template_areas": null,
       "grid_template_columns": null,
       "grid_template_rows": null,
       "height": null,
       "justify_content": null,
       "justify_items": null,
       "left": null,
       "margin": null,
       "max_height": null,
       "max_width": null,
       "min_height": null,
       "min_width": null,
       "object_fit": null,
       "object_position": null,
       "order": null,
       "overflow": null,
       "overflow_x": null,
       "overflow_y": null,
       "padding": null,
       "right": null,
       "top": null,
       "visibility": null,
       "width": null
      }
     },
     "079ac70f85bb438a90c8a87f54ab7075": {
      "model_module": "@jupyter-widgets/base",
      "model_module_version": "1.2.0",
      "model_name": "LayoutModel",
      "state": {
       "_model_module": "@jupyter-widgets/base",
       "_model_module_version": "1.2.0",
       "_model_name": "LayoutModel",
       "_view_count": null,
       "_view_module": "@jupyter-widgets/base",
       "_view_module_version": "1.2.0",
       "_view_name": "LayoutView",
       "align_content": null,
       "align_items": null,
       "align_self": null,
       "border": null,
       "bottom": null,
       "display": null,
       "flex": null,
       "flex_flow": null,
       "grid_area": null,
       "grid_auto_columns": null,
       "grid_auto_flow": null,
       "grid_auto_rows": null,
       "grid_column": null,
       "grid_gap": null,
       "grid_row": null,
       "grid_template_areas": null,
       "grid_template_columns": null,
       "grid_template_rows": null,
       "height": null,
       "justify_content": null,
       "justify_items": null,
       "left": null,
       "margin": null,
       "max_height": null,
       "max_width": null,
       "min_height": null,
       "min_width": null,
       "object_fit": null,
       "object_position": null,
       "order": null,
       "overflow": null,
       "overflow_x": null,
       "overflow_y": null,
       "padding": null,
       "right": null,
       "top": null,
       "visibility": null,
       "width": null
      }
     },
     "2f12fb9926da4790a86a6e2332bf5bed": {
      "model_module": "@jupyter-widgets/controls",
      "model_module_version": "1.5.0",
      "model_name": "FloatProgressModel",
      "state": {
       "_dom_classes": [],
       "_model_module": "@jupyter-widgets/controls",
       "_model_module_version": "1.5.0",
       "_model_name": "FloatProgressModel",
       "_view_count": null,
       "_view_module": "@jupyter-widgets/controls",
       "_view_module_version": "1.5.0",
       "_view_name": "ProgressView",
       "bar_style": "danger",
       "description": "",
       "description_tooltip": null,
       "layout": "IPY_MODEL_ba8abdabc3f24504ad149a5636dc5fb9",
       "max": 1290,
       "min": 0,
       "orientation": "horizontal",
       "style": "IPY_MODEL_f182c99639214af08858bbcfe868bea9",
       "value": 0
      }
     },
     "364fe7476198475faa7f9c4f855516de": {
      "model_module": "@jupyter-widgets/controls",
      "model_module_version": "1.5.0",
      "model_name": "DescriptionStyleModel",
      "state": {
       "_model_module": "@jupyter-widgets/controls",
       "_model_module_version": "1.5.0",
       "_model_name": "DescriptionStyleModel",
       "_view_count": null,
       "_view_module": "@jupyter-widgets/base",
       "_view_module_version": "1.2.0",
       "_view_name": "StyleView",
       "description_width": ""
      }
     },
     "365f4c8c7f114fa3855ae44c2c3759cd": {
      "model_module": "@jupyter-widgets/controls",
      "model_module_version": "1.5.0",
      "model_name": "DescriptionStyleModel",
      "state": {
       "_model_module": "@jupyter-widgets/controls",
       "_model_module_version": "1.5.0",
       "_model_name": "DescriptionStyleModel",
       "_view_count": null,
       "_view_module": "@jupyter-widgets/base",
       "_view_module_version": "1.2.0",
       "_view_name": "StyleView",
       "description_width": ""
      }
     },
     "67009380d9664ccd81a123298c2286da": {
      "model_module": "@jupyter-widgets/controls",
      "model_module_version": "1.5.0",
      "model_name": "HBoxModel",
      "state": {
       "_dom_classes": [],
       "_model_module": "@jupyter-widgets/controls",
       "_model_module_version": "1.5.0",
       "_model_name": "HBoxModel",
       "_view_count": null,
       "_view_module": "@jupyter-widgets/controls",
       "_view_module_version": "1.5.0",
       "_view_name": "HBoxView",
       "box_style": "",
       "children": [
        "IPY_MODEL_c32a87e633ab4cdb98bf82f6c14af103",
        "IPY_MODEL_2f12fb9926da4790a86a6e2332bf5bed",
        "IPY_MODEL_b1a80e268d5f4e4682981b53b4a82a82"
       ],
       "layout": "IPY_MODEL_00b765cb2aed441a93cc0bb6cbe82361"
      }
     },
     "89c1b9ec4b284bd88d66268a1fbd2c0c": {
      "model_module": "@jupyter-widgets/base",
      "model_module_version": "1.2.0",
      "model_name": "LayoutModel",
      "state": {
       "_model_module": "@jupyter-widgets/base",
       "_model_module_version": "1.2.0",
       "_model_name": "LayoutModel",
       "_view_count": null,
       "_view_module": "@jupyter-widgets/base",
       "_view_module_version": "1.2.0",
       "_view_name": "LayoutView",
       "align_content": null,
       "align_items": null,
       "align_self": null,
       "border": null,
       "bottom": null,
       "display": null,
       "flex": null,
       "flex_flow": null,
       "grid_area": null,
       "grid_auto_columns": null,
       "grid_auto_flow": null,
       "grid_auto_rows": null,
       "grid_column": null,
       "grid_gap": null,
       "grid_row": null,
       "grid_template_areas": null,
       "grid_template_columns": null,
       "grid_template_rows": null,
       "height": null,
       "justify_content": null,
       "justify_items": null,
       "left": null,
       "margin": null,
       "max_height": null,
       "max_width": null,
       "min_height": null,
       "min_width": null,
       "object_fit": null,
       "object_position": null,
       "order": null,
       "overflow": null,
       "overflow_x": null,
       "overflow_y": null,
       "padding": null,
       "right": null,
       "top": null,
       "visibility": null,
       "width": null
      }
     },
     "b1a80e268d5f4e4682981b53b4a82a82": {
      "model_module": "@jupyter-widgets/controls",
      "model_module_version": "1.5.0",
      "model_name": "HTMLModel",
      "state": {
       "_dom_classes": [],
       "_model_module": "@jupyter-widgets/controls",
       "_model_module_version": "1.5.0",
       "_model_name": "HTMLModel",
       "_view_count": null,
       "_view_module": "@jupyter-widgets/controls",
       "_view_module_version": "1.5.0",
       "_view_name": "HTMLView",
       "description": "",
       "description_tooltip": null,
       "layout": "IPY_MODEL_079ac70f85bb438a90c8a87f54ab7075",
       "placeholder": "​",
       "style": "IPY_MODEL_364fe7476198475faa7f9c4f855516de",
       "value": " 0/1290 [00:02&lt;?, ?it/s]"
      }
     },
     "ba8abdabc3f24504ad149a5636dc5fb9": {
      "model_module": "@jupyter-widgets/base",
      "model_module_version": "1.2.0",
      "model_name": "LayoutModel",
      "state": {
       "_model_module": "@jupyter-widgets/base",
       "_model_module_version": "1.2.0",
       "_model_name": "LayoutModel",
       "_view_count": null,
       "_view_module": "@jupyter-widgets/base",
       "_view_module_version": "1.2.0",
       "_view_name": "LayoutView",
       "align_content": null,
       "align_items": null,
       "align_self": null,
       "border": null,
       "bottom": null,
       "display": null,
       "flex": null,
       "flex_flow": null,
       "grid_area": null,
       "grid_auto_columns": null,
       "grid_auto_flow": null,
       "grid_auto_rows": null,
       "grid_column": null,
       "grid_gap": null,
       "grid_row": null,
       "grid_template_areas": null,
       "grid_template_columns": null,
       "grid_template_rows": null,
       "height": null,
       "justify_content": null,
       "justify_items": null,
       "left": null,
       "margin": null,
       "max_height": null,
       "max_width": null,
       "min_height": null,
       "min_width": null,
       "object_fit": null,
       "object_position": null,
       "order": null,
       "overflow": null,
       "overflow_x": null,
       "overflow_y": null,
       "padding": null,
       "right": null,
       "top": null,
       "visibility": null,
       "width": null
      }
     },
     "c32a87e633ab4cdb98bf82f6c14af103": {
      "model_module": "@jupyter-widgets/controls",
      "model_module_version": "1.5.0",
      "model_name": "HTMLModel",
      "state": {
       "_dom_classes": [],
       "_model_module": "@jupyter-widgets/controls",
       "_model_module_version": "1.5.0",
       "_model_name": "HTMLModel",
       "_view_count": null,
       "_view_module": "@jupyter-widgets/controls",
       "_view_module_version": "1.5.0",
       "_view_name": "HTMLView",
       "description": "",
       "description_tooltip": null,
       "layout": "IPY_MODEL_89c1b9ec4b284bd88d66268a1fbd2c0c",
       "placeholder": "​",
       "style": "IPY_MODEL_365f4c8c7f114fa3855ae44c2c3759cd",
       "value": "  0%"
      }
     },
     "f182c99639214af08858bbcfe868bea9": {
      "model_module": "@jupyter-widgets/controls",
      "model_module_version": "1.5.0",
      "model_name": "ProgressStyleModel",
      "state": {
       "_model_module": "@jupyter-widgets/controls",
       "_model_module_version": "1.5.0",
       "_model_name": "ProgressStyleModel",
       "_view_count": null,
       "_view_module": "@jupyter-widgets/base",
       "_view_module_version": "1.2.0",
       "_view_name": "StyleView",
       "bar_color": null,
       "description_width": ""
      }
     }
    },
    "version_major": 2,
    "version_minor": 0
   }
  }
 },
 "nbformat": 4,
 "nbformat_minor": 5
}
