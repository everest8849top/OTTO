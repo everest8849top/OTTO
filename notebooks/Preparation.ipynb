{
 "cells": [
  {
   "cell_type": "code",
   "execution_count": 1,
   "id": "706c0f2e",
   "metadata": {},
   "outputs": [],
   "source": [
    "%load_ext autoreload \n",
    "%autoreload 2"
   ]
  },
  {
   "cell_type": "code",
   "execution_count": 2,
   "id": "791877bc",
   "metadata": {},
   "outputs": [
    {
     "name": "stdout",
     "output_type": "stream",
     "text": [
      "/tmp/kaggle/kaggle_otto_rs/src\n"
     ]
    }
   ],
   "source": [
    "cd ../src"
   ]
  },
  {
   "cell_type": "markdown",
   "id": "a03d2e5c",
   "metadata": {
    "papermill": {
     "duration": 0.005708,
     "end_time": "2022-11-02T16:29:16.373015",
     "exception": false,
     "start_time": "2022-11-02T16:29:16.367307",
     "status": "completed"
    },
    "tags": []
   },
   "source": [
    "### Initialization"
   ]
  },
  {
   "cell_type": "code",
   "execution_count": 3,
   "id": "8522f16c",
   "metadata": {
    "_cell_guid": "b1076dfc-b9ad-4769-8c92-a6c4dae69d19",
    "_uuid": "8f2839f25d086af736a60e9eeb907d3b93b6e0e5",
    "papermill": {
     "duration": 1.265093,
     "end_time": "2022-11-02T16:29:17.662667",
     "exception": false,
     "start_time": "2022-11-02T16:29:16.397574",
     "status": "completed"
    },
    "tags": []
   },
   "outputs": [],
   "source": [
    "import os\n",
    "import gc\n",
    "import numpy as np\n",
    "import pandas as pd\n",
    "import seaborn as sns\n",
    "import matplotlib.pyplot as plt\n",
    "\n",
    "from pathlib import Path\n",
    "from tqdm import tqdm\n",
    "from collections import Counter\n",
    "from joblib import Parallel, delayed"
   ]
  },
  {
   "cell_type": "markdown",
   "id": "e9c87b4a",
   "metadata": {},
   "source": [
    "### Val Split"
   ]
  },
  {
   "cell_type": "code",
   "execution_count": 4,
   "id": "54b775ec",
   "metadata": {},
   "outputs": [],
   "source": [
    "from recsys.testset import *\n",
    "\n",
    "@beartype\n",
    "def val_split(train_set: Path, output_path: Path, days: int, seed: int):\n",
    "    random.seed(seed)\n",
    "    max_ts = get_max_ts(train_set)\n",
    "\n",
    "    session_chunks = pd.read_json(train_set, lines=True, chunksize=100000)\n",
    "    train_file = output_path / 'train_sessions.jsonl'\n",
    "    test_file_full = output_path / 'val_sessions.jsonl'\n",
    "    train_test_split(session_chunks, train_file, test_file_full, max_ts, days)"
   ]
  },
  {
   "cell_type": "code",
   "execution_count": 5,
   "id": "444b7ef0",
   "metadata": {},
   "outputs": [],
   "source": [
    "# val_split(\n",
    "#     Path('../input/train.jsonl'),\n",
    "#     Path(\"../output/\"),\n",
    "#     7,\n",
    "#     42\n",
    "# )"
   ]
  },
  {
   "cell_type": "markdown",
   "id": "51e0288b",
   "metadata": {
    "papermill": {
     "duration": 0.004536,
     "end_time": "2022-11-02T16:29:17.672217",
     "exception": false,
     "start_time": "2022-11-02T16:29:17.667681",
     "status": "completed"
    },
    "tags": []
   },
   "source": [
    "### Data"
   ]
  },
  {
   "cell_type": "code",
   "execution_count": 6,
   "id": "1aa0eddd",
   "metadata": {},
   "outputs": [],
   "source": [
    "DATA_PATH = Path('../input/')\n",
    "OUT_DIR = Path(\"../output/\")"
   ]
  },
  {
   "cell_type": "code",
   "execution_count": 7,
   "id": "ab86f8a2",
   "metadata": {
    "papermill": {
     "duration": 0.01497,
     "end_time": "2022-11-02T16:29:17.692073",
     "exception": false,
     "start_time": "2022-11-02T16:29:17.677103",
     "status": "completed"
    },
    "tags": []
   },
   "outputs": [],
   "source": [
    "TRAIN_PATH = DATA_PATH / 'train.jsonl'\n",
    "TEST_PATH = DATA_PATH / 'test.jsonl'\n",
    "\n",
    "TRAIN_PATH = DATA_PATH / 'train_sessions.jsonl'\n",
    "VAL_PATH = DATA_PATH / 'val_sessions.jsonl'\n",
    "# train_sessions\n",
    "\n",
    "CLASSES = ['clicks', 'carts', 'orders']"
   ]
  },
  {
   "cell_type": "markdown",
   "id": "b932ff6d",
   "metadata": {},
   "source": [
    "## NPY"
   ]
  },
  {
   "cell_type": "code",
   "execution_count": 8,
   "id": "3b024499",
   "metadata": {},
   "outputs": [],
   "source": [
    "def process_data(chunk, save_folder=\"\"):\n",
    "    arrays = c['events'].apply(lambda x: np.array([[c['aid'], c['ts'], CLASSES.index(c['type'])] for c in x]).astype(int)).values\n",
    "    \n",
    "    paths = []\n",
    "    for session, array in zip(chunk['session'], arrays):\n",
    "        paths.append(save_folder + f\"session_{session}.npy\")\n",
    "        if save_folder:\n",
    "            np.save(save_folder + f\"session_{session}.npy\", array)\n",
    "\n",
    "    start_times = [a[0, 1] for a in arrays]\n",
    "    end_times = [a[-1, 1] for a in arrays]\n",
    "    df = pd.DataFrame({\"path\": paths, \"start_time\": start_times, \"end_time\": end_times})\n",
    "    \n",
    "    return arrays, df"
   ]
  },
  {
   "cell_type": "code",
   "execution_count": 9,
   "id": "f53003be",
   "metadata": {
    "papermill": {
     "duration": 0.021623,
     "end_time": "2022-11-02T16:29:17.718649",
     "exception": false,
     "start_time": "2022-11-02T16:29:17.697026",
     "status": "completed"
    },
    "tags": []
   },
   "outputs": [],
   "source": [
    "# SAVE_DIR = \"../input/processed/\"\n",
    "# os.makedirs(SAVE_DIR, exist_ok=True)\n",
    "\n",
    "# sample_size = 10000\n",
    "# n_chunks = 12899779 // sample_size + 1\n",
    "\n",
    "# chunks = pd.read_json(TRAIN_PATH, lines=True, chunksize=sample_size)"
   ]
  },
  {
   "cell_type": "code",
   "execution_count": 10,
   "id": "be5c1a60",
   "metadata": {
    "papermill": {
     "duration": 3.623102,
     "end_time": "2022-11-02T16:29:21.372234",
     "exception": false,
     "start_time": "2022-11-02T16:29:17.749132",
     "status": "completed"
    },
    "tags": []
   },
   "outputs": [],
   "source": [
    "# %%time\n",
    "\n",
    "# ids = set()\n",
    "# for c in chunks:\n",
    "#     arrays = process_data(c, \"\")\n",
    "\n",
    "#     ids_ = np.concatenate([a[:, 0] for a in arrays])\n",
    "#     ids.update(ids_.tolist())\n",
    "#     break"
   ]
  },
  {
   "cell_type": "code",
   "execution_count": 11,
   "id": "a5985050",
   "metadata": {
    "papermill": {
     "duration": 2.587104,
     "end_time": "2022-11-02T16:29:23.989354",
     "exception": false,
     "start_time": "2022-11-02T16:29:21.402250",
     "status": "completed"
    },
    "tags": []
   },
   "outputs": [],
   "source": [
    "# chunks = pd.read_json(TRAIN_PATH, lines=True, chunksize=sample_size)\n",
    "\n",
    "# ids = set()\n",
    "# dfs = []\n",
    "\n",
    "# for c in tqdm(chunks, total=1110):\n",
    "#     arrays, df = process_data(c, SAVE_DIR)\n",
    "#     dfs.append(df)\n",
    "\n",
    "# df = pd.concat(dfs, ignore_index=True)\n",
    "# df.to_csv(OUT_DIR / \"train.csv\", index=False)"
   ]
  },
  {
   "cell_type": "markdown",
   "id": "7852ddf9",
   "metadata": {},
   "source": [
    "### Val"
   ]
  },
  {
   "cell_type": "code",
   "execution_count": 12,
   "id": "3956a571",
   "metadata": {},
   "outputs": [],
   "source": [
    "# SAVE_DIR = \"../input/processed_val/\"\n",
    "# os.makedirs(SAVE_DIR, exist_ok=True)\n",
    "\n",
    "# sample_size = 10000\n",
    "# n_chunks = 12899779 // sample_size + 1\n",
    "\n",
    "# chunks = pd.read_json(TRAIN_PATH, lines=True, chunksize=sample_size)"
   ]
  },
  {
   "cell_type": "code",
   "execution_count": 13,
   "id": "e2dce075",
   "metadata": {
    "papermill": {
     "duration": 2.587104,
     "end_time": "2022-11-02T16:29:23.989354",
     "exception": false,
     "start_time": "2022-11-02T16:29:21.402250",
     "status": "completed"
    },
    "tags": []
   },
   "outputs": [],
   "source": [
    "# ids = set()\n",
    "# dfs = []\n",
    "\n",
    "# for c in tqdm(chunks, total=180):\n",
    "#     arrays, df = process_data(c, SAVE_DIR)\n",
    "#     dfs.append(df)\n",
    "\n",
    "# df = pd.concat(dfs, ignore_index=True)\n",
    "# df.to_csv(OUT_DIR / \"val.csv\", index=False)"
   ]
  },
  {
   "cell_type": "markdown",
   "id": "df282b07",
   "metadata": {},
   "source": [
    "### Test"
   ]
  },
  {
   "cell_type": "code",
   "execution_count": 14,
   "id": "392e10e6",
   "metadata": {
    "papermill": {
     "duration": 0.021623,
     "end_time": "2022-11-02T16:29:17.718649",
     "exception": false,
     "start_time": "2022-11-02T16:29:17.697026",
     "status": "completed"
    },
    "tags": []
   },
   "outputs": [],
   "source": [
    "# SAVE_DIR = \"../input/processed_test/\"\n",
    "# os.makedirs(SAVE_DIR, exist_ok=True)\n",
    "\n",
    "# sample_size = 10000\n",
    "# n_chunks = 1671803 // sample_size + 1\n",
    "\n",
    "# chunks = pd.read_json(TEST_PATH, lines=True, chunksize=sample_size)"
   ]
  },
  {
   "cell_type": "code",
   "execution_count": 15,
   "id": "7deec8d6",
   "metadata": {
    "papermill": {
     "duration": 2.587104,
     "end_time": "2022-11-02T16:29:23.989354",
     "exception": false,
     "start_time": "2022-11-02T16:29:21.402250",
     "status": "completed"
    },
    "tags": []
   },
   "outputs": [],
   "source": [
    "# ids = set()\n",
    "# dfs = []\n",
    "\n",
    "# for c in tqdm(chunks, total=n_chunks):\n",
    "#     arrays, df = process_data(c, SAVE_DIR)\n",
    "#     dfs.append(df)\n",
    "# #     ids_ = np.concatenate([a[:, 0] for a in arrays])\n",
    "# #     ids.update(ids_.tolist())\n",
    "# #     break\n",
    "\n",
    "# df = pd.concat(dfs, ignore_index=True)\n",
    "# df.to_csv(OUT_DIR / \"test.csv\", index=False)"
   ]
  },
  {
   "cell_type": "code",
   "execution_count": 16,
   "id": "ce11f4d8",
   "metadata": {
    "papermill": {
     "duration": 0.013787,
     "end_time": "2022-11-02T16:29:24.009854",
     "exception": false,
     "start_time": "2022-11-02T16:29:23.996067",
     "status": "completed"
    },
    "tags": []
   },
   "outputs": [],
   "source": [
    "# chunks = pd.read_json(TRAIN_PATH, lines=True, chunksize=sample_size)\n",
    "\n",
    "# _ = Parallel(n_jobs=os.cpu_count())(\n",
    "#     delayed(process_data)(c, OUT_DIR)\n",
    "#     for c in tqdm(chunks, total=n_chunks)\n",
    "# )"
   ]
  },
  {
   "cell_type": "markdown",
   "id": "2f5176e2",
   "metadata": {},
   "source": [
    "## Parquet"
   ]
  },
  {
   "cell_type": "code",
   "execution_count": 17,
   "id": "48d14029",
   "metadata": {},
   "outputs": [],
   "source": [
    "from recsys.labels import ground_truth"
   ]
  },
  {
   "cell_type": "code",
   "execution_count": 18,
   "id": "d348df9a",
   "metadata": {},
   "outputs": [],
   "source": [
    "CLASSES = ['', 'clicks', 'carts', 'orders']"
   ]
  },
  {
   "cell_type": "code",
   "execution_count": 19,
   "id": "b3962a02",
   "metadata": {},
   "outputs": [],
   "source": [
    "def crop_pad(x, max_len=20):\n",
    "    if len(x) > max_len:\n",
    "        return x[:max_len]\n",
    "    else:\n",
    "        return list(x) + [0 for i in range(max_len - len(x))]"
   ]
  },
  {
   "cell_type": "code",
   "execution_count": 20,
   "id": "b77e68a0",
   "metadata": {},
   "outputs": [],
   "source": [
    "def create_df(sessions, aids, tss, types, labels_clicks, labels_carts, labels_orders):\n",
    "    df = pd.DataFrame(data={\n",
    "        'session': sessions,\n",
    "        'aid': aids,\n",
    "        'ts': tss,\n",
    "        'type': types,\n",
    "        \"labels_clicks\": labels_clicks,\n",
    "        \"labels_carts\": labels_carts,\n",
    "        \"labels_orders\": labels_orders,\n",
    "    })\n",
    "\n",
    "    # Adapt to NVT compatible format\n",
    "    df['type'] = df['type'].apply(lambda x: [CLASSES.index(c) for c in x])\n",
    "\n",
    "    df['labels_carts'] = df['labels_carts'].apply(lambda x_: np.array([crop_pad(x) for x in x_]).astype(float))\n",
    "    df['labels_orders'] = df['labels_orders'].apply(lambda x_: np.array([crop_pad(x) for x in x_]).astype(float))\n",
    "    for i in range(20):\n",
    "        df[f'labels_carts_{i}'] = df['labels_carts'].apply(lambda x: x[:, i])\n",
    "        df[f'labels_orders_{i}'] = df['labels_orders'].apply(lambda x: x[:, i])\n",
    "\n",
    "    df.drop(['labels_carts', 'labels_orders'], axis=1, inplace=True)\n",
    "    \n",
    "    return df"
   ]
  },
  {
   "cell_type": "code",
   "execution_count": 21,
   "id": "8d8229ab",
   "metadata": {},
   "outputs": [],
   "source": [
    "def jsonl_to_df(filename, total=1290, name=\"train\", max_chunks=200, save=True):\n",
    "    chunks = pd.read_json(filename, lines=True, chunksize=10000)\n",
    "    idx = 0\n",
    "\n",
    "    sessions, aids, tss, types, labels_clicks, labels_carts, labels_orders = [], [], [], [], [], [], []\n",
    "    for i, chunk in tqdm(enumerate(chunks), total=total):\n",
    "        for row_idx, session_data in chunk.iterrows():\n",
    "            aids_, tss_, types_, labels_clicks_, labels_carts_, labels_orders_ = [], [], [], [], [], []\n",
    "\n",
    "            events = ground_truth(session_data.events)  if len(session_data['events']) > 1 else session_data.events\n",
    "            for event in events:\n",
    "                aids_.append(event['aid'])\n",
    "                tss_.append(event['ts'])\n",
    "                types_.append(event['type'])\n",
    "                labels_clicks_.append(event.get('labels', {}).get(\"clicks\", 0))\n",
    "                labels_carts_.append(list(event.get('labels', {}).get(\"carts\", [])))\n",
    "                labels_orders_.append(list(event.get('labels', {}).get(\"orders\", [])))\n",
    "\n",
    "            sessions.append(session_data.session)\n",
    "            aids.append(aids_)\n",
    "            tss.append(tss_)\n",
    "            types.append(types_)\n",
    "            labels_clicks.append(labels_clicks_)\n",
    "            labels_carts.append(labels_carts_)\n",
    "            labels_orders.append(labels_orders_)\n",
    "            \n",
    "#         break\n",
    "        \n",
    "        if ((i > 0) and (i % max_chunks) == 0):\n",
    "            df = create_df(sessions, aids, tss, types, labels_clicks, labels_carts, labels_orders)\n",
    "            sessions, aids, tss, types, labels_clicks, labels_carts, labels_orders = [], [], [], [], [], [], []\n",
    "            if save:\n",
    "                file = f'../output/{name}_{idx}.parquet'\n",
    "#                 print(f'Saving data to {file}')\n",
    "                df.to_parquet(file, index=False)\n",
    "            idx += 1\n",
    "            \n",
    "            del df\n",
    "            gc.collect()\n",
    "\n",
    "    df = create_df(sessions, aids, tss, types, labels_clicks, labels_carts, labels_orders)\n",
    "    \n",
    "    if save:\n",
    "        file = f'../output/{name}_{idx}.parquet' if idx > 0 else f'../output/{name}.parquet'\n",
    "        print(f'Saving data to {file}')\n",
    "        df.to_parquet(file, index=False)\n",
    "    \n",
    "    else:\n",
    "        return df"
   ]
  },
  {
   "cell_type": "code",
   "execution_count": 22,
   "id": "933db03f",
   "metadata": {},
   "outputs": [
    {
     "name": "stderr",
     "output_type": "stream",
     "text": [
      "  2%|▏         | 25/1200 [02:38<1:44:42,  5.35s/it]"
     ]
    },
    {
     "name": "stdout",
     "output_type": "stream",
     "text": [
      "Saving data to ../input/parquets/train_0.parquet\n"
     ]
    },
    {
     "name": "stderr",
     "output_type": "stream",
     "text": [
      "  4%|▍         | 50/1200 [08:40<1:43:26,  5.40s/it] "
     ]
    },
    {
     "name": "stdout",
     "output_type": "stream",
     "text": [
      "Saving data to ../input/parquets/train_1.parquet\n"
     ]
    },
    {
     "name": "stderr",
     "output_type": "stream",
     "text": [
      "  6%|▋         | 75/1200 [13:36<1:44:49,  5.59s/it] "
     ]
    },
    {
     "name": "stdout",
     "output_type": "stream",
     "text": [
      "Saving data to ../input/parquets/train_2.parquet\n"
     ]
    },
    {
     "name": "stderr",
     "output_type": "stream",
     "text": [
      "  8%|▊         | 100/1200 [18:11<1:36:34,  5.27s/it]"
     ]
    },
    {
     "name": "stdout",
     "output_type": "stream",
     "text": [
      "Saving data to ../input/parquets/train_3.parquet\n"
     ]
    },
    {
     "name": "stderr",
     "output_type": "stream",
     "text": [
      " 10%|█         | 125/1200 [22:27<1:24:21,  4.71s/it] "
     ]
    },
    {
     "name": "stdout",
     "output_type": "stream",
     "text": [
      "Saving data to ../input/parquets/train_4.parquet\n"
     ]
    },
    {
     "name": "stderr",
     "output_type": "stream",
     "text": [
      " 12%|█▎        | 150/1200 [26:38<1:25:22,  4.88s/it] "
     ]
    },
    {
     "name": "stdout",
     "output_type": "stream",
     "text": [
      "Saving data to ../input/parquets/train_5.parquet\n"
     ]
    },
    {
     "name": "stderr",
     "output_type": "stream",
     "text": [
      " 15%|█▍        | 175/1200 [30:36<1:03:56,  3.74s/it] "
     ]
    },
    {
     "name": "stdout",
     "output_type": "stream",
     "text": [
      "Saving data to ../input/parquets/train_6.parquet\n"
     ]
    },
    {
     "name": "stderr",
     "output_type": "stream",
     "text": [
      " 17%|█▋        | 200/1200 [34:18<1:01:45,  3.71s/it] "
     ]
    },
    {
     "name": "stdout",
     "output_type": "stream",
     "text": [
      "Saving data to ../input/parquets/train_7.parquet\n"
     ]
    },
    {
     "name": "stderr",
     "output_type": "stream",
     "text": [
      " 19%|█▉        | 225/1200 [37:48<1:04:29,  3.97s/it] "
     ]
    },
    {
     "name": "stdout",
     "output_type": "stream",
     "text": [
      "Saving data to ../input/parquets/train_8.parquet\n"
     ]
    },
    {
     "name": "stderr",
     "output_type": "stream",
     "text": [
      " 21%|██        | 250/1200 [41:10<54:07,  3.42s/it]   "
     ]
    },
    {
     "name": "stdout",
     "output_type": "stream",
     "text": [
      "Saving data to ../input/parquets/train_9.parquet\n"
     ]
    },
    {
     "name": "stderr",
     "output_type": "stream",
     "text": [
      " 23%|██▎       | 275/1200 [44:23<48:19,  3.13s/it]  "
     ]
    },
    {
     "name": "stdout",
     "output_type": "stream",
     "text": [
      "Saving data to ../input/parquets/train_10.parquet\n"
     ]
    },
    {
     "name": "stderr",
     "output_type": "stream",
     "text": [
      " 25%|██▌       | 300/1200 [47:29<55:02,  3.67s/it]  "
     ]
    },
    {
     "name": "stdout",
     "output_type": "stream",
     "text": [
      "Saving data to ../input/parquets/train_11.parquet\n"
     ]
    },
    {
     "name": "stderr",
     "output_type": "stream",
     "text": [
      " 27%|██▋       | 325/1200 [50:25<42:47,  2.93s/it]  "
     ]
    },
    {
     "name": "stdout",
     "output_type": "stream",
     "text": [
      "Saving data to ../input/parquets/train_12.parquet\n"
     ]
    },
    {
     "name": "stderr",
     "output_type": "stream",
     "text": [
      " 29%|██▉       | 350/1200 [53:22<51:42,  3.65s/it]  "
     ]
    },
    {
     "name": "stdout",
     "output_type": "stream",
     "text": [
      "Saving data to ../input/parquets/train_13.parquet\n"
     ]
    },
    {
     "name": "stderr",
     "output_type": "stream",
     "text": [
      " 31%|███▏      | 375/1200 [56:08<43:31,  3.17s/it]  "
     ]
    },
    {
     "name": "stdout",
     "output_type": "stream",
     "text": [
      "Saving data to ../input/parquets/train_14.parquet\n"
     ]
    },
    {
     "name": "stderr",
     "output_type": "stream",
     "text": [
      " 33%|███▎      | 400/1200 [58:57<39:03,  2.93s/it]  "
     ]
    },
    {
     "name": "stdout",
     "output_type": "stream",
     "text": [
      "Saving data to ../input/parquets/train_15.parquet\n"
     ]
    },
    {
     "name": "stderr",
     "output_type": "stream",
     "text": [
      " 35%|███▌      | 425/1200 [1:01:45<37:58,  2.94s/it]  "
     ]
    },
    {
     "name": "stdout",
     "output_type": "stream",
     "text": [
      "Saving data to ../input/parquets/train_16.parquet\n"
     ]
    },
    {
     "name": "stderr",
     "output_type": "stream",
     "text": [
      " 38%|███▊      | 450/1200 [1:04:34<43:54,  3.51s/it]  "
     ]
    },
    {
     "name": "stdout",
     "output_type": "stream",
     "text": [
      "Saving data to ../input/parquets/train_17.parquet\n"
     ]
    },
    {
     "name": "stderr",
     "output_type": "stream",
     "text": [
      " 40%|███▉      | 475/1200 [1:07:19<37:51,  3.13s/it]  "
     ]
    },
    {
     "name": "stdout",
     "output_type": "stream",
     "text": [
      "Saving data to ../input/parquets/train_18.parquet\n"
     ]
    },
    {
     "name": "stderr",
     "output_type": "stream",
     "text": [
      " 42%|████▏     | 500/1200 [1:10:08<42:35,  3.65s/it]  "
     ]
    },
    {
     "name": "stdout",
     "output_type": "stream",
     "text": [
      "Saving data to ../input/parquets/train_19.parquet\n"
     ]
    },
    {
     "name": "stderr",
     "output_type": "stream",
     "text": [
      " 44%|████▍     | 525/1200 [1:12:48<33:46,  3.00s/it]  "
     ]
    },
    {
     "name": "stdout",
     "output_type": "stream",
     "text": [
      "Saving data to ../input/parquets/train_20.parquet\n"
     ]
    },
    {
     "name": "stderr",
     "output_type": "stream",
     "text": [
      " 46%|████▌     | 550/1200 [1:15:22<32:38,  3.01s/it]  "
     ]
    },
    {
     "name": "stdout",
     "output_type": "stream",
     "text": [
      "Saving data to ../input/parquets/train_21.parquet\n"
     ]
    },
    {
     "name": "stderr",
     "output_type": "stream",
     "text": [
      " 48%|████▊     | 575/1200 [1:17:51<26:44,  2.57s/it]  "
     ]
    },
    {
     "name": "stdout",
     "output_type": "stream",
     "text": [
      "Saving data to ../input/parquets/train_22.parquet\n"
     ]
    },
    {
     "name": "stderr",
     "output_type": "stream",
     "text": [
      " 50%|█████     | 600/1200 [1:20:16<24:41,  2.47s/it]  "
     ]
    },
    {
     "name": "stdout",
     "output_type": "stream",
     "text": [
      "Saving data to ../input/parquets/train_23.parquet\n"
     ]
    },
    {
     "name": "stderr",
     "output_type": "stream",
     "text": [
      " 52%|█████▏    | 625/1200 [1:22:38<26:09,  2.73s/it]  "
     ]
    },
    {
     "name": "stdout",
     "output_type": "stream",
     "text": [
      "Saving data to ../input/parquets/train_24.parquet\n"
     ]
    },
    {
     "name": "stderr",
     "output_type": "stream",
     "text": [
      " 54%|█████▍    | 650/1200 [1:24:53<25:22,  2.77s/it]  "
     ]
    },
    {
     "name": "stdout",
     "output_type": "stream",
     "text": [
      "Saving data to ../input/parquets/train_25.parquet\n"
     ]
    },
    {
     "name": "stderr",
     "output_type": "stream",
     "text": [
      " 56%|█████▋    | 675/1200 [1:27:07<25:50,  2.95s/it]  "
     ]
    },
    {
     "name": "stdout",
     "output_type": "stream",
     "text": [
      "Saving data to ../input/parquets/train_26.parquet\n"
     ]
    },
    {
     "name": "stderr",
     "output_type": "stream",
     "text": [
      " 58%|█████▊    | 700/1200 [1:29:19<23:54,  2.87s/it]  "
     ]
    },
    {
     "name": "stdout",
     "output_type": "stream",
     "text": [
      "Saving data to ../input/parquets/train_27.parquet\n"
     ]
    },
    {
     "name": "stderr",
     "output_type": "stream",
     "text": [
      " 60%|██████    | 725/1200 [1:31:27<18:28,  2.33s/it]  "
     ]
    },
    {
     "name": "stdout",
     "output_type": "stream",
     "text": [
      "Saving data to ../input/parquets/train_28.parquet\n"
     ]
    },
    {
     "name": "stderr",
     "output_type": "stream",
     "text": [
      " 62%|██████▎   | 750/1200 [1:33:32<17:00,  2.27s/it]  "
     ]
    },
    {
     "name": "stdout",
     "output_type": "stream",
     "text": [
      "Saving data to ../input/parquets/train_29.parquet\n"
     ]
    },
    {
     "name": "stderr",
     "output_type": "stream",
     "text": [
      " 65%|██████▍   | 775/1200 [1:35:36<16:01,  2.26s/it]  "
     ]
    },
    {
     "name": "stdout",
     "output_type": "stream",
     "text": [
      "Saving data to ../input/parquets/train_30.parquet\n"
     ]
    },
    {
     "name": "stderr",
     "output_type": "stream",
     "text": [
      " 67%|██████▋   | 800/1200 [1:37:41<18:10,  2.73s/it]  "
     ]
    },
    {
     "name": "stdout",
     "output_type": "stream",
     "text": [
      "Saving data to ../input/parquets/train_31.parquet\n"
     ]
    },
    {
     "name": "stderr",
     "output_type": "stream",
     "text": [
      " 69%|██████▉   | 825/1200 [1:39:40<15:10,  2.43s/it]  "
     ]
    },
    {
     "name": "stdout",
     "output_type": "stream",
     "text": [
      "Saving data to ../input/parquets/train_32.parquet\n"
     ]
    },
    {
     "name": "stderr",
     "output_type": "stream",
     "text": [
      " 71%|███████   | 850/1200 [1:41:41<13:32,  2.32s/it]  "
     ]
    },
    {
     "name": "stdout",
     "output_type": "stream",
     "text": [
      "Saving data to ../input/parquets/train_33.parquet\n"
     ]
    },
    {
     "name": "stderr",
     "output_type": "stream",
     "text": [
      " 73%|███████▎  | 875/1200 [1:43:40<15:08,  2.80s/it]  "
     ]
    },
    {
     "name": "stdout",
     "output_type": "stream",
     "text": [
      "Saving data to ../input/parquets/train_34.parquet\n"
     ]
    },
    {
     "name": "stderr",
     "output_type": "stream",
     "text": [
      " 75%|███████▌  | 900/1200 [1:45:35<11:45,  2.35s/it]  "
     ]
    },
    {
     "name": "stdout",
     "output_type": "stream",
     "text": [
      "Saving data to ../input/parquets/train_35.parquet\n"
     ]
    },
    {
     "name": "stderr",
     "output_type": "stream",
     "text": [
      " 77%|███████▋  | 925/1200 [1:47:28<10:00,  2.18s/it]  "
     ]
    },
    {
     "name": "stdout",
     "output_type": "stream",
     "text": [
      "Saving data to ../input/parquets/train_36.parquet\n"
     ]
    },
    {
     "name": "stderr",
     "output_type": "stream",
     "text": [
      " 79%|███████▉  | 950/1200 [1:49:23<09:56,  2.39s/it]  "
     ]
    },
    {
     "name": "stdout",
     "output_type": "stream",
     "text": [
      "Saving data to ../input/parquets/train_37.parquet\n"
     ]
    },
    {
     "name": "stderr",
     "output_type": "stream",
     "text": [
      " 81%|████████▏ | 975/1200 [1:51:17<08:43,  2.33s/it]  "
     ]
    },
    {
     "name": "stdout",
     "output_type": "stream",
     "text": [
      "Saving data to ../input/parquets/train_38.parquet\n"
     ]
    },
    {
     "name": "stderr",
     "output_type": "stream",
     "text": [
      " 83%|████████▎ | 1000/1200 [1:53:06<06:46,  2.03s/it] "
     ]
    },
    {
     "name": "stdout",
     "output_type": "stream",
     "text": [
      "Saving data to ../input/parquets/train_39.parquet\n"
     ]
    },
    {
     "name": "stderr",
     "output_type": "stream",
     "text": [
      " 85%|████████▌ | 1025/1200 [1:54:54<06:29,  2.23s/it]"
     ]
    },
    {
     "name": "stdout",
     "output_type": "stream",
     "text": [
      "Saving data to ../input/parquets/train_40.parquet\n"
     ]
    },
    {
     "name": "stderr",
     "output_type": "stream",
     "text": [
      " 88%|████████▊ | 1050/1200 [1:56:38<05:59,  2.40s/it]"
     ]
    },
    {
     "name": "stdout",
     "output_type": "stream",
     "text": [
      "Saving data to ../input/parquets/train_41.parquet\n"
     ]
    },
    {
     "name": "stderr",
     "output_type": "stream",
     "text": [
      " 90%|████████▉ | 1075/1200 [1:58:23<04:53,  2.35s/it]"
     ]
    },
    {
     "name": "stdout",
     "output_type": "stream",
     "text": [
      "Saving data to ../input/parquets/train_42.parquet\n"
     ]
    },
    {
     "name": "stderr",
     "output_type": "stream",
     "text": [
      " 92%|█████████▏| 1100/1200 [2:00:06<03:32,  2.12s/it]"
     ]
    },
    {
     "name": "stdout",
     "output_type": "stream",
     "text": [
      "Saving data to ../input/parquets/train_43.parquet\n"
     ]
    },
    {
     "name": "stderr",
     "output_type": "stream",
     "text": [
      " 92%|█████████▎| 1110/1200 [2:01:13<09:49,  6.55s/it]\n"
     ]
    },
    {
     "name": "stdout",
     "output_type": "stream",
     "text": [
      "Saving data to ../output/train_44.parquet\n"
     ]
    }
   ],
   "source": [
    "_ = jsonl_to_df(TRAIN_PATH, total=1101, name=\"train\", save=True, max_chunks=25)"
   ]
  },
  {
   "cell_type": "code",
   "execution_count": 23,
   "id": "bc3bcc1a",
   "metadata": {},
   "outputs": [],
   "source": [
    "# df_val = jsonl_to_df(VAL_PATH, total=181, name=\"val\", save=True)"
   ]
  },
  {
   "cell_type": "code",
   "execution_count": 31,
   "id": "488f4ccd",
   "metadata": {},
   "outputs": [],
   "source": [
    "# df_test = jsonl_to_df(TEST_PATH, total=168, name=\"test\", save=True)"
   ]
  },
  {
   "cell_type": "markdown",
   "id": "66e2b7c2",
   "metadata": {},
   "source": [
    "### Parquet nogroup"
   ]
  },
  {
   "cell_type": "code",
   "execution_count": 39,
   "id": "ce10fb5a",
   "metadata": {},
   "outputs": [],
   "source": [
    "def jsonl_to_df_nogroup(filename, total=1290, name=\"train\", max_chunks=200, save=True):\n",
    "    \n",
    "    chunks = pd.read_json(filename, lines=True, chunksize=10000)\n",
    "    idx = 0\n",
    "\n",
    "    sessions, aids, tss, types, labels_clicks, labels_carts, labels_orders = [], [], [], [], [], [], []\n",
    "    for i, chunk in tqdm(enumerate(chunks), total=total):\n",
    "        for row_idx, session_data in chunk.iterrows():\n",
    "            aids_, tss_, types_, labels_clicks_, labels_carts_, labels_orders_ = [], [], [], [], [], []\n",
    "\n",
    "            events = ground_truth(session_data.events)  if len(session_data['events']) > 1 else session_data.events\n",
    "            for event in events:\n",
    "                aids.append(event['aid'])\n",
    "                tss.append(event['ts'])\n",
    "                types_.append(event['type'])\n",
    "                labels_clicks.append(event.get('labels', {}).get(\"clicks\", 0))\n",
    "                labels_carts.append(list(event.get('labels', {}).get(\"carts\", [])))\n",
    "                labels_orders.append(list(event.get('labels', {}).get(\"orders\", [])))\n",
    "\n",
    "                sessions.append(session_data.session)\n",
    "#         break\n",
    "        \n",
    "        if ((i > 0) and (i % max_chunks) == 0):\n",
    "            df = create_df(sessions, aids, tss, types, labels_clicks, labels_carts, labels_orders)\n",
    "            sessions, aids, tss, types, labels_clicks, labels_carts, labels_orders = [], [], [], [], [], [], []\n",
    "            if save:\n",
    "                file = f'../input/parquets_2/{name}_{idx}.parquet'\n",
    "                print(f'Saving data to {file}')\n",
    "                df.to_parquet(file, index=False)\n",
    "            idx += 1\n",
    "\n",
    "    df = create_df(sessions, aids, tss, types, labels_clicks, labels_carts, labels_orders)\n",
    "    \n",
    "    if save:\n",
    "        file = f'../input/parquets_2/{name}_{idx}.parquet' if idx > 0 else f'../input/parquets_2/{name}.parquet'\n",
    "        print(f'Saving data to {file}')\n",
    "        df.to_parquet(file, index=False)\n",
    "    else:\n",
    "        return df"
   ]
  },
  {
   "cell_type": "code",
   "execution_count": 40,
   "id": "afaf9475",
   "metadata": {},
   "outputs": [],
   "source": [
    "# _ = jsonl_to_df_train(TRAIN_PATH, total=1200, name=\"train\", save=True)"
   ]
  },
  {
   "cell_type": "code",
   "execution_count": 42,
   "id": "fce5b14d",
   "metadata": {},
   "outputs": [
    {
     "name": "stderr",
     "output_type": "stream",
     "text": [
      "100%|██████████| 181/181 [09:05<00:00,  3.01s/it]\n"
     ]
    },
    {
     "name": "stdout",
     "output_type": "stream",
     "text": [
      "CPU times: user 10min 13s, sys: 19.4 s, total: 10min 33s\n",
      "Wall time: 10min 33s\n"
     ]
    }
   ],
   "source": [
    "df_val = jsonl_to_df_nogroup(VAL_PATH, total=181, name=\"val\", save=True)"
   ]
  },
  {
   "cell_type": "code",
   "execution_count": 44,
   "id": "901e438f",
   "metadata": {},
   "outputs": [
    {
     "name": "stderr",
     "output_type": "stream",
     "text": [
      "100%|██████████| 168/168 [04:13<00:00,  1.51s/it]\n"
     ]
    },
    {
     "ename": "ValueError",
     "evalue": "All arrays must be of the same length",
     "output_type": "error",
     "traceback": [
      "\u001b[0;31m---------------------------------------------------------------------------\u001b[0m",
      "\u001b[0;31mValueError\u001b[0m                                Traceback (most recent call last)",
      "File \u001b[0;32m<timed exec>:1\u001b[0m\n",
      "Cell \u001b[0;32mIn [38], line 26\u001b[0m, in \u001b[0;36mjsonl_to_df_nogroup\u001b[0;34m(fn, total, test)\u001b[0m\n\u001b[1;32m     22\u001b[0m                 types\u001b[38;5;241m.\u001b[39mappend(event[\u001b[38;5;124m'\u001b[39m\u001b[38;5;124mtype\u001b[39m\u001b[38;5;124m'\u001b[39m])\n\u001b[1;32m     24\u001b[0m                 sessions\u001b[38;5;241m.\u001b[39mappend(session_data\u001b[38;5;241m.\u001b[39msession)\n\u001b[0;32m---> 26\u001b[0m df \u001b[38;5;241m=\u001b[39m \u001b[43mpd\u001b[49m\u001b[38;5;241;43m.\u001b[39;49m\u001b[43mDataFrame\u001b[49m\u001b[43m(\u001b[49m\u001b[43mdata\u001b[49m\u001b[38;5;241;43m=\u001b[39;49m\u001b[43m{\u001b[49m\n\u001b[1;32m     27\u001b[0m \u001b[43m    \u001b[49m\u001b[38;5;124;43m'\u001b[39;49m\u001b[38;5;124;43msession\u001b[39;49m\u001b[38;5;124;43m'\u001b[39;49m\u001b[43m:\u001b[49m\u001b[43m \u001b[49m\u001b[43msessions\u001b[49m\u001b[43m,\u001b[49m\n\u001b[1;32m     28\u001b[0m \u001b[43m    \u001b[49m\u001b[38;5;124;43m'\u001b[39;49m\u001b[38;5;124;43maid\u001b[39;49m\u001b[38;5;124;43m'\u001b[39;49m\u001b[43m:\u001b[49m\u001b[43m \u001b[49m\u001b[43maids\u001b[49m\u001b[43m,\u001b[49m\n\u001b[1;32m     29\u001b[0m \u001b[43m    \u001b[49m\u001b[38;5;124;43m'\u001b[39;49m\u001b[38;5;124;43mts\u001b[39;49m\u001b[38;5;124;43m'\u001b[39;49m\u001b[43m:\u001b[49m\u001b[43m \u001b[49m\u001b[43mtss\u001b[49m\u001b[43m,\u001b[49m\n\u001b[1;32m     30\u001b[0m \u001b[43m    \u001b[49m\u001b[38;5;124;43m'\u001b[39;49m\u001b[38;5;124;43mtype\u001b[39;49m\u001b[38;5;124;43m'\u001b[39;49m\u001b[43m:\u001b[49m\u001b[43m \u001b[49m\u001b[43mtypes\u001b[49m\u001b[43m,\u001b[49m\n\u001b[1;32m     31\u001b[0m \u001b[43m    \u001b[49m\u001b[38;5;124;43m\"\u001b[39;49m\u001b[38;5;124;43mlabels_clicks\u001b[39;49m\u001b[38;5;124;43m\"\u001b[39;49m\u001b[43m:\u001b[49m\u001b[43m \u001b[49m\u001b[43mlabels_clicks\u001b[49m\u001b[43m,\u001b[49m\n\u001b[1;32m     32\u001b[0m \u001b[43m    \u001b[49m\u001b[38;5;124;43m\"\u001b[39;49m\u001b[38;5;124;43mlabels_carts\u001b[39;49m\u001b[38;5;124;43m\"\u001b[39;49m\u001b[43m:\u001b[49m\u001b[43m \u001b[49m\u001b[43mlabels_carts\u001b[49m\u001b[43m,\u001b[49m\n\u001b[1;32m     33\u001b[0m \u001b[43m    \u001b[49m\u001b[38;5;124;43m\"\u001b[39;49m\u001b[38;5;124;43mlabels_orders\u001b[39;49m\u001b[38;5;124;43m\"\u001b[39;49m\u001b[43m:\u001b[49m\u001b[43m \u001b[49m\u001b[43mlabels_orders\u001b[49m\u001b[43m,\u001b[49m\n\u001b[1;32m     34\u001b[0m \u001b[43m\u001b[49m\u001b[43m}\u001b[49m\u001b[43m)\u001b[49m\n\u001b[1;32m     35\u001b[0m df[\u001b[38;5;124m'\u001b[39m\u001b[38;5;124mtarget\u001b[39m\u001b[38;5;124m'\u001b[39m] \u001b[38;5;241m=\u001b[39m df[\u001b[38;5;124m'\u001b[39m\u001b[38;5;124mtype\u001b[39m\u001b[38;5;124m'\u001b[39m]\u001b[38;5;241m.\u001b[39mapply(\u001b[38;5;28;01mlambda\u001b[39;00m c: CLASSES\u001b[38;5;241m.\u001b[39mindex(c))\n\u001b[1;32m     36\u001b[0m \u001b[38;5;28;01mreturn\u001b[39;00m df\n",
      "File \u001b[0;32m/opt/conda/lib/python3.8/site-packages/pandas/core/frame.py:614\u001b[0m, in \u001b[0;36mDataFrame.__init__\u001b[0;34m(self, data, index, columns, dtype, copy)\u001b[0m\n\u001b[1;32m    608\u001b[0m     mgr \u001b[38;5;241m=\u001b[39m \u001b[38;5;28mself\u001b[39m\u001b[38;5;241m.\u001b[39m_init_mgr(\n\u001b[1;32m    609\u001b[0m         data, axes\u001b[38;5;241m=\u001b[39m{\u001b[38;5;124m\"\u001b[39m\u001b[38;5;124mindex\u001b[39m\u001b[38;5;124m\"\u001b[39m: index, \u001b[38;5;124m\"\u001b[39m\u001b[38;5;124mcolumns\u001b[39m\u001b[38;5;124m\"\u001b[39m: columns}, dtype\u001b[38;5;241m=\u001b[39mdtype, copy\u001b[38;5;241m=\u001b[39mcopy\n\u001b[1;32m    610\u001b[0m     )\n\u001b[1;32m    612\u001b[0m \u001b[38;5;28;01melif\u001b[39;00m \u001b[38;5;28misinstance\u001b[39m(data, \u001b[38;5;28mdict\u001b[39m):\n\u001b[1;32m    613\u001b[0m     \u001b[38;5;66;03m# GH#38939 de facto copy defaults to False only in non-dict cases\u001b[39;00m\n\u001b[0;32m--> 614\u001b[0m     mgr \u001b[38;5;241m=\u001b[39m \u001b[43mdict_to_mgr\u001b[49m\u001b[43m(\u001b[49m\u001b[43mdata\u001b[49m\u001b[43m,\u001b[49m\u001b[43m \u001b[49m\u001b[43mindex\u001b[49m\u001b[43m,\u001b[49m\u001b[43m \u001b[49m\u001b[43mcolumns\u001b[49m\u001b[43m,\u001b[49m\u001b[43m \u001b[49m\u001b[43mdtype\u001b[49m\u001b[38;5;241;43m=\u001b[39;49m\u001b[43mdtype\u001b[49m\u001b[43m,\u001b[49m\u001b[43m \u001b[49m\u001b[43mcopy\u001b[49m\u001b[38;5;241;43m=\u001b[39;49m\u001b[43mcopy\u001b[49m\u001b[43m,\u001b[49m\u001b[43m \u001b[49m\u001b[43mtyp\u001b[49m\u001b[38;5;241;43m=\u001b[39;49m\u001b[43mmanager\u001b[49m\u001b[43m)\u001b[49m\n\u001b[1;32m    615\u001b[0m \u001b[38;5;28;01melif\u001b[39;00m \u001b[38;5;28misinstance\u001b[39m(data, ma\u001b[38;5;241m.\u001b[39mMaskedArray):\n\u001b[1;32m    616\u001b[0m     \u001b[38;5;28;01mimport\u001b[39;00m \u001b[38;5;21;01mnumpy\u001b[39;00m\u001b[38;5;21;01m.\u001b[39;00m\u001b[38;5;21;01mma\u001b[39;00m\u001b[38;5;21;01m.\u001b[39;00m\u001b[38;5;21;01mmrecords\u001b[39;00m \u001b[38;5;28;01mas\u001b[39;00m \u001b[38;5;21;01mmrecords\u001b[39;00m\n",
      "File \u001b[0;32m/opt/conda/lib/python3.8/site-packages/pandas/core/internals/construction.py:464\u001b[0m, in \u001b[0;36mdict_to_mgr\u001b[0;34m(data, index, columns, dtype, typ, copy)\u001b[0m\n\u001b[1;32m    456\u001b[0m     arrays \u001b[38;5;241m=\u001b[39m [\n\u001b[1;32m    457\u001b[0m         x\n\u001b[1;32m    458\u001b[0m         \u001b[38;5;28;01mif\u001b[39;00m \u001b[38;5;129;01mnot\u001b[39;00m \u001b[38;5;28mhasattr\u001b[39m(x, \u001b[38;5;124m\"\u001b[39m\u001b[38;5;124mdtype\u001b[39m\u001b[38;5;124m\"\u001b[39m) \u001b[38;5;129;01mor\u001b[39;00m \u001b[38;5;129;01mnot\u001b[39;00m \u001b[38;5;28misinstance\u001b[39m(x\u001b[38;5;241m.\u001b[39mdtype, ExtensionDtype)\n\u001b[1;32m    459\u001b[0m         \u001b[38;5;28;01melse\u001b[39;00m x\u001b[38;5;241m.\u001b[39mcopy()\n\u001b[1;32m    460\u001b[0m         \u001b[38;5;28;01mfor\u001b[39;00m x \u001b[38;5;129;01min\u001b[39;00m arrays\n\u001b[1;32m    461\u001b[0m     ]\n\u001b[1;32m    462\u001b[0m     \u001b[38;5;66;03m# TODO: can we get rid of the dt64tz special case above?\u001b[39;00m\n\u001b[0;32m--> 464\u001b[0m \u001b[38;5;28;01mreturn\u001b[39;00m \u001b[43marrays_to_mgr\u001b[49m\u001b[43m(\u001b[49m\n\u001b[1;32m    465\u001b[0m \u001b[43m    \u001b[49m\u001b[43marrays\u001b[49m\u001b[43m,\u001b[49m\u001b[43m \u001b[49m\u001b[43mdata_names\u001b[49m\u001b[43m,\u001b[49m\u001b[43m \u001b[49m\u001b[43mindex\u001b[49m\u001b[43m,\u001b[49m\u001b[43m \u001b[49m\u001b[43mcolumns\u001b[49m\u001b[43m,\u001b[49m\u001b[43m \u001b[49m\u001b[43mdtype\u001b[49m\u001b[38;5;241;43m=\u001b[39;49m\u001b[43mdtype\u001b[49m\u001b[43m,\u001b[49m\u001b[43m \u001b[49m\u001b[43mtyp\u001b[49m\u001b[38;5;241;43m=\u001b[39;49m\u001b[43mtyp\u001b[49m\u001b[43m,\u001b[49m\u001b[43m \u001b[49m\u001b[43mconsolidate\u001b[49m\u001b[38;5;241;43m=\u001b[39;49m\u001b[43mcopy\u001b[49m\n\u001b[1;32m    466\u001b[0m \u001b[43m\u001b[49m\u001b[43m)\u001b[49m\n",
      "File \u001b[0;32m/opt/conda/lib/python3.8/site-packages/pandas/core/internals/construction.py:119\u001b[0m, in \u001b[0;36marrays_to_mgr\u001b[0;34m(arrays, arr_names, index, columns, dtype, verify_integrity, typ, consolidate)\u001b[0m\n\u001b[1;32m    116\u001b[0m \u001b[38;5;28;01mif\u001b[39;00m verify_integrity:\n\u001b[1;32m    117\u001b[0m     \u001b[38;5;66;03m# figure out the index, if necessary\u001b[39;00m\n\u001b[1;32m    118\u001b[0m     \u001b[38;5;28;01mif\u001b[39;00m index \u001b[38;5;129;01mis\u001b[39;00m \u001b[38;5;28;01mNone\u001b[39;00m:\n\u001b[0;32m--> 119\u001b[0m         index \u001b[38;5;241m=\u001b[39m \u001b[43m_extract_index\u001b[49m\u001b[43m(\u001b[49m\u001b[43marrays\u001b[49m\u001b[43m)\u001b[49m\n\u001b[1;32m    120\u001b[0m     \u001b[38;5;28;01melse\u001b[39;00m:\n\u001b[1;32m    121\u001b[0m         index \u001b[38;5;241m=\u001b[39m ensure_index(index)\n",
      "File \u001b[0;32m/opt/conda/lib/python3.8/site-packages/pandas/core/internals/construction.py:635\u001b[0m, in \u001b[0;36m_extract_index\u001b[0;34m(data)\u001b[0m\n\u001b[1;32m    633\u001b[0m lengths \u001b[38;5;241m=\u001b[39m \u001b[38;5;28mlist\u001b[39m(\u001b[38;5;28mset\u001b[39m(raw_lengths))\n\u001b[1;32m    634\u001b[0m \u001b[38;5;28;01mif\u001b[39;00m \u001b[38;5;28mlen\u001b[39m(lengths) \u001b[38;5;241m>\u001b[39m \u001b[38;5;241m1\u001b[39m:\n\u001b[0;32m--> 635\u001b[0m     \u001b[38;5;28;01mraise\u001b[39;00m \u001b[38;5;167;01mValueError\u001b[39;00m(\u001b[38;5;124m\"\u001b[39m\u001b[38;5;124mAll arrays must be of the same length\u001b[39m\u001b[38;5;124m\"\u001b[39m)\n\u001b[1;32m    637\u001b[0m \u001b[38;5;28;01mif\u001b[39;00m have_dicts:\n\u001b[1;32m    638\u001b[0m     \u001b[38;5;28;01mraise\u001b[39;00m \u001b[38;5;167;01mValueError\u001b[39;00m(\n\u001b[1;32m    639\u001b[0m         \u001b[38;5;124m\"\u001b[39m\u001b[38;5;124mMixing dicts with non-Series may lead to ambiguous ordering.\u001b[39m\u001b[38;5;124m\"\u001b[39m\n\u001b[1;32m    640\u001b[0m     )\n",
      "\u001b[0;31mValueError\u001b[0m: All arrays must be of the same length"
     ]
    }
   ],
   "source": [
    "df_test = jsonl_to_df_nogroup(TEST_PATH, total=168, name=\"test\", save=True)"
   ]
  },
  {
   "cell_type": "code",
   "execution_count": 27,
   "id": "5efd2725",
   "metadata": {},
   "outputs": [
    {
     "data": {
      "text/html": [
       "<div>\n",
       "<style scoped>\n",
       "    .dataframe tbody tr th:only-of-type {\n",
       "        vertical-align: middle;\n",
       "    }\n",
       "\n",
       "    .dataframe tbody tr th {\n",
       "        vertical-align: top;\n",
       "    }\n",
       "\n",
       "    .dataframe thead th {\n",
       "        text-align: right;\n",
       "    }\n",
       "</style>\n",
       "<table border=\"1\" class=\"dataframe\">\n",
       "  <thead>\n",
       "    <tr style=\"text-align: right;\">\n",
       "      <th></th>\n",
       "      <th>session</th>\n",
       "      <th>aid</th>\n",
       "      <th>ts</th>\n",
       "      <th>type</th>\n",
       "      <th>labels_clicks</th>\n",
       "      <th>labels_carts</th>\n",
       "      <th>labels_orders</th>\n",
       "      <th>target</th>\n",
       "    </tr>\n",
       "  </thead>\n",
       "  <tbody>\n",
       "    <tr>\n",
       "      <th>0</th>\n",
       "      <td>11098528</td>\n",
       "      <td>[11830, 1679529, 92401, 1055218, 1561739, 1679...</td>\n",
       "      <td>[1661119200060, 1661119417928, 1661119474036, ...</td>\n",
       "      <td>[clicks, clicks, clicks, clicks, clicks, click...</td>\n",
       "      <td>[1679529, 92401, 1055218, 1561739, 1679529, 10...</td>\n",
       "      <td>[[1199737], [1199737], [1199737], [1199737], [...</td>\n",
       "      <td>[[990658, 950341, 1462506, 1561739, 907564, 36...</td>\n",
       "      <td>[1, 1, 1, 1, 1, 1, 1, 1, 1, 1, 1, 1, 2, 3, 3, ...</td>\n",
       "    </tr>\n",
       "    <tr>\n",
       "      <th>1</th>\n",
       "      <td>11098529</td>\n",
       "      <td>[1105029, 1105029]</td>\n",
       "      <td>[1661119200259, 1661148152798]</td>\n",
       "      <td>[clicks, clicks]</td>\n",
       "      <td>[1105029, 1298277]</td>\n",
       "      <td>[[], []]</td>\n",
       "      <td>[[], []]</td>\n",
       "      <td>[1, 1]</td>\n",
       "    </tr>\n",
       "    <tr>\n",
       "      <th>2</th>\n",
       "      <td>11098530</td>\n",
       "      <td>[264500, 264500, 409236, 409236, 409236, 409236]</td>\n",
       "      <td>[1661119200974, 1661119288407, 1661119369986, ...</td>\n",
       "      <td>[clicks, clicks, clicks, clicks, clicks, carts]</td>\n",
       "      <td>[264500, 409236, 409236, 409236, None, None]</td>\n",
       "      <td>[[409236], [409236], [409236], [409236], [4092...</td>\n",
       "      <td>[[409236], [409236], [409236], [409236], [4092...</td>\n",
       "      <td>[1, 1, 1, 1, 1, 2]</td>\n",
       "    </tr>\n",
       "    <tr>\n",
       "      <th>3</th>\n",
       "      <td>11098531</td>\n",
       "      <td>[452188, 1239060, 1557766, 452188, 396199, 130...</td>\n",
       "      <td>[1661119200997, 1661119227353, 1661119243209, ...</td>\n",
       "      <td>[clicks, clicks, clicks, clicks, clicks, click...</td>\n",
       "      <td>[1239060, 1557766, 452188, 396199, 1309633, 14...</td>\n",
       "      <td>[[], [], [], [], [], [], [], [], [], [], [], [...</td>\n",
       "      <td>[[1365569, 1728212, 396199, 452188, 1271998], ...</td>\n",
       "      <td>[1, 1, 1, 1, 1, 1, 1, 1, 1, 1, 1, 1, 1, 1, 1, ...</td>\n",
       "    </tr>\n",
       "    <tr>\n",
       "      <th>4</th>\n",
       "      <td>11098532</td>\n",
       "      <td>[7651, 876469, 1596491, 1550739, 1308930, 4611...</td>\n",
       "      <td>[1661119201137, 1661119996249, 1661120147735, ...</td>\n",
       "      <td>[clicks, clicks, clicks, clicks, clicks, click...</td>\n",
       "      <td>[876469, 1596491, 1550739, 1308930, 461190, 46...</td>\n",
       "      <td>[[], [], [], [], [], [], [], [], [], [], [], [...</td>\n",
       "      <td>[[], [], [], [], [], [], [], [], [], [], [], [...</td>\n",
       "      <td>[1, 1, 1, 1, 1, 1, 1, 1, 1, 1, 1, 1, 1, 1, 1]</td>\n",
       "    </tr>\n",
       "  </tbody>\n",
       "</table>\n",
       "</div>"
      ],
      "text/plain": [
       "    session                                                aid  \\\n",
       "0  11098528  [11830, 1679529, 92401, 1055218, 1561739, 1679...   \n",
       "1  11098529                                 [1105029, 1105029]   \n",
       "2  11098530   [264500, 264500, 409236, 409236, 409236, 409236]   \n",
       "3  11098531  [452188, 1239060, 1557766, 452188, 396199, 130...   \n",
       "4  11098532  [7651, 876469, 1596491, 1550739, 1308930, 4611...   \n",
       "\n",
       "                                                  ts  \\\n",
       "0  [1661119200060, 1661119417928, 1661119474036, ...   \n",
       "1                     [1661119200259, 1661148152798]   \n",
       "2  [1661119200974, 1661119288407, 1661119369986, ...   \n",
       "3  [1661119200997, 1661119227353, 1661119243209, ...   \n",
       "4  [1661119201137, 1661119996249, 1661120147735, ...   \n",
       "\n",
       "                                                type  \\\n",
       "0  [clicks, clicks, clicks, clicks, clicks, click...   \n",
       "1                                   [clicks, clicks]   \n",
       "2    [clicks, clicks, clicks, clicks, clicks, carts]   \n",
       "3  [clicks, clicks, clicks, clicks, clicks, click...   \n",
       "4  [clicks, clicks, clicks, clicks, clicks, click...   \n",
       "\n",
       "                                       labels_clicks  \\\n",
       "0  [1679529, 92401, 1055218, 1561739, 1679529, 10...   \n",
       "1                                 [1105029, 1298277]   \n",
       "2       [264500, 409236, 409236, 409236, None, None]   \n",
       "3  [1239060, 1557766, 452188, 396199, 1309633, 14...   \n",
       "4  [876469, 1596491, 1550739, 1308930, 461190, 46...   \n",
       "\n",
       "                                        labels_carts  \\\n",
       "0  [[1199737], [1199737], [1199737], [1199737], [...   \n",
       "1                                           [[], []]   \n",
       "2  [[409236], [409236], [409236], [409236], [4092...   \n",
       "3  [[], [], [], [], [], [], [], [], [], [], [], [...   \n",
       "4  [[], [], [], [], [], [], [], [], [], [], [], [...   \n",
       "\n",
       "                                       labels_orders  \\\n",
       "0  [[990658, 950341, 1462506, 1561739, 907564, 36...   \n",
       "1                                           [[], []]   \n",
       "2  [[409236], [409236], [409236], [409236], [4092...   \n",
       "3  [[1365569, 1728212, 396199, 452188, 1271998], ...   \n",
       "4  [[], [], [], [], [], [], [], [], [], [], [], [...   \n",
       "\n",
       "                                              target  \n",
       "0  [1, 1, 1, 1, 1, 1, 1, 1, 1, 1, 1, 1, 2, 3, 3, ...  \n",
       "1                                             [1, 1]  \n",
       "2                                 [1, 1, 1, 1, 1, 2]  \n",
       "3  [1, 1, 1, 1, 1, 1, 1, 1, 1, 1, 1, 1, 1, 1, 1, ...  \n",
       "4      [1, 1, 1, 1, 1, 1, 1, 1, 1, 1, 1, 1, 1, 1, 1]  "
      ]
     },
     "execution_count": 27,
     "metadata": {},
     "output_type": "execute_result"
    }
   ],
   "source": [
    "df_val.head()"
   ]
  }
 ],
 "metadata": {
  "kernelspec": {
   "display_name": "Python 3 (ipykernel)",
   "language": "python",
   "name": "python3"
  },
  "language_info": {
   "codemirror_mode": {
    "name": "ipython",
    "version": 3
   },
   "file_extension": ".py",
   "mimetype": "text/x-python",
   "name": "python",
   "nbconvert_exporter": "python",
   "pygments_lexer": "ipython3",
   "version": "3.8.13"
  },
  "papermill": {
   "default_parameters": {},
   "duration": 17.580155,
   "end_time": "2022-11-02T16:29:25.057961",
   "environment_variables": {},
   "exception": null,
   "input_path": "__notebook__.ipynb",
   "output_path": "__notebook__.ipynb",
   "parameters": {},
   "start_time": "2022-11-02T16:29:07.477806",
   "version": "2.3.4"
  },
  "widgets": {
   "application/vnd.jupyter.widget-state+json": {
    "state": {
     "00b765cb2aed441a93cc0bb6cbe82361": {
      "model_module": "@jupyter-widgets/base",
      "model_module_version": "1.2.0",
      "model_name": "LayoutModel",
      "state": {
       "_model_module": "@jupyter-widgets/base",
       "_model_module_version": "1.2.0",
       "_model_name": "LayoutModel",
       "_view_count": null,
       "_view_module": "@jupyter-widgets/base",
       "_view_module_version": "1.2.0",
       "_view_name": "LayoutView",
       "align_content": null,
       "align_items": null,
       "align_self": null,
       "border": null,
       "bottom": null,
       "display": null,
       "flex": null,
       "flex_flow": null,
       "grid_area": null,
       "grid_auto_columns": null,
       "grid_auto_flow": null,
       "grid_auto_rows": null,
       "grid_column": null,
       "grid_gap": null,
       "grid_row": null,
       "grid_template_areas": null,
       "grid_template_columns": null,
       "grid_template_rows": null,
       "height": null,
       "justify_content": null,
       "justify_items": null,
       "left": null,
       "margin": null,
       "max_height": null,
       "max_width": null,
       "min_height": null,
       "min_width": null,
       "object_fit": null,
       "object_position": null,
       "order": null,
       "overflow": null,
       "overflow_x": null,
       "overflow_y": null,
       "padding": null,
       "right": null,
       "top": null,
       "visibility": null,
       "width": null
      }
     },
     "079ac70f85bb438a90c8a87f54ab7075": {
      "model_module": "@jupyter-widgets/base",
      "model_module_version": "1.2.0",
      "model_name": "LayoutModel",
      "state": {
       "_model_module": "@jupyter-widgets/base",
       "_model_module_version": "1.2.0",
       "_model_name": "LayoutModel",
       "_view_count": null,
       "_view_module": "@jupyter-widgets/base",
       "_view_module_version": "1.2.0",
       "_view_name": "LayoutView",
       "align_content": null,
       "align_items": null,
       "align_self": null,
       "border": null,
       "bottom": null,
       "display": null,
       "flex": null,
       "flex_flow": null,
       "grid_area": null,
       "grid_auto_columns": null,
       "grid_auto_flow": null,
       "grid_auto_rows": null,
       "grid_column": null,
       "grid_gap": null,
       "grid_row": null,
       "grid_template_areas": null,
       "grid_template_columns": null,
       "grid_template_rows": null,
       "height": null,
       "justify_content": null,
       "justify_items": null,
       "left": null,
       "margin": null,
       "max_height": null,
       "max_width": null,
       "min_height": null,
       "min_width": null,
       "object_fit": null,
       "object_position": null,
       "order": null,
       "overflow": null,
       "overflow_x": null,
       "overflow_y": null,
       "padding": null,
       "right": null,
       "top": null,
       "visibility": null,
       "width": null
      }
     },
     "2f12fb9926da4790a86a6e2332bf5bed": {
      "model_module": "@jupyter-widgets/controls",
      "model_module_version": "1.5.0",
      "model_name": "FloatProgressModel",
      "state": {
       "_dom_classes": [],
       "_model_module": "@jupyter-widgets/controls",
       "_model_module_version": "1.5.0",
       "_model_name": "FloatProgressModel",
       "_view_count": null,
       "_view_module": "@jupyter-widgets/controls",
       "_view_module_version": "1.5.0",
       "_view_name": "ProgressView",
       "bar_style": "danger",
       "description": "",
       "description_tooltip": null,
       "layout": "IPY_MODEL_ba8abdabc3f24504ad149a5636dc5fb9",
       "max": 1290,
       "min": 0,
       "orientation": "horizontal",
       "style": "IPY_MODEL_f182c99639214af08858bbcfe868bea9",
       "value": 0
      }
     },
     "364fe7476198475faa7f9c4f855516de": {
      "model_module": "@jupyter-widgets/controls",
      "model_module_version": "1.5.0",
      "model_name": "DescriptionStyleModel",
      "state": {
       "_model_module": "@jupyter-widgets/controls",
       "_model_module_version": "1.5.0",
       "_model_name": "DescriptionStyleModel",
       "_view_count": null,
       "_view_module": "@jupyter-widgets/base",
       "_view_module_version": "1.2.0",
       "_view_name": "StyleView",
       "description_width": ""
      }
     },
     "365f4c8c7f114fa3855ae44c2c3759cd": {
      "model_module": "@jupyter-widgets/controls",
      "model_module_version": "1.5.0",
      "model_name": "DescriptionStyleModel",
      "state": {
       "_model_module": "@jupyter-widgets/controls",
       "_model_module_version": "1.5.0",
       "_model_name": "DescriptionStyleModel",
       "_view_count": null,
       "_view_module": "@jupyter-widgets/base",
       "_view_module_version": "1.2.0",
       "_view_name": "StyleView",
       "description_width": ""
      }
     },
     "67009380d9664ccd81a123298c2286da": {
      "model_module": "@jupyter-widgets/controls",
      "model_module_version": "1.5.0",
      "model_name": "HBoxModel",
      "state": {
       "_dom_classes": [],
       "_model_module": "@jupyter-widgets/controls",
       "_model_module_version": "1.5.0",
       "_model_name": "HBoxModel",
       "_view_count": null,
       "_view_module": "@jupyter-widgets/controls",
       "_view_module_version": "1.5.0",
       "_view_name": "HBoxView",
       "box_style": "",
       "children": [
        "IPY_MODEL_c32a87e633ab4cdb98bf82f6c14af103",
        "IPY_MODEL_2f12fb9926da4790a86a6e2332bf5bed",
        "IPY_MODEL_b1a80e268d5f4e4682981b53b4a82a82"
       ],
       "layout": "IPY_MODEL_00b765cb2aed441a93cc0bb6cbe82361"
      }
     },
     "89c1b9ec4b284bd88d66268a1fbd2c0c": {
      "model_module": "@jupyter-widgets/base",
      "model_module_version": "1.2.0",
      "model_name": "LayoutModel",
      "state": {
       "_model_module": "@jupyter-widgets/base",
       "_model_module_version": "1.2.0",
       "_model_name": "LayoutModel",
       "_view_count": null,
       "_view_module": "@jupyter-widgets/base",
       "_view_module_version": "1.2.0",
       "_view_name": "LayoutView",
       "align_content": null,
       "align_items": null,
       "align_self": null,
       "border": null,
       "bottom": null,
       "display": null,
       "flex": null,
       "flex_flow": null,
       "grid_area": null,
       "grid_auto_columns": null,
       "grid_auto_flow": null,
       "grid_auto_rows": null,
       "grid_column": null,
       "grid_gap": null,
       "grid_row": null,
       "grid_template_areas": null,
       "grid_template_columns": null,
       "grid_template_rows": null,
       "height": null,
       "justify_content": null,
       "justify_items": null,
       "left": null,
       "margin": null,
       "max_height": null,
       "max_width": null,
       "min_height": null,
       "min_width": null,
       "object_fit": null,
       "object_position": null,
       "order": null,
       "overflow": null,
       "overflow_x": null,
       "overflow_y": null,
       "padding": null,
       "right": null,
       "top": null,
       "visibility": null,
       "width": null
      }
     },
     "b1a80e268d5f4e4682981b53b4a82a82": {
      "model_module": "@jupyter-widgets/controls",
      "model_module_version": "1.5.0",
      "model_name": "HTMLModel",
      "state": {
       "_dom_classes": [],
       "_model_module": "@jupyter-widgets/controls",
       "_model_module_version": "1.5.0",
       "_model_name": "HTMLModel",
       "_view_count": null,
       "_view_module": "@jupyter-widgets/controls",
       "_view_module_version": "1.5.0",
       "_view_name": "HTMLView",
       "description": "",
       "description_tooltip": null,
       "layout": "IPY_MODEL_079ac70f85bb438a90c8a87f54ab7075",
       "placeholder": "​",
       "style": "IPY_MODEL_364fe7476198475faa7f9c4f855516de",
       "value": " 0/1290 [00:02&lt;?, ?it/s]"
      }
     },
     "ba8abdabc3f24504ad149a5636dc5fb9": {
      "model_module": "@jupyter-widgets/base",
      "model_module_version": "1.2.0",
      "model_name": "LayoutModel",
      "state": {
       "_model_module": "@jupyter-widgets/base",
       "_model_module_version": "1.2.0",
       "_model_name": "LayoutModel",
       "_view_count": null,
       "_view_module": "@jupyter-widgets/base",
       "_view_module_version": "1.2.0",
       "_view_name": "LayoutView",
       "align_content": null,
       "align_items": null,
       "align_self": null,
       "border": null,
       "bottom": null,
       "display": null,
       "flex": null,
       "flex_flow": null,
       "grid_area": null,
       "grid_auto_columns": null,
       "grid_auto_flow": null,
       "grid_auto_rows": null,
       "grid_column": null,
       "grid_gap": null,
       "grid_row": null,
       "grid_template_areas": null,
       "grid_template_columns": null,
       "grid_template_rows": null,
       "height": null,
       "justify_content": null,
       "justify_items": null,
       "left": null,
       "margin": null,
       "max_height": null,
       "max_width": null,
       "min_height": null,
       "min_width": null,
       "object_fit": null,
       "object_position": null,
       "order": null,
       "overflow": null,
       "overflow_x": null,
       "overflow_y": null,
       "padding": null,
       "right": null,
       "top": null,
       "visibility": null,
       "width": null
      }
     },
     "c32a87e633ab4cdb98bf82f6c14af103": {
      "model_module": "@jupyter-widgets/controls",
      "model_module_version": "1.5.0",
      "model_name": "HTMLModel",
      "state": {
       "_dom_classes": [],
       "_model_module": "@jupyter-widgets/controls",
       "_model_module_version": "1.5.0",
       "_model_name": "HTMLModel",
       "_view_count": null,
       "_view_module": "@jupyter-widgets/controls",
       "_view_module_version": "1.5.0",
       "_view_name": "HTMLView",
       "description": "",
       "description_tooltip": null,
       "layout": "IPY_MODEL_89c1b9ec4b284bd88d66268a1fbd2c0c",
       "placeholder": "​",
       "style": "IPY_MODEL_365f4c8c7f114fa3855ae44c2c3759cd",
       "value": "  0%"
      }
     },
     "f182c99639214af08858bbcfe868bea9": {
      "model_module": "@jupyter-widgets/controls",
      "model_module_version": "1.5.0",
      "model_name": "ProgressStyleModel",
      "state": {
       "_model_module": "@jupyter-widgets/controls",
       "_model_module_version": "1.5.0",
       "_model_name": "ProgressStyleModel",
       "_view_count": null,
       "_view_module": "@jupyter-widgets/base",
       "_view_module_version": "1.2.0",
       "_view_name": "StyleView",
       "bar_color": null,
       "description_width": ""
      }
     }
    },
    "version_major": 2,
    "version_minor": 0
   }
  }
 },
 "nbformat": 4,
 "nbformat_minor": 5
}
