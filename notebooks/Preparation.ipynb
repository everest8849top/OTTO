{
 "cells": [
  {
   "cell_type": "markdown",
   "id": "30d7e9c6",
   "metadata": {
    "papermill": {
     "duration": 0.005708,
     "end_time": "2022-11-02T16:29:16.373015",
     "exception": false,
     "start_time": "2022-11-02T16:29:16.367307",
     "status": "completed"
    },
    "tags": []
   },
   "source": [
    "### Initialization"
   ]
  },
  {
   "cell_type": "code",
   "execution_count": 1,
   "id": "34a7cc03",
   "metadata": {
    "execution": {
     "iopub.execute_input": "2022-11-02T16:29:16.384684Z",
     "iopub.status.busy": "2022-11-02T16:29:16.384241Z",
     "iopub.status.idle": "2022-11-02T16:29:16.390257Z",
     "shell.execute_reply": "2022-11-02T16:29:16.388974Z"
    },
    "papermill": {
     "duration": 0.014707,
     "end_time": "2022-11-02T16:29:16.392748",
     "exception": false,
     "start_time": "2022-11-02T16:29:16.378041",
     "status": "completed"
    },
    "tags": []
   },
   "outputs": [],
   "source": [
    "# try:\n",
    "#     import nvtabular as nvt\n",
    "# except:\n",
    "#     !pip install merlin-core==0.3.0 nvtabular==1.1.1 merlin-models==0.4.0 merlin-systems==0.2.0\n",
    "# import nvtabular as nvt\n",
    "# from merlin.core.dispatch import get_lib\n",
    "# df_lib = get_lib()\n",
    "# df_lib"
   ]
  },
  {
   "cell_type": "code",
   "execution_count": 2,
   "id": "df5ebc2a",
   "metadata": {
    "_cell_guid": "b1076dfc-b9ad-4769-8c92-a6c4dae69d19",
    "_uuid": "8f2839f25d086af736a60e9eeb907d3b93b6e0e5",
    "execution": {
     "iopub.execute_input": "2022-11-02T16:29:16.404037Z",
     "iopub.status.busy": "2022-11-02T16:29:16.403636Z",
     "iopub.status.idle": "2022-11-02T16:29:17.659781Z",
     "shell.execute_reply": "2022-11-02T16:29:17.658562Z"
    },
    "papermill": {
     "duration": 1.265093,
     "end_time": "2022-11-02T16:29:17.662667",
     "exception": false,
     "start_time": "2022-11-02T16:29:16.397574",
     "status": "completed"
    },
    "tags": []
   },
   "outputs": [],
   "source": [
    "import os\n",
    "import numpy as np\n",
    "import pandas as pd\n",
    "import seaborn as sns\n",
    "import matplotlib.pyplot as plt\n",
    "\n",
    "from pathlib import Path\n",
    "from tqdm.notebook import tqdm\n",
    "from collections import Counter\n",
    "from joblib import Parallel, delayed"
   ]
  },
  {
   "cell_type": "markdown",
   "id": "3473cacf",
   "metadata": {
    "papermill": {
     "duration": 0.004536,
     "end_time": "2022-11-02T16:29:17.672217",
     "exception": false,
     "start_time": "2022-11-02T16:29:17.667681",
     "status": "completed"
    },
    "tags": []
   },
   "source": [
    "### Data"
   ]
  },
  {
   "cell_type": "code",
   "execution_count": 3,
   "id": "9d447d92",
   "metadata": {
    "execution": {
     "iopub.execute_input": "2022-11-02T16:29:17.683895Z",
     "iopub.status.busy": "2022-11-02T16:29:17.683405Z",
     "iopub.status.idle": "2022-11-02T16:29:17.689495Z",
     "shell.execute_reply": "2022-11-02T16:29:17.688303Z"
    },
    "papermill": {
     "duration": 0.01497,
     "end_time": "2022-11-02T16:29:17.692073",
     "exception": false,
     "start_time": "2022-11-02T16:29:17.677103",
     "status": "completed"
    },
    "tags": []
   },
   "outputs": [],
   "source": [
    "DATA_PATH = Path('../input/otto-recommender-system')\n",
    "\n",
    "TRAIN_PATH = DATA_PATH / 'train.jsonl'\n",
    "TEST_PATH = DATA_PATH / 'test.jsonl'\n",
    "\n",
    "CLASSES = ['clicks', 'carts', 'orders']"
   ]
  },
  {
   "cell_type": "code",
   "execution_count": 4,
   "id": "21b058f0",
   "metadata": {
    "execution": {
     "iopub.execute_input": "2022-11-02T16:29:17.704349Z",
     "iopub.status.busy": "2022-11-02T16:29:17.703863Z",
     "iopub.status.idle": "2022-11-02T16:29:17.715495Z",
     "shell.execute_reply": "2022-11-02T16:29:17.713827Z"
    },
    "papermill": {
     "duration": 0.021623,
     "end_time": "2022-11-02T16:29:17.718649",
     "exception": false,
     "start_time": "2022-11-02T16:29:17.697026",
     "status": "completed"
    },
    "tags": []
   },
   "outputs": [],
   "source": [
    "OUT_DIR = \"processed/\"\n",
    "os.makedirs(OUT_DIR, exist_ok=True)\n",
    "\n",
    "sample_size = 10000\n",
    "n_chunks = 12899779 // sample_size + 1\n",
    "\n",
    "chunks = pd.read_json(TRAIN_PATH, lines=True, chunksize=sample_size)"
   ]
  },
  {
   "cell_type": "code",
   "execution_count": 5,
   "id": "6eabae2a",
   "metadata": {
    "execution": {
     "iopub.execute_input": "2022-11-02T16:29:17.730839Z",
     "iopub.status.busy": "2022-11-02T16:29:17.730396Z",
     "iopub.status.idle": "2022-11-02T16:29:17.738434Z",
     "shell.execute_reply": "2022-11-02T16:29:17.736835Z"
    },
    "papermill": {
     "duration": 0.018212,
     "end_time": "2022-11-02T16:29:17.741895",
     "exception": false,
     "start_time": "2022-11-02T16:29:17.723683",
     "status": "completed"
    },
    "tags": []
   },
   "outputs": [],
   "source": [
    "def process_data(chunk, save_folder=\"\"):\n",
    "    arrays = c['events'].apply(lambda x: np.array([[c['aid'], c['ts'], CLASSES.index(c['type'])] for c in x]).astype(int))\n",
    "\n",
    "    if save_folder:\n",
    "        for session, array in zip(chunk['session'], arrays):\n",
    "            np.save(save_folder + f\"session_{session}.npy\", array)\n",
    "\n",
    "    return arrays"
   ]
  },
  {
   "cell_type": "code",
   "execution_count": 6,
   "id": "462116c1",
   "metadata": {
    "execution": {
     "iopub.execute_input": "2022-11-02T16:29:17.758158Z",
     "iopub.status.busy": "2022-11-02T16:29:17.757629Z",
     "iopub.status.idle": "2022-11-02T16:29:21.369257Z",
     "shell.execute_reply": "2022-11-02T16:29:21.367959Z"
    },
    "papermill": {
     "duration": 3.623102,
     "end_time": "2022-11-02T16:29:21.372234",
     "exception": false,
     "start_time": "2022-11-02T16:29:17.749132",
     "status": "completed"
    },
    "tags": []
   },
   "outputs": [
    {
     "name": "stdout",
     "output_type": "stream",
     "text": [
      "CPU times: user 1.8 s, sys: 1.41 s, total: 3.21 s\n",
      "Wall time: 3.6 s\n"
     ]
    }
   ],
   "source": [
    "%%time\n",
    "\n",
    "for c in chunks:\n",
    "    arrays = process_data(c, \"/tmp/\")\n",
    "    break"
   ]
  },
  {
   "cell_type": "code",
   "execution_count": 7,
   "id": "dddcc688",
   "metadata": {
    "execution": {
     "iopub.execute_input": "2022-11-02T16:29:21.385667Z",
     "iopub.status.busy": "2022-11-02T16:29:21.385245Z",
     "iopub.status.idle": "2022-11-02T16:29:21.394693Z",
     "shell.execute_reply": "2022-11-02T16:29:21.393475Z"
    },
    "papermill": {
     "duration": 0.019143,
     "end_time": "2022-11-02T16:29:21.397407",
     "exception": false,
     "start_time": "2022-11-02T16:29:21.378264",
     "status": "completed"
    },
    "tags": []
   },
   "outputs": [
    {
     "data": {
      "text/plain": [
       "(10000, (276, 3))"
      ]
     },
     "execution_count": 7,
     "metadata": {},
     "output_type": "execute_result"
    }
   ],
   "source": [
    "len(arrays), arrays[0].shape"
   ]
  },
  {
   "cell_type": "code",
   "execution_count": 8,
   "id": "8db2783e",
   "metadata": {
    "execution": {
     "iopub.execute_input": "2022-11-02T16:29:21.409175Z",
     "iopub.status.busy": "2022-11-02T16:29:21.408766Z",
     "iopub.status.idle": "2022-11-02T16:29:23.986870Z",
     "shell.execute_reply": "2022-11-02T16:29:23.985505Z"
    },
    "papermill": {
     "duration": 2.587104,
     "end_time": "2022-11-02T16:29:23.989354",
     "exception": false,
     "start_time": "2022-11-02T16:29:21.402250",
     "status": "completed"
    },
    "tags": []
   },
   "outputs": [
    {
     "data": {
      "application/vnd.jupyter.widget-view+json": {
       "model_id": "67009380d9664ccd81a123298c2286da",
       "version_major": 2,
       "version_minor": 0
      },
      "text/plain": [
       "  0%|          | 0/1290 [00:00<?, ?it/s]"
      ]
     },
     "metadata": {},
     "output_type": "display_data"
    }
   ],
   "source": [
    "for c in tqdm(chunks, total=n_chunks):\n",
    "    process_data(c, OUT_DIR)\n",
    "    \n",
    "    break"
   ]
  },
  {
   "cell_type": "code",
   "execution_count": 9,
   "id": "62739161",
   "metadata": {
    "execution": {
     "iopub.execute_input": "2022-11-02T16:29:24.002745Z",
     "iopub.status.busy": "2022-11-02T16:29:24.002346Z",
     "iopub.status.idle": "2022-11-02T16:29:24.007553Z",
     "shell.execute_reply": "2022-11-02T16:29:24.006227Z"
    },
    "papermill": {
     "duration": 0.013787,
     "end_time": "2022-11-02T16:29:24.009854",
     "exception": false,
     "start_time": "2022-11-02T16:29:23.996067",
     "status": "completed"
    },
    "tags": []
   },
   "outputs": [],
   "source": [
    "# chunks = pd.read_json(TRAIN_PATH, lines=True, chunksize=sample_size)\n",
    "\n",
    "# _ = Parallel(n_jobs=4)(\n",
    "#     delayed(process_data)(c, OUT_DIR)\n",
    "#     for c in tqdm(chunks, total=n_chunks)\n",
    "# )"
   ]
  },
  {
   "cell_type": "markdown",
   "id": "d95e4391",
   "metadata": {
    "papermill": {
     "duration": 0.004734,
     "end_time": "2022-11-02T16:29:24.019669",
     "exception": false,
     "start_time": "2022-11-02T16:29:24.014935",
     "status": "completed"
    },
    "tags": []
   },
   "source": [
    "### NVT"
   ]
  },
  {
   "cell_type": "code",
   "execution_count": 10,
   "id": "2bd6ec2a",
   "metadata": {
    "execution": {
     "iopub.execute_input": "2022-11-02T16:29:24.031738Z",
     "iopub.status.busy": "2022-11-02T16:29:24.030667Z",
     "iopub.status.idle": "2022-11-02T16:29:24.035586Z",
     "shell.execute_reply": "2022-11-02T16:29:24.034855Z"
    },
    "papermill": {
     "duration": 0.013069,
     "end_time": "2022-11-02T16:29:24.037683",
     "exception": false,
     "start_time": "2022-11-02T16:29:24.024614",
     "status": "completed"
    },
    "tags": []
   },
   "outputs": [],
   "source": [
    "# train_dataset = nvt.Dataset(PQ_DIR, engine=\"parquet\")"
   ]
  },
  {
   "cell_type": "code",
   "execution_count": 11,
   "id": "9c29af2c",
   "metadata": {
    "execution": {
     "iopub.execute_input": "2022-11-02T16:29:24.050094Z",
     "iopub.status.busy": "2022-11-02T16:29:24.048850Z",
     "iopub.status.idle": "2022-11-02T16:29:24.053541Z",
     "shell.execute_reply": "2022-11-02T16:29:24.052761Z"
    },
    "papermill": {
     "duration": 0.013011,
     "end_time": "2022-11-02T16:29:24.055663",
     "exception": false,
     "start_time": "2022-11-02T16:29:24.042652",
     "status": "completed"
    },
    "tags": []
   },
   "outputs": [],
   "source": [
    "# group = ['aid', 'session'] >> nvt.ops.Groupby(\n",
    "#     groupby_cols=['session'],\n",
    "#     aggs={'aid': 'list'},\n",
    "# )"
   ]
  },
  {
   "cell_type": "code",
   "execution_count": 12,
   "id": "53b390af",
   "metadata": {
    "execution": {
     "iopub.execute_input": "2022-11-02T16:29:24.067995Z",
     "iopub.status.busy": "2022-11-02T16:29:24.067029Z",
     "iopub.status.idle": "2022-11-02T16:29:24.072207Z",
     "shell.execute_reply": "2022-11-02T16:29:24.071087Z"
    },
    "papermill": {
     "duration": 0.013819,
     "end_time": "2022-11-02T16:29:24.074557",
     "exception": false,
     "start_time": "2022-11-02T16:29:24.060738",
     "status": "completed"
    },
    "tags": []
   },
   "outputs": [],
   "source": [
    "# clicks = [\"type\"] >> nvt.ops.LambdaOp(lambda x: x == \"clicks\")\n",
    "# carts = [\"type\"] >> nvt.ops.LambdaOp(lambda x: x == \"carts\")\n",
    "# orders = [\"type\"] >> nvt.ops.LambdaOp(lambda x: x == \"orders\")\n",
    "\n",
    "# output = group + clicks # + carts + orders + group\n",
    "\n",
    "# (output).graph"
   ]
  },
  {
   "cell_type": "code",
   "execution_count": 13,
   "id": "7a724665",
   "metadata": {
    "execution": {
     "iopub.execute_input": "2022-11-02T16:29:24.086603Z",
     "iopub.status.busy": "2022-11-02T16:29:24.086221Z",
     "iopub.status.idle": "2022-11-02T16:29:24.091453Z",
     "shell.execute_reply": "2022-11-02T16:29:24.090092Z"
    },
    "papermill": {
     "duration": 0.014046,
     "end_time": "2022-11-02T16:29:24.093797",
     "exception": false,
     "start_time": "2022-11-02T16:29:24.079751",
     "status": "completed"
    },
    "tags": []
   },
   "outputs": [],
   "source": [
    "# workflow = nvt.Workflow(output)"
   ]
  },
  {
   "cell_type": "code",
   "execution_count": 14,
   "id": "aae7a8d3",
   "metadata": {
    "execution": {
     "iopub.execute_input": "2022-11-02T16:29:24.106851Z",
     "iopub.status.busy": "2022-11-02T16:29:24.105711Z",
     "iopub.status.idle": "2022-11-02T16:29:24.110829Z",
     "shell.execute_reply": "2022-11-02T16:29:24.109829Z"
    },
    "papermill": {
     "duration": 0.013915,
     "end_time": "2022-11-02T16:29:24.113080",
     "exception": false,
     "start_time": "2022-11-02T16:29:24.099165",
     "status": "completed"
    },
    "tags": []
   },
   "outputs": [],
   "source": [
    "# %%time\n",
    "# workflow.fit(train_dataset)"
   ]
  },
  {
   "cell_type": "code",
   "execution_count": 15,
   "id": "af458697",
   "metadata": {
    "execution": {
     "iopub.execute_input": "2022-11-02T16:29:24.125309Z",
     "iopub.status.busy": "2022-11-02T16:29:24.124589Z",
     "iopub.status.idle": "2022-11-02T16:29:24.128480Z",
     "shell.execute_reply": "2022-11-02T16:29:24.127705Z"
    },
    "papermill": {
     "duration": 0.012735,
     "end_time": "2022-11-02T16:29:24.130896",
     "exception": false,
     "start_time": "2022-11-02T16:29:24.118161",
     "status": "completed"
    },
    "tags": []
   },
   "outputs": [],
   "source": [
    "# workflow.transform(train_dataset).to_parquet(\"test.parquet\")"
   ]
  }
 ],
 "metadata": {
  "kernelspec": {
   "display_name": "Python 3",
   "language": "python",
   "name": "python3"
  },
  "language_info": {
   "codemirror_mode": {
    "name": "ipython",
    "version": 3
   },
   "file_extension": ".py",
   "mimetype": "text/x-python",
   "name": "python",
   "nbconvert_exporter": "python",
   "pygments_lexer": "ipython3",
   "version": "3.7.12"
  },
  "papermill": {
   "default_parameters": {},
   "duration": 17.580155,
   "end_time": "2022-11-02T16:29:25.057961",
   "environment_variables": {},
   "exception": null,
   "input_path": "__notebook__.ipynb",
   "output_path": "__notebook__.ipynb",
   "parameters": {},
   "start_time": "2022-11-02T16:29:07.477806",
   "version": "2.3.4"
  },
  "widgets": {
   "application/vnd.jupyter.widget-state+json": {
    "state": {
     "00b765cb2aed441a93cc0bb6cbe82361": {
      "model_module": "@jupyter-widgets/base",
      "model_module_version": "1.2.0",
      "model_name": "LayoutModel",
      "state": {
       "_model_module": "@jupyter-widgets/base",
       "_model_module_version": "1.2.0",
       "_model_name": "LayoutModel",
       "_view_count": null,
       "_view_module": "@jupyter-widgets/base",
       "_view_module_version": "1.2.0",
       "_view_name": "LayoutView",
       "align_content": null,
       "align_items": null,
       "align_self": null,
       "border": null,
       "bottom": null,
       "display": null,
       "flex": null,
       "flex_flow": null,
       "grid_area": null,
       "grid_auto_columns": null,
       "grid_auto_flow": null,
       "grid_auto_rows": null,
       "grid_column": null,
       "grid_gap": null,
       "grid_row": null,
       "grid_template_areas": null,
       "grid_template_columns": null,
       "grid_template_rows": null,
       "height": null,
       "justify_content": null,
       "justify_items": null,
       "left": null,
       "margin": null,
       "max_height": null,
       "max_width": null,
       "min_height": null,
       "min_width": null,
       "object_fit": null,
       "object_position": null,
       "order": null,
       "overflow": null,
       "overflow_x": null,
       "overflow_y": null,
       "padding": null,
       "right": null,
       "top": null,
       "visibility": null,
       "width": null
      }
     },
     "079ac70f85bb438a90c8a87f54ab7075": {
      "model_module": "@jupyter-widgets/base",
      "model_module_version": "1.2.0",
      "model_name": "LayoutModel",
      "state": {
       "_model_module": "@jupyter-widgets/base",
       "_model_module_version": "1.2.0",
       "_model_name": "LayoutModel",
       "_view_count": null,
       "_view_module": "@jupyter-widgets/base",
       "_view_module_version": "1.2.0",
       "_view_name": "LayoutView",
       "align_content": null,
       "align_items": null,
       "align_self": null,
       "border": null,
       "bottom": null,
       "display": null,
       "flex": null,
       "flex_flow": null,
       "grid_area": null,
       "grid_auto_columns": null,
       "grid_auto_flow": null,
       "grid_auto_rows": null,
       "grid_column": null,
       "grid_gap": null,
       "grid_row": null,
       "grid_template_areas": null,
       "grid_template_columns": null,
       "grid_template_rows": null,
       "height": null,
       "justify_content": null,
       "justify_items": null,
       "left": null,
       "margin": null,
       "max_height": null,
       "max_width": null,
       "min_height": null,
       "min_width": null,
       "object_fit": null,
       "object_position": null,
       "order": null,
       "overflow": null,
       "overflow_x": null,
       "overflow_y": null,
       "padding": null,
       "right": null,
       "top": null,
       "visibility": null,
       "width": null
      }
     },
     "2f12fb9926da4790a86a6e2332bf5bed": {
      "model_module": "@jupyter-widgets/controls",
      "model_module_version": "1.5.0",
      "model_name": "FloatProgressModel",
      "state": {
       "_dom_classes": [],
       "_model_module": "@jupyter-widgets/controls",
       "_model_module_version": "1.5.0",
       "_model_name": "FloatProgressModel",
       "_view_count": null,
       "_view_module": "@jupyter-widgets/controls",
       "_view_module_version": "1.5.0",
       "_view_name": "ProgressView",
       "bar_style": "danger",
       "description": "",
       "description_tooltip": null,
       "layout": "IPY_MODEL_ba8abdabc3f24504ad149a5636dc5fb9",
       "max": 1290.0,
       "min": 0.0,
       "orientation": "horizontal",
       "style": "IPY_MODEL_f182c99639214af08858bbcfe868bea9",
       "value": 0.0
      }
     },
     "364fe7476198475faa7f9c4f855516de": {
      "model_module": "@jupyter-widgets/controls",
      "model_module_version": "1.5.0",
      "model_name": "DescriptionStyleModel",
      "state": {
       "_model_module": "@jupyter-widgets/controls",
       "_model_module_version": "1.5.0",
       "_model_name": "DescriptionStyleModel",
       "_view_count": null,
       "_view_module": "@jupyter-widgets/base",
       "_view_module_version": "1.2.0",
       "_view_name": "StyleView",
       "description_width": ""
      }
     },
     "365f4c8c7f114fa3855ae44c2c3759cd": {
      "model_module": "@jupyter-widgets/controls",
      "model_module_version": "1.5.0",
      "model_name": "DescriptionStyleModel",
      "state": {
       "_model_module": "@jupyter-widgets/controls",
       "_model_module_version": "1.5.0",
       "_model_name": "DescriptionStyleModel",
       "_view_count": null,
       "_view_module": "@jupyter-widgets/base",
       "_view_module_version": "1.2.0",
       "_view_name": "StyleView",
       "description_width": ""
      }
     },
     "67009380d9664ccd81a123298c2286da": {
      "model_module": "@jupyter-widgets/controls",
      "model_module_version": "1.5.0",
      "model_name": "HBoxModel",
      "state": {
       "_dom_classes": [],
       "_model_module": "@jupyter-widgets/controls",
       "_model_module_version": "1.5.0",
       "_model_name": "HBoxModel",
       "_view_count": null,
       "_view_module": "@jupyter-widgets/controls",
       "_view_module_version": "1.5.0",
       "_view_name": "HBoxView",
       "box_style": "",
       "children": [
        "IPY_MODEL_c32a87e633ab4cdb98bf82f6c14af103",
        "IPY_MODEL_2f12fb9926da4790a86a6e2332bf5bed",
        "IPY_MODEL_b1a80e268d5f4e4682981b53b4a82a82"
       ],
       "layout": "IPY_MODEL_00b765cb2aed441a93cc0bb6cbe82361"
      }
     },
     "89c1b9ec4b284bd88d66268a1fbd2c0c": {
      "model_module": "@jupyter-widgets/base",
      "model_module_version": "1.2.0",
      "model_name": "LayoutModel",
      "state": {
       "_model_module": "@jupyter-widgets/base",
       "_model_module_version": "1.2.0",
       "_model_name": "LayoutModel",
       "_view_count": null,
       "_view_module": "@jupyter-widgets/base",
       "_view_module_version": "1.2.0",
       "_view_name": "LayoutView",
       "align_content": null,
       "align_items": null,
       "align_self": null,
       "border": null,
       "bottom": null,
       "display": null,
       "flex": null,
       "flex_flow": null,
       "grid_area": null,
       "grid_auto_columns": null,
       "grid_auto_flow": null,
       "grid_auto_rows": null,
       "grid_column": null,
       "grid_gap": null,
       "grid_row": null,
       "grid_template_areas": null,
       "grid_template_columns": null,
       "grid_template_rows": null,
       "height": null,
       "justify_content": null,
       "justify_items": null,
       "left": null,
       "margin": null,
       "max_height": null,
       "max_width": null,
       "min_height": null,
       "min_width": null,
       "object_fit": null,
       "object_position": null,
       "order": null,
       "overflow": null,
       "overflow_x": null,
       "overflow_y": null,
       "padding": null,
       "right": null,
       "top": null,
       "visibility": null,
       "width": null
      }
     },
     "b1a80e268d5f4e4682981b53b4a82a82": {
      "model_module": "@jupyter-widgets/controls",
      "model_module_version": "1.5.0",
      "model_name": "HTMLModel",
      "state": {
       "_dom_classes": [],
       "_model_module": "@jupyter-widgets/controls",
       "_model_module_version": "1.5.0",
       "_model_name": "HTMLModel",
       "_view_count": null,
       "_view_module": "@jupyter-widgets/controls",
       "_view_module_version": "1.5.0",
       "_view_name": "HTMLView",
       "description": "",
       "description_tooltip": null,
       "layout": "IPY_MODEL_079ac70f85bb438a90c8a87f54ab7075",
       "placeholder": "​",
       "style": "IPY_MODEL_364fe7476198475faa7f9c4f855516de",
       "value": " 0/1290 [00:02&lt;?, ?it/s]"
      }
     },
     "ba8abdabc3f24504ad149a5636dc5fb9": {
      "model_module": "@jupyter-widgets/base",
      "model_module_version": "1.2.0",
      "model_name": "LayoutModel",
      "state": {
       "_model_module": "@jupyter-widgets/base",
       "_model_module_version": "1.2.0",
       "_model_name": "LayoutModel",
       "_view_count": null,
       "_view_module": "@jupyter-widgets/base",
       "_view_module_version": "1.2.0",
       "_view_name": "LayoutView",
       "align_content": null,
       "align_items": null,
       "align_self": null,
       "border": null,
       "bottom": null,
       "display": null,
       "flex": null,
       "flex_flow": null,
       "grid_area": null,
       "grid_auto_columns": null,
       "grid_auto_flow": null,
       "grid_auto_rows": null,
       "grid_column": null,
       "grid_gap": null,
       "grid_row": null,
       "grid_template_areas": null,
       "grid_template_columns": null,
       "grid_template_rows": null,
       "height": null,
       "justify_content": null,
       "justify_items": null,
       "left": null,
       "margin": null,
       "max_height": null,
       "max_width": null,
       "min_height": null,
       "min_width": null,
       "object_fit": null,
       "object_position": null,
       "order": null,
       "overflow": null,
       "overflow_x": null,
       "overflow_y": null,
       "padding": null,
       "right": null,
       "top": null,
       "visibility": null,
       "width": null
      }
     },
     "c32a87e633ab4cdb98bf82f6c14af103": {
      "model_module": "@jupyter-widgets/controls",
      "model_module_version": "1.5.0",
      "model_name": "HTMLModel",
      "state": {
       "_dom_classes": [],
       "_model_module": "@jupyter-widgets/controls",
       "_model_module_version": "1.5.0",
       "_model_name": "HTMLModel",
       "_view_count": null,
       "_view_module": "@jupyter-widgets/controls",
       "_view_module_version": "1.5.0",
       "_view_name": "HTMLView",
       "description": "",
       "description_tooltip": null,
       "layout": "IPY_MODEL_89c1b9ec4b284bd88d66268a1fbd2c0c",
       "placeholder": "​",
       "style": "IPY_MODEL_365f4c8c7f114fa3855ae44c2c3759cd",
       "value": "  0%"
      }
     },
     "f182c99639214af08858bbcfe868bea9": {
      "model_module": "@jupyter-widgets/controls",
      "model_module_version": "1.5.0",
      "model_name": "ProgressStyleModel",
      "state": {
       "_model_module": "@jupyter-widgets/controls",
       "_model_module_version": "1.5.0",
       "_model_name": "ProgressStyleModel",
       "_view_count": null,
       "_view_module": "@jupyter-widgets/base",
       "_view_module_version": "1.2.0",
       "_view_name": "StyleView",
       "bar_color": null,
       "description_width": ""
      }
     }
    },
    "version_major": 2,
    "version_minor": 0
   }
  }
 },
 "nbformat": 4,
 "nbformat_minor": 5
}
