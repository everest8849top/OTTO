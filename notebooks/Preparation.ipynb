{
 "cells": [
  {
   "cell_type": "code",
   "execution_count": null,
   "id": "6ae870d3",
   "metadata": {},
   "outputs": [],
   "source": [
    "cd ../src"
   ]
  },
  {
   "cell_type": "code",
   "execution_count": null,
   "id": "59fc93f5",
   "metadata": {},
   "outputs": [],
   "source": [
    "%load_ext autoreload\n",
    "%autoreload 2"
   ]
  },
  {
   "cell_type": "markdown",
   "id": "6c2b1bc2",
   "metadata": {
    "papermill": {
     "duration": 0.005708,
     "end_time": "2022-11-02T16:29:16.373015",
     "exception": false,
     "start_time": "2022-11-02T16:29:16.367307",
     "status": "completed"
    },
    "tags": []
   },
   "source": [
    "### Initialization"
   ]
  },
  {
   "cell_type": "code",
   "execution_count": null,
   "id": "d20b9024",
   "metadata": {
    "_cell_guid": "b1076dfc-b9ad-4769-8c92-a6c4dae69d19",
    "_uuid": "8f2839f25d086af736a60e9eeb907d3b93b6e0e5",
    "papermill": {
     "duration": 1.265093,
     "end_time": "2022-11-02T16:29:17.662667",
     "exception": false,
     "start_time": "2022-11-02T16:29:16.397574",
     "status": "completed"
    },
    "tags": []
   },
   "outputs": [],
   "source": [
    "import os\n",
    "import gc\n",
    "import glob\n",
    "import numpy as np\n",
    "import pandas as pd\n",
    "import seaborn as sns\n",
    "import matplotlib.pyplot as plt\n",
    "\n",
    "from pathlib import Path\n",
    "from tqdm import tqdm\n",
    "from collections import Counter\n",
    "from joblib import Parallel, delayed"
   ]
  },
  {
   "cell_type": "code",
   "execution_count": null,
   "id": "eda54e64",
   "metadata": {},
   "outputs": [],
   "source": [
    "from otto_src.labels import ground_truth\n",
    "from otto_src.my_split import train_val_split, create_labels\n",
    "\n",
    "from data.preparation import json_to_pq, json_to_pq_y"
   ]
  },
  {
   "cell_type": "markdown",
   "id": "7512282b",
   "metadata": {},
   "source": [
    "### Train / Val Split"
   ]
  },
  {
   "cell_type": "code",
   "execution_count": null,
   "id": "63e0ef29",
   "metadata": {},
   "outputs": [],
   "source": [
    "# train_val_split(\n",
    "#     Path('../input/train.jsonl'),\n",
    "#     Path(\"../output/jsons/\"),\n",
    "#     days=7,\n",
    "#     train_only=False,\n",
    "# )"
   ]
  },
  {
   "cell_type": "markdown",
   "id": "6367f1ea",
   "metadata": {},
   "source": [
    "### Session truncation"
   ]
  },
  {
   "cell_type": "markdown",
   "id": "c7800701",
   "metadata": {},
   "source": [
    "#### Val"
   ]
  },
  {
   "cell_type": "code",
   "execution_count": null,
   "id": "d3e45f79",
   "metadata": {},
   "outputs": [],
   "source": [
    "# create_labels(\n",
    "#     Path(\"../output/jsons/val_sessions.jsonl\"),\n",
    "#     Path(\"../output/jsons/\"),\n",
    "# )"
   ]
  },
  {
   "cell_type": "markdown",
   "id": "b64b1e88",
   "metadata": {},
   "source": [
    "#### Val Retruncated"
   ]
  },
  {
   "cell_type": "code",
   "execution_count": null,
   "id": "94ddf14f",
   "metadata": {},
   "outputs": [],
   "source": [
    "# create_labels(\n",
    "#     Path(\"../output/jsons/val_sessions_c.jsonl\"),\n",
    "#     Path(\"../output/jsons/\"),\n",
    "# )"
   ]
  },
  {
   "cell_type": "markdown",
   "id": "8ff6421d",
   "metadata": {},
   "source": [
    "#### Train"
   ]
  },
  {
   "cell_type": "code",
   "execution_count": null,
   "id": "780dc1e8",
   "metadata": {},
   "outputs": [],
   "source": [
    "# create_labels(\n",
    "#     Path(\"../output/train_sessions.jsonl\"),\n",
    "#     Path(\"../output/\"),\n",
    "# )"
   ]
  },
  {
   "cell_type": "markdown",
   "id": "509549c2",
   "metadata": {},
   "source": [
    "#### Test"
   ]
  },
  {
   "cell_type": "code",
   "execution_count": null,
   "id": "cdf85e5f",
   "metadata": {},
   "outputs": [],
   "source": [
    "# create_labels(\n",
    "#     Path('../input/test.jsonl'),\n",
    "#     Path(\"../output/jsons/\"),\n",
    "# )"
   ]
  },
  {
   "cell_type": "markdown",
   "id": "2f9c7f84",
   "metadata": {},
   "source": [
    "### Convert to parquet"
   ]
  },
  {
   "cell_type": "markdown",
   "id": "d3a6466f",
   "metadata": {},
   "source": [
    "#### Full train history"
   ]
  },
  {
   "cell_type": "code",
   "execution_count": null,
   "id": "2f5c1f57",
   "metadata": {},
   "outputs": [],
   "source": [
    "# json_to_pq(\n",
    "#     Path(\"../output/jsons/sessions.jsonl\"),\n",
    "#     Path(\"../output/\"),\n",
    "#     name=\"full_train\"\n",
    "# )"
   ]
  },
  {
   "cell_type": "markdown",
   "id": "3d2feaff",
   "metadata": {},
   "source": [
    "#### Not train / val"
   ]
  },
  {
   "cell_type": "code",
   "execution_count": null,
   "id": "0ec779e2",
   "metadata": {},
   "outputs": [],
   "source": [
    "# json_to_pq(\n",
    "#     Path(\"../output/jsons/other_sessions.jsonl\"),\n",
    "#     Path(\"../output/\"),\n",
    "#     name=\"other\"\n",
    "# )"
   ]
  },
  {
   "cell_type": "markdown",
   "id": "63a2e291",
   "metadata": {},
   "source": [
    "#### Train"
   ]
  },
  {
   "cell_type": "code",
   "execution_count": null,
   "id": "e78c5640",
   "metadata": {},
   "outputs": [],
   "source": [
    "# json_to_pq(\n",
    "#     Path(\"../output/jsons/train_sessions_c.jsonl\"),\n",
    "#     Path(\"../output/\"),\n",
    "# )"
   ]
  },
  {
   "cell_type": "code",
   "execution_count": null,
   "id": "03b87a6c",
   "metadata": {},
   "outputs": [],
   "source": [
    "# json_to_pq_y(\n",
    "#     Path(\"../output/jsons/train_labels.jsonl\"),\n",
    "#     Path(\"../output/\")\n",
    "# )"
   ]
  },
  {
   "cell_type": "markdown",
   "id": "707a3419",
   "metadata": {},
   "source": [
    "#### Val"
   ]
  },
  {
   "cell_type": "code",
   "execution_count": null,
   "id": "3f433d1e",
   "metadata": {},
   "outputs": [],
   "source": [
    "# json_to_pq(\n",
    "#     Path(\"../output/jsons/val_sessions_c.jsonl\"),\n",
    "#     Path(\"../output/\"),\n",
    "# )"
   ]
  },
  {
   "cell_type": "code",
   "execution_count": null,
   "id": "23909c97",
   "metadata": {},
   "outputs": [],
   "source": [
    "# json_to_pq_y(\n",
    "#     Path(\"../output/jsons/val_labels.jsonl\"),\n",
    "#     Path(\"../output/\"),\n",
    "# )"
   ]
  },
  {
   "cell_type": "markdown",
   "id": "506167ee",
   "metadata": {},
   "source": [
    "#### Retruncate val"
   ]
  },
  {
   "cell_type": "code",
   "execution_count": null,
   "id": "f3447122",
   "metadata": {},
   "outputs": [],
   "source": [
    "# json_to_pq(\n",
    "#     Path(\"../output/jsons/val_c_sessions_c.jsonl\"),\n",
    "#     Path(\"../output/\"),\n",
    "# )"
   ]
  },
  {
   "cell_type": "code",
   "execution_count": null,
   "id": "8fdced98",
   "metadata": {},
   "outputs": [],
   "source": [
    "# json_to_pq_y(\n",
    "#     Path(\"../output/jsons/val_c_labels.jsonl\"),\n",
    "#     Path(\"../output/\"),\n",
    "# )"
   ]
  },
  {
   "cell_type": "markdown",
   "id": "5e354b24",
   "metadata": {},
   "source": [
    "#### Test"
   ]
  },
  {
   "cell_type": "code",
   "execution_count": null,
   "id": "59834ddb",
   "metadata": {},
   "outputs": [],
   "source": [
    "# json_to_pq(\n",
    "#     Path(\"../input/test.jsonl\"),\n",
    "#     Path(\"../output/\"),\n",
    "#     name=\"test\",\n",
    "# )"
   ]
  },
  {
   "cell_type": "markdown",
   "id": "57d2febd",
   "metadata": {},
   "source": [
    "#### Truncated test"
   ]
  },
  {
   "cell_type": "code",
   "execution_count": null,
   "id": "61b6ceba",
   "metadata": {},
   "outputs": [],
   "source": [
    "# json_to_pq(\n",
    "#     Path(\"../output/jsons/test_sessions_c.jsonl\"),\n",
    "#     Path(\"../output/\"),\n",
    "#     name=\"test_c\",\n",
    "# )"
   ]
  },
  {
   "cell_type": "code",
   "execution_count": null,
   "id": "75886b28",
   "metadata": {},
   "outputs": [],
   "source": [
    "# json_to_pq_y(\n",
    "#     Path(\"../output/jsons/test_labels.jsonl\"),\n",
    "#     Path(\"../output/\"),\n",
    "# )"
   ]
  },
  {
   "cell_type": "markdown",
   "id": "8d3b6de7",
   "metadata": {},
   "source": [
    "## Deep Prepro"
   ]
  },
  {
   "cell_type": "code",
   "execution_count": null,
   "id": "0b76c7e8",
   "metadata": {},
   "outputs": [],
   "source": [
    "DATA_PATH = Path('../input/')\n",
    "OUT_DIR = Path(\"../output/\")"
   ]
  },
  {
   "cell_type": "code",
   "execution_count": null,
   "id": "c6cfbc37",
   "metadata": {
    "papermill": {
     "duration": 0.01497,
     "end_time": "2022-11-02T16:29:17.692073",
     "exception": false,
     "start_time": "2022-11-02T16:29:17.677103",
     "status": "completed"
    },
    "tags": []
   },
   "outputs": [],
   "source": [
    "TRAIN_PATH = DATA_PATH / 'train.jsonl'\n",
    "TEST_PATH = DATA_PATH / 'test.jsonl'\n",
    "\n",
    "TRAIN_PATH = DATA_PATH / 'train_sessions.jsonl'\n",
    "VAL_PATH = DATA_PATH / 'val_sessions.jsonl'\n",
    "# train_sessions\n",
    "\n",
    "CLASSES = ['', 'clicks', 'carts', 'orders']"
   ]
  },
  {
   "cell_type": "markdown",
   "id": "6ed6523d",
   "metadata": {},
   "source": [
    "## Parquet"
   ]
  },
  {
   "cell_type": "code",
   "execution_count": null,
   "id": "2a0a4302",
   "metadata": {},
   "outputs": [],
   "source": [
    "def crop_pad(x, max_len=20):\n",
    "    if len(x) > max_len:\n",
    "        return x[:max_len]\n",
    "    else:\n",
    "        return list(x) + [0 for i in range(max_len - len(x))]"
   ]
  },
  {
   "cell_type": "code",
   "execution_count": null,
   "id": "922b0074",
   "metadata": {},
   "outputs": [],
   "source": [
    "def create_df(sessions, aids, tss, types, labels_clicks, labels_carts, labels_orders):\n",
    "    df = pd.DataFrame(data={\n",
    "        'session': sessions,\n",
    "        'aid': aids,\n",
    "        'ts': tss,\n",
    "        'type': types,\n",
    "        \"labels_clicks\": labels_clicks,\n",
    "        \"labels_carts\": labels_carts,\n",
    "        \"labels_orders\": labels_orders,\n",
    "    })\n",
    "\n",
    "    # Adapt to NVT compatible format\n",
    "    df['type'] = df['type'].apply(lambda x: [CLASSES.index(c) for c in x])\n",
    "\n",
    "    df['labels_carts'] = df['labels_carts'].apply(lambda x_: np.array([crop_pad(x) for x in x_]).astype(float))\n",
    "    df['labels_orders'] = df['labels_orders'].apply(lambda x_: np.array([crop_pad(x) for x in x_]).astype(float))\n",
    "    for i in range(20):\n",
    "        df[f'labels_carts_{i}'] = df['labels_carts'].apply(lambda x: x[:, i])\n",
    "        df[f'labels_orders_{i}'] = df['labels_orders'].apply(lambda x: x[:, i])\n",
    "\n",
    "    df.drop(['labels_carts', 'labels_orders'], axis=1, inplace=True)\n",
    "    \n",
    "    return df"
   ]
  },
  {
   "cell_type": "code",
   "execution_count": null,
   "id": "686193f1",
   "metadata": {},
   "outputs": [],
   "source": [
    "def jsonl_to_df(filename, total=1290, name=\"train\", max_chunks=200, save=True):\n",
    "    chunks = pd.read_json(filename, lines=True, chunksize=10000)\n",
    "    idx = 0\n",
    "\n",
    "    sessions, aids, tss, types, labels_clicks, labels_carts, labels_orders = [], [], [], [], [], [], []\n",
    "    for i, chunk in tqdm(enumerate(chunks), total=total):\n",
    "        for row_idx, session_data in chunk.iterrows():\n",
    "            aids_, tss_, types_, labels_clicks_, labels_carts_, labels_orders_ = [], [], [], [], [], []\n",
    "\n",
    "            events = ground_truth(session_data.events)  if len(session_data['events']) > 1 else session_data.events\n",
    "            for event in events:\n",
    "                aids_.append(event['aid'])\n",
    "                tss_.append(event['ts'])\n",
    "                types_.append(event['type'])\n",
    "                labels_clicks_.append(event.get('labels', {}).get(\"clicks\", 0))\n",
    "                labels_carts_.append(list(event.get('labels', {}).get(\"carts\", [])))\n",
    "                labels_orders_.append(list(event.get('labels', {}).get(\"orders\", [])))\n",
    "\n",
    "            sessions.append(session_data.session)\n",
    "            aids.append(aids_)\n",
    "            tss.append(tss_)\n",
    "            types.append(types_)\n",
    "            labels_clicks.append(labels_clicks_)\n",
    "            labels_carts.append(labels_carts_)\n",
    "            labels_orders.append(labels_orders_)\n",
    "\n",
    "#         break\n",
    "        \n",
    "        if ((i > 0) and (i % max_chunks) == 0):\n",
    "            df = create_df(sessions, aids, tss, types, labels_clicks, labels_carts, labels_orders)\n",
    "            sessions, aids, tss, types, labels_clicks, labels_carts, labels_orders = [], [], [], [], [], [], []\n",
    "            if save:\n",
    "                file = f'../output/{name}_{idx}.parquet'\n",
    "#                 print(f'Saving data to {file}')\n",
    "                df.to_parquet(file, index=False)\n",
    "            idx += 1\n",
    "            \n",
    "            del df\n",
    "            gc.collect()\n",
    "\n",
    "    df = create_df(sessions, aids, tss, types, labels_clicks, labels_carts, labels_orders)\n",
    "    \n",
    "    if save:\n",
    "        file = f'../output/{name}_{idx}.parquet' if idx > 0 else f'../output/{name}.parquet'\n",
    "        print(f'Saving data to {file}')\n",
    "        df.to_parquet(file, index=False)\n",
    "    \n",
    "    else:\n",
    "        return df"
   ]
  },
  {
   "cell_type": "code",
   "execution_count": null,
   "id": "51c1fcfa",
   "metadata": {},
   "outputs": [],
   "source": [
    "_ = jsonl_to_df(TRAIN_PATH, total=1101, name=\"train\", save=True, max_chunks=25)"
   ]
  },
  {
   "cell_type": "code",
   "execution_count": null,
   "id": "65e964aa",
   "metadata": {},
   "outputs": [],
   "source": [
    "# df_val = jsonl_to_df(VAL_PATH, total=181, name=\"val\", save=True)"
   ]
  },
  {
   "cell_type": "code",
   "execution_count": null,
   "id": "5e646d18",
   "metadata": {},
   "outputs": [],
   "source": [
    "# df_test = jsonl_to_df(TEST_PATH, total=168, name=\"test\", save=True)"
   ]
  },
  {
   "cell_type": "markdown",
   "id": "56a9e8e4",
   "metadata": {},
   "source": [
    "### Parquet nogroup"
   ]
  },
  {
   "cell_type": "code",
   "execution_count": null,
   "id": "800abac7",
   "metadata": {},
   "outputs": [],
   "source": [
    "def jsonl_to_df_nogroup(filename, total=1290, name=\"train\", max_chunks=200, save=True):\n",
    "    \n",
    "    chunks = pd.read_json(filename, lines=True, chunksize=10000)\n",
    "    idx = 0\n",
    "\n",
    "    sessions, aids, tss, types, labels_clicks, labels_carts, labels_orders = [], [], [], [], [], [], []\n",
    "    for i, chunk in tqdm(enumerate(chunks), total=total):\n",
    "        for row_idx, session_data in chunk.iterrows():\n",
    "            aids_, tss_, types_, labels_clicks_, labels_carts_, labels_orders_ = [], [], [], [], [], []\n",
    "\n",
    "            events = ground_truth(session_data.events) if len(session_data['events']) > 1 else session_data.events\n",
    "            for event in events:\n",
    "                aids.append(event['aid'])\n",
    "                tss.append(event['ts'])\n",
    "                types_.append(event['type'])\n",
    "                labels_clicks.append(event.get('labels', {}).get(\"clicks\", 0))\n",
    "                labels_carts.append(list(event.get('labels', {}).get(\"carts\", [])))\n",
    "                labels_orders.append(list(event.get('labels', {}).get(\"orders\", [])))\n",
    "\n",
    "                sessions.append(session_data.session)\n",
    "#         break\n",
    "        \n",
    "        if ((i > 0) and (i % max_chunks) == 0):\n",
    "            df = create_df(sessions, aids, tss, types, labels_clicks, labels_carts, labels_orders)\n",
    "            sessions, aids, tss, types, labels_clicks, labels_carts, labels_orders = [], [], [], [], [], [], []\n",
    "            if save:\n",
    "                file = f'../input/parquets_2/{name}_{idx}.parquet'\n",
    "                print(f'Saving data to {file}')\n",
    "                df.to_parquet(file, index=False)\n",
    "            idx += 1\n",
    "\n",
    "    df = create_df(sessions, aids, tss, types, labels_clicks, labels_carts, labels_orders)\n",
    "    \n",
    "    if save:\n",
    "        file = f'../input/parquets_2/{name}_{idx}.parquet' if idx > 0 else f'../input/parquets_2/{name}.parquet'\n",
    "        print(f'Saving data to {file}')\n",
    "        df.to_parquet(file, index=False)\n",
    "    else:\n",
    "        return df"
   ]
  },
  {
   "cell_type": "code",
   "execution_count": null,
   "id": "95efc1bf",
   "metadata": {},
   "outputs": [],
   "source": [
    "# _ = jsonl_to_df_train(TRAIN_PATH, total=1200, name=\"train\", save=True)"
   ]
  },
  {
   "cell_type": "code",
   "execution_count": null,
   "id": "0eb52c8f",
   "metadata": {},
   "outputs": [],
   "source": [
    "df_val = jsonl_to_df_nogroup(VAL_PATH, total=181, name=\"val\", save=True)"
   ]
  },
  {
   "cell_type": "code",
   "execution_count": null,
   "id": "e81a3dad",
   "metadata": {},
   "outputs": [],
   "source": [
    "df_test = jsonl_to_df_nogroup(TEST_PATH, total=168, name=\"test\", save=True)"
   ]
  },
  {
   "cell_type": "code",
   "execution_count": null,
   "id": "a0611897",
   "metadata": {},
   "outputs": [],
   "source": [
    "df_val.head()"
   ]
  }
 ],
 "metadata": {
  "kernelspec": {
   "display_name": "Python 3 (ipykernel)",
   "language": "python",
   "name": "python3"
  },
  "language_info": {
   "codemirror_mode": {
    "name": "ipython",
    "version": 3
   },
   "file_extension": ".py",
   "mimetype": "text/x-python",
   "name": "python",
   "nbconvert_exporter": "python",
   "pygments_lexer": "ipython3",
   "version": "3.8.10"
  },
  "papermill": {
   "default_parameters": {},
   "duration": 17.580155,
   "end_time": "2022-11-02T16:29:25.057961",
   "environment_variables": {},
   "exception": null,
   "input_path": "__notebook__.ipynb",
   "output_path": "__notebook__.ipynb",
   "parameters": {},
   "start_time": "2022-11-02T16:29:07.477806",
   "version": "2.3.4"
  },
  "widgets": {
   "application/vnd.jupyter.widget-state+json": {
    "state": {
     "00b765cb2aed441a93cc0bb6cbe82361": {
      "model_module": "@jupyter-widgets/base",
      "model_module_version": "1.2.0",
      "model_name": "LayoutModel",
      "state": {
       "_model_module": "@jupyter-widgets/base",
       "_model_module_version": "1.2.0",
       "_model_name": "LayoutModel",
       "_view_count": null,
       "_view_module": "@jupyter-widgets/base",
       "_view_module_version": "1.2.0",
       "_view_name": "LayoutView",
       "align_content": null,
       "align_items": null,
       "align_self": null,
       "border": null,
       "bottom": null,
       "display": null,
       "flex": null,
       "flex_flow": null,
       "grid_area": null,
       "grid_auto_columns": null,
       "grid_auto_flow": null,
       "grid_auto_rows": null,
       "grid_column": null,
       "grid_gap": null,
       "grid_row": null,
       "grid_template_areas": null,
       "grid_template_columns": null,
       "grid_template_rows": null,
       "height": null,
       "justify_content": null,
       "justify_items": null,
       "left": null,
       "margin": null,
       "max_height": null,
       "max_width": null,
       "min_height": null,
       "min_width": null,
       "object_fit": null,
       "object_position": null,
       "order": null,
       "overflow": null,
       "overflow_x": null,
       "overflow_y": null,
       "padding": null,
       "right": null,
       "top": null,
       "visibility": null,
       "width": null
      }
     },
     "079ac70f85bb438a90c8a87f54ab7075": {
      "model_module": "@jupyter-widgets/base",
      "model_module_version": "1.2.0",
      "model_name": "LayoutModel",
      "state": {
       "_model_module": "@jupyter-widgets/base",
       "_model_module_version": "1.2.0",
       "_model_name": "LayoutModel",
       "_view_count": null,
       "_view_module": "@jupyter-widgets/base",
       "_view_module_version": "1.2.0",
       "_view_name": "LayoutView",
       "align_content": null,
       "align_items": null,
       "align_self": null,
       "border": null,
       "bottom": null,
       "display": null,
       "flex": null,
       "flex_flow": null,
       "grid_area": null,
       "grid_auto_columns": null,
       "grid_auto_flow": null,
       "grid_auto_rows": null,
       "grid_column": null,
       "grid_gap": null,
       "grid_row": null,
       "grid_template_areas": null,
       "grid_template_columns": null,
       "grid_template_rows": null,
       "height": null,
       "justify_content": null,
       "justify_items": null,
       "left": null,
       "margin": null,
       "max_height": null,
       "max_width": null,
       "min_height": null,
       "min_width": null,
       "object_fit": null,
       "object_position": null,
       "order": null,
       "overflow": null,
       "overflow_x": null,
       "overflow_y": null,
       "padding": null,
       "right": null,
       "top": null,
       "visibility": null,
       "width": null
      }
     },
     "2f12fb9926da4790a86a6e2332bf5bed": {
      "model_module": "@jupyter-widgets/controls",
      "model_module_version": "1.5.0",
      "model_name": "FloatProgressModel",
      "state": {
       "_dom_classes": [],
       "_model_module": "@jupyter-widgets/controls",
       "_model_module_version": "1.5.0",
       "_model_name": "FloatProgressModel",
       "_view_count": null,
       "_view_module": "@jupyter-widgets/controls",
       "_view_module_version": "1.5.0",
       "_view_name": "ProgressView",
       "bar_style": "danger",
       "description": "",
       "description_tooltip": null,
       "layout": "IPY_MODEL_ba8abdabc3f24504ad149a5636dc5fb9",
       "max": 1290,
       "min": 0,
       "orientation": "horizontal",
       "style": "IPY_MODEL_f182c99639214af08858bbcfe868bea9",
       "value": 0
      }
     },
     "364fe7476198475faa7f9c4f855516de": {
      "model_module": "@jupyter-widgets/controls",
      "model_module_version": "1.5.0",
      "model_name": "DescriptionStyleModel",
      "state": {
       "_model_module": "@jupyter-widgets/controls",
       "_model_module_version": "1.5.0",
       "_model_name": "DescriptionStyleModel",
       "_view_count": null,
       "_view_module": "@jupyter-widgets/base",
       "_view_module_version": "1.2.0",
       "_view_name": "StyleView",
       "description_width": ""
      }
     },
     "365f4c8c7f114fa3855ae44c2c3759cd": {
      "model_module": "@jupyter-widgets/controls",
      "model_module_version": "1.5.0",
      "model_name": "DescriptionStyleModel",
      "state": {
       "_model_module": "@jupyter-widgets/controls",
       "_model_module_version": "1.5.0",
       "_model_name": "DescriptionStyleModel",
       "_view_count": null,
       "_view_module": "@jupyter-widgets/base",
       "_view_module_version": "1.2.0",
       "_view_name": "StyleView",
       "description_width": ""
      }
     },
     "67009380d9664ccd81a123298c2286da": {
      "model_module": "@jupyter-widgets/controls",
      "model_module_version": "1.5.0",
      "model_name": "HBoxModel",
      "state": {
       "_dom_classes": [],
       "_model_module": "@jupyter-widgets/controls",
       "_model_module_version": "1.5.0",
       "_model_name": "HBoxModel",
       "_view_count": null,
       "_view_module": "@jupyter-widgets/controls",
       "_view_module_version": "1.5.0",
       "_view_name": "HBoxView",
       "box_style": "",
       "children": [
        "IPY_MODEL_c32a87e633ab4cdb98bf82f6c14af103",
        "IPY_MODEL_2f12fb9926da4790a86a6e2332bf5bed",
        "IPY_MODEL_b1a80e268d5f4e4682981b53b4a82a82"
       ],
       "layout": "IPY_MODEL_00b765cb2aed441a93cc0bb6cbe82361"
      }
     },
     "89c1b9ec4b284bd88d66268a1fbd2c0c": {
      "model_module": "@jupyter-widgets/base",
      "model_module_version": "1.2.0",
      "model_name": "LayoutModel",
      "state": {
       "_model_module": "@jupyter-widgets/base",
       "_model_module_version": "1.2.0",
       "_model_name": "LayoutModel",
       "_view_count": null,
       "_view_module": "@jupyter-widgets/base",
       "_view_module_version": "1.2.0",
       "_view_name": "LayoutView",
       "align_content": null,
       "align_items": null,
       "align_self": null,
       "border": null,
       "bottom": null,
       "display": null,
       "flex": null,
       "flex_flow": null,
       "grid_area": null,
       "grid_auto_columns": null,
       "grid_auto_flow": null,
       "grid_auto_rows": null,
       "grid_column": null,
       "grid_gap": null,
       "grid_row": null,
       "grid_template_areas": null,
       "grid_template_columns": null,
       "grid_template_rows": null,
       "height": null,
       "justify_content": null,
       "justify_items": null,
       "left": null,
       "margin": null,
       "max_height": null,
       "max_width": null,
       "min_height": null,
       "min_width": null,
       "object_fit": null,
       "object_position": null,
       "order": null,
       "overflow": null,
       "overflow_x": null,
       "overflow_y": null,
       "padding": null,
       "right": null,
       "top": null,
       "visibility": null,
       "width": null
      }
     },
     "b1a80e268d5f4e4682981b53b4a82a82": {
      "model_module": "@jupyter-widgets/controls",
      "model_module_version": "1.5.0",
      "model_name": "HTMLModel",
      "state": {
       "_dom_classes": [],
       "_model_module": "@jupyter-widgets/controls",
       "_model_module_version": "1.5.0",
       "_model_name": "HTMLModel",
       "_view_count": null,
       "_view_module": "@jupyter-widgets/controls",
       "_view_module_version": "1.5.0",
       "_view_name": "HTMLView",
       "description": "",
       "description_tooltip": null,
       "layout": "IPY_MODEL_079ac70f85bb438a90c8a87f54ab7075",
       "placeholder": "​",
       "style": "IPY_MODEL_364fe7476198475faa7f9c4f855516de",
       "value": " 0/1290 [00:02&lt;?, ?it/s]"
      }
     },
     "ba8abdabc3f24504ad149a5636dc5fb9": {
      "model_module": "@jupyter-widgets/base",
      "model_module_version": "1.2.0",
      "model_name": "LayoutModel",
      "state": {
       "_model_module": "@jupyter-widgets/base",
       "_model_module_version": "1.2.0",
       "_model_name": "LayoutModel",
       "_view_count": null,
       "_view_module": "@jupyter-widgets/base",
       "_view_module_version": "1.2.0",
       "_view_name": "LayoutView",
       "align_content": null,
       "align_items": null,
       "align_self": null,
       "border": null,
       "bottom": null,
       "display": null,
       "flex": null,
       "flex_flow": null,
       "grid_area": null,
       "grid_auto_columns": null,
       "grid_auto_flow": null,
       "grid_auto_rows": null,
       "grid_column": null,
       "grid_gap": null,
       "grid_row": null,
       "grid_template_areas": null,
       "grid_template_columns": null,
       "grid_template_rows": null,
       "height": null,
       "justify_content": null,
       "justify_items": null,
       "left": null,
       "margin": null,
       "max_height": null,
       "max_width": null,
       "min_height": null,
       "min_width": null,
       "object_fit": null,
       "object_position": null,
       "order": null,
       "overflow": null,
       "overflow_x": null,
       "overflow_y": null,
       "padding": null,
       "right": null,
       "top": null,
       "visibility": null,
       "width": null
      }
     },
     "c32a87e633ab4cdb98bf82f6c14af103": {
      "model_module": "@jupyter-widgets/controls",
      "model_module_version": "1.5.0",
      "model_name": "HTMLModel",
      "state": {
       "_dom_classes": [],
       "_model_module": "@jupyter-widgets/controls",
       "_model_module_version": "1.5.0",
       "_model_name": "HTMLModel",
       "_view_count": null,
       "_view_module": "@jupyter-widgets/controls",
       "_view_module_version": "1.5.0",
       "_view_name": "HTMLView",
       "description": "",
       "description_tooltip": null,
       "layout": "IPY_MODEL_89c1b9ec4b284bd88d66268a1fbd2c0c",
       "placeholder": "​",
       "style": "IPY_MODEL_365f4c8c7f114fa3855ae44c2c3759cd",
       "value": "  0%"
      }
     },
     "f182c99639214af08858bbcfe868bea9": {
      "model_module": "@jupyter-widgets/controls",
      "model_module_version": "1.5.0",
      "model_name": "ProgressStyleModel",
      "state": {
       "_model_module": "@jupyter-widgets/controls",
       "_model_module_version": "1.5.0",
       "_model_name": "ProgressStyleModel",
       "_view_count": null,
       "_view_module": "@jupyter-widgets/base",
       "_view_module_version": "1.2.0",
       "_view_name": "StyleView",
       "bar_color": null,
       "description_width": ""
      }
     }
    },
    "version_major": 2,
    "version_minor": 0
   }
  }
 },
 "nbformat": 4,
 "nbformat_minor": 5
}
