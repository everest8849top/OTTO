{
 "cells": [
  {
   "cell_type": "markdown",
   "id": "8b1a6b15",
   "metadata": {
    "papermill": {
     "duration": 0.005708,
     "end_time": "2022-11-02T16:29:16.373015",
     "exception": false,
     "start_time": "2022-11-02T16:29:16.367307",
     "status": "completed"
    },
    "tags": []
   },
   "source": [
    "### Initialization"
   ]
  },
  {
   "cell_type": "code",
   "execution_count": 1,
   "id": "b6235219",
   "metadata": {
    "_cell_guid": "b1076dfc-b9ad-4769-8c92-a6c4dae69d19",
    "_uuid": "8f2839f25d086af736a60e9eeb907d3b93b6e0e5",
    "papermill": {
     "duration": 1.265093,
     "end_time": "2022-11-02T16:29:17.662667",
     "exception": false,
     "start_time": "2022-11-02T16:29:16.397574",
     "status": "completed"
    },
    "tags": []
   },
   "outputs": [],
   "source": [
    "import os\n",
    "import numpy as np\n",
    "import pandas as pd\n",
    "import seaborn as sns\n",
    "import matplotlib.pyplot as plt\n",
    "\n",
    "from pathlib import Path\n",
    "from tqdm import tqdm\n",
    "from collections import Counter\n",
    "from joblib import Parallel, delayed"
   ]
  },
  {
   "cell_type": "markdown",
   "id": "b5e6ee26",
   "metadata": {
    "papermill": {
     "duration": 0.004536,
     "end_time": "2022-11-02T16:29:17.672217",
     "exception": false,
     "start_time": "2022-11-02T16:29:17.667681",
     "status": "completed"
    },
    "tags": []
   },
   "source": [
    "### Data"
   ]
  },
  {
   "cell_type": "code",
   "execution_count": 2,
   "id": "6f1cb2f4",
   "metadata": {
    "papermill": {
     "duration": 0.01497,
     "end_time": "2022-11-02T16:29:17.692073",
     "exception": false,
     "start_time": "2022-11-02T16:29:17.677103",
     "status": "completed"
    },
    "tags": []
   },
   "outputs": [],
   "source": [
    "DATA_PATH = Path('../input/')\n",
    "\n",
    "TRAIN_PATH = DATA_PATH / 'train.jsonl'\n",
    "TEST_PATH = DATA_PATH / 'test.jsonl'\n",
    "\n",
    "CLASSES = ['clicks', 'carts', 'orders']"
   ]
  },
  {
   "cell_type": "code",
   "execution_count": 3,
   "id": "ed546df0",
   "metadata": {
    "papermill": {
     "duration": 0.021623,
     "end_time": "2022-11-02T16:29:17.718649",
     "exception": false,
     "start_time": "2022-11-02T16:29:17.697026",
     "status": "completed"
    },
    "tags": []
   },
   "outputs": [],
   "source": [
    "OUT_DIR = \"../input/processed/\"\n",
    "os.makedirs(OUT_DIR, exist_ok=True)\n",
    "\n",
    "sample_size = 10000\n",
    "n_chunks = 12899779 // sample_size + 1\n",
    "\n",
    "chunks = pd.read_json(TRAIN_PATH, lines=True, chunksize=sample_size)"
   ]
  },
  {
   "cell_type": "code",
   "execution_count": 4,
   "id": "68dc3326",
   "metadata": {
    "papermill": {
     "duration": 0.018212,
     "end_time": "2022-11-02T16:29:17.741895",
     "exception": false,
     "start_time": "2022-11-02T16:29:17.723683",
     "status": "completed"
    },
    "tags": []
   },
   "outputs": [],
   "source": [
    "def process_data(chunk, save_folder=\"\"):\n",
    "    arrays = c['events'].apply(lambda x: np.array([[c['aid'], c['ts'], CLASSES.index(c['type'])] for c in x]).astype(int))\n",
    "\n",
    "    if save_folder:\n",
    "        for session, array in zip(chunk['session'], arrays):\n",
    "            np.save(save_folder + f\"session_{session}.npy\", array)\n",
    "\n",
    "    return arrays"
   ]
  },
  {
   "cell_type": "code",
   "execution_count": 5,
   "id": "4fa19eda",
   "metadata": {
    "papermill": {
     "duration": 3.623102,
     "end_time": "2022-11-02T16:29:21.372234",
     "exception": false,
     "start_time": "2022-11-02T16:29:17.749132",
     "status": "completed"
    },
    "tags": []
   },
   "outputs": [],
   "source": [
    "# %%time\n",
    "\n",
    "# ids = set()\n",
    "# for c in chunks:\n",
    "#     arrays = process_data(c, \"\")\n",
    "    \n",
    "#     ids_ = np.concatenate([a[:, 0] for a in arrays])\n",
    "#     ids.update(ids_.tolist())\n",
    "#     break"
   ]
  },
  {
   "cell_type": "code",
   "execution_count": 8,
   "id": "46f90cf0",
   "metadata": {
    "papermill": {
     "duration": 2.587104,
     "end_time": "2022-11-02T16:29:23.989354",
     "exception": false,
     "start_time": "2022-11-02T16:29:21.402250",
     "status": "completed"
    },
    "tags": []
   },
   "outputs": [
    {
     "name": "stderr",
     "output_type": "stream",
     "text": [
      "100%|█████████▉| 1289/1290 [1:02:42<00:02,  2.92s/it]\n"
     ]
    }
   ],
   "source": [
    "ids = set()\n",
    "\n",
    "for c in tqdm(chunks, total=n_chunks):\n",
    "    arrays = process_data(c, OUT_DIR)\n",
    "\n",
    "    ids_ = np.concatenate([a[:, 0] for a in arrays])\n",
    "    ids.update(ids_.tolist())\n",
    "#     break"
   ]
  },
  {
   "cell_type": "markdown",
   "id": "10a0076b",
   "metadata": {},
   "source": [
    "### Test"
   ]
  },
  {
   "cell_type": "code",
   "execution_count": 11,
   "id": "dffa9f56",
   "metadata": {
    "papermill": {
     "duration": 0.021623,
     "end_time": "2022-11-02T16:29:17.718649",
     "exception": false,
     "start_time": "2022-11-02T16:29:17.697026",
     "status": "completed"
    },
    "tags": []
   },
   "outputs": [],
   "source": [
    "OUT_DIR = \"../input/processed_test/\"\n",
    "os.makedirs(OUT_DIR, exist_ok=True)\n",
    "\n",
    "sample_size = 10000\n",
    "n_chunks = 1671803 // sample_size + 1\n",
    "\n",
    "chunks = pd.read_json(TEST_PATH, lines=True, chunksize=sample_size)"
   ]
  },
  {
   "cell_type": "code",
   "execution_count": 13,
   "id": "a224e34b",
   "metadata": {
    "papermill": {
     "duration": 2.587104,
     "end_time": "2022-11-02T16:29:23.989354",
     "exception": false,
     "start_time": "2022-11-02T16:29:21.402250",
     "status": "completed"
    },
    "tags": []
   },
   "outputs": [
    {
     "name": "stderr",
     "output_type": "stream",
     "text": [
      "100%|██████████| 168/168 [06:26<00:00,  2.30s/it]\n"
     ]
    }
   ],
   "source": [
    "ids = set()\n",
    "\n",
    "for c in tqdm(chunks, total=n_chunks):\n",
    "    arrays = process_data(c, OUT_DIR)\n",
    "\n",
    "    ids_ = np.concatenate([a[:, 0] for a in arrays])\n",
    "    ids.update(ids_.tolist())\n",
    "#     break"
   ]
  },
  {
   "cell_type": "code",
   "execution_count": 7,
   "id": "0a1c26d0",
   "metadata": {
    "papermill": {
     "duration": 0.013787,
     "end_time": "2022-11-02T16:29:24.009854",
     "exception": false,
     "start_time": "2022-11-02T16:29:23.996067",
     "status": "completed"
    },
    "tags": []
   },
   "outputs": [],
   "source": [
    "# chunks = pd.read_json(TRAIN_PATH, lines=True, chunksize=sample_size)\n",
    "\n",
    "# _ = Parallel(n_jobs=os.cpu_count())(\n",
    "#     delayed(process_data)(c, OUT_DIR)\n",
    "#     for c in tqdm(chunks, total=n_chunks)\n",
    "# )"
   ]
  }
 ],
 "metadata": {
  "kernelspec": {
   "display_name": "Python 3 (ipykernel)",
   "language": "python",
   "name": "python3"
  },
  "language_info": {
   "codemirror_mode": {
    "name": "ipython",
    "version": 3
   },
   "file_extension": ".py",
   "mimetype": "text/x-python",
   "name": "python",
   "nbconvert_exporter": "python",
   "pygments_lexer": "ipython3",
   "version": "3.8.13"
  },
  "papermill": {
   "default_parameters": {},
   "duration": 17.580155,
   "end_time": "2022-11-02T16:29:25.057961",
   "environment_variables": {},
   "exception": null,
   "input_path": "__notebook__.ipynb",
   "output_path": "__notebook__.ipynb",
   "parameters": {},
   "start_time": "2022-11-02T16:29:07.477806",
   "version": "2.3.4"
  },
  "widgets": {
   "application/vnd.jupyter.widget-state+json": {
    "state": {
     "00b765cb2aed441a93cc0bb6cbe82361": {
      "model_module": "@jupyter-widgets/base",
      "model_module_version": "1.2.0",
      "model_name": "LayoutModel",
      "state": {
       "_model_module": "@jupyter-widgets/base",
       "_model_module_version": "1.2.0",
       "_model_name": "LayoutModel",
       "_view_count": null,
       "_view_module": "@jupyter-widgets/base",
       "_view_module_version": "1.2.0",
       "_view_name": "LayoutView",
       "align_content": null,
       "align_items": null,
       "align_self": null,
       "border": null,
       "bottom": null,
       "display": null,
       "flex": null,
       "flex_flow": null,
       "grid_area": null,
       "grid_auto_columns": null,
       "grid_auto_flow": null,
       "grid_auto_rows": null,
       "grid_column": null,
       "grid_gap": null,
       "grid_row": null,
       "grid_template_areas": null,
       "grid_template_columns": null,
       "grid_template_rows": null,
       "height": null,
       "justify_content": null,
       "justify_items": null,
       "left": null,
       "margin": null,
       "max_height": null,
       "max_width": null,
       "min_height": null,
       "min_width": null,
       "object_fit": null,
       "object_position": null,
       "order": null,
       "overflow": null,
       "overflow_x": null,
       "overflow_y": null,
       "padding": null,
       "right": null,
       "top": null,
       "visibility": null,
       "width": null
      }
     },
     "079ac70f85bb438a90c8a87f54ab7075": {
      "model_module": "@jupyter-widgets/base",
      "model_module_version": "1.2.0",
      "model_name": "LayoutModel",
      "state": {
       "_model_module": "@jupyter-widgets/base",
       "_model_module_version": "1.2.0",
       "_model_name": "LayoutModel",
       "_view_count": null,
       "_view_module": "@jupyter-widgets/base",
       "_view_module_version": "1.2.0",
       "_view_name": "LayoutView",
       "align_content": null,
       "align_items": null,
       "align_self": null,
       "border": null,
       "bottom": null,
       "display": null,
       "flex": null,
       "flex_flow": null,
       "grid_area": null,
       "grid_auto_columns": null,
       "grid_auto_flow": null,
       "grid_auto_rows": null,
       "grid_column": null,
       "grid_gap": null,
       "grid_row": null,
       "grid_template_areas": null,
       "grid_template_columns": null,
       "grid_template_rows": null,
       "height": null,
       "justify_content": null,
       "justify_items": null,
       "left": null,
       "margin": null,
       "max_height": null,
       "max_width": null,
       "min_height": null,
       "min_width": null,
       "object_fit": null,
       "object_position": null,
       "order": null,
       "overflow": null,
       "overflow_x": null,
       "overflow_y": null,
       "padding": null,
       "right": null,
       "top": null,
       "visibility": null,
       "width": null
      }
     },
     "2f12fb9926da4790a86a6e2332bf5bed": {
      "model_module": "@jupyter-widgets/controls",
      "model_module_version": "1.5.0",
      "model_name": "FloatProgressModel",
      "state": {
       "_dom_classes": [],
       "_model_module": "@jupyter-widgets/controls",
       "_model_module_version": "1.5.0",
       "_model_name": "FloatProgressModel",
       "_view_count": null,
       "_view_module": "@jupyter-widgets/controls",
       "_view_module_version": "1.5.0",
       "_view_name": "ProgressView",
       "bar_style": "danger",
       "description": "",
       "description_tooltip": null,
       "layout": "IPY_MODEL_ba8abdabc3f24504ad149a5636dc5fb9",
       "max": 1290,
       "min": 0,
       "orientation": "horizontal",
       "style": "IPY_MODEL_f182c99639214af08858bbcfe868bea9",
       "value": 0
      }
     },
     "364fe7476198475faa7f9c4f855516de": {
      "model_module": "@jupyter-widgets/controls",
      "model_module_version": "1.5.0",
      "model_name": "DescriptionStyleModel",
      "state": {
       "_model_module": "@jupyter-widgets/controls",
       "_model_module_version": "1.5.0",
       "_model_name": "DescriptionStyleModel",
       "_view_count": null,
       "_view_module": "@jupyter-widgets/base",
       "_view_module_version": "1.2.0",
       "_view_name": "StyleView",
       "description_width": ""
      }
     },
     "365f4c8c7f114fa3855ae44c2c3759cd": {
      "model_module": "@jupyter-widgets/controls",
      "model_module_version": "1.5.0",
      "model_name": "DescriptionStyleModel",
      "state": {
       "_model_module": "@jupyter-widgets/controls",
       "_model_module_version": "1.5.0",
       "_model_name": "DescriptionStyleModel",
       "_view_count": null,
       "_view_module": "@jupyter-widgets/base",
       "_view_module_version": "1.2.0",
       "_view_name": "StyleView",
       "description_width": ""
      }
     },
     "67009380d9664ccd81a123298c2286da": {
      "model_module": "@jupyter-widgets/controls",
      "model_module_version": "1.5.0",
      "model_name": "HBoxModel",
      "state": {
       "_dom_classes": [],
       "_model_module": "@jupyter-widgets/controls",
       "_model_module_version": "1.5.0",
       "_model_name": "HBoxModel",
       "_view_count": null,
       "_view_module": "@jupyter-widgets/controls",
       "_view_module_version": "1.5.0",
       "_view_name": "HBoxView",
       "box_style": "",
       "children": [
        "IPY_MODEL_c32a87e633ab4cdb98bf82f6c14af103",
        "IPY_MODEL_2f12fb9926da4790a86a6e2332bf5bed",
        "IPY_MODEL_b1a80e268d5f4e4682981b53b4a82a82"
       ],
       "layout": "IPY_MODEL_00b765cb2aed441a93cc0bb6cbe82361"
      }
     },
     "89c1b9ec4b284bd88d66268a1fbd2c0c": {
      "model_module": "@jupyter-widgets/base",
      "model_module_version": "1.2.0",
      "model_name": "LayoutModel",
      "state": {
       "_model_module": "@jupyter-widgets/base",
       "_model_module_version": "1.2.0",
       "_model_name": "LayoutModel",
       "_view_count": null,
       "_view_module": "@jupyter-widgets/base",
       "_view_module_version": "1.2.0",
       "_view_name": "LayoutView",
       "align_content": null,
       "align_items": null,
       "align_self": null,
       "border": null,
       "bottom": null,
       "display": null,
       "flex": null,
       "flex_flow": null,
       "grid_area": null,
       "grid_auto_columns": null,
       "grid_auto_flow": null,
       "grid_auto_rows": null,
       "grid_column": null,
       "grid_gap": null,
       "grid_row": null,
       "grid_template_areas": null,
       "grid_template_columns": null,
       "grid_template_rows": null,
       "height": null,
       "justify_content": null,
       "justify_items": null,
       "left": null,
       "margin": null,
       "max_height": null,
       "max_width": null,
       "min_height": null,
       "min_width": null,
       "object_fit": null,
       "object_position": null,
       "order": null,
       "overflow": null,
       "overflow_x": null,
       "overflow_y": null,
       "padding": null,
       "right": null,
       "top": null,
       "visibility": null,
       "width": null
      }
     },
     "b1a80e268d5f4e4682981b53b4a82a82": {
      "model_module": "@jupyter-widgets/controls",
      "model_module_version": "1.5.0",
      "model_name": "HTMLModel",
      "state": {
       "_dom_classes": [],
       "_model_module": "@jupyter-widgets/controls",
       "_model_module_version": "1.5.0",
       "_model_name": "HTMLModel",
       "_view_count": null,
       "_view_module": "@jupyter-widgets/controls",
       "_view_module_version": "1.5.0",
       "_view_name": "HTMLView",
       "description": "",
       "description_tooltip": null,
       "layout": "IPY_MODEL_079ac70f85bb438a90c8a87f54ab7075",
       "placeholder": "​",
       "style": "IPY_MODEL_364fe7476198475faa7f9c4f855516de",
       "value": " 0/1290 [00:02&lt;?, ?it/s]"
      }
     },
     "ba8abdabc3f24504ad149a5636dc5fb9": {
      "model_module": "@jupyter-widgets/base",
      "model_module_version": "1.2.0",
      "model_name": "LayoutModel",
      "state": {
       "_model_module": "@jupyter-widgets/base",
       "_model_module_version": "1.2.0",
       "_model_name": "LayoutModel",
       "_view_count": null,
       "_view_module": "@jupyter-widgets/base",
       "_view_module_version": "1.2.0",
       "_view_name": "LayoutView",
       "align_content": null,
       "align_items": null,
       "align_self": null,
       "border": null,
       "bottom": null,
       "display": null,
       "flex": null,
       "flex_flow": null,
       "grid_area": null,
       "grid_auto_columns": null,
       "grid_auto_flow": null,
       "grid_auto_rows": null,
       "grid_column": null,
       "grid_gap": null,
       "grid_row": null,
       "grid_template_areas": null,
       "grid_template_columns": null,
       "grid_template_rows": null,
       "height": null,
       "justify_content": null,
       "justify_items": null,
       "left": null,
       "margin": null,
       "max_height": null,
       "max_width": null,
       "min_height": null,
       "min_width": null,
       "object_fit": null,
       "object_position": null,
       "order": null,
       "overflow": null,
       "overflow_x": null,
       "overflow_y": null,
       "padding": null,
       "right": null,
       "top": null,
       "visibility": null,
       "width": null
      }
     },
     "c32a87e633ab4cdb98bf82f6c14af103": {
      "model_module": "@jupyter-widgets/controls",
      "model_module_version": "1.5.0",
      "model_name": "HTMLModel",
      "state": {
       "_dom_classes": [],
       "_model_module": "@jupyter-widgets/controls",
       "_model_module_version": "1.5.0",
       "_model_name": "HTMLModel",
       "_view_count": null,
       "_view_module": "@jupyter-widgets/controls",
       "_view_module_version": "1.5.0",
       "_view_name": "HTMLView",
       "description": "",
       "description_tooltip": null,
       "layout": "IPY_MODEL_89c1b9ec4b284bd88d66268a1fbd2c0c",
       "placeholder": "​",
       "style": "IPY_MODEL_365f4c8c7f114fa3855ae44c2c3759cd",
       "value": "  0%"
      }
     },
     "f182c99639214af08858bbcfe868bea9": {
      "model_module": "@jupyter-widgets/controls",
      "model_module_version": "1.5.0",
      "model_name": "ProgressStyleModel",
      "state": {
       "_model_module": "@jupyter-widgets/controls",
       "_model_module_version": "1.5.0",
       "_model_name": "ProgressStyleModel",
       "_view_count": null,
       "_view_module": "@jupyter-widgets/base",
       "_view_module_version": "1.2.0",
       "_view_name": "StyleView",
       "bar_color": null,
       "description_width": ""
      }
     }
    },
    "version_major": 2,
    "version_minor": 0
   }
  }
 },
 "nbformat": 4,
 "nbformat_minor": 5
}
