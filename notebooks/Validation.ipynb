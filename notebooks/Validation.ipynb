{
 "cells": [
  {
   "cell_type": "code",
   "execution_count": null,
   "metadata": {},
   "outputs": [],
   "source": [
    "%load_ext autoreload\n",
    "%autoreload 2"
   ]
  },
  {
   "cell_type": "code",
   "execution_count": null,
   "metadata": {},
   "outputs": [],
   "source": [
    "cd ../src"
   ]
  },
  {
   "cell_type": "code",
   "execution_count": null,
   "metadata": {},
   "outputs": [],
   "source": [
    "import os\n",
    "import json\n",
    "import operator\n",
    "import numpy as np\n",
    "import pandas as pd\n",
    "import seaborn as sns\n",
    "import matplotlib.pyplot as plt\n",
    "\n",
    "from tqdm.notebook import tqdm\n",
    "from collections import Counter\n",
    "\n",
    "from params import *\n",
    "from utils.logger import Config, upload_to_kaggle"
   ]
  },
  {
   "cell_type": "code",
   "execution_count": null,
   "metadata": {},
   "outputs": [],
   "source": [
    "from data.preparation import *\n",
    "from data.processing import *\n",
    "from data.post_processing import *\n",
    "\n",
    "from utils.plot import *\n",
    "from utils.metric import *\n",
    "from inference.main import blend"
   ]
  },
  {
   "cell_type": "markdown",
   "metadata": {},
   "source": [
    "## Experiment"
   ]
  },
  {
   "cell_type": "code",
   "execution_count": null,
   "metadata": {},
   "outputs": [],
   "source": [
    "EXP_FOLDERS = [\n",
    "    LOG_PATH + \"2022-04-14/0/\",   # 60. deberta-xlarge  soft pl3 x8 - 0.8911\n",
    "#     LOG_PATH + \"2022-04-13/1/\",   # 60. deberta-xlarge  soft pl3 x8 - 0.8908\n",
    "    \n",
    "    LOG_PATH + \"2022-04-10/0/\",   # 54. deberta-v3-base soft pl3 - 0.891\n",
    "    LOG_PATH + \"2022-04-10/3/\",   # 57. roberta-large soft pl3 - 0.8908\n",
    "    LOG_PATH + \"2022-04-11/1/\",   # 58. deberta-v3-large soft pl3 - 0.8921\n",
    "    LOG_PATH + \"2022-04-12/3/\",   # 59. deberta-large soft pl3 - 0.8919\n",
    "]\n",
    "\n",
    "WEIGHTS = [0, 0, 0, 1, 1]"
   ]
  },
  {
   "cell_type": "code",
   "execution_count": null,
   "metadata": {},
   "outputs": [],
   "source": [
    "# upload_to_kaggle(EXP_FOLDERS, DATASETS_DIR + \"weights_base/\", \"NBME Weights base\")"
   ]
  },
  {
   "cell_type": "markdown",
   "metadata": {},
   "source": [
    "## Load"
   ]
  },
  {
   "cell_type": "code",
   "execution_count": null,
   "metadata": {},
   "outputs": [],
   "source": [
    "config = Config(json.load(open(EXP_FOLDERS[0] + \"config.json\", 'r')))\n",
    "\n",
    "try:\n",
    "    _ = config.lower\n",
    "except AttributeError:\n",
    "    config.lower = True"
   ]
  },
  {
   "cell_type": "code",
   "execution_count": null,
   "metadata": {},
   "outputs": [],
   "source": [
    "df = load_and_prepare(root=DATA_PATH, lower=config.lower)"
   ]
  },
  {
   "cell_type": "code",
   "execution_count": null,
   "metadata": {},
   "outputs": [],
   "source": [
    "folds = pd.read_csv(config.folds_file)\n",
    "df = df.merge(folds, how=\"left\", on=[\"case_num\", \"pn_num\"])"
   ]
  },
  {
   "cell_type": "code",
   "execution_count": null,
   "metadata": {
    "scrolled": true
   },
   "outputs": [],
   "source": [
    "pred_oof = blend(\n",
    "    [np.load(f + \"pred_oof.npy\", allow_pickle=True).tolist() for f in EXP_FOLDERS],\n",
    "    weights=WEIGHTS\n",
    ")\n",
    "\n",
    "# pred_oof = np.load('../output/pred_oof.npy', allow_pickle=True)\n",
    "\n",
    "\n",
    "df[\"probs\"] = pred_oof\n",
    "# df[\"probs1\"] = pred_oof\n",
    "# pred_oof = np.load(EXP_FOLDERS[0] + \"pred_oof.npy\", allow_pickle=True)"
   ]
  },
  {
   "cell_type": "code",
   "execution_count": null,
   "metadata": {},
   "outputs": [],
   "source": [
    "PROB_THRESHOLD = 0.5\n",
    "\n",
    "\n",
    "# PROB_THRESHOLDS = [0.4, 0.6, 0.4, 0.6, 0.8, 0.5, 0.6, 0.6, 0.5, 0.5]\n",
    "# PROB_THRESHOLDS = [0.34, 0.33, 0.45, 0.6, 0.79, 0.47, 0.55, 0.61, 0.75, 0.3]\n",
    "# PROB_THRESHOLDS = [0.4, 0.4, 0.5, 0.5, 0.6, 0.5, 0.5, 0.5, 0.6, 0.4]"
   ]
  },
  {
   "cell_type": "code",
   "execution_count": null,
   "metadata": {},
   "outputs": [],
   "source": [
    "# df['probs'] = pred_oof\n",
    "df['preds'] = preds_to_labels(df[\"probs\"].values.tolist(), threshold=PROB_THRESHOLD)\n",
    "# df['preds'] = preds_to_labels_advanced(pred_oof, df['case_num'].values, thresholds=PROB_THRESHOLDS)\n",
    "\n",
    "df['preds_pp'] = df.apply(lambda x: post_process_spaces(x['preds'], x['clean_text']), 1)"
   ]
  },
  {
   "cell_type": "code",
   "execution_count": null,
   "metadata": {},
   "outputs": [],
   "source": [
    "for i in range(5):\n",
    "    df_ = df[df['fold'] == i].reset_index()\n",
    "    cv_f1 = micro_f1(df_['preds_pp'], df_['target'])\n",
    "    print(f\"-> Fold #{i} score : {cv_f1:.4f}\")\n",
    "#     break\n",
    "\n",
    "cv_f1 = micro_f1(df['preds_pp'], df['target'])\n",
    "print(f\"\\n-> CV score: {cv_f1:.4f}\")"
   ]
  }
 ],
 "metadata": {
  "kernelspec": {
   "display_name": "Python 3 (ipykernel)",
   "language": "python",
   "name": "python3"
  },
  "language_info": {
   "codemirror_mode": {
    "name": "ipython",
    "version": 3
   },
   "file_extension": ".py",
   "mimetype": "text/x-python",
   "name": "python",
   "nbconvert_exporter": "python",
   "pygments_lexer": "ipython3",
   "version": "3.8.10"
  }
 },
 "nbformat": 4,
 "nbformat_minor": 4
}
