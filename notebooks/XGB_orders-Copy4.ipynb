{
 "cells": [
  {
   "cell_type": "markdown",
   "metadata": {},
   "source": [
    "**About :** Trains XGBoost models.\n",
    "\n",
    "**TODO**:\n",
    "- better neg sampling technique ??"
   ]
  },
  {
   "cell_type": "code",
   "execution_count": 1,
   "metadata": {},
   "outputs": [
    {
     "name": "stdout",
     "output_type": "stream",
     "text": [
      "/workspace/kaggle_otto_rs/src\n"
     ]
    }
   ],
   "source": [
    "cd ../src"
   ]
  },
  {
   "cell_type": "code",
   "execution_count": 2,
   "metadata": {},
   "outputs": [],
   "source": [
    "%load_ext autoreload\n",
    "%autoreload 2"
   ]
  },
  {
   "cell_type": "code",
   "execution_count": 3,
   "metadata": {},
   "outputs": [],
   "source": [
    "import os\n",
    "os.environ[\"CUDA_VISIBLE_DEVICES\"] = \"0\""
   ]
  },
  {
   "cell_type": "code",
   "execution_count": 4,
   "metadata": {},
   "outputs": [
    {
     "name": "stdout",
     "output_type": "stream",
     "text": [
      "INFO: Pandarallel will run on 32 workers.\n",
      "INFO: Pandarallel will use Memory file system to transfer data between the main process and workers.\n"
     ]
    }
   ],
   "source": [
    "import os\n",
    "import gc\n",
    "import cudf\n",
    "import json\n",
    "import glob\n",
    "import numba\n",
    "import xgboost\n",
    "import warnings\n",
    "import numpy as np\n",
    "import pandas as pd\n",
    "import seaborn as sns\n",
    "import matplotlib.pyplot as plt\n",
    "\n",
    "from tqdm import tqdm\n",
    "from pandarallel import pandarallel\n",
    "from numerize.numerize import numerize\n",
    "\n",
    "warnings.simplefilter(action=\"ignore\", category=FutureWarning)\n",
    "pd.options.display.max_columns = 500\n",
    "pd.options.display.max_rows = 500\n",
    "pandarallel.initialize(nb_workers=32, progress_bar=False)"
   ]
  },
  {
   "cell_type": "code",
   "execution_count": 6,
   "metadata": {},
   "outputs": [],
   "source": [
    "from params import *\n",
    "\n",
    "from utils.metrics import get_coverage\n",
    "from utils.plot import plot_importances\n",
    "from utils.load import *\n",
    "from utils.logger import save_config, prepare_log_folder, create_logger, init_neptune\n",
    "from utils.torch import seed_everything\n",
    "\n",
    "from training.xgb import kfold, optimize"
   ]
  },
  {
   "cell_type": "code",
   "execution_count": 7,
   "metadata": {},
   "outputs": [],
   "source": [
    "import matplotlib\n",
    "matplotlib.use('Agg')"
   ]
  },
  {
   "cell_type": "markdown",
   "metadata": {},
   "source": [
    "### Load"
   ]
  },
  {
   "cell_type": "code",
   "execution_count": 8,
   "metadata": {},
   "outputs": [],
   "source": [
    "# VERSION = \"clicks_cv3-tv5.10\"\n",
    "VERSION = \"cv3-tv5.10\"\n",
    "\n",
    "GT_VERSION = \"gt.7\""
   ]
  },
  {
   "cell_type": "markdown",
   "metadata": {},
   "source": [
    "#### Train data\n",
    "- neg sampling could use candidates from lower versions"
   ]
  },
  {
   "cell_type": "code",
   "execution_count": 9,
   "metadata": {},
   "outputs": [],
   "source": [
    "POS_RATIO = 0.\n",
    "TARGET = \"gt_orders\"   # \"gt_clicks\", \"gt_carts\", \"gt_orders\""
   ]
  },
  {
   "cell_type": "code",
   "execution_count": 10,
   "metadata": {},
   "outputs": [],
   "source": [
    "PROBS_PATHS = {\n",
    "    \"gt_orders\": \"../logs/2023-01-14/9/\",\n",
    "    \"gt_carts\": \"../logs/2023-01-14/8/\",\n",
    "}"
   ]
  },
  {
   "cell_type": "code",
   "execution_count": 11,
   "metadata": {},
   "outputs": [],
   "source": [
    "# filter_dfs(\n",
    "#     f\"../output/features/fts_val_{VERSION}/*\",\n",
    "#     target=\"gt_carts\",\n",
    "# )"
   ]
  },
  {
   "cell_type": "code",
   "execution_count": 12,
   "metadata": {},
   "outputs": [],
   "source": [
    "# def load_sessions(regex):\n",
    "#     dfs = []\n",
    "#     for idx, chunk_file in enumerate(glob.glob(regex)):\n",
    "#         df = cudf.read_parquet(chunk_file, columns=[\"session\"])\n",
    "#         dfs.append(df.drop_duplicates(keep=\"first\"))\n",
    "\n",
    "#     return cudf.concat(dfs).reset_index(drop=True)\n",
    "\n",
    "# sessions = load_sessions( f\"../output/features/fts_val_{VERSION}/*\")\n",
    "\n",
    "# from sklearn.model_selection import KFold\n",
    "# K = 4\n",
    "\n",
    "# kf = KFold(n_splits=K, shuffle=True, random_state=42)\n",
    "# splits = kf.split(sessions)\n",
    "\n",
    "# sessions['fold'] = -1\n",
    "# for i, (_, val_idx) in enumerate(splits):\n",
    "#     sessions.loc[val_idx, \"fold\"] = i\n",
    "\n",
    "# sessions.to_csv(f\"../input/folds_{K}.csv\", index=False)"
   ]
  },
  {
   "cell_type": "code",
   "execution_count": 13,
   "metadata": {},
   "outputs": [],
   "source": [
    "# df_train = load_parquets_cudf_folds(\n",
    "#     f\"../output/features/fts_val_{VERSION}/*\",\n",
    "#     \"../input/folds_4.csv\",\n",
    "#     fold=0,\n",
    "#     pos_ratio=POS_RATIO,\n",
    "#     target=TARGET,\n",
    "#     max_n=1,\n",
    "#     train_only=True,\n",
    "#     probs_file=PROBS_PATHS[TARGET]\n",
    "# )"
   ]
  },
  {
   "cell_type": "code",
   "execution_count": 14,
   "metadata": {},
   "outputs": [],
   "source": [
    "# df_train = load_parquets_cudf_folds(\n",
    "#     f\"../output/features/fts_val_{VERSION}/*\",\n",
    "#     \"../input/folds_4.csv\",\n",
    "#     fold=0,\n",
    "#     pos_ratio=0.1,\n",
    "#     target=TARGET,\n",
    "#     train_only=True,\n",
    "#     columns=['session', 'candidates', 'gt_clicks', 'gt_carts', 'gt_orders'],\n",
    "#     max_n=1,\n",
    "# )"
   ]
  },
  {
   "cell_type": "code",
   "execution_count": 15,
   "metadata": {},
   "outputs": [],
   "source": [
    "# df_train = df_train.sort_values('session', ignore_index=True)\n",
    "# group = df_train[['session', 'candidates']].groupby('session').size().values"
   ]
  },
  {
   "cell_type": "code",
   "execution_count": 16,
   "metadata": {},
   "outputs": [],
   "source": [
    "FEATURES = [  # REMOVE CORRELATED\n",
    "    'clicks_popularity_w_pos-log', 'clicks_popularity_w_type-163', 'clicks_popularity_w_lastday', 'clicks_popularity_w_recsys', \n",
    "    'carts_popularity_w_pos-log', 'carts_popularity_w_type-163', 'carts_popularity_w_lastday', 'carts_popularity_w_recsys', \n",
    "    'orders_popularity_w_pos-log', 'orders_popularity_w_type-163', 'orders_popularity_w_lastday', 'orders_popularity_w_recsys', \n",
    "    'clicks_popularity_w_pos-log_w', 'clicks_popularity_w_type-163_w', 'clicks_popularity_w_recsys_w', \n",
    "    'carts_popularity_w_pos-log_w', 'carts_popularity_w_type-163_w', 'carts_popularity_w_recsys_w', \n",
    "    'orders_popularity_w_pos-log_w', 'orders_popularity_w_type-163_w', 'orders_popularity_w_recsys_w',\n",
    "    'w_pos-log', 'w_type-163', 'w_lastday', 'w_time', 'w_recsys',\n",
    "    'matrix_123_temporal_20_mean', 'matrix_123_temporal_20_sum', 'matrix_123_temporal_20_max', 'matrix_123_temporal_20_pos-log_mean', 'matrix_123_temporal_20_pos-log_sum', 'matrix_123_temporal_20_pos-log_max', 'matrix_123_temporal_20_type-163_mean', 'matrix_123_temporal_20_type-163_sum', 'matrix_123_temporal_20_type-163_max', 'matrix_123_temporal_20_lastday_mean', 'matrix_123_temporal_20_lastday_sum', 'matrix_123_temporal_20_lastday_max', 'matrix_123_temporal_20_time_mean', 'matrix_123_temporal_20_time_sum', 'matrix_123_temporal_20_time_max', 'matrix_123_temporal_20_recsys_mean', 'matrix_123_temporal_20_recsys_sum', 'matrix_123_temporal_20_recsys_max',\n",
    "    'matrix_123_type136_20_mean', 'matrix_123_type136_20_sum', 'matrix_123_type136_20_max', 'matrix_123_type136_20_pos-log_mean', 'matrix_123_type136_20_pos-log_sum', 'matrix_123_type136_20_pos-log_max', 'matrix_123_type136_20_type-163_mean', 'matrix_123_type136_20_type-163_sum', 'matrix_123_type136_20_type-163_max', 'matrix_123_type136_20_lastday_mean', 'matrix_123_type136_20_lastday_sum', 'matrix_123_type136_20_lastday_max', 'matrix_123_type136_20_time_mean', 'matrix_123_type136_20_time_sum', 'matrix_123_type136_20_time_max', 'matrix_123_type136_20_recsys_mean', 'matrix_123_type136_20_recsys_sum', 'matrix_123_type136_20_recsys_max',\n",
    "    'matrix_12__20_mean', 'matrix_12__20_sum', 'matrix_12__20_max', 'matrix_12__20_pos-log_mean', 'matrix_12__20_pos-log_sum', 'matrix_12__20_pos-log_max', 'matrix_12__20_type-163_mean', 'matrix_12__20_type-163_sum', 'matrix_12__20_type-163_max', 'matrix_12__20_lastday_mean', 'matrix_12__20_lastday_sum', 'matrix_12__20_lastday_max', 'matrix_12__20_time_mean', 'matrix_12__20_time_sum', 'matrix_12__20_time_max', 'matrix_12__20_recsys_mean', 'matrix_12__20_recsys_sum', 'matrix_12__20_recsys_max',\n",
    "    'matrix_123_type0.590.5_20_mean', 'matrix_123_type0.590.5_20_sum', 'matrix_123_type0.590.5_20_max', 'matrix_123_type0.590.5_20_pos-log_mean', 'matrix_123_type0.590.5_20_pos-log_sum', 'matrix_123_type0.590.5_20_pos-log_max', 'matrix_123_type0.590.5_20_type-163_mean', 'matrix_123_type0.590.5_20_type-163_sum', 'matrix_123_type0.590.5_20_type-163_max', 'matrix_123_type0.590.5_20_lastday_mean', 'matrix_123_type0.590.5_20_lastday_sum', 'matrix_123_type0.590.5_20_lastday_max', 'matrix_123_type0.590.5_20_time_mean', 'matrix_123_type0.590.5_20_time_sum', 'matrix_123_type0.590.5_20_time_max', 'matrix_123_type0.590.5_20_recsys_mean', 'matrix_123_type0.590.5_20_recsys_sum', 'matrix_123_type0.590.5_20_recsys_max',\n",
    "    'matrix_cpu-90_mean', 'matrix_cpu-90_sum', 'matrix_cpu-90_max', 'matrix_cpu-90_pos-log_mean', 'matrix_cpu-90_pos-log_sum', 'matrix_cpu-90_pos-log_max', 'matrix_cpu-90_type-163_mean', 'matrix_cpu-90_type-163_sum', 'matrix_cpu-90_type-163_max', 'matrix_cpu-90_lastday_mean', 'matrix_cpu-90_lastday_sum', 'matrix_cpu-90_lastday_max', 'matrix_cpu-90_time_mean', 'matrix_cpu-90_time_sum', 'matrix_cpu-90_time_max', 'matrix_cpu-90_recsys_mean', 'matrix_cpu-90_recsys_sum', 'matrix_cpu-90_recsys_max',\n",
    "    'matrix_cpu-95_mean', 'matrix_cpu-95_sum', 'matrix_cpu-95_max', 'matrix_cpu-95_pos-log_mean', 'matrix_cpu-95_pos-log_sum', 'matrix_cpu-95_pos-log_max', 'matrix_cpu-95_type-163_mean', 'matrix_cpu-95_type-163_sum', 'matrix_cpu-95_type-163_max', 'matrix_cpu-95_lastday_mean', 'matrix_cpu-95_lastday_sum', 'matrix_cpu-95_lastday_max', 'matrix_cpu-95_time_mean', 'matrix_cpu-95_time_sum', 'matrix_cpu-95_time_max', 'matrix_cpu-95_recsys_mean', 'matrix_cpu-95_recsys_sum', 'matrix_cpu-95_recsys_max',\n",
    "    'matrix_cpu-99_mean', 'matrix_cpu-99_sum', 'matrix_cpu-99_max', 'matrix_cpu-99_pos-log_mean', 'matrix_cpu-99_pos-log_sum', 'matrix_cpu-99_pos-log_max', 'matrix_cpu-99_type-163_mean', 'matrix_cpu-99_type-163_sum', 'matrix_cpu-99_type-163_max', 'matrix_cpu-99_lastday_mean', 'matrix_cpu-99_lastday_sum', 'matrix_cpu-99_lastday_max', 'matrix_cpu-99_time_mean', 'matrix_cpu-99_time_sum', 'matrix_cpu-99_time_max', 'matrix_cpu-99_recsys_mean', 'matrix_cpu-99_recsys_sum', 'matrix_cpu-99_recsys_max',\n",
    "    'matrix_gpu-116_mean', 'matrix_gpu-116_sum', 'matrix_gpu-116_max', 'matrix_gpu-116_pos-log_mean', 'matrix_gpu-116_pos-log_sum', 'matrix_gpu-116_pos-log_max', 'matrix_gpu-116_type-163_mean', 'matrix_gpu-116_type-163_sum', 'matrix_gpu-116_type-163_max', 'matrix_gpu-116_lastday_mean', 'matrix_gpu-116_lastday_sum', 'matrix_gpu-116_lastday_max', 'matrix_gpu-116_time_mean', 'matrix_gpu-116_time_sum', 'matrix_gpu-116_time_max', 'matrix_gpu-116_recsys_mean', 'matrix_gpu-116_recsys_sum', 'matrix_gpu-116_recsys_max',\n",
    "    'matrix_gpu-115_mean', 'matrix_gpu-115_sum', 'matrix_gpu-115_max', 'matrix_gpu-115_pos-log_mean', 'matrix_gpu-115_pos-log_sum', 'matrix_gpu-115_pos-log_max', 'matrix_gpu-115_type-163_mean', 'matrix_gpu-115_type-163_sum', 'matrix_gpu-115_type-163_max', 'matrix_gpu-115_lastday_mean', 'matrix_gpu-115_lastday_sum', 'matrix_gpu-115_lastday_max', 'matrix_gpu-115_time_mean', 'matrix_gpu-115_time_sum', 'matrix_gpu-115_time_max', 'matrix_gpu-115_recsys_mean', 'matrix_gpu-115_recsys_sum', 'matrix_gpu-115_recsys_max',\n",
    "    'matrix_gpu-93_mean', 'matrix_gpu-93_sum', 'matrix_gpu-93_max', 'matrix_gpu-93_pos-log_mean', 'matrix_gpu-93_pos-log_sum', 'matrix_gpu-93_pos-log_max', 'matrix_gpu-93_type-163_mean', 'matrix_gpu-93_type-163_sum', 'matrix_gpu-93_type-163_max', 'matrix_gpu-93_lastday_mean', 'matrix_gpu-93_lastday_sum', 'matrix_gpu-93_lastday_max', 'matrix_gpu-93_time_mean', 'matrix_gpu-93_time_sum', 'matrix_gpu-93_time_max', 'matrix_gpu-93_recsys_mean', 'matrix_gpu-93_recsys_sum', 'matrix_gpu-93_recsys_max',\n",
    "    'matrix_gpu-217_mean', 'matrix_gpu-217_sum', 'matrix_gpu-217_max', 'matrix_gpu-217_pos-log_mean', 'matrix_gpu-217_pos-log_sum', 'matrix_gpu-217_pos-log_max', 'matrix_gpu-217_type-163_mean', 'matrix_gpu-217_type-163_sum', 'matrix_gpu-217_type-163_max', 'matrix_gpu-217_lastday_mean', 'matrix_gpu-217_lastday_sum', 'matrix_gpu-217_lastday_max', 'matrix_gpu-217_time_mean', 'matrix_gpu-217_time_sum', 'matrix_gpu-217_time_max', 'matrix_gpu-217_recsys_mean', 'matrix_gpu-217_recsys_sum', 'matrix_gpu-217_recsys_max',\n",
    "    'matrix_gpu-226_mean','matrix_gpu-226_sum','matrix_gpu-226_max','matrix_gpu-226_pos-log_mean','matrix_gpu-226_pos-log_sum','matrix_gpu-226_pos-log_max','matrix_gpu-226_type-163_mean','matrix_gpu-226_type-163_sum','matrix_gpu-226_type-163_max','matrix_gpu-226_lastday_mean','matrix_gpu-226_lastday_sum','matrix_gpu-226_lastday_max','matrix_gpu-226_time_mean','matrix_gpu-226_time_sum','matrix_gpu-226_time_max','matrix_gpu-226_recsys_mean','matrix_gpu-226_recsys_sum','matrix_gpu-226_recsys_max',\n",
    "    'matrix_gpu-232_mean', 'matrix_gpu-232_sum', 'matrix_gpu-232_max', 'matrix_gpu-232_pos-log_mean', 'matrix_gpu-232_pos-log_sum', 'matrix_gpu-232_pos-log_max', 'matrix_gpu-232_type-163_mean', 'matrix_gpu-232_type-163_sum', 'matrix_gpu-232_type-163_max', 'matrix_gpu-232_lastday_mean', 'matrix_gpu-232_lastday_sum', 'matrix_gpu-232_lastday_max', 'matrix_gpu-232_time_mean', 'matrix_gpu-232_time_sum', 'matrix_gpu-232_time_max', 'matrix_gpu-232_recsys_mean', 'matrix_gpu-232_recsys_sum', 'matrix_gpu-232_recsys_max',\n",
    "    'matrix_gpu-239_mean', 'matrix_gpu-239_sum', 'matrix_gpu-239_max', 'matrix_gpu-239_pos-log_mean', 'matrix_gpu-239_pos-log_sum', 'matrix_gpu-239_pos-log_max', 'matrix_gpu-239_type-163_mean', 'matrix_gpu-239_type-163_sum', 'matrix_gpu-239_type-163_max', 'matrix_gpu-239_lastday_mean', 'matrix_gpu-239_lastday_sum', 'matrix_gpu-239_lastday_max', 'matrix_gpu-239_time_mean', 'matrix_gpu-239_time_sum', 'matrix_gpu-239_time_max', 'matrix_gpu-239_recsys_mean', 'matrix_gpu-239_recsys_sum', 'matrix_gpu-239_recsys_max',\n",
    "    'matrix_gpu-700_mean', 'matrix_gpu-700_sum', 'matrix_gpu-700_max', 'matrix_gpu-700_pos-log_mean', 'matrix_gpu-700_pos-log_sum', 'matrix_gpu-700_pos-log_max', 'matrix_gpu-700_type-163_mean', 'matrix_gpu-700_type-163_sum', 'matrix_gpu-700_type-163_max', 'matrix_gpu-700_lastday_mean', 'matrix_gpu-700_lastday_sum', 'matrix_gpu-700_lastday_max', 'matrix_gpu-700_time_mean', 'matrix_gpu-700_time_sum', 'matrix_gpu-700_time_max', 'matrix_gpu-700_recsys_mean', 'matrix_gpu-700_recsys_sum', 'matrix_gpu-700_recsys_max',\n",
    "    'matrix_gpu-701_mean', 'matrix_gpu-701_sum', 'matrix_gpu-701_max', 'matrix_gpu-701_pos-log_mean', 'matrix_gpu-701_pos-log_sum', 'matrix_gpu-701_pos-log_max', 'matrix_gpu-701_type-163_mean', 'matrix_gpu-701_type-163_sum', 'matrix_gpu-701_type-163_max', 'matrix_gpu-701_lastday_mean', 'matrix_gpu-701_lastday_sum', 'matrix_gpu-701_lastday_max', 'matrix_gpu-701_time_mean', 'matrix_gpu-701_time_sum', 'matrix_gpu-701_time_max', 'matrix_gpu-701_recsys_mean', 'matrix_gpu-701_recsys_sum', 'matrix_gpu-701_recsys_max',\n",
    "    'candidate_clicks_before', 'candidate_carts_before', 'candidate_orders_before', 'candidate_*_before', 'n_views', 'n_clicks', 'n_carts', 'n_orders',\n",
    "    'clicks_popularity_w_pos-log_rank', 'clicks_popularity_w_type-163_rank', 'clicks_popularity_w_lastday_rank', 'clicks_popularity_w_time_rank', 'clicks_popularity_w_recsys_rank', 'carts_popularity_w_pos-log_rank', 'carts_popularity_w_type-163_rank', 'carts_popularity_w_lastday_rank', 'carts_popularity_w_time_rank', 'carts_popularity_w_recsys_rank', 'orders_popularity_w_pos-log_rank', 'orders_popularity_w_type-163_rank', 'orders_popularity_w_lastday_rank', 'orders_popularity_w_time_rank', 'orders_popularity_w_recsys_rank',\n",
    "    'clicks_popularity_w_pos-log_w_rank', 'clicks_popularity_w_type-163_w_rank', 'clicks_popularity_w_lastday_w_rank', 'clicks_popularity_w_time_w_rank', 'clicks_popularity_w_recsys_w_rank', 'carts_popularity_w_pos-log_w_rank', 'carts_popularity_w_type-163_w_rank', 'carts_popularity_w_lastday_w_rank', 'carts_popularity_w_time_w_rank', 'carts_popularity_w_recsys_w_rank', 'orders_popularity_w_pos-log_w_rank', 'orders_popularity_w_type-163_w_rank', 'orders_popularity_w_lastday_w_rank', 'orders_popularity_w_time_w_rank', 'orders_popularity_w_recsys_w_rank',\n",
    "    'w_pos-log_rank', 'w_type-163_rank', 'w_lastday_rank', 'w_time_rank', 'w_recsys_rank',\n",
    "    'matrix_123_temporal_20_mean_rank', 'matrix_123_temporal_20_pos-log_mean_rank', 'matrix_123_temporal_20_type-163_mean_rank', 'matrix_123_temporal_20_lastday_mean_rank', 'matrix_123_temporal_20_time_mean_rank', 'matrix_123_temporal_20_recsys_mean_rank', 'matrix_123_type136_20_mean_rank', 'matrix_123_type136_20_pos-log_mean_rank', 'matrix_123_type136_20_type-163_mean_rank', 'matrix_123_type136_20_lastday_mean_rank', 'matrix_123_type136_20_time_mean_rank', 'matrix_123_type136_20_recsys_mean_rank', \n",
    "    'matrix_12__20_mean_rank', 'matrix_12__20_pos-log_mean_rank', 'matrix_12__20_type-163_mean_rank', 'matrix_12__20_lastday_mean_rank', 'matrix_12__20_time_mean_rank', 'matrix_12__20_recsys_mean_rank', 'matrix_123_type0.590.5_20_mean_rank', 'matrix_123_type0.590.5_20_pos-log_mean_rank', 'matrix_123_type0.590.5_20_type-163_mean_rank', 'matrix_123_type0.590.5_20_lastday_mean_rank', 'matrix_123_type0.590.5_20_time_mean_rank', 'matrix_123_type0.590.5_20_recsys_mean_rank',\n",
    "    'matrix_cpu-90_mean_rank', 'matrix_cpu-90_pos-log_mean_rank', 'matrix_cpu-90_type-163_mean_rank', 'matrix_cpu-90_lastday_mean_rank', 'matrix_cpu-90_time_mean_rank', 'matrix_cpu-90_recsys_mean_rank', 'matrix_cpu-95_mean_rank', 'matrix_cpu-95_pos-log_mean_rank', 'matrix_cpu-95_type-163_mean_rank', 'matrix_cpu-95_lastday_mean_rank', 'matrix_cpu-95_time_mean_rank', 'matrix_cpu-95_recsys_mean_rank', 'matrix_cpu-99_mean_rank', 'matrix_cpu-99_pos-log_mean_rank', 'matrix_cpu-99_type-163_mean_rank', 'matrix_cpu-99_lastday_mean_rank', 'matrix_cpu-99_time_mean_rank', 'matrix_cpu-99_recsys_mean_rank',\n",
    "    'matrix_gpu-116_mean_rank', 'matrix_gpu-116_pos-log_mean_rank', 'matrix_gpu-116_type-163_mean_rank', 'matrix_gpu-116_lastday_mean_rank', 'matrix_gpu-116_time_mean_rank', 'matrix_gpu-116_recsys_mean_rank', 'matrix_gpu-115_mean_rank', 'matrix_gpu-115_pos-log_mean_rank', 'matrix_gpu-115_type-163_mean_rank', 'matrix_gpu-115_lastday_mean_rank', 'matrix_gpu-115_time_mean_rank', 'matrix_gpu-115_recsys_mean_rank', 'matrix_gpu-93_mean_rank', 'matrix_gpu-93_pos-log_mean_rank', 'matrix_gpu-93_type-163_mean_rank', 'matrix_gpu-93_lastday_mean_rank', 'matrix_gpu-93_time_mean_rank', 'matrix_gpu-93_recsys_mean_rank',\n",
    "    'matrix_gpu-217_mean_rank', 'matrix_gpu-217_pos-log_mean_rank', 'matrix_gpu-217_type-163_mean_rank', 'matrix_gpu-217_lastday_mean_rank', 'matrix_gpu-217_time_mean_rank', 'matrix_gpu-217_recsys_mean_rank', 'matrix_gpu-226_mean_rank', 'matrix_gpu-226_pos-log_mean_rank', 'matrix_gpu-226_type-163_mean_rank', 'matrix_gpu-226_lastday_mean_rank', 'matrix_gpu-226_time_mean_rank', 'matrix_gpu-226_recsys_mean_rank', 'matrix_gpu-232_mean_rank', 'matrix_gpu-232_pos-log_mean_rank', 'matrix_gpu-232_type-163_mean_rank', 'matrix_gpu-232_lastday_mean_rank', 'matrix_gpu-232_time_mean_rank', 'matrix_gpu-232_recsys_mean_rank',\n",
    "    'matrix_gpu-239_mean_rank', 'matrix_gpu-239_pos-log_mean_rank', 'matrix_gpu-239_type-163_mean_rank', 'matrix_gpu-239_lastday_mean_rank', 'matrix_gpu-239_time_mean_rank', 'matrix_gpu-239_recsys_mean_rank', 'matrix_gpu-700_mean_rank', 'matrix_gpu-700_pos-log_mean_rank', 'matrix_gpu-700_type-163_mean_rank', 'matrix_gpu-700_lastday_mean_rank', 'matrix_gpu-700_time_mean_rank', 'matrix_gpu-700_recsys_mean_rank', 'matrix_gpu-701_mean_rank', 'matrix_gpu-701_pos-log_mean_rank', 'matrix_gpu-701_type-163_mean_rank', 'matrix_gpu-701_lastday_mean_rank', 'matrix_gpu-701_time_mean_rank', 'matrix_gpu-701_recsys_mean_rank',\n",
    "]"
   ]
  },
  {
   "cell_type": "code",
   "execution_count": 17,
   "metadata": {},
   "outputs": [],
   "source": [
    "FEATURES += [\n",
    "    'popularity_week_clicks','popularity_day_clicks','popularity_hour_clicks','popularity_hour/day_clicks','popularity_day/week_clicks','popularity_week_carts','popularity_day_carts','popularity_hour_carts','popularity_hour/day_carts','popularity_day/week_carts','popularity_week_orders','popularity_day_orders','popularity_hour_orders','popularity_hour/day_orders','popularity_day/week_orders',\n",
    "    'embed_1-9_64_cartbuy_last_0', 'embed_1-9_64_cartbuy_last_1', 'embed_1-9_64_cartbuy_last_2', 'embed_1-9_64_cartbuy_last_3', 'embed_1-9_64_cartbuy_last_4', 'embed_1-9_64_cartbuy_pos-log_mean', 'embed_1-9_64_cartbuy_pos-log_sum', 'embed_1-9_64_cartbuy_pos-log_max', 'embed_1-9_64_cartbuy_type-163_mean', 'embed_1-9_64_cartbuy_type-163_sum', 'embed_1-9_64_cartbuy_type-163_max', 'embed_1-9_64_cartbuy_lastday_mean', 'embed_1-9_64_cartbuy_lastday_sum', 'embed_1-9_64_cartbuy_lastday_max', 'embed_1-9_64_cartbuy_time_mean', 'embed_1-9_64_cartbuy_time_sum', 'embed_1-9_64_cartbuy_time_max', 'embed_1-9_64_cartbuy_recsys_mean', 'embed_1-9_64_cartbuy_recsys_sum', 'embed_1-9_64_cartbuy_recsys_max',\n",
    "    'embed_1_64_last_0', 'embed_1_64_last_1', 'embed_1_64_last_2', 'embed_1_64_last_3', 'embed_1_64_last_4', 'embed_1_64_pos-log_mean', 'embed_1_64_pos-log_sum', 'embed_1_64_pos-log_max', 'embed_1_64_type-163_mean', 'embed_1_64_type-163_sum', 'embed_1_64_type-163_max', 'embed_1_64_lastday_mean', 'embed_1_64_lastday_sum', 'embed_1_64_lastday_max', 'embed_1_64_time_mean', 'embed_1_64_time_sum', 'embed_1_64_time_max', 'embed_1_64_recsys_mean', 'embed_1_64_recsys_sum', 'embed_1_64_recsys_max',\n",
    "    'embed_1-5_64_last_0', 'embed_1-5_64_last_1', 'embed_1-5_64_last_2', 'embed_1-5_64_last_3', 'embed_1-5_64_last_4', 'embed_1-5_64_pos-log_mean', 'embed_1-5_64_pos-log_sum', 'embed_1-5_64_pos-log_max', 'embed_1-5_64_type-163_mean', 'embed_1-5_64_type-163_sum', 'embed_1-5_64_type-163_max', 'embed_1-5_64_lastday_mean', 'embed_1-5_64_lastday_sum', 'embed_1-5_64_lastday_max', 'embed_1-5_64_time_mean', 'embed_1-5_64_time_sum', 'embed_1-5_64_time_max', 'embed_1-5_64_recsys_mean', 'embed_1-5_64_recsys_sum', 'embed_1-5_64_recsys_max',\n",
    "]\n"
   ]
  },
  {
   "cell_type": "code",
   "execution_count": 18,
   "metadata": {},
   "outputs": [],
   "source": [
    "FEATURES += [\n",
    "    'popularity_week_clicks_rank', 'popularity_day_clicks_rank', 'popularity_hour_clicks_rank', 'popularity_hour/day_clicks_rank', 'popularity_day/week_clicks_rank', 'popularity_week_carts_rank', 'popularity_day_carts_rank', 'popularity_hour_carts_rank', 'popularity_hour/day_carts_rank', 'popularity_day/week_carts_rank', 'popularity_week_orders_rank', 'popularity_day_orders_rank', 'popularity_hour_orders_rank', 'popularity_hour/day_orders_rank', 'popularity_day/week_orders_rank',\n",
    "    'embed_1-9_64_cartbuy_last_0_rank', 'embed_1-9_64_cartbuy_last_1_rank', 'embed_1-9_64_cartbuy_last_2_rank', 'embed_1-9_64_cartbuy_last_3_rank', 'embed_1-9_64_cartbuy_last_4_rank', 'embed_1-9_64_cartbuy_pos-log_mean_rank', 'embed_1-9_64_cartbuy_type-163_mean_rank', 'embed_1-9_64_cartbuy_lastday_mean_rank', 'embed_1-9_64_cartbuy_time_mean_rank', 'embed_1-9_64_cartbuy_recsys_mean_rank', 'embed_1_64_last_0_rank', 'embed_1_64_last_1_rank', 'embed_1_64_last_2_rank', 'embed_1_64_last_3_rank', 'embed_1_64_last_4_rank', 'embed_1_64_pos-log_mean_rank', 'embed_1_64_type-163_mean_rank', 'embed_1_64_lastday_mean_rank', 'embed_1_64_time_mean_rank', 'embed_1_64_recsys_mean_rank', 'embed_1-5_64_last_0_rank', 'embed_1-5_64_last_1_rank', 'embed_1-5_64_last_2_rank', 'embed_1-5_64_last_3_rank', 'embed_1-5_64_last_4_rank', 'embed_1-5_64_pos-log_mean_rank', 'embed_1-5_64_type-163_mean_rank', 'embed_1-5_64_lastday_mean_rank', 'embed_1-5_64_time_mean_rank', 'embed_1-5_64_recsys_mean_rank'\n",
    "]"
   ]
  },
  {
   "cell_type": "code",
   "execution_count": 19,
   "metadata": {},
   "outputs": [],
   "source": [
    "TO_REMOVE = []\n",
    "TO_REMOVE += [f for f in FEATURES if \"popularity_w_time\" in f]\n",
    "TO_REMOVE += [f for f in FEATURES if \"popularity_w_lastday_w\" in f]\n",
    "\n",
    "FEATURES = [f for f in FEATURES if f not in TO_REMOVE]"
   ]
  },
  {
   "cell_type": "code",
   "execution_count": 20,
   "metadata": {},
   "outputs": [
    {
     "data": {
      "text/plain": [
       "564"
      ]
     },
     "execution_count": 20,
     "metadata": {},
     "output_type": "execute_result"
    }
   ],
   "source": [
    "len(FEATURES)"
   ]
  },
  {
   "cell_type": "code",
   "execution_count": 21,
   "metadata": {},
   "outputs": [],
   "source": [
    "# df_train = cudf.from_pandas(df_train)\n",
    "# corr = df_train[FEATURES].corr()\n",
    "# corr = corr.to_pandas()\n",
    "# corr = corr.values\n",
    "\n",
    "# mask = np.zeros_like(corr, dtype=bool)\n",
    "# mask[np.triu_indices_from(mask)] = True\n",
    "# corr[mask] = 0"
   ]
  },
  {
   "cell_type": "code",
   "execution_count": 22,
   "metadata": {},
   "outputs": [],
   "source": [
    "# TH = 0.99\n",
    "\n",
    "# for i in range(len(corr)):\n",
    "#     for j in range(len(corr)):\n",
    "#         if corr[i, j] > TH:\n",
    "#             if FEATURES[i] in TO_REMOVE or FEATURES[j] in TO_REMOVE:\n",
    "#                 continue\n",
    "#             print(FEATURES[i], FEATURES[j], f'{corr[i, j] :.3f}')"
   ]
  },
  {
   "cell_type": "code",
   "execution_count": 23,
   "metadata": {},
   "outputs": [],
   "source": [
    "# df = cudf.read_parquet(glob.glob(REGEX)[0])\n",
    "# df = df.rename(columns={\"clicks_popularity_w_pos-log_rank\" : \"clicks_popularity_w_pos-log_rank_ref\"})\n",
    "# df = cudf.read_parquet(glob.glob(TEST_REGEX)[0])\n",
    "\n",
    "# from data.fe import add_rank_feature\n",
    "# for c in ['clicks_popularity_w_pos-log', 'clicks_popularity_w_type-163', 'clicks_popularity_w_lastday']:\n",
    "#     if c + \"_rank\" not in df.columns:\n",
    "#         print(f'Add rank ft for {c}')\n",
    "#         df = df.reset_index(drop=True)\n",
    "#         add_rank_feature(df, c)\n",
    "# (df['clicks_popularity_w_pos-log_rank'] == df['clicks_popularity_w_pos-log_rank_ref']).all()\n",
    "\n",
    "# for f in tqdm(glob.glob(TEST_REGEX)):\n",
    "#     dft = cudf.read_parquet(f, columns=['clicks_popularity_w_pos-log_rank'])"
   ]
  },
  {
   "cell_type": "code",
   "execution_count": 24,
   "metadata": {},
   "outputs": [
    {
     "data": {
      "text/plain": [
       "91"
      ]
     },
     "execution_count": 24,
     "metadata": {},
     "output_type": "execute_result"
    }
   ],
   "source": [
    "if TARGET != \"gt_clicks\":\n",
    "    REGEX = f\"../output/features/fts_val_{VERSION}_{TARGET}/*\"\n",
    "else:\n",
    "    REGEX = f\"../output/features/fts_val_{VERSION}/*\"\n",
    "len(glob.glob(REGEX))"
   ]
  },
  {
   "cell_type": "code",
   "execution_count": 25,
   "metadata": {},
   "outputs": [
    {
     "data": {
      "text/plain": [
       "85"
      ]
     },
     "execution_count": 25,
     "metadata": {},
     "output_type": "execute_result"
    }
   ],
   "source": [
    "TEST_REGEX = f\"../output/features/fts_test_{VERSION}/*\"\n",
    "len(glob.glob(TEST_REGEX))"
   ]
  },
  {
   "cell_type": "code",
   "execution_count": 26,
   "metadata": {},
   "outputs": [
    {
     "data": {
      "text/plain": [
       "0"
      ]
     },
     "execution_count": 26,
     "metadata": {},
     "output_type": "execute_result"
    }
   ],
   "source": [
    "GT_REGEX = f\"../output/features/fts_val_{GT_VERSION}/*\"\n",
    "len(glob.glob(GT_REGEX))"
   ]
  },
  {
   "cell_type": "markdown",
   "metadata": {},
   "source": [
    "### Params"
   ]
  },
  {
   "cell_type": "code",
   "execution_count": 27,
   "metadata": {},
   "outputs": [],
   "source": [
    "PARAMS = {\n",
    "    \"xgb\":\n",
    "    {\n",
    "        \"learning_rate\": 0.01,\n",
    "        'max_depth': 8,\n",
    "        \"subsample\": 0.9,  # 0.7 / 0.8 / O.9\n",
    "        'colsample_bytree': 0.7,  # 0.7 / 0.8 / 0.9\n",
    "        'reg_alpha': 0.01,\n",
    "        'reg_lambda': 0.1,\n",
    "        \"min_child_weight\": 0,\n",
    "#         \"gamma\": 0.01,\n",
    "#         'scale_pos_weight': 1,\n",
    "        'eval_metric': 'auc',\n",
    "        'objective': 'rank:pairwise',  # 'binary:logistic',\n",
    "        'tree_method':'gpu_hist',\n",
    "        'predictor':'gpu_predictor',\n",
    "        \"random_state\": 42,\n",
    "    },\n",
    "}"
   ]
  },
  {
   "cell_type": "code",
   "execution_count": 28,
   "metadata": {},
   "outputs": [],
   "source": [
    "# TO_REMOVE = [\n",
    "#     'candidate_*_before', 'matrix_gpu-700_lastday_max', 'matrix_12__20_lastday_max', 'matrix_gpu-226_lastday_max', 'matrix_cpu-90_lastday_max', 'matrix_gpu-700_sum', 'matrix_gpu-700_pos-log_sum', 'matrix_12__20_lastday_sum',\n",
    "#     'matrix_gpu-700_pos-log_max', 'matrix_gpu-226_lastday_sum', 'matrix_gpu-700_max', 'matrix_gpu-700_time_sum', 'matrix_123_type136_20_lastday_max', 'matrix_cpu-90_lastday_sum', 'matrix_cpu-90_type-163_max', 'matrix_gpu-700_time_max',\n",
    "#     'matrix_12__20_time_sum', 'matrix_gpu-700_type-163_sum', 'matrix_gpu-700_lastday_sum', 'matrix_gpu-700_type-163_max', 'matrix_cpu-90_time_sum', 'matrix_123_type136_20_time_sum', 'matrix_gpu-217_lastday_max', 'matrix_12__20_pos-log_sum',\n",
    "#     'matrix_12__20_type-163_max', 'matrix_12__20_time_max', 'matrix_cpu-90_max', 'matrix_cpu-90_type-163_sum', 'matrix_cpu-99_lastday_max', 'matrix_cpu-90_sum', 'matrix_gpu-226_sum', 'matrix_gpu-226_time_sum', 'matrix_12__20_time_mean',\n",
    "#     'matrix_12__20_type-163_mean', 'matrix_gpu-700_pos-log_mean', 'matrix_123_type0.590.5_20_lastday_max', 'matrix_gpu-700_time_mean', 'matrix_12__20_type-163_sum', 'matrix_12__20_pos-log_max', 'matrix_123_type136_20_lastday_sum',\n",
    "#     'matrix_cpu-90_time_mean', 'matrix_gpu-226_max', 'matrix_123_type136_20_type-163_max', 'matrix_gpu-226_type-163_max', 'matrix_gpu-226_lastday_mean', 'matrix_gpu-226_type-163_sum', 'matrix_cpu-99_time_sum', 'matrix_12__20_lastday_mean',\n",
    "#     'matrix_gpu-700_type-163_mean','matrix_123_type136_20_type-163_sum'\n",
    "# ][:50]"
   ]
  },
  {
   "cell_type": "code",
   "execution_count": 29,
   "metadata": {},
   "outputs": [],
   "source": [
    "class Config:\n",
    "    seed = 42\n",
    "    version = VERSION\n",
    "    \n",
    "    folds_file = \"../input/folds_4.csv\"\n",
    "    k = 4\n",
    "    mode = \"\"\n",
    "\n",
    "    features = FEATURES\n",
    "#     features = [ft for ft in features if ft not in TO_REMOVE]\n",
    "\n",
    "    cat_features = []\n",
    "\n",
    "    target = TARGET\n",
    "    pos_ratio = POS_RATIO\n",
    "\n",
    "    use_gt_sessions = True  # filter out sessions with no gt\n",
    "    use_gt_pos = False  # add candidates from gt\n",
    "    gt_regex = GT_REGEX\n",
    "    \n",
    "    model = \"xgb\"\n",
    "\n",
    "    params = PARAMS[model]\n",
    "\n",
    "    use_es = True\n",
    "    num_boost_round = 10000\n",
    "    \n",
    "    probs_file = None  # PROBS_PATHS[target]\n",
    "    probs_mode = \"\"  # \"head\"  \"rank_40\"\n",
    "    restrict_all = False\n",
    "\n",
    "    selected_folds = [0]\n",
    "    folds_optimize = [0, 1, 2, 3]\n",
    "    n_trials = 20"
   ]
  },
  {
   "cell_type": "markdown",
   "metadata": {},
   "source": [
    "### Main"
   ]
  },
  {
   "cell_type": "code",
   "execution_count": 30,
   "metadata": {},
   "outputs": [],
   "source": [
    "DEBUG = False\n",
    "DEBUG_MORE = False"
   ]
  },
  {
   "cell_type": "code",
   "execution_count": null,
   "metadata": {},
   "outputs": [
    {
     "name": "stdout",
     "output_type": "stream",
     "text": [
      "\n",
      "https://app.neptune.ai/KagglingTheo/Otto-Recommender-System/e/OTTO-34\n",
      "Remember to stop your run once you’ve finished logging your metadata (https://docs.neptune.ai/api/run#stop). It will be stopped automatically only when the notebook kernel/interactive console is terminated.\n",
      "Warning: string 'global/parameters/features' value was longer than 16384 characters and was truncated. This warning is printed only once.\n",
      "\n",
      "Logging results to ../logs/2023-01-21/47/\n",
      "\n",
      "=============   Fold 1 / 4   =============\n",
      "\n",
      "Files were filtered !\n",
      "Train / val session inter 0\n",
      "\n",
      "-------------  Optimizing XGB Model  -------------\n",
      "\n",
      "\n",
      "    -> 9.75M training candidates\n",
      "    -> 3.25M validation candidates\n",
      "\n"
     ]
    },
    {
     "name": "stderr",
     "output_type": "stream",
     "text": [
      "\u001b[32m[I 2023-01-21 17:25:50,111]\u001b[0m A new study created in memory with name: no-name-d481fab1-b8d4-44dc-8b26-59f69c1594d6\u001b[0m\n"
     ]
    },
    {
     "name": "stdout",
     "output_type": "stream",
     "text": [
      "[0]\tval-auc:0.95260\n",
      "[100]\tval-auc:0.96305\n",
      "[200]\tval-auc:0.96405\n",
      "[300]\tval-auc:0.96492\n",
      "[400]\tval-auc:0.96558\n",
      "[500]\tval-auc:0.96607\n",
      "[600]\tval-auc:0.96646\n",
      "[700]\tval-auc:0.96672\n",
      "[800]\tval-auc:0.96692\n",
      "[900]\tval-auc:0.96708\n",
      "[1000]\tval-auc:0.96720\n",
      "[1100]\tval-auc:0.96728\n",
      "[1200]\tval-auc:0.96732\n",
      "[1300]\tval-auc:0.96734\n",
      "[1400]\tval-auc:0.96737\n",
      "[1500]\tval-auc:0.96740\n",
      "[1600]\tval-auc:0.96743\n",
      "[1700]\tval-auc:0.96746\n",
      "[1800]\tval-auc:0.96748\n",
      "[1900]\tval-auc:0.96749\n",
      "[2000]\tval-auc:0.96749\n",
      "[2076]\tval-auc:0.96749\n",
      "\n",
      "-> gt_orders  -  Recall : 0.6663\n",
      "\n",
      "Params : {'max_depth': 10, 'subsample': '0.788', 'colsample_bytree': '0.608', 'reg_alpha': '2.13e-05', 'reg_lambda': '3.68e-03'},\n",
      "\n"
     ]
    },
    {
     "name": "stderr",
     "output_type": "stream",
     "text": [
      "\u001b[32m[I 2023-01-21 17:49:34,122]\u001b[0m Trial 0 finished with value: 0.6662991358752789 and parameters: {'max_depth': 10, 'subsample': 0.788484981223704, 'colsample_bytree': 0.6082203460331841, 'reg_alpha': 2.12821878210239e-05, 'reg_lambda': 0.0036821155585651643}. Best is trial 0 with value: 0.6662991358752789.\u001b[0m\n"
     ]
    },
    {
     "name": "stdout",
     "output_type": "stream",
     "text": [
      "[0]\tval-auc:0.95502\n",
      "[100]\tval-auc:0.95954\n",
      "[200]\tval-auc:0.96076\n",
      "[300]\tval-auc:0.96185\n",
      "[400]\tval-auc:0.96287\n",
      "[500]\tval-auc:0.96371\n",
      "[600]\tval-auc:0.96437\n",
      "[700]\tval-auc:0.96487\n",
      "[800]\tval-auc:0.96534\n",
      "[900]\tval-auc:0.96575\n",
      "[1000]\tval-auc:0.96610\n",
      "[1100]\tval-auc:0.96643\n",
      "[1200]\tval-auc:0.96670\n",
      "[1300]\tval-auc:0.96691\n",
      "[1400]\tval-auc:0.96709\n",
      "[1500]\tval-auc:0.96724\n",
      "[1600]\tval-auc:0.96737\n",
      "[1700]\tval-auc:0.96748\n",
      "[1800]\tval-auc:0.96757\n",
      "[1900]\tval-auc:0.96765\n",
      "[2000]\tval-auc:0.96772\n",
      "[2100]\tval-auc:0.96779\n",
      "[2200]\tval-auc:0.96785\n",
      "[2300]\tval-auc:0.96790\n",
      "[2400]\tval-auc:0.96795\n",
      "[2500]\tval-auc:0.96799\n",
      "[2600]\tval-auc:0.96803\n",
      "[2700]\tval-auc:0.96808\n",
      "[2800]\tval-auc:0.96811\n",
      "[2900]\tval-auc:0.96814\n",
      "[3000]\tval-auc:0.96817\n",
      "[3100]\tval-auc:0.96820\n",
      "[3200]\tval-auc:0.96823\n",
      "[3300]\tval-auc:0.96825\n",
      "[3400]\tval-auc:0.96827\n",
      "[3500]\tval-auc:0.96829\n",
      "[3600]\tval-auc:0.96831\n",
      "[3700]\tval-auc:0.96834\n",
      "[3800]\tval-auc:0.96835\n",
      "[3900]\tval-auc:0.96837\n",
      "[4000]\tval-auc:0.96838\n",
      "[4100]\tval-auc:0.96840\n",
      "[4200]\tval-auc:0.96841\n",
      "[4300]\tval-auc:0.96842\n",
      "[4400]\tval-auc:0.96843\n",
      "[4500]\tval-auc:0.96844\n",
      "[4600]\tval-auc:0.96845\n",
      "[4700]\tval-auc:0.96846\n",
      "[4800]\tval-auc:0.96846\n",
      "[4900]\tval-auc:0.96848\n",
      "[5000]\tval-auc:0.96848\n",
      "[5100]\tval-auc:0.96849\n",
      "[5200]\tval-auc:0.96850\n",
      "[5300]\tval-auc:0.96850\n",
      "[5400]\tval-auc:0.96851\n",
      "[5500]\tval-auc:0.96852\n",
      "[5600]\tval-auc:0.96852\n",
      "[5700]\tval-auc:0.96853\n",
      "[5800]\tval-auc:0.96854\n",
      "[5900]\tval-auc:0.96854\n",
      "[6000]\tval-auc:0.96854\n",
      "[6100]\tval-auc:0.96855\n",
      "[6200]\tval-auc:0.96855\n",
      "[6300]\tval-auc:0.96855\n",
      "[6400]\tval-auc:0.96855\n",
      "[6500]\tval-auc:0.96855\n",
      "[6600]\tval-auc:0.96856\n",
      "[6700]\tval-auc:0.96856\n",
      "[6800]\tval-auc:0.96857\n",
      "[6900]\tval-auc:0.96857\n",
      "[7000]\tval-auc:0.96857\n",
      "[7056]\tval-auc:0.96857\n",
      "\n",
      "-> gt_orders  -  Recall : 0.6667\n",
      "\n",
      "Params : {'max_depth': 6, 'subsample': '0.882', 'colsample_bytree': '0.540', 'reg_alpha': '1.74e-02', 'reg_lambda': '2.51e-01'},\n",
      "\n"
     ]
    },
    {
     "name": "stderr",
     "output_type": "stream",
     "text": [
      "\u001b[32m[I 2023-01-21 18:32:04,949]\u001b[0m Trial 1 finished with value: 0.66665811943896 and parameters: {'max_depth': 6, 'subsample': 0.8816640203082446, 'colsample_bytree': 0.5399534428323278, 'reg_alpha': 0.017420581777930405, 'reg_lambda': 0.2505834536661377}. Best is trial 1 with value: 0.66665811943896.\u001b[0m\n"
     ]
    },
    {
     "name": "stdout",
     "output_type": "stream",
     "text": [
      "[0]\tval-auc:0.95583\n",
      "[100]\tval-auc:0.96149\n",
      "[200]\tval-auc:0.96271\n",
      "[300]\tval-auc:0.96376\n",
      "[400]\tval-auc:0.96466\n",
      "[500]\tval-auc:0.96537\n",
      "[600]\tval-auc:0.96589\n",
      "[700]\tval-auc:0.96629\n",
      "[800]\tval-auc:0.96662\n",
      "[900]\tval-auc:0.96688\n",
      "[1000]\tval-auc:0.96711\n",
      "[1100]\tval-auc:0.96729\n",
      "[1200]\tval-auc:0.96744\n",
      "[1300]\tval-auc:0.96755\n",
      "[1400]\tval-auc:0.96766\n",
      "[1500]\tval-auc:0.96774\n",
      "[1600]\tval-auc:0.96780\n",
      "[1700]\tval-auc:0.96786\n",
      "[1800]\tval-auc:0.96791\n",
      "[1900]\tval-auc:0.96795\n",
      "[2000]\tval-auc:0.96799\n",
      "[2100]\tval-auc:0.96802\n",
      "[2200]\tval-auc:0.96805\n",
      "[2300]\tval-auc:0.96806\n",
      "[2400]\tval-auc:0.96807\n",
      "[2500]\tval-auc:0.96808\n",
      "[2585]\tval-auc:0.96808\n",
      "\n",
      "-> gt_orders  -  Recall : 0.6666\n",
      "\n",
      "Params : {'max_depth': 8, 'subsample': '0.912', 'colsample_bytree': '0.801', 'reg_alpha': '9.18e-05', 'reg_lambda': '1.98e-03'},\n",
      "\n"
     ]
    },
    {
     "name": "stderr",
     "output_type": "stream",
     "text": [
      "\u001b[32m[I 2023-01-21 18:54:34,619]\u001b[0m Trial 2 finished with value: 0.6665683735480397 and parameters: {'max_depth': 8, 'subsample': 0.9117558991061636, 'colsample_bytree': 0.8007529651765688, 'reg_alpha': 9.180452495120153e-05, 'reg_lambda': 0.0019809426731178283}. Best is trial 1 with value: 0.66665811943896.\u001b[0m\n"
     ]
    },
    {
     "name": "stdout",
     "output_type": "stream",
     "text": [
      "[0]\tval-auc:0.95406\n",
      "[100]\tval-auc:0.95902\n",
      "[200]\tval-auc:0.96044\n",
      "[300]\tval-auc:0.96171\n",
      "[400]\tval-auc:0.96282\n",
      "[500]\tval-auc:0.96367\n",
      "[600]\tval-auc:0.96436\n",
      "[700]\tval-auc:0.96490\n",
      "[800]\tval-auc:0.96533\n",
      "[900]\tval-auc:0.96571\n",
      "[1000]\tval-auc:0.96609\n",
      "[1100]\tval-auc:0.96640\n",
      "[1200]\tval-auc:0.96664\n",
      "[1300]\tval-auc:0.96686\n",
      "[1400]\tval-auc:0.96696\n",
      "[1500]\tval-auc:0.96710\n",
      "[1600]\tval-auc:0.96722\n",
      "[1700]\tval-auc:0.96733\n",
      "[1800]\tval-auc:0.96742\n",
      "[1900]\tval-auc:0.96751\n",
      "[2000]\tval-auc:0.96754\n",
      "[2100]\tval-auc:0.96758\n",
      "[2200]\tval-auc:0.96763\n",
      "[2300]\tval-auc:0.96768\n",
      "[2400]\tval-auc:0.96772\n",
      "[2500]\tval-auc:0.96774\n",
      "[2600]\tval-auc:0.96778\n",
      "[2700]\tval-auc:0.96777\n",
      "[2707]\tval-auc:0.96777\n",
      "\n",
      "-> gt_orders  -  Recall : 0.6658\n",
      "\n",
      "Params : {'max_depth': 6, 'subsample': '0.985', 'colsample_bytree': '0.957', 'reg_alpha': '2.24e-03', 'reg_lambda': '2.09e-06'},\n",
      "\n"
     ]
    },
    {
     "name": "stderr",
     "output_type": "stream",
     "text": [
      "\u001b[32m[I 2023-01-21 19:13:39,888]\u001b[0m Trial 3 finished with value: 0.6657991230544373 and parameters: {'max_depth': 6, 'subsample': 0.9847784858794328, 'colsample_bytree': 0.95652589556673, 'reg_alpha': 0.0022361817340353224, 'reg_lambda': 2.091108376172022e-06}. Best is trial 1 with value: 0.66665811943896.\u001b[0m\n"
     ]
    },
    {
     "name": "stdout",
     "output_type": "stream",
     "text": [
      "[0]\tval-auc:0.95637\n",
      "[100]\tval-auc:0.96072\n",
      "[200]\tval-auc:0.96187\n",
      "[300]\tval-auc:0.96304\n",
      "[400]\tval-auc:0.96398\n",
      "[500]\tval-auc:0.96471\n",
      "[600]\tval-auc:0.96530\n",
      "[700]\tval-auc:0.96577\n",
      "[800]\tval-auc:0.96619\n",
      "[900]\tval-auc:0.96651\n",
      "[1000]\tval-auc:0.96678\n",
      "[1100]\tval-auc:0.96701\n",
      "[1200]\tval-auc:0.96720\n",
      "[1300]\tval-auc:0.96734\n",
      "[1400]\tval-auc:0.96746\n",
      "[1500]\tval-auc:0.96757\n",
      "[1600]\tval-auc:0.96767\n",
      "[1700]\tval-auc:0.96775\n",
      "[1800]\tval-auc:0.96783\n",
      "[1900]\tval-auc:0.96789\n",
      "[2000]\tval-auc:0.96793\n",
      "[2100]\tval-auc:0.96798\n",
      "[2200]\tval-auc:0.96802\n",
      "[2300]\tval-auc:0.96805\n",
      "[2400]\tval-auc:0.96808\n",
      "[2500]\tval-auc:0.96810\n",
      "[2600]\tval-auc:0.96813\n",
      "[2700]\tval-auc:0.96815\n",
      "[2800]\tval-auc:0.96817\n",
      "[2900]\tval-auc:0.96819\n",
      "[3000]\tval-auc:0.96819\n",
      "[3028]\tval-auc:0.96819\n",
      "\n",
      "-> gt_orders  -  Recall : 0.6666\n",
      "\n",
      "Params : {'max_depth': 7, 'subsample': '0.738', 'colsample_bytree': '0.632', 'reg_alpha': '1.34e-02', 'reg_lambda': '2.23e-03'},\n",
      "\n"
     ]
    },
    {
     "name": "stderr",
     "output_type": "stream",
     "text": [
      "\u001b[32m[I 2023-01-21 19:36:39,830]\u001b[0m Trial 4 finished with value: 0.6665811943895997 and parameters: {'max_depth': 7, 'subsample': 0.7383660281557252, 'colsample_bytree': 0.6322772781966076, 'reg_alpha': 0.013431657744890562, 'reg_lambda': 0.0022255313469677547}. Best is trial 1 with value: 0.66665811943896.\u001b[0m\n"
     ]
    },
    {
     "name": "stdout",
     "output_type": "stream",
     "text": [
      "[0]\tval-auc:0.95329\n",
      "[100]\tval-auc:0.96247\n",
      "[200]\tval-auc:0.96359\n",
      "[300]\tval-auc:0.96453\n",
      "[400]\tval-auc:0.96532\n",
      "[500]\tval-auc:0.96589\n",
      "[600]\tval-auc:0.96632\n",
      "[700]\tval-auc:0.96665\n",
      "[800]\tval-auc:0.96689\n",
      "[900]\tval-auc:0.96707\n",
      "[1000]\tval-auc:0.96713\n",
      "[1100]\tval-auc:0.96718\n",
      "[1200]\tval-auc:0.96726\n",
      "[1300]\tval-auc:0.96729\n",
      "[1400]\tval-auc:0.96727\n",
      "[1418]\tval-auc:0.96726\n",
      "\n",
      "-> gt_orders  -  Recall : 0.6658\n",
      "\n",
      "Params : {'max_depth': 9, 'subsample': '0.666', 'colsample_bytree': '0.894', 'reg_alpha': '6.63e-04', 'reg_lambda': '8.45e-05'},\n",
      "\n"
     ]
    },
    {
     "name": "stderr",
     "output_type": "stream",
     "text": [
      "\u001b[32m[I 2023-01-21 19:51:56,158]\u001b[0m Trial 5 finished with value: 0.6657863022128773 and parameters: {'max_depth': 9, 'subsample': 0.6663395898823019, 'colsample_bytree': 0.8935969190681103, 'reg_alpha': 0.0006626712389526148, 'reg_lambda': 8.445984340814827e-05}. Best is trial 1 with value: 0.66665811943896.\u001b[0m\n"
     ]
    },
    {
     "name": "stdout",
     "output_type": "stream",
     "text": [
      "[0]\tval-auc:0.95643\n",
      "[100]\tval-auc:0.96085\n",
      "[200]\tval-auc:0.96192\n",
      "[300]\tval-auc:0.96300\n",
      "[400]\tval-auc:0.96395\n",
      "[500]\tval-auc:0.96469\n",
      "[600]\tval-auc:0.96529\n",
      "[700]\tval-auc:0.96576\n",
      "[800]\tval-auc:0.96617\n",
      "[900]\tval-auc:0.96652\n",
      "[1000]\tval-auc:0.96680\n",
      "[1100]\tval-auc:0.96703\n",
      "[1200]\tval-auc:0.96722\n",
      "[1300]\tval-auc:0.96739\n",
      "[1400]\tval-auc:0.96754\n",
      "[1500]\tval-auc:0.96766\n",
      "[1600]\tval-auc:0.96775\n",
      "[1700]\tval-auc:0.96783\n",
      "[1800]\tval-auc:0.96791\n",
      "[1900]\tval-auc:0.96797\n",
      "[2000]\tval-auc:0.96803\n",
      "[2100]\tval-auc:0.96808\n",
      "[2200]\tval-auc:0.96812\n",
      "[2300]\tval-auc:0.96816\n",
      "[2400]\tval-auc:0.96819\n",
      "[2500]\tval-auc:0.96823\n",
      "[2600]\tval-auc:0.96825\n",
      "[2700]\tval-auc:0.96827\n",
      "[2800]\tval-auc:0.96829\n",
      "[2900]\tval-auc:0.96831\n",
      "[3000]\tval-auc:0.96832\n",
      "[3100]\tval-auc:0.96834\n",
      "[3200]\tval-auc:0.96836\n",
      "[3300]\tval-auc:0.96837\n",
      "[3400]\tval-auc:0.96838\n",
      "[3500]\tval-auc:0.96839\n",
      "[3600]\tval-auc:0.96840\n",
      "[3700]\tval-auc:0.96841\n",
      "[3800]\tval-auc:0.96842\n",
      "[3900]\tval-auc:0.96842\n",
      "[4000]\tval-auc:0.96843\n",
      "[4100]\tval-auc:0.96844\n",
      "[4200]\tval-auc:0.96844\n",
      "[4300]\tval-auc:0.96844\n",
      "[4400]\tval-auc:0.96844\n",
      "[4437]\tval-auc:0.96844\n",
      "\n",
      "-> gt_orders  -  Recall : 0.6666\n",
      "\n",
      "Params : {'max_depth': 7, 'subsample': '0.759', 'colsample_bytree': '0.511', 'reg_alpha': '1.73e-05', 'reg_lambda': '4.12e-02'},\n",
      "\n"
     ]
    },
    {
     "name": "stderr",
     "output_type": "stream",
     "text": [
      "\u001b[32m[I 2023-01-21 20:23:29,355]\u001b[0m Trial 6 finished with value: 0.6666068360727199 and parameters: {'max_depth': 7, 'subsample': 0.7590406439370354, 'colsample_bytree': 0.5106162369059721, 'reg_alpha': 1.7272431052533372e-05, 'reg_lambda': 0.04115219113399547}. Best is trial 1 with value: 0.66665811943896.\u001b[0m\n"
     ]
    },
    {
     "name": "stdout",
     "output_type": "stream",
     "text": [
      "[0]\tval-auc:0.94729\n",
      "[100]\tval-auc:0.96303\n",
      "[200]\tval-auc:0.96405\n",
      "[300]\tval-auc:0.96486\n",
      "[400]\tval-auc:0.96555\n",
      "[500]\tval-auc:0.96606\n",
      "[600]\tval-auc:0.96644\n",
      "[700]\tval-auc:0.96672\n",
      "[800]\tval-auc:0.96695\n",
      "[900]\tval-auc:0.96709\n",
      "[1000]\tval-auc:0.96721\n",
      "[1100]\tval-auc:0.96728\n",
      "[1200]\tval-auc:0.96735\n",
      "[1300]\tval-auc:0.96739\n",
      "[1400]\tval-auc:0.96743\n",
      "[1500]\tval-auc:0.96743\n",
      "[1533]\tval-auc:0.96743\n",
      "\n",
      "-> gt_orders  -  Recall : 0.6661\n",
      "\n",
      "Params : {'max_depth': 10, 'subsample': '0.523', 'colsample_bytree': '0.854', 'reg_alpha': '2.15e-02', 'reg_lambda': '1.01e-01'},\n",
      "\n"
     ]
    },
    {
     "name": "stderr",
     "output_type": "stream",
     "text": [
      "\u001b[32m[I 2023-01-21 20:41:37,632]\u001b[0m Trial 7 finished with value: 0.6660555398856381 and parameters: {'max_depth': 10, 'subsample': 0.5228707953140816, 'colsample_bytree': 0.8535928411898415, 'reg_alpha': 0.021539955595389203, 'reg_lambda': 0.10054106302547766}. Best is trial 1 with value: 0.66665811943896.\u001b[0m\n"
     ]
    },
    {
     "name": "stdout",
     "output_type": "stream",
     "text": [
      "[0]\tval-auc:0.95389\n",
      "[100]\tval-auc:0.95929\n",
      "[200]\tval-auc:0.96070\n",
      "[300]\tval-auc:0.96185\n",
      "[400]\tval-auc:0.96292\n",
      "[500]\tval-auc:0.96376\n",
      "[600]\tval-auc:0.96442\n",
      "[700]\tval-auc:0.96496\n",
      "[800]\tval-auc:0.96542\n",
      "[900]\tval-auc:0.96580\n",
      "[1000]\tval-auc:0.96615\n",
      "[1100]\tval-auc:0.96645\n",
      "[1200]\tval-auc:0.96668\n",
      "[1300]\tval-auc:0.96689\n",
      "[1400]\tval-auc:0.96700\n",
      "[1500]\tval-auc:0.96712\n",
      "[1600]\tval-auc:0.96724\n",
      "[1700]\tval-auc:0.96734\n",
      "[1800]\tval-auc:0.96742\n",
      "[1900]\tval-auc:0.96743\n",
      "[2000]\tval-auc:0.96749\n",
      "[2100]\tval-auc:0.96754\n",
      "[2200]\tval-auc:0.96746\n",
      "[2257]\tval-auc:0.96748\n",
      "\n",
      "-> gt_orders  -  Recall : 0.6654\n",
      "\n",
      "Params : {'max_depth': 6, 'subsample': '0.796', 'colsample_bytree': '0.806', 'reg_alpha': '5.28e-05', 'reg_lambda': '1.42e-05'},\n",
      "\n"
     ]
    },
    {
     "name": "stderr",
     "output_type": "stream",
     "text": [
      "\u001b[32m[I 2023-01-21 20:58:15,043]\u001b[0m Trial 8 finished with value: 0.6654273186491961 and parameters: {'max_depth': 6, 'subsample': 0.7962711723163047, 'colsample_bytree': 0.8062584557517884, 'reg_alpha': 5.2849105006773386e-05, 'reg_lambda': 1.4172921447323346e-05}. Best is trial 1 with value: 0.66665811943896.\u001b[0m\n"
     ]
    },
    {
     "name": "stdout",
     "output_type": "stream",
     "text": [
      "[0]\tval-auc:0.95547\n",
      "[100]\tval-auc:0.96054\n",
      "[200]\tval-auc:0.96180\n",
      "[300]\tval-auc:0.96291\n",
      "[400]\tval-auc:0.96389\n",
      "[500]\tval-auc:0.96465\n",
      "[600]\tval-auc:0.96525\n",
      "[700]\tval-auc:0.96574\n",
      "[800]\tval-auc:0.96613\n",
      "[900]\tval-auc:0.96644\n",
      "[1000]\tval-auc:0.96672\n",
      "[1100]\tval-auc:0.96696\n",
      "[1200]\tval-auc:0.96716\n",
      "[1300]\tval-auc:0.96730\n",
      "[1400]\tval-auc:0.96742\n",
      "[1500]\tval-auc:0.96751\n",
      "[1600]\tval-auc:0.96758\n",
      "[1700]\tval-auc:0.96765\n",
      "[1800]\tval-auc:0.96768\n",
      "[1882]\tval-auc:0.96768\n",
      "\n",
      "-> gt_orders  -  Recall : 0.6657\n",
      "\n",
      "Params : {'max_depth': 7, 'subsample': '0.850', 'colsample_bytree': '0.743', 'reg_alpha': '3.16e-02', 'reg_lambda': '3.59e-05'},\n",
      "\n"
     ]
    },
    {
     "name": "stderr",
     "output_type": "stream",
     "text": [
      "\u001b[32m[I 2023-01-21 21:14:02,564]\u001b[0m Trial 9 finished with value: 0.6657478396881972 and parameters: {'max_depth': 7, 'subsample': 0.8495254921083764, 'colsample_bytree': 0.7431074998726734, 'reg_alpha': 0.03162089876449657, 'reg_lambda': 3.5927929173568555e-05}. Best is trial 1 with value: 0.66665811943896.\u001b[0m\n"
     ]
    },
    {
     "name": "stdout",
     "output_type": "stream",
     "text": [
      "[0]\tval-auc:0.95690\n",
      "[100]\tval-auc:0.96170\n",
      "[200]\tval-auc:0.96276\n",
      "[300]\tval-auc:0.96380\n",
      "[400]\tval-auc:0.96464\n",
      "[500]\tval-auc:0.96533\n",
      "[600]\tval-auc:0.96586\n",
      "[700]\tval-auc:0.96627\n",
      "[800]\tval-auc:0.96663\n",
      "[900]\tval-auc:0.96693\n",
      "[1000]\tval-auc:0.96717\n",
      "[1100]\tval-auc:0.96736\n",
      "[1200]\tval-auc:0.96753\n",
      "[1300]\tval-auc:0.96766\n",
      "[1400]\tval-auc:0.96778\n",
      "[1500]\tval-auc:0.96787\n",
      "[1600]\tval-auc:0.96795\n",
      "[1700]\tval-auc:0.96801\n",
      "[1800]\tval-auc:0.96807\n",
      "[1900]\tval-auc:0.96812\n",
      "[2000]\tval-auc:0.96817\n",
      "[2100]\tval-auc:0.96820\n",
      "[2200]\tval-auc:0.96823\n",
      "[2300]\tval-auc:0.96824\n",
      "[2400]\tval-auc:0.96826\n",
      "[2500]\tval-auc:0.96827\n",
      "[2600]\tval-auc:0.96828\n",
      "[2700]\tval-auc:0.96828\n",
      "[2800]\tval-auc:0.96828\n",
      "[2900]\tval-auc:0.96829\n",
      "[3000]\tval-auc:0.96829\n",
      "[3055]\tval-auc:0.96829\n",
      "\n",
      "-> gt_orders  -  Recall : 0.6665\n",
      "\n",
      "Params : {'max_depth': 8, 'subsample': '0.992', 'colsample_bytree': '0.512', 'reg_alpha': '9.84e-02', 'reg_lambda': '8.08e-01'},\n",
      "\n"
     ]
    },
    {
     "name": "stderr",
     "output_type": "stream",
     "text": [
      "\u001b[32m[I 2023-01-21 21:39:05,435]\u001b[0m Trial 10 finished with value: 0.6665427318649196 and parameters: {'max_depth': 8, 'subsample': 0.9915813300276377, 'colsample_bytree': 0.5117541520880596, 'reg_alpha': 0.09841557986658642, 'reg_lambda': 0.8079740655822105}. Best is trial 1 with value: 0.66665811943896.\u001b[0m\n"
     ]
    },
    {
     "name": "stdout",
     "output_type": "stream",
     "text": [
      "[0]\tval-auc:0.95634\n",
      "[100]\tval-auc:0.96086\n",
      "[200]\tval-auc:0.96189\n",
      "[300]\tval-auc:0.96300\n",
      "[400]\tval-auc:0.96391\n",
      "[500]\tval-auc:0.96467\n",
      "[600]\tval-auc:0.96525\n",
      "[700]\tval-auc:0.96573\n",
      "[800]\tval-auc:0.96613\n",
      "[900]\tval-auc:0.96648\n",
      "[1000]\tval-auc:0.96677\n",
      "[1100]\tval-auc:0.96702\n",
      "[1200]\tval-auc:0.96722\n",
      "[1300]\tval-auc:0.96738\n",
      "[1400]\tval-auc:0.96752\n",
      "[1500]\tval-auc:0.96764\n",
      "[1600]\tval-auc:0.96773\n",
      "[1700]\tval-auc:0.96781\n",
      "[1800]\tval-auc:0.96789\n",
      "[1900]\tval-auc:0.96795\n",
      "[2000]\tval-auc:0.96800\n",
      "[2100]\tval-auc:0.96805\n",
      "[2200]\tval-auc:0.96810\n",
      "[2300]\tval-auc:0.96814\n",
      "[2400]\tval-auc:0.96817\n",
      "[2500]\tval-auc:0.96820\n",
      "[2600]\tval-auc:0.96823\n",
      "[2700]\tval-auc:0.96826\n",
      "[2800]\tval-auc:0.96829\n",
      "[2900]\tval-auc:0.96831\n",
      "[3000]\tval-auc:0.96832\n",
      "[3100]\tval-auc:0.96833\n",
      "[3200]\tval-auc:0.96835\n",
      "[3300]\tval-auc:0.96836\n",
      "[3400]\tval-auc:0.96837\n",
      "[3500]\tval-auc:0.96838\n",
      "[3600]\tval-auc:0.96839\n",
      "[3700]\tval-auc:0.96840\n",
      "[3800]\tval-auc:0.96840\n",
      "[3900]\tval-auc:0.96841\n",
      "[4000]\tval-auc:0.96842\n",
      "[4100]\tval-auc:0.96842\n",
      "[4193]\tval-auc:0.96842\n",
      "\n",
      "-> gt_orders  -  Recall : 0.6665\n",
      "\n",
      "Params : {'max_depth': 7, 'subsample': '0.848', 'colsample_bytree': '0.515', 'reg_alpha': '4.99e-04', 'reg_lambda': '6.12e-02'},\n",
      "\n"
     ]
    },
    {
     "name": "stderr",
     "output_type": "stream",
     "text": [
      "\u001b[32m[I 2023-01-21 22:09:00,105]\u001b[0m Trial 11 finished with value: 0.6665170901817995 and parameters: {'max_depth': 7, 'subsample': 0.8482622201883273, 'colsample_bytree': 0.5150586864909056, 'reg_alpha': 0.0004991989090473534, 'reg_lambda': 0.06122289773389768}. Best is trial 1 with value: 0.66665811943896.\u001b[0m\n"
     ]
    },
    {
     "name": "stdout",
     "output_type": "stream",
     "text": [
      "[0]\tval-auc:0.95548\n",
      "[100]\tval-auc:0.95952\n",
      "[200]\tval-auc:0.96081\n"
     ]
    }
   ],
   "source": [
    "%%time\n",
    "\n",
    "log_folder = None\n",
    "run = None\n",
    "if not DEBUG:\n",
    "    log_folder = prepare_log_folder(LOG_PATH)\n",
    "    if not DEBUG_MORE:\n",
    "        run = init_neptune(Config, log_folder)\n",
    "    print(f'Logging results to {log_folder}')\n",
    "    create_logger(directory=log_folder, name=\"logs.txt\")\n",
    "\n",
    "    save_config(Config, log_folder + 'config')\n",
    "\n",
    "ft_imp = kfold(REGEX, TEST_REGEX, Config, log_folder=log_folder, debug=DEBUG_MORE, run=run)\n",
    "run.stop()"
   ]
  },
  {
   "cell_type": "markdown",
   "metadata": {},
   "source": [
    "- 0.6663"
   ]
  },
  {
   "cell_type": "code",
   "execution_count": null,
   "metadata": {},
   "outputs": [],
   "source": [
    "# fig = plot_importances(ft_imp, run=run)"
   ]
  },
  {
   "cell_type": "markdown",
   "metadata": {},
   "source": [
    "Done"
   ]
  }
 ],
 "metadata": {
  "kernelspec": {
   "display_name": "Python 3 (ipykernel)",
   "language": "python",
   "name": "python3"
  },
  "language_info": {
   "codemirror_mode": {
    "name": "ipython",
    "version": 3
   },
   "file_extension": ".py",
   "mimetype": "text/x-python",
   "name": "python",
   "nbconvert_exporter": "python",
   "pygments_lexer": "ipython3",
   "version": "3.8.10"
  }
 },
 "nbformat": 4,
 "nbformat_minor": 4
}
