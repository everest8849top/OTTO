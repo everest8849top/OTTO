{
 "cells": [
  {
   "cell_type": "code",
   "execution_count": null,
   "id": "2d3c605a",
   "metadata": {},
   "outputs": [],
   "source": [
    "# !pip install -U chardet urllib3 gensim"
   ]
  },
  {
   "cell_type": "code",
   "execution_count": null,
   "id": "a84ad85b",
   "metadata": {},
   "outputs": [],
   "source": [
    "cd ../src"
   ]
  },
  {
   "cell_type": "code",
   "execution_count": null,
   "id": "28ed241f",
   "metadata": {},
   "outputs": [],
   "source": [
    "%load_ext autoreload\n",
    "%autoreload 2"
   ]
  },
  {
   "cell_type": "code",
   "execution_count": null,
   "id": "a0e12e20",
   "metadata": {},
   "outputs": [],
   "source": [
    "import os\n",
    "os.environ[\"CUDA_VISIBLE_DEVICES\"] = \"1\""
   ]
  },
  {
   "cell_type": "code",
   "execution_count": null,
   "id": "0d711c46",
   "metadata": {},
   "outputs": [],
   "source": [
    "import os\n",
    "import gc\n",
    "import sys\n",
    "import cudf\n",
    "import json\n",
    "import glob\n",
    "import numba\n",
    "import pickle\n",
    "import warnings\n",
    "import itertools\n",
    "import numpy as np\n",
    "import pandas as pd\n",
    "\n",
    "from tqdm import tqdm\n",
    "from datetime import datetime\n",
    "from collections import Counter\n",
    "from numerize.numerize import numerize\n",
    "\n",
    "from gensim.models import Word2Vec\n",
    "from gensim.test.utils import common_texts\n",
    "\n",
    "warnings.simplefilter(action=\"ignore\", category=FutureWarning)"
   ]
  },
  {
   "cell_type": "code",
   "execution_count": null,
   "id": "1271bd80",
   "metadata": {},
   "outputs": [],
   "source": [
    "from params import *"
   ]
  },
  {
   "cell_type": "markdown",
   "id": "2fb71323",
   "metadata": {},
   "source": [
    "### Params"
   ]
  },
  {
   "cell_type": "code",
   "execution_count": null,
   "id": "e39e0cac",
   "metadata": {},
   "outputs": [],
   "source": [
    "MODE = \"test\""
   ]
  },
  {
   "cell_type": "code",
   "execution_count": null,
   "id": "8cb601c2",
   "metadata": {},
   "outputs": [],
   "source": [
    "if MODE == \"val\":\n",
    "    files = glob.glob(\"../output/full_train_parquet/*\") + glob.glob(\n",
    "        \"../output/val_parquet/*\"\n",
    "    )\n",
    "elif MODE == \"test\":\n",
    "    files = glob.glob(\"../output/full_train_val_parquet/*\") + glob.glob(\n",
    "        \"../output/test_parquet/*\"\n",
    "    )\n",
    "else:\n",
    "    raise NotImplementedError"
   ]
  },
  {
   "cell_type": "code",
   "execution_count": null,
   "id": "56250f58",
   "metadata": {},
   "outputs": [],
   "source": [
    "sessions = cudf.concat([cudf.read_parquet(f) for f in files], ignore_index=True)\n",
    "sessions = sessions.sort_values(['session', 'ts'])\n",
    "sessions = sessions[['session', 'aid']].groupby(['session']).agg(list)\n",
    "\n",
    "sentences = sessions['aid'].to_pandas().apply(lambda x: x.tolist()).to_list()\n",
    "\n",
    "del sessions\n",
    "gc.collect()\n",
    "numba.cuda.current_context().deallocations.clear()"
   ]
  },
  {
   "cell_type": "code",
   "execution_count": null,
   "id": "a491d063",
   "metadata": {},
   "outputs": [],
   "source": [
    "%%time\n",
    "\n",
    "w2vec = Word2Vec(\n",
    "    sentences=sentences, \n",
    "    vector_size=50, \n",
    "    epochs=5, \n",
    "    sg=1, \n",
    "    window=3, \n",
    "    sample=1e-3, \n",
    "    ns_exponent=1, \n",
    "    min_count=1, \n",
    "    workers=8\n",
    ")"
   ]
  },
  {
   "cell_type": "code",
   "execution_count": null,
   "id": "553db87a",
   "metadata": {},
   "outputs": [],
   "source": [
    "aid2idx = {aid: i for i, aid in enumerate(w2vec.wv.index_to_key)}"
   ]
  },
  {
   "cell_type": "code",
   "execution_count": null,
   "id": "ce552348",
   "metadata": {},
   "outputs": [],
   "source": [
    "emb = {}\n",
    "for aid, idx in aid2idx.items():\n",
    "    emb[aid] = w2vec.wv.vectors[idx]"
   ]
  },
  {
   "cell_type": "code",
   "execution_count": null,
   "id": "c780fa9c",
   "metadata": {},
   "outputs": [],
   "source": [
    "w2vec.wv.vectors.shape"
   ]
  },
  {
   "cell_type": "code",
   "execution_count": null,
   "id": "e046c7da",
   "metadata": {},
   "outputs": [],
   "source": [
    "pickle.dump(\n",
    "    emb,\n",
    "    open(f'../output/matrix_factorization/word2vec_{MODE}.emb', 'wb')\n",
    ")\n",
    "\n",
    "np.save(f'../output/matrix_factorization/word2vec_{MODE}.npy', w2vec.wv.vectors)"
   ]
  },
  {
   "cell_type": "markdown",
   "id": "3ee677d1",
   "metadata": {},
   "source": [
    "Done !"
   ]
  }
 ],
 "metadata": {
  "kernelspec": {
   "display_name": "Python 3 (ipykernel)",
   "language": "python",
   "name": "python3"
  },
  "language_info": {
   "codemirror_mode": {
    "name": "ipython",
    "version": 3
   },
   "file_extension": ".py",
   "mimetype": "text/x-python",
   "name": "python",
   "nbconvert_exporter": "python",
   "pygments_lexer": "ipython3",
   "version": "3.8.10"
  }
 },
 "nbformat": 4,
 "nbformat_minor": 5
}
