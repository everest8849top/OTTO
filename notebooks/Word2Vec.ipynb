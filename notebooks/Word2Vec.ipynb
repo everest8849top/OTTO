{
 "cells": [
  {
   "cell_type": "code",
   "execution_count": 1,
   "id": "3a5f170c",
   "metadata": {},
   "outputs": [],
   "source": [
    "# !pip install -U chardet urllib3 gensim"
   ]
  },
  {
   "cell_type": "code",
   "execution_count": 2,
   "id": "043b0761",
   "metadata": {},
   "outputs": [
    {
     "name": "stdout",
     "output_type": "stream",
     "text": [
      "/workspace/kaggle_otto_rs/src\n"
     ]
    }
   ],
   "source": [
    "cd ../src"
   ]
  },
  {
   "cell_type": "code",
   "execution_count": 3,
   "id": "c595126e",
   "metadata": {},
   "outputs": [],
   "source": [
    "%load_ext autoreload\n",
    "%autoreload 2"
   ]
  },
  {
   "cell_type": "code",
   "execution_count": 4,
   "id": "fb6b3803",
   "metadata": {},
   "outputs": [],
   "source": [
    "import os\n",
    "os.environ[\"CUDA_VISIBLE_DEVICES\"] = \"1\""
   ]
  },
  {
   "cell_type": "code",
   "execution_count": 5,
   "id": "611b460c",
   "metadata": {},
   "outputs": [
    {
     "ename": "ModuleNotFoundError",
     "evalue": "No module named 'gensim'",
     "output_type": "error",
     "traceback": [
      "\u001b[0;31m---------------------------------------------------------------------------\u001b[0m",
      "\u001b[0;31mModuleNotFoundError\u001b[0m                       Traceback (most recent call last)",
      "Cell \u001b[0;32mIn[5], line 19\u001b[0m\n\u001b[1;32m     16\u001b[0m \u001b[38;5;28;01mfrom\u001b[39;00m \u001b[38;5;21;01mcollections\u001b[39;00m \u001b[38;5;28;01mimport\u001b[39;00m Counter\n\u001b[1;32m     17\u001b[0m \u001b[38;5;28;01mfrom\u001b[39;00m \u001b[38;5;21;01mnumerize\u001b[39;00m\u001b[38;5;21;01m.\u001b[39;00m\u001b[38;5;21;01mnumerize\u001b[39;00m \u001b[38;5;28;01mimport\u001b[39;00m numerize\n\u001b[0;32m---> 19\u001b[0m \u001b[38;5;28;01mfrom\u001b[39;00m \u001b[38;5;21;01mgensim\u001b[39;00m\u001b[38;5;21;01m.\u001b[39;00m\u001b[38;5;21;01mmodels\u001b[39;00m \u001b[38;5;28;01mimport\u001b[39;00m Word2Vec\n\u001b[1;32m     20\u001b[0m \u001b[38;5;28;01mfrom\u001b[39;00m \u001b[38;5;21;01mgensim\u001b[39;00m\u001b[38;5;21;01m.\u001b[39;00m\u001b[38;5;21;01mtest\u001b[39;00m\u001b[38;5;21;01m.\u001b[39;00m\u001b[38;5;21;01mutils\u001b[39;00m \u001b[38;5;28;01mimport\u001b[39;00m common_texts\n\u001b[1;32m     22\u001b[0m warnings\u001b[38;5;241m.\u001b[39msimplefilter(action\u001b[38;5;241m=\u001b[39m\u001b[38;5;124m\"\u001b[39m\u001b[38;5;124mignore\u001b[39m\u001b[38;5;124m\"\u001b[39m, category\u001b[38;5;241m=\u001b[39m\u001b[38;5;167;01mFutureWarning\u001b[39;00m)\n",
      "\u001b[0;31mModuleNotFoundError\u001b[0m: No module named 'gensim'"
     ]
    }
   ],
   "source": [
    "import os\n",
    "import gc\n",
    "import sys\n",
    "import cudf\n",
    "import json\n",
    "import glob\n",
    "import numba\n",
    "import pickle\n",
    "import warnings\n",
    "import itertools\n",
    "import numpy as np\n",
    "import pandas as pd\n",
    "\n",
    "from tqdm import tqdm\n",
    "from datetime import datetime\n",
    "from collections import Counter\n",
    "from numerize.numerize import numerize\n",
    "\n",
    "from gensim.models import Word2Vec\n",
    "from gensim.test.utils import common_texts\n",
    "\n",
    "warnings.simplefilter(action=\"ignore\", category=FutureWarning)"
   ]
  },
  {
   "cell_type": "code",
   "execution_count": null,
   "id": "a2aee69e",
   "metadata": {},
   "outputs": [],
   "source": [
    "from params import *"
   ]
  },
  {
   "cell_type": "markdown",
   "id": "8301106f",
   "metadata": {},
   "source": [
    "### Params"
   ]
  },
  {
   "cell_type": "code",
   "execution_count": null,
   "id": "dca16a20",
   "metadata": {},
   "outputs": [],
   "source": [
    "MODE = \"test\""
   ]
  },
  {
   "cell_type": "code",
   "execution_count": null,
   "id": "b3d5d250",
   "metadata": {},
   "outputs": [],
   "source": [
    "if MODE == \"val\":\n",
    "    files = glob.glob(\"../output/full_train_parquet/*\") + glob.glob(\n",
    "        \"../output/val_parquet/*\"\n",
    "    )\n",
    "elif MODE == \"test\":\n",
    "    files = glob.glob(\"../output/full_train_val_parquet/*\") + glob.glob(\n",
    "        \"../output/test_parquet/*\"\n",
    "    )\n",
    "else:\n",
    "    raise NotImplementedError"
   ]
  },
  {
   "cell_type": "code",
   "execution_count": null,
   "id": "67eb0b12",
   "metadata": {},
   "outputs": [],
   "source": [
    "sessions = cudf.concat([cudf.read_parquet(f) for f in files], ignore_index=True)\n",
    "sessions = sessions.sort_values(['session', 'ts'])\n",
    "sessions = sessions[['session', 'aid']].groupby(['session']).agg(list)\n",
    "\n",
    "sentences = sessions['aid'].to_pandas().apply(lambda x: x.tolist()).to_list()\n",
    "\n",
    "del sessions\n",
    "gc.collect()\n",
    "numba.cuda.current_context().deallocations.clear()"
   ]
  },
  {
   "cell_type": "code",
   "execution_count": null,
   "id": "3092717e",
   "metadata": {},
   "outputs": [],
   "source": [
    "%%time\n",
    "\n",
    "w2vec = Word2Vec(\n",
    "    sentences=sentences, \n",
    "    vector_size=50, \n",
    "    epochs=5, \n",
    "    sg=1, \n",
    "    window=3, \n",
    "    sample=1e-3, \n",
    "    ns_exponent=1, \n",
    "    min_count=1, \n",
    "    workers=8\n",
    ")"
   ]
  },
  {
   "cell_type": "code",
   "execution_count": null,
   "id": "c9305443",
   "metadata": {},
   "outputs": [],
   "source": [
    "aid2idx = {aid: i for i, aid in enumerate(w2vec.wv.index_to_key)}"
   ]
  },
  {
   "cell_type": "code",
   "execution_count": null,
   "id": "41afc12b",
   "metadata": {},
   "outputs": [],
   "source": [
    "emb = {}\n",
    "for aid, idx in aid2idx.items():\n",
    "    emb[aid] = w2vec.wv.vectors[idx]"
   ]
  },
  {
   "cell_type": "code",
   "execution_count": null,
   "id": "702f03cd",
   "metadata": {},
   "outputs": [],
   "source": [
    "w2vec.wv.vectors.shape"
   ]
  },
  {
   "cell_type": "code",
   "execution_count": null,
   "id": "16fc9bbe",
   "metadata": {},
   "outputs": [],
   "source": [
    "pickle.dump(\n",
    "    emb,\n",
    "    open(f'../output/matrix_factorization/word2vec_{MODE}.emb', 'wb')\n",
    ")\n",
    "\n",
    "np.save(f'../output/matrix_factorization/word2vec_{MODE}.npy', w2vec.wv.vectors)"
   ]
  },
  {
   "cell_type": "markdown",
   "id": "cd25407a",
   "metadata": {},
   "source": [
    "Done !"
   ]
  }
 ],
 "metadata": {
  "kernelspec": {
   "display_name": "Python 3 (ipykernel)",
   "language": "python",
   "name": "python3"
  },
  "language_info": {
   "codemirror_mode": {
    "name": "ipython",
    "version": 3
   },
   "file_extension": ".py",
   "mimetype": "text/x-python",
   "name": "python",
   "nbconvert_exporter": "python",
   "pygments_lexer": "ipython3",
   "version": "3.8.10"
  }
 },
 "nbformat": 4,
 "nbformat_minor": 5
}
