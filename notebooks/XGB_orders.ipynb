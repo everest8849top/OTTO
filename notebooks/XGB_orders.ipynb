{
 "cells": [
  {
   "cell_type": "markdown",
   "metadata": {},
   "source": [
    "**About :** Trains XGBoost models.\n",
    "\n",
    "**TODO**:\n",
    "- better neg sampling technique ??"
   ]
  },
  {
   "cell_type": "code",
   "execution_count": 1,
   "metadata": {},
   "outputs": [
    {
     "name": "stdout",
     "output_type": "stream",
     "text": [
      "/workspace/kaggle_otto_rs/src\n"
     ]
    }
   ],
   "source": [
    "cd ../src"
   ]
  },
  {
   "cell_type": "code",
   "execution_count": 2,
   "metadata": {},
   "outputs": [],
   "source": [
    "%load_ext autoreload\n",
    "%autoreload 2"
   ]
  },
  {
   "cell_type": "code",
   "execution_count": 3,
   "metadata": {},
   "outputs": [],
   "source": [
    "import os\n",
    "os.environ[\"CUDA_VISIBLE_DEVICES\"] = \"0\""
   ]
  },
  {
   "cell_type": "code",
   "execution_count": 4,
   "metadata": {},
   "outputs": [
    {
     "name": "stdout",
     "output_type": "stream",
     "text": [
      "INFO: Pandarallel will run on 32 workers.\n",
      "INFO: Pandarallel will use Memory file system to transfer data between the main process and workers.\n"
     ]
    }
   ],
   "source": [
    "import os\n",
    "import gc\n",
    "import cudf\n",
    "import json\n",
    "import glob\n",
    "import numba\n",
    "import xgboost\n",
    "import warnings\n",
    "import numpy as np\n",
    "import pandas as pd\n",
    "import seaborn as sns\n",
    "import matplotlib.pyplot as plt\n",
    "\n",
    "from tqdm import tqdm\n",
    "from pandarallel import pandarallel\n",
    "from numerize.numerize import numerize\n",
    "\n",
    "warnings.simplefilter(action=\"ignore\", category=FutureWarning)\n",
    "pd.options.display.max_columns = 500\n",
    "pd.options.display.max_rows = 500\n",
    "pandarallel.initialize(nb_workers=32, progress_bar=False)"
   ]
  },
  {
   "cell_type": "code",
   "execution_count": 5,
   "metadata": {},
   "outputs": [],
   "source": [
    "from params import *\n",
    "\n",
    "from utils.metrics import get_coverage\n",
    "from utils.plot import plot_importances\n",
    "from utils.load import *\n",
    "from utils.logger import save_config, prepare_log_folder, create_logger, init_neptune\n",
    "from utils.torch import seed_everything\n",
    "\n",
    "from training.xgb import kfold, optimize"
   ]
  },
  {
   "cell_type": "code",
   "execution_count": 6,
   "metadata": {},
   "outputs": [],
   "source": [
    "import matplotlib\n",
    "matplotlib.use('Agg')"
   ]
  },
  {
   "cell_type": "markdown",
   "metadata": {},
   "source": [
    "### Load"
   ]
  },
  {
   "cell_type": "code",
   "execution_count": 7,
   "metadata": {},
   "outputs": [],
   "source": [
    "# VERSION = \"clicks_cv3-tv5.10\"\n",
    "# VERSION = \"cv3-tv5.10\"\n",
    "# VERSION = \"cv6-tv6.11\"\n",
    "# TEST_VERSION = \"cv3-tv5.10\"\n",
    "\n",
    "VERSION = \"cv7-tv5.11\"\n",
    "TEST_VERSION = \"cv7-tv5.11\""
   ]
  },
  {
   "cell_type": "markdown",
   "metadata": {},
   "source": [
    "#### Train data\n",
    "- neg sampling could use candidates from lower versions"
   ]
  },
  {
   "cell_type": "code",
   "execution_count": 8,
   "metadata": {},
   "outputs": [],
   "source": [
    "POS_RATIO = 0.2\n",
    "TARGET = \"gt_orders\"   # \"gt_clicks\", \"gt_carts\", \"gt_orders\""
   ]
  },
  {
   "cell_type": "code",
   "execution_count": 9,
   "metadata": {},
   "outputs": [],
   "source": [
    "PROBS_PATHS = {\n",
    "    \"gt_orders\": \"../logs/2023-01-14/9/\",\n",
    "    \"gt_carts\": \"../logs/2023-01-14/8/\",\n",
    "}"
   ]
  },
  {
   "cell_type": "code",
   "execution_count": 10,
   "metadata": {},
   "outputs": [
    {
     "data": {
      "text/plain": [
       "39"
      ]
     },
     "execution_count": 10,
     "metadata": {},
     "output_type": "execute_result"
    }
   ],
   "source": [
    "# if TARGET != \"gt_clicks\":\n",
    "#     REGEX = f\"../output/features/fts_val_{VERSION}_{TARGET}/*\"\n",
    "# else:\n",
    "\n",
    "REGEX = f\"../output/features/fts_val_{VERSION}/*\"\n",
    "len(glob.glob(REGEX))"
   ]
  },
  {
   "cell_type": "code",
   "execution_count": 11,
   "metadata": {},
   "outputs": [
    {
     "data": {
      "text/plain": [
       "111"
      ]
     },
     "execution_count": 11,
     "metadata": {},
     "output_type": "execute_result"
    }
   ],
   "source": [
    "EXTRA_REGEX = f\"../output/features/fts_extra_{VERSION}/*\"\n",
    "len(glob.glob(EXTRA_REGEX))"
   ]
  },
  {
   "cell_type": "code",
   "execution_count": 12,
   "metadata": {},
   "outputs": [
    {
     "data": {
      "text/plain": [
       "101"
      ]
     },
     "execution_count": 12,
     "metadata": {},
     "output_type": "execute_result"
    }
   ],
   "source": [
    "TEST_REGEX = f\"../output/features/fts_test_{TEST_VERSION}/*\"\n",
    "len(glob.glob(TEST_REGEX))"
   ]
  },
  {
   "cell_type": "code",
   "execution_count": 13,
   "metadata": {},
   "outputs": [],
   "source": [
    "# filter_dfs(\n",
    "#     f\"../output/features/fts_val_{VERSION}/*\",\n",
    "#     target=\"gt_carts\",\n",
    "# )"
   ]
  },
  {
   "cell_type": "code",
   "execution_count": 14,
   "metadata": {},
   "outputs": [],
   "source": [
    "# def load_sessions(regex):\n",
    "#     dfs = []\n",
    "#     for idx, chunk_file in enumerate(glob.glob(regex)):\n",
    "#         df = cudf.read_parquet(chunk_file, columns=[\"session\"])\n",
    "#         dfs.append(df.drop_duplicates(keep=\"first\"))\n",
    "\n",
    "#     return cudf.concat(dfs).reset_index(drop=True)\n",
    "\n",
    "# sessions = load_sessions( f\"../output/features/fts_val_{VERSION}/*\")\n",
    "\n",
    "# from sklearn.model_selection import KFold\n",
    "# K = 4\n",
    "\n",
    "# kf = KFold(n_splits=K, shuffle=True, random_state=42)\n",
    "# splits = kf.split(sessions)\n",
    "\n",
    "# sessions['fold'] = -1\n",
    "# for i, (_, val_idx) in enumerate(splits):\n",
    "#     sessions.loc[val_idx, \"fold\"] = i\n",
    "\n",
    "# sessions.to_csv(f\"../input/folds_{K}.csv\", index=False)"
   ]
  },
  {
   "cell_type": "code",
   "execution_count": 15,
   "metadata": {},
   "outputs": [],
   "source": [
    "# df_train = load_parquets_cudf_folds(\n",
    "#     f\"../output/features/fts_val_{VERSION}/*\",\n",
    "#     \"../input/folds_4.csv\",\n",
    "#     fold=0,\n",
    "#     pos_ratio=0.1,\n",
    "#     target=TARGET,\n",
    "#     train_only=True,\n",
    "#     columns=['session', 'candidates', 'gt_clicks', 'gt_carts', 'gt_orders'],\n",
    "#     max_n=1,\n",
    "# )"
   ]
  },
  {
   "cell_type": "code",
   "execution_count": 16,
   "metadata": {},
   "outputs": [],
   "source": [
    "# df_train = df_train.sort_values('session', ignore_index=True)\n",
    "# group = df_train[['session', 'candidates']].groupby('session').size().values"
   ]
  },
  {
   "cell_type": "code",
   "execution_count": 17,
   "metadata": {},
   "outputs": [],
   "source": [
    "FEATURES = [  # REMOVE CORRELATED\n",
    "    'clicks_popularity_w_pos-log', 'clicks_popularity_w_type-163', 'clicks_popularity_w_lastday', 'clicks_popularity_w_recsys', \n",
    "    'carts_popularity_w_pos-log', 'carts_popularity_w_type-163', 'carts_popularity_w_lastday', 'carts_popularity_w_recsys', \n",
    "    'orders_popularity_w_pos-log', 'orders_popularity_w_type-163', 'orders_popularity_w_lastday', 'orders_popularity_w_recsys', \n",
    "    'clicks_popularity_w_pos-log_w', 'clicks_popularity_w_type-163_w', 'clicks_popularity_w_recsys_w', \n",
    "    'carts_popularity_w_pos-log_w', 'carts_popularity_w_type-163_w', 'carts_popularity_w_recsys_w', \n",
    "    'orders_popularity_w_pos-log_w', 'orders_popularity_w_type-163_w', 'orders_popularity_w_recsys_w',\n",
    "    'w_pos-log', 'w_type-163', 'w_lastday', 'w_time', 'w_recsys',\n",
    "    'matrix_123_temporal_20_mean', 'matrix_123_temporal_20_sum', 'matrix_123_temporal_20_max', 'matrix_123_temporal_20_pos-log_mean', 'matrix_123_temporal_20_pos-log_sum', 'matrix_123_temporal_20_pos-log_max', 'matrix_123_temporal_20_type-163_mean', 'matrix_123_temporal_20_type-163_sum', 'matrix_123_temporal_20_type-163_max', 'matrix_123_temporal_20_lastday_mean', 'matrix_123_temporal_20_lastday_sum', 'matrix_123_temporal_20_lastday_max', 'matrix_123_temporal_20_time_mean', 'matrix_123_temporal_20_time_sum', 'matrix_123_temporal_20_time_max', 'matrix_123_temporal_20_recsys_mean', 'matrix_123_temporal_20_recsys_sum', 'matrix_123_temporal_20_recsys_max',\n",
    "    'matrix_123_type136_20_mean', 'matrix_123_type136_20_sum', 'matrix_123_type136_20_max', 'matrix_123_type136_20_pos-log_mean', 'matrix_123_type136_20_pos-log_sum', 'matrix_123_type136_20_pos-log_max', 'matrix_123_type136_20_type-163_mean', 'matrix_123_type136_20_type-163_sum', 'matrix_123_type136_20_type-163_max', 'matrix_123_type136_20_lastday_mean', 'matrix_123_type136_20_lastday_sum', 'matrix_123_type136_20_lastday_max', 'matrix_123_type136_20_time_mean', 'matrix_123_type136_20_time_sum', 'matrix_123_type136_20_time_max', 'matrix_123_type136_20_recsys_mean', 'matrix_123_type136_20_recsys_sum', 'matrix_123_type136_20_recsys_max',\n",
    "    'matrix_12__20_mean', 'matrix_12__20_sum', 'matrix_12__20_max', 'matrix_12__20_pos-log_mean', 'matrix_12__20_pos-log_sum', 'matrix_12__20_pos-log_max', 'matrix_12__20_type-163_mean', 'matrix_12__20_type-163_sum', 'matrix_12__20_type-163_max', 'matrix_12__20_lastday_mean', 'matrix_12__20_lastday_sum', 'matrix_12__20_lastday_max', 'matrix_12__20_time_mean', 'matrix_12__20_time_sum', 'matrix_12__20_time_max', 'matrix_12__20_recsys_mean', 'matrix_12__20_recsys_sum', 'matrix_12__20_recsys_max',\n",
    "    'matrix_123_type0.590.5_20_mean', 'matrix_123_type0.590.5_20_sum', 'matrix_123_type0.590.5_20_max', 'matrix_123_type0.590.5_20_pos-log_mean', 'matrix_123_type0.590.5_20_pos-log_sum', 'matrix_123_type0.590.5_20_pos-log_max', 'matrix_123_type0.590.5_20_type-163_mean', 'matrix_123_type0.590.5_20_type-163_sum', 'matrix_123_type0.590.5_20_type-163_max', 'matrix_123_type0.590.5_20_lastday_mean', 'matrix_123_type0.590.5_20_lastday_sum', 'matrix_123_type0.590.5_20_lastday_max', 'matrix_123_type0.590.5_20_time_mean', 'matrix_123_type0.590.5_20_time_sum', 'matrix_123_type0.590.5_20_time_max', 'matrix_123_type0.590.5_20_recsys_mean', 'matrix_123_type0.590.5_20_recsys_sum', 'matrix_123_type0.590.5_20_recsys_max',\n",
    "    'matrix_cpu-90_mean', 'matrix_cpu-90_sum', 'matrix_cpu-90_max', 'matrix_cpu-90_pos-log_mean', 'matrix_cpu-90_pos-log_sum', 'matrix_cpu-90_pos-log_max', 'matrix_cpu-90_type-163_mean', 'matrix_cpu-90_type-163_sum', 'matrix_cpu-90_type-163_max', 'matrix_cpu-90_lastday_mean', 'matrix_cpu-90_lastday_sum', 'matrix_cpu-90_lastday_max', 'matrix_cpu-90_time_mean', 'matrix_cpu-90_time_sum', 'matrix_cpu-90_time_max', 'matrix_cpu-90_recsys_mean', 'matrix_cpu-90_recsys_sum', 'matrix_cpu-90_recsys_max',\n",
    "    'matrix_cpu-95_mean', 'matrix_cpu-95_sum', 'matrix_cpu-95_max', 'matrix_cpu-95_pos-log_mean', 'matrix_cpu-95_pos-log_sum', 'matrix_cpu-95_pos-log_max', 'matrix_cpu-95_type-163_mean', 'matrix_cpu-95_type-163_sum', 'matrix_cpu-95_type-163_max', 'matrix_cpu-95_lastday_mean', 'matrix_cpu-95_lastday_sum', 'matrix_cpu-95_lastday_max', 'matrix_cpu-95_time_mean', 'matrix_cpu-95_time_sum', 'matrix_cpu-95_time_max', 'matrix_cpu-95_recsys_mean', 'matrix_cpu-95_recsys_sum', 'matrix_cpu-95_recsys_max',\n",
    "    'matrix_cpu-99_mean', 'matrix_cpu-99_sum', 'matrix_cpu-99_max', 'matrix_cpu-99_pos-log_mean', 'matrix_cpu-99_pos-log_sum', 'matrix_cpu-99_pos-log_max', 'matrix_cpu-99_type-163_mean', 'matrix_cpu-99_type-163_sum', 'matrix_cpu-99_type-163_max', 'matrix_cpu-99_lastday_mean', 'matrix_cpu-99_lastday_sum', 'matrix_cpu-99_lastday_max', 'matrix_cpu-99_time_mean', 'matrix_cpu-99_time_sum', 'matrix_cpu-99_time_max', 'matrix_cpu-99_recsys_mean', 'matrix_cpu-99_recsys_sum', 'matrix_cpu-99_recsys_max',\n",
    "    'matrix_gpu-116_mean', 'matrix_gpu-116_sum', 'matrix_gpu-116_max', 'matrix_gpu-116_pos-log_mean', 'matrix_gpu-116_pos-log_sum', 'matrix_gpu-116_pos-log_max', 'matrix_gpu-116_type-163_mean', 'matrix_gpu-116_type-163_sum', 'matrix_gpu-116_type-163_max', 'matrix_gpu-116_lastday_mean', 'matrix_gpu-116_lastday_sum', 'matrix_gpu-116_lastday_max', 'matrix_gpu-116_time_mean', 'matrix_gpu-116_time_sum', 'matrix_gpu-116_time_max', 'matrix_gpu-116_recsys_mean', 'matrix_gpu-116_recsys_sum', 'matrix_gpu-116_recsys_max',\n",
    "    'matrix_gpu-115_mean', 'matrix_gpu-115_sum', 'matrix_gpu-115_max', 'matrix_gpu-115_pos-log_mean', 'matrix_gpu-115_pos-log_sum', 'matrix_gpu-115_pos-log_max', 'matrix_gpu-115_type-163_mean', 'matrix_gpu-115_type-163_sum', 'matrix_gpu-115_type-163_max', 'matrix_gpu-115_lastday_mean', 'matrix_gpu-115_lastday_sum', 'matrix_gpu-115_lastday_max', 'matrix_gpu-115_time_mean', 'matrix_gpu-115_time_sum', 'matrix_gpu-115_time_max', 'matrix_gpu-115_recsys_mean', 'matrix_gpu-115_recsys_sum', 'matrix_gpu-115_recsys_max',\n",
    "    'matrix_gpu-93_mean', 'matrix_gpu-93_sum', 'matrix_gpu-93_max', 'matrix_gpu-93_pos-log_mean', 'matrix_gpu-93_pos-log_sum', 'matrix_gpu-93_pos-log_max', 'matrix_gpu-93_type-163_mean', 'matrix_gpu-93_type-163_sum', 'matrix_gpu-93_type-163_max', 'matrix_gpu-93_lastday_mean', 'matrix_gpu-93_lastday_sum', 'matrix_gpu-93_lastday_max', 'matrix_gpu-93_time_mean', 'matrix_gpu-93_time_sum', 'matrix_gpu-93_time_max', 'matrix_gpu-93_recsys_mean', 'matrix_gpu-93_recsys_sum', 'matrix_gpu-93_recsys_max',\n",
    "    'matrix_gpu-217_mean', 'matrix_gpu-217_sum', 'matrix_gpu-217_max', 'matrix_gpu-217_pos-log_mean', 'matrix_gpu-217_pos-log_sum', 'matrix_gpu-217_pos-log_max', 'matrix_gpu-217_type-163_mean', 'matrix_gpu-217_type-163_sum', 'matrix_gpu-217_type-163_max', 'matrix_gpu-217_lastday_mean', 'matrix_gpu-217_lastday_sum', 'matrix_gpu-217_lastday_max', 'matrix_gpu-217_time_mean', 'matrix_gpu-217_time_sum', 'matrix_gpu-217_time_max', 'matrix_gpu-217_recsys_mean', 'matrix_gpu-217_recsys_sum', 'matrix_gpu-217_recsys_max',\n",
    "    'matrix_gpu-226_mean','matrix_gpu-226_sum','matrix_gpu-226_max','matrix_gpu-226_pos-log_mean','matrix_gpu-226_pos-log_sum','matrix_gpu-226_pos-log_max','matrix_gpu-226_type-163_mean','matrix_gpu-226_type-163_sum','matrix_gpu-226_type-163_max','matrix_gpu-226_lastday_mean','matrix_gpu-226_lastday_sum','matrix_gpu-226_lastday_max','matrix_gpu-226_time_mean','matrix_gpu-226_time_sum','matrix_gpu-226_time_max','matrix_gpu-226_recsys_mean','matrix_gpu-226_recsys_sum','matrix_gpu-226_recsys_max',\n",
    "    'matrix_gpu-232_mean', 'matrix_gpu-232_sum', 'matrix_gpu-232_max', 'matrix_gpu-232_pos-log_mean', 'matrix_gpu-232_pos-log_sum', 'matrix_gpu-232_pos-log_max', 'matrix_gpu-232_type-163_mean', 'matrix_gpu-232_type-163_sum', 'matrix_gpu-232_type-163_max', 'matrix_gpu-232_lastday_mean', 'matrix_gpu-232_lastday_sum', 'matrix_gpu-232_lastday_max', 'matrix_gpu-232_time_mean', 'matrix_gpu-232_time_sum', 'matrix_gpu-232_time_max', 'matrix_gpu-232_recsys_mean', 'matrix_gpu-232_recsys_sum', 'matrix_gpu-232_recsys_max',\n",
    "    'matrix_gpu-239_mean', 'matrix_gpu-239_sum', 'matrix_gpu-239_max', 'matrix_gpu-239_pos-log_mean', 'matrix_gpu-239_pos-log_sum', 'matrix_gpu-239_pos-log_max', 'matrix_gpu-239_type-163_mean', 'matrix_gpu-239_type-163_sum', 'matrix_gpu-239_type-163_max', 'matrix_gpu-239_lastday_mean', 'matrix_gpu-239_lastday_sum', 'matrix_gpu-239_lastday_max', 'matrix_gpu-239_time_mean', 'matrix_gpu-239_time_sum', 'matrix_gpu-239_time_max', 'matrix_gpu-239_recsys_mean', 'matrix_gpu-239_recsys_sum', 'matrix_gpu-239_recsys_max',\n",
    "    'matrix_gpu-700_mean', 'matrix_gpu-700_sum', 'matrix_gpu-700_max', 'matrix_gpu-700_pos-log_mean', 'matrix_gpu-700_pos-log_sum', 'matrix_gpu-700_pos-log_max', 'matrix_gpu-700_type-163_mean', 'matrix_gpu-700_type-163_sum', 'matrix_gpu-700_type-163_max', 'matrix_gpu-700_lastday_mean', 'matrix_gpu-700_lastday_sum', 'matrix_gpu-700_lastday_max', 'matrix_gpu-700_time_mean', 'matrix_gpu-700_time_sum', 'matrix_gpu-700_time_max', 'matrix_gpu-700_recsys_mean', 'matrix_gpu-700_recsys_sum', 'matrix_gpu-700_recsys_max',\n",
    "    'matrix_gpu-701_mean', 'matrix_gpu-701_sum', 'matrix_gpu-701_max', 'matrix_gpu-701_pos-log_mean', 'matrix_gpu-701_pos-log_sum', 'matrix_gpu-701_pos-log_max', 'matrix_gpu-701_type-163_mean', 'matrix_gpu-701_type-163_sum', 'matrix_gpu-701_type-163_max', 'matrix_gpu-701_lastday_mean', 'matrix_gpu-701_lastday_sum', 'matrix_gpu-701_lastday_max', 'matrix_gpu-701_time_mean', 'matrix_gpu-701_time_sum', 'matrix_gpu-701_time_max', 'matrix_gpu-701_recsys_mean', 'matrix_gpu-701_recsys_sum', 'matrix_gpu-701_recsys_max',\n",
    "    'candidate_clicks_before', 'candidate_carts_before', 'candidate_orders_before', 'candidate_*_before', 'n_views', 'n_clicks', 'n_carts', 'n_orders',\n",
    "    'clicks_popularity_w_pos-log_rank', 'clicks_popularity_w_type-163_rank', 'clicks_popularity_w_lastday_rank', 'clicks_popularity_w_time_rank', 'clicks_popularity_w_recsys_rank', 'carts_popularity_w_pos-log_rank', 'carts_popularity_w_type-163_rank', 'carts_popularity_w_lastday_rank', 'carts_popularity_w_time_rank', 'carts_popularity_w_recsys_rank', 'orders_popularity_w_pos-log_rank', 'orders_popularity_w_type-163_rank', 'orders_popularity_w_lastday_rank', 'orders_popularity_w_time_rank', 'orders_popularity_w_recsys_rank',\n",
    "    'clicks_popularity_w_pos-log_w_rank', 'clicks_popularity_w_type-163_w_rank', 'clicks_popularity_w_lastday_w_rank', 'clicks_popularity_w_time_w_rank', 'clicks_popularity_w_recsys_w_rank', 'carts_popularity_w_pos-log_w_rank', 'carts_popularity_w_type-163_w_rank', 'carts_popularity_w_lastday_w_rank', 'carts_popularity_w_time_w_rank', 'carts_popularity_w_recsys_w_rank', 'orders_popularity_w_pos-log_w_rank', 'orders_popularity_w_type-163_w_rank', 'orders_popularity_w_lastday_w_rank', 'orders_popularity_w_time_w_rank', 'orders_popularity_w_recsys_w_rank',\n",
    "    'w_pos-log_rank', 'w_type-163_rank', 'w_lastday_rank', 'w_time_rank', 'w_recsys_rank',\n",
    "    'matrix_123_temporal_20_mean_rank', 'matrix_123_temporal_20_pos-log_mean_rank', 'matrix_123_temporal_20_type-163_mean_rank', 'matrix_123_temporal_20_lastday_mean_rank', 'matrix_123_temporal_20_time_mean_rank', 'matrix_123_temporal_20_recsys_mean_rank', 'matrix_123_type136_20_mean_rank', 'matrix_123_type136_20_pos-log_mean_rank', 'matrix_123_type136_20_type-163_mean_rank', 'matrix_123_type136_20_lastday_mean_rank', 'matrix_123_type136_20_time_mean_rank', 'matrix_123_type136_20_recsys_mean_rank', \n",
    "    'matrix_12__20_mean_rank', 'matrix_12__20_pos-log_mean_rank', 'matrix_12__20_type-163_mean_rank', 'matrix_12__20_lastday_mean_rank', 'matrix_12__20_time_mean_rank', 'matrix_12__20_recsys_mean_rank', 'matrix_123_type0.590.5_20_mean_rank', 'matrix_123_type0.590.5_20_pos-log_mean_rank', 'matrix_123_type0.590.5_20_type-163_mean_rank', 'matrix_123_type0.590.5_20_lastday_mean_rank', 'matrix_123_type0.590.5_20_time_mean_rank', 'matrix_123_type0.590.5_20_recsys_mean_rank',\n",
    "    'matrix_cpu-90_mean_rank', 'matrix_cpu-90_pos-log_mean_rank', 'matrix_cpu-90_type-163_mean_rank', 'matrix_cpu-90_lastday_mean_rank', 'matrix_cpu-90_time_mean_rank', 'matrix_cpu-90_recsys_mean_rank', 'matrix_cpu-95_mean_rank', 'matrix_cpu-95_pos-log_mean_rank', 'matrix_cpu-95_type-163_mean_rank', 'matrix_cpu-95_lastday_mean_rank', 'matrix_cpu-95_time_mean_rank', 'matrix_cpu-95_recsys_mean_rank', 'matrix_cpu-99_mean_rank', 'matrix_cpu-99_pos-log_mean_rank', 'matrix_cpu-99_type-163_mean_rank', 'matrix_cpu-99_lastday_mean_rank', 'matrix_cpu-99_time_mean_rank', 'matrix_cpu-99_recsys_mean_rank',\n",
    "    'matrix_gpu-116_mean_rank', 'matrix_gpu-116_pos-log_mean_rank', 'matrix_gpu-116_type-163_mean_rank', 'matrix_gpu-116_lastday_mean_rank', 'matrix_gpu-116_time_mean_rank', 'matrix_gpu-116_recsys_mean_rank', 'matrix_gpu-115_mean_rank', 'matrix_gpu-115_pos-log_mean_rank', 'matrix_gpu-115_type-163_mean_rank', 'matrix_gpu-115_lastday_mean_rank', 'matrix_gpu-115_time_mean_rank', 'matrix_gpu-115_recsys_mean_rank', 'matrix_gpu-93_mean_rank', 'matrix_gpu-93_pos-log_mean_rank', 'matrix_gpu-93_type-163_mean_rank', 'matrix_gpu-93_lastday_mean_rank', 'matrix_gpu-93_time_mean_rank', 'matrix_gpu-93_recsys_mean_rank',\n",
    "    'matrix_gpu-217_mean_rank', 'matrix_gpu-217_pos-log_mean_rank', 'matrix_gpu-217_type-163_mean_rank', 'matrix_gpu-217_lastday_mean_rank', 'matrix_gpu-217_time_mean_rank', 'matrix_gpu-217_recsys_mean_rank', 'matrix_gpu-226_mean_rank', 'matrix_gpu-226_pos-log_mean_rank', 'matrix_gpu-226_type-163_mean_rank', 'matrix_gpu-226_lastday_mean_rank', 'matrix_gpu-226_time_mean_rank', 'matrix_gpu-226_recsys_mean_rank', 'matrix_gpu-232_mean_rank', 'matrix_gpu-232_pos-log_mean_rank', 'matrix_gpu-232_type-163_mean_rank', 'matrix_gpu-232_lastday_mean_rank', 'matrix_gpu-232_time_mean_rank', 'matrix_gpu-232_recsys_mean_rank',\n",
    "    'matrix_gpu-239_mean_rank', 'matrix_gpu-239_pos-log_mean_rank', 'matrix_gpu-239_type-163_mean_rank', 'matrix_gpu-239_lastday_mean_rank', 'matrix_gpu-239_time_mean_rank', 'matrix_gpu-239_recsys_mean_rank', 'matrix_gpu-700_mean_rank', 'matrix_gpu-700_pos-log_mean_rank', 'matrix_gpu-700_type-163_mean_rank', 'matrix_gpu-700_lastday_mean_rank', 'matrix_gpu-700_time_mean_rank', 'matrix_gpu-700_recsys_mean_rank', 'matrix_gpu-701_mean_rank', 'matrix_gpu-701_pos-log_mean_rank', 'matrix_gpu-701_type-163_mean_rank', 'matrix_gpu-701_lastday_mean_rank', 'matrix_gpu-701_time_mean_rank', 'matrix_gpu-701_recsys_mean_rank',\n",
    "]"
   ]
  },
  {
   "cell_type": "code",
   "execution_count": 18,
   "metadata": {},
   "outputs": [],
   "source": [
    "FEATURES += [\n",
    "    'popularity_week_clicks','popularity_day_clicks','popularity_hour_clicks','popularity_hour/day_clicks','popularity_day/week_clicks','popularity_week_carts','popularity_day_carts','popularity_hour_carts','popularity_hour/day_carts','popularity_day/week_carts','popularity_week_orders','popularity_day_orders','popularity_hour_orders','popularity_hour/day_orders','popularity_day/week_orders',\n",
    "    'embed_1-9_64_cartbuy_last_0', 'embed_1-9_64_cartbuy_last_1', 'embed_1-9_64_cartbuy_last_2', 'embed_1-9_64_cartbuy_last_3', 'embed_1-9_64_cartbuy_last_4', 'embed_1-9_64_cartbuy_pos-log_mean', 'embed_1-9_64_cartbuy_pos-log_sum', 'embed_1-9_64_cartbuy_pos-log_max', 'embed_1-9_64_cartbuy_type-163_mean', 'embed_1-9_64_cartbuy_type-163_sum', 'embed_1-9_64_cartbuy_type-163_max', 'embed_1-9_64_cartbuy_lastday_mean', 'embed_1-9_64_cartbuy_lastday_sum', 'embed_1-9_64_cartbuy_lastday_max', 'embed_1-9_64_cartbuy_time_mean', 'embed_1-9_64_cartbuy_time_sum', 'embed_1-9_64_cartbuy_time_max', 'embed_1-9_64_cartbuy_recsys_mean', 'embed_1-9_64_cartbuy_recsys_sum', 'embed_1-9_64_cartbuy_recsys_max',\n",
    "    'embed_1_64_last_0', 'embed_1_64_last_1', 'embed_1_64_last_2', 'embed_1_64_last_3', 'embed_1_64_last_4', 'embed_1_64_pos-log_mean', 'embed_1_64_pos-log_sum', 'embed_1_64_pos-log_max', 'embed_1_64_type-163_mean', 'embed_1_64_type-163_sum', 'embed_1_64_type-163_max', 'embed_1_64_lastday_mean', 'embed_1_64_lastday_sum', 'embed_1_64_lastday_max', 'embed_1_64_time_mean', 'embed_1_64_time_sum', 'embed_1_64_time_max', 'embed_1_64_recsys_mean', 'embed_1_64_recsys_sum', 'embed_1_64_recsys_max',\n",
    "    'embed_1-5_64_last_0', 'embed_1-5_64_last_1', 'embed_1-5_64_last_2', 'embed_1-5_64_last_3', 'embed_1-5_64_last_4', 'embed_1-5_64_pos-log_mean', 'embed_1-5_64_pos-log_sum', 'embed_1-5_64_pos-log_max', 'embed_1-5_64_type-163_mean', 'embed_1-5_64_type-163_sum', 'embed_1-5_64_type-163_max', 'embed_1-5_64_lastday_mean', 'embed_1-5_64_lastday_sum', 'embed_1-5_64_lastday_max', 'embed_1-5_64_time_mean', 'embed_1-5_64_time_sum', 'embed_1-5_64_time_max', 'embed_1-5_64_recsys_mean', 'embed_1-5_64_recsys_sum', 'embed_1-5_64_recsys_max',\n",
    "]\n"
   ]
  },
  {
   "cell_type": "code",
   "execution_count": 19,
   "metadata": {},
   "outputs": [],
   "source": [
    "FEATURES += [\n",
    "    'popularity_week_clicks_rank', 'popularity_day_clicks_rank', 'popularity_hour_clicks_rank', 'popularity_hour/day_clicks_rank', 'popularity_day/week_clicks_rank', 'popularity_week_carts_rank', 'popularity_day_carts_rank', 'popularity_hour_carts_rank', 'popularity_hour/day_carts_rank', 'popularity_day/week_carts_rank', 'popularity_week_orders_rank', 'popularity_day_orders_rank', 'popularity_hour_orders_rank', 'popularity_hour/day_orders_rank', 'popularity_day/week_orders_rank',\n",
    "    'embed_1-9_64_cartbuy_last_0_rank', 'embed_1-9_64_cartbuy_last_1_rank', 'embed_1-9_64_cartbuy_last_2_rank', 'embed_1-9_64_cartbuy_last_3_rank', 'embed_1-9_64_cartbuy_last_4_rank', 'embed_1-9_64_cartbuy_pos-log_mean_rank', 'embed_1-9_64_cartbuy_type-163_mean_rank', 'embed_1-9_64_cartbuy_lastday_mean_rank', 'embed_1-9_64_cartbuy_time_mean_rank', 'embed_1-9_64_cartbuy_recsys_mean_rank', 'embed_1_64_last_0_rank', 'embed_1_64_last_1_rank', 'embed_1_64_last_2_rank', 'embed_1_64_last_3_rank', 'embed_1_64_last_4_rank', 'embed_1_64_pos-log_mean_rank', 'embed_1_64_type-163_mean_rank', 'embed_1_64_lastday_mean_rank', 'embed_1_64_time_mean_rank', 'embed_1_64_recsys_mean_rank', 'embed_1-5_64_last_0_rank', 'embed_1-5_64_last_1_rank', 'embed_1-5_64_last_2_rank', 'embed_1-5_64_last_3_rank', 'embed_1-5_64_last_4_rank', 'embed_1-5_64_pos-log_mean_rank', 'embed_1-5_64_type-163_mean_rank', 'embed_1-5_64_lastday_mean_rank', 'embed_1-5_64_time_mean_rank', 'embed_1-5_64_recsys_mean_rank'\n",
    "]"
   ]
  },
  {
   "cell_type": "code",
   "execution_count": 20,
   "metadata": {},
   "outputs": [],
   "source": [
    "FEATURES += [\n",
    "    'w2v_sim_1', 'w2v_sim_2', 'w2v_sim_3', 'w2v_sim_wgt_1', 'w2v_sim_wgt_2', 'w2v_sim_last', 'w2v_sim_type_1', 'w2v_sim_1_rank', 'w2v_sim_2_rank', 'w2v_sim_3_rank', 'w2v_sim_wgt_1_rank', 'w2v_sim_wgt_2_rank', 'w2v_sim_last_rank', 'w2v_sim_type_1_rank',\n",
    "    'matrix_gpu-155_mean', 'matrix_gpu-155_sum', 'matrix_gpu-155_max', 'matrix_gpu-155_pos-log_mean', 'matrix_gpu-155_pos-log_sum', 'matrix_gpu-155_pos-log_max', 'matrix_gpu-155_type-163_mean', 'matrix_gpu-155_type-163_sum', 'matrix_gpu-155_type-163_max', 'matrix_gpu-155_lastday_mean', 'matrix_gpu-155_lastday_sum', 'matrix_gpu-155_lastday_max', 'matrix_gpu-155_time_mean', 'matrix_gpu-155_time_sum', 'matrix_gpu-155_time_max', 'matrix_gpu-155_recsys_mean', 'matrix_gpu-155_recsys_sum', 'matrix_gpu-155_recsys_max',\n",
    "    'matrix_gpu-157_mean', 'matrix_gpu-157_sum', 'matrix_gpu-157_max', 'matrix_gpu-157_pos-log_mean', 'matrix_gpu-157_pos-log_sum', 'matrix_gpu-157_pos-log_max', 'matrix_gpu-157_type-163_mean', 'matrix_gpu-157_type-163_sum', 'matrix_gpu-157_type-163_max', 'matrix_gpu-157_lastday_mean', 'matrix_gpu-157_lastday_sum', 'matrix_gpu-157_lastday_max', 'matrix_gpu-157_time_mean', 'matrix_gpu-157_time_sum', 'matrix_gpu-157_time_max', 'matrix_gpu-157_recsys_mean', 'matrix_gpu-157_recsys_sum', 'matrix_gpu-157_recsys_max',\n",
    "    'matrix_gpu-155_mean_rank', 'matrix_gpu-155_pos-log_mean_rank', 'matrix_gpu-155_type-163_mean_rank', 'matrix_gpu-155_lastday_mean_rank', 'matrix_gpu-155_time_mean_rank', 'matrix_gpu-155_recsys_mean_rank', 'matrix_gpu-157_mean_rank', 'matrix_gpu-157_pos-log_mean_rank', 'matrix_gpu-157_type-163_mean_rank', 'matrix_gpu-157_lastday_mean_rank', 'matrix_gpu-157_time_mean_rank', 'matrix_gpu-157_recsys_mean_rank', \n",
    "]"
   ]
  },
  {
   "cell_type": "code",
   "execution_count": 21,
   "metadata": {},
   "outputs": [],
   "source": [
    "# df_train = load_parquets_cudf_folds(\n",
    "#     f\"../output/features/fts_val_{VERSION}/*\",\n",
    "#     \"../input/folds_4.csv\",\n",
    "#     fold=0,\n",
    "#     pos_ratio=POS_RATIO,\n",
    "#     target=TARGET,\n",
    "#     max_n=1,\n",
    "#     train_only=True,\n",
    "# )\n",
    "# [c for c in df_train.columns if c not in FEATURES ]"
   ]
  },
  {
   "cell_type": "code",
   "execution_count": 22,
   "metadata": {},
   "outputs": [],
   "source": [
    "TO_REMOVE = []\n",
    "TO_REMOVE += [f for f in FEATURES if \"popularity_w_time\" in f]\n",
    "TO_REMOVE += [f for f in FEATURES if \"popularity_w_lastday_w\" in f]\n",
    "\n",
    "FEATURES = [f for f in FEATURES if f not in TO_REMOVE]"
   ]
  },
  {
   "cell_type": "code",
   "execution_count": 23,
   "metadata": {},
   "outputs": [
    {
     "data": {
      "text/plain": [
       "626"
      ]
     },
     "execution_count": 23,
     "metadata": {},
     "output_type": "execute_result"
    }
   ],
   "source": [
    "len(FEATURES)"
   ]
  },
  {
   "cell_type": "code",
   "execution_count": 24,
   "metadata": {},
   "outputs": [],
   "source": [
    "# df_train = cudf.from_pandas(df_train)\n",
    "# corr = df_train[FEATURES].corr()\n",
    "# corr = corr.to_pandas()\n",
    "# corr = corr.values\n",
    "\n",
    "# mask = np.zeros_like(corr, dtype=bool)\n",
    "# mask[np.triu_indices_from(mask)] = True\n",
    "# corr[mask] = 0"
   ]
  },
  {
   "cell_type": "code",
   "execution_count": 25,
   "metadata": {},
   "outputs": [],
   "source": [
    "# TH = 0.99\n",
    "\n",
    "# for i in range(len(corr)):\n",
    "#     for j in range(len(corr)):\n",
    "#         if corr[i, j] > TH:\n",
    "#             if FEATURES[i] in TO_REMOVE or FEATURES[j] in TO_REMOVE:\n",
    "#                 continue\n",
    "#             print(FEATURES[i], FEATURES[j], f'{corr[i, j] :.3f}')"
   ]
  },
  {
   "cell_type": "code",
   "execution_count": 26,
   "metadata": {},
   "outputs": [],
   "source": [
    "# df = cudf.read_parquet(glob.glob(REGEX)[0])\n",
    "# df = df.rename(columns={\"clicks_popularity_w_pos-log_rank\" : \"clicks_popularity_w_pos-log_rank_ref\"})\n",
    "# df = cudf.read_parquet(glob.glob(TEST_REGEX)[0])\n",
    "\n",
    "# from data.fe import add_rank_feature\n",
    "# for c in ['clicks_popularity_w_pos-log', 'clicks_popularity_w_type-163', 'clicks_popularity_w_lastday']:\n",
    "#     if c + \"_rank\" not in df.columns:\n",
    "#         print(f'Add rank ft for {c}')\n",
    "#         df = df.reset_index(drop=True)\n",
    "#         add_rank_feature(df, c)\n",
    "# (df['clicks_popularity_w_pos-log_rank'] == df['clicks_popularity_w_pos-log_rank_ref']).all()\n",
    "\n",
    "# for f in tqdm(glob.glob(TEST_REGEX)):\n",
    "#     dft = cudf.read_parquet(f, columns=['clicks_popularity_w_pos-log_rank'])"
   ]
  },
  {
   "cell_type": "markdown",
   "metadata": {},
   "source": [
    "### Params"
   ]
  },
  {
   "cell_type": "code",
   "execution_count": 27,
   "metadata": {},
   "outputs": [],
   "source": [
    "PARAMS = {\n",
    "    \"xgb\":\n",
    "    {\n",
    "        \"learning_rate\": 0.01,\n",
    "        'max_depth': 8,\n",
    "        \"subsample\": 0.9,  # 0.7 / 0.8 / O.9\n",
    "        'colsample_bytree': 0.7,  # 0.7 / 0.8 / 0.9\n",
    "        'reg_alpha': 0.01,\n",
    "        'reg_lambda': 0.1,\n",
    "        \"min_child_weight\": 0,\n",
    "#         \"gamma\": 0.01,\n",
    "        'scale_pos_weight': 1,\n",
    "        'eval_metric': 'auc',\n",
    "        'objective': 'binary:logistic',  # 'binary:logistic',\n",
    "        'tree_method':'gpu_hist',\n",
    "        'predictor':'gpu_predictor',\n",
    "        \"random_state\": 42,\n",
    "    },\n",
    "}"
   ]
  },
  {
   "cell_type": "code",
   "execution_count": 28,
   "metadata": {},
   "outputs": [],
   "source": [
    "TO_REMOVE = [\n",
    "    'popularity_week_orders', 'candidate_*_before', 'popularity_week_carts', 'popularity_week_clicks_rank', 'popularity_week_orders_rank', 'popularity_week_clicks', 'popularity_week_carts_rank', 'matrix_gpu-226_lastday_max', 'matrix_cpu-90_lastday_sum', 'matrix_cpu-90_lastday_max', \n",
    "    'matrix_12__20_lastday_max', 'matrix_gpu-700_sum', 'matrix_123_type136_20_lastday_max', 'matrix_12__20_time_sum', 'matrix_gpu-226_lastday_sum', 'matrix_123_type136_20_lastday_sum', 'matrix_12__20_lastday_sum', 'matrix_gpu-217_lastday_max', 'matrix_cpu-90_time_sum', 'matrix_cpu-90_max', \n",
    "    'matrix_gpu-217_lastday_sum', 'matrix_cpu-90_type-163_sum', 'matrix_123_type136_20_time_sum', 'matrix_12__20_type-163_sum', 'matrix_12__20_pos-log_sum',\n",
    "    'matrix_cpu-90_lastday_mean', 'matrix_gpu-226_max', 'matrix_cpu-90_pos-log_sum', 'popularity_hour_orders', 'matrix_12__20_pos-log_max', 'matrix_gpu-226_time_sum', 'matrix_12__20_time_mean', 'matrix_cpu-90_pos-log_max', 'matrix_cpu-99_time_sum', 'matrix_123_type0.590.5_20_time_sum', \n",
    "    'matrix_123_type136_20_type-163_max', 'matrix_gpu-701_lastday_max', 'matrix_gpu-217_sum', 'matrix_gpu-226_sum', 'matrix_123_type136_20_time_mean', 'matrix_123_type136_20_type-163_sum', 'matrix_cpu-99_lastday_sum', 'matrix_123_type0.590.5_20_lastday_max', 'matrix_cpu-90_type-163_max', \n",
    "    'matrix_gpu-226_type-163_sum', 'matrix_12__20_sum', 'matrix_gpu-217_time_sum', 'popularity_hour/day_orders', 'matrix_12__20_type-163_max', 'matrix_123_type136_20_pos-log_sum', 'matrix_gpu-700_lastday_max', 'matrix_123_type136_20_lastday_mean', 'matrix_gpu-700_max', 'matrix_123_type136_20_time_max',\n",
    "    'matrix_cpu-90_time_max', 'matrix_cpu-90_sum', 'matrix_12__20_lastday_mean', 'matrix_gpu-226_pos-log_sum', 'matrix_12__20_max',\n",
    "    'matrix_cpu-99_lastday_max', 'matrix_cpu-95_lastday_max', 'matrix_cpu-90_time_mean', 'matrix_gpu-217_pos-log_sum', 'matrix_12__20_type-163_mean', 'matrix_123_temporal_20_time_sum', 'matrix_cpu-90_pos-log_mean', 'matrix_123_type136_20_pos-log_max', 'matrix_123_type136_20_sum', \n",
    "    'matrix_gpu-226_lastday_mean', 'matrix_gpu-701_time_sum', 'matrix_gpu-700_pos-log_sum', 'matrix_cpu-95_lastday_sum', 'matrix_12__20_time_max', 'matrix_gpu-217_type-163_max', 'matrix_cpu-95_time_mean', 'matrix_123_type0.590.5_20_lastday_sum', 'matrix_123_type0.590.5_20_type-163_max', \n",
    "    'matrix_gpu-226_time_mean', 'matrix_gpu-701_lastday_sum', 'matrix_123_temporal_20_lastday_max', 'matrix_123_type0.590.5_20_pos-log_sum', 'matrix_cpu-95_time_sum', 'matrix_123_type0.590.5_20_type-163_sum', 'matrix_cpu-99_lastday_mean', 'matrix_cpu-99_time_mean', 'matrix_12__20_pos-log_mean',\n",
    "    'matrix_gpu-217_time_mean', 'matrix_cpu-95_lastday_mean', 'matrix_gpu-226_type-163_max', 'matrix_123_temporal_20_lastday_sum', 'matrix_gpu-217_type-163_sum',\n",
    "    'matrix_123_type0.590.5_20_type-163_mean', 'matrix_gpu-226_pos-log_max', 'matrix_123_type136_20_max', 'matrix_gpu-226_time_max', 'matrix_gpu-217_lastday_mean', 'matrix_cpu-99_type-163_sum', 'matrix_cpu-99_pos-log_sum', 'matrix_gpu-700_type-163_max', 'matrix_gpu-217_time_max'\n",
    "][:100]"
   ]
  },
  {
   "cell_type": "code",
   "execution_count": 29,
   "metadata": {},
   "outputs": [],
   "source": [
    "class Config:\n",
    "    seed = 42\n",
    "    version = VERSION\n",
    "    \n",
    "    folds_file = \"../input/folds_4.csv\"\n",
    "    k = 4\n",
    "    mode = \"\"\n",
    "\n",
    "    features = FEATURES\n",
    "    features = [ft for ft in features if ft not in TO_REMOVE]\n",
    "\n",
    "    cat_features = []\n",
    "\n",
    "    target = TARGET\n",
    "    pos_ratio = POS_RATIO\n",
    "\n",
    "    use_gt_sessions = True  # filter out sessions with no gt\n",
    "    use_gt_pos = False  # add candidates from gt\n",
    "    gt_regex = \"\"\n",
    "    \n",
    "    model = \"xgb\"\n",
    "\n",
    "    params = PARAMS[model]\n",
    "\n",
    "    use_es = True\n",
    "    num_boost_round = 10000\n",
    "    \n",
    "    probs_file = None  # PROBS_PATHS[target]\n",
    "    probs_mode = \"\"  # \"head\"  \"rank_40\"\n",
    "    restrict_all = False\n",
    "\n",
    "    selected_folds = [0, 1, 2, 3]\n",
    "    folds_optimize = [0, 1, 2, 3]\n",
    "    n_trials = 25\n",
    "\n",
    "    pca_components = 0\n",
    "    \n",
    "    use_extra = True\n",
    "    extra_regex = EXTRA_REGEX\n",
    "    extra_prop = 0.5"
   ]
  },
  {
   "cell_type": "markdown",
   "metadata": {},
   "source": [
    "### Main"
   ]
  },
  {
   "cell_type": "code",
   "execution_count": 30,
   "metadata": {},
   "outputs": [],
   "source": [
    "DEBUG = False\n",
    "DEBUG_MORE = False"
   ]
  },
  {
   "cell_type": "code",
   "execution_count": null,
   "metadata": {},
   "outputs": [
    {
     "name": "stdout",
     "output_type": "stream",
     "text": [
      "\n",
      "https://app.neptune.ai/KagglingTheo/Otto-Recommender-System/e/OTTO-78\n",
      "Remember to stop your run once you’ve finished logging your metadata (https://docs.neptune.ai/api/run#stop). It will be stopped automatically only when the notebook kernel/interactive console is terminated.\n",
      "\n",
      "Logging results to ../logs/2023-01-24/17/\n",
      "\n",
      "=============   Fold 1 / 4   =============\n",
      "\n",
      "Using 502662 extra samples\n",
      "Train / val session inter 0\n",
      "\n",
      "-------------  Optimizing XGB Model  -------------\n",
      "\n",
      "\n",
      "    -> 1.51M training candidates\n",
      "    -> 3.25M validation candidates\n",
      "\n"
     ]
    },
    {
     "name": "stderr",
     "output_type": "stream",
     "text": [
      "\u001b[32m[I 2023-01-24 22:23:43,660]\u001b[0m A new study created in memory with name: no-name-b40597d8-405f-4a91-96d1-b7d9d730067a\u001b[0m\n"
     ]
    },
    {
     "name": "stdout",
     "output_type": "stream",
     "text": [
      "[0]\tval-auc:0.95365\n",
      "[100]\tval-auc:0.95891\n",
      "[200]\tval-auc:0.96067\n",
      "[300]\tval-auc:0.96233\n",
      "[400]\tval-auc:0.96403\n",
      "[500]\tval-auc:0.96533\n",
      "[600]\tval-auc:0.96617\n",
      "[700]\tval-auc:0.96677\n",
      "[800]\tval-auc:0.96717\n",
      "[900]\tval-auc:0.96746\n",
      "[1000]\tval-auc:0.96768\n",
      "[1100]\tval-auc:0.96784\n",
      "[1200]\tval-auc:0.96797\n",
      "[1300]\tval-auc:0.96809\n",
      "[1400]\tval-auc:0.96818\n",
      "[1500]\tval-auc:0.96827\n",
      "[1600]\tval-auc:0.96835\n",
      "[1700]\tval-auc:0.96842\n",
      "[1800]\tval-auc:0.96848\n",
      "[1900]\tval-auc:0.96853\n",
      "[2000]\tval-auc:0.96858\n",
      "[2100]\tval-auc:0.96863\n",
      "[2200]\tval-auc:0.96867\n",
      "[2300]\tval-auc:0.96872\n",
      "[2400]\tval-auc:0.96876\n",
      "[2500]\tval-auc:0.96879\n",
      "[2600]\tval-auc:0.96882\n",
      "[2700]\tval-auc:0.96884\n",
      "[2800]\tval-auc:0.96888\n",
      "[2900]\tval-auc:0.96889\n",
      "[3000]\tval-auc:0.96892\n",
      "[3100]\tval-auc:0.96893\n",
      "[3200]\tval-auc:0.96896\n",
      "[3300]\tval-auc:0.96897\n",
      "[3400]\tval-auc:0.96899\n",
      "[3500]\tval-auc:0.96901\n",
      "[3600]\tval-auc:0.96903\n",
      "[3700]\tval-auc:0.96905\n",
      "[3800]\tval-auc:0.96907\n",
      "[3900]\tval-auc:0.96909\n",
      "[4000]\tval-auc:0.96910\n",
      "[4100]\tval-auc:0.96911\n",
      "[4200]\tval-auc:0.96913\n",
      "[4300]\tval-auc:0.96914\n",
      "[4400]\tval-auc:0.96916\n",
      "[4500]\tval-auc:0.96918\n",
      "[4600]\tval-auc:0.96919\n",
      "[4700]\tval-auc:0.96920\n",
      "[4800]\tval-auc:0.96921\n",
      "[4900]\tval-auc:0.96922\n",
      "[5000]\tval-auc:0.96923\n",
      "[5100]\tval-auc:0.96924\n",
      "[5200]\tval-auc:0.96925\n",
      "[5300]\tval-auc:0.96926\n",
      "[5400]\tval-auc:0.96927\n",
      "[5500]\tval-auc:0.96928\n",
      "[5600]\tval-auc:0.96929\n",
      "[5700]\tval-auc:0.96929\n",
      "[5800]\tval-auc:0.96930\n",
      "[5900]\tval-auc:0.96931\n",
      "[6000]\tval-auc:0.96932\n",
      "[6100]\tval-auc:0.96932\n",
      "[6195]\tval-auc:0.96931\n",
      "\n",
      "-> gt_orders  -  Recall : 0.6684\n",
      "\n",
      "Params : {'max_depth': 7, 'subsample': '0.914', 'colsample_bytree': '0.816', 'reg_alpha': '2.34e+00', 'reg_lambda': '7.51e+00'},\n",
      "\n"
     ]
    },
    {
     "name": "stderr",
     "output_type": "stream",
     "text": [
      "\u001b[32m[I 2023-01-24 22:32:19,208]\u001b[0m Trial 0 finished with value: 0.6684145747326855 and parameters: {'max_depth': 7, 'subsample': 0.9135116765200668, 'colsample_bytree': 0.8157391931616342, 'reg_alpha': 2.335440282172311, 'reg_lambda': 7.507458315050695}. Best is trial 0 with value: 0.6684145747326855.\u001b[0m\n"
     ]
    },
    {
     "name": "stdout",
     "output_type": "stream",
     "text": [
      "[0]\tval-auc:0.95621\n",
      "[100]\tval-auc:0.96083\n",
      "[200]\tval-auc:0.96234\n",
      "[300]\tval-auc:0.96394\n",
      "[400]\tval-auc:0.96546\n",
      "[500]\tval-auc:0.96655\n",
      "[600]\tval-auc:0.96715\n",
      "[700]\tval-auc:0.96762\n",
      "[800]\tval-auc:0.96792\n",
      "[900]\tval-auc:0.96813\n",
      "[1000]\tval-auc:0.96782\n",
      "[1069]\tval-auc:0.96809\n",
      "\n",
      "-> gt_orders  -  Recall : 0.6675\n",
      "\n",
      "Params : {'max_depth': 9, 'subsample': '0.682', 'colsample_bytree': '0.946', 'reg_alpha': '3.33e+00', 'reg_lambda': '1.20e-01'},\n",
      "\n"
     ]
    },
    {
     "name": "stderr",
     "output_type": "stream",
     "text": [
      "\u001b[32m[I 2023-01-24 22:35:35,746]\u001b[0m Trial 1 finished with value: 0.6675171158234826 and parameters: {'max_depth': 9, 'subsample': 0.6817518928328737, 'colsample_bytree': 0.9461715717906725, 'reg_alpha': 3.329101900723337, 'reg_lambda': 0.11973841648755788}. Best is trial 0 with value: 0.6684145747326855.\u001b[0m\n"
     ]
    },
    {
     "name": "stdout",
     "output_type": "stream",
     "text": [
      "[0]\tval-auc:0.95081\n",
      "[100]\tval-auc:0.95775\n",
      "[200]\tval-auc:0.95954\n",
      "[300]\tval-auc:0.96128\n",
      "[400]\tval-auc:0.96307\n",
      "[500]\tval-auc:0.96447\n",
      "[600]\tval-auc:0.96544\n",
      "[700]\tval-auc:0.96611\n",
      "[800]\tval-auc:0.96654\n",
      "[900]\tval-auc:0.96687\n",
      "[1000]\tval-auc:0.96711\n",
      "[1100]\tval-auc:0.96729\n",
      "[1200]\tval-auc:0.96746\n",
      "[1300]\tval-auc:0.96761\n",
      "[1400]\tval-auc:0.96773\n",
      "[1500]\tval-auc:0.96784\n",
      "[1600]\tval-auc:0.96793\n",
      "[1700]\tval-auc:0.96801\n",
      "[1800]\tval-auc:0.96808\n",
      "[1900]\tval-auc:0.96815\n",
      "[2000]\tval-auc:0.96821\n",
      "[2100]\tval-auc:0.96826\n",
      "[2200]\tval-auc:0.96832\n",
      "[2300]\tval-auc:0.96836\n",
      "[2400]\tval-auc:0.96841\n",
      "[2500]\tval-auc:0.96845\n",
      "[2600]\tval-auc:0.96849\n",
      "[2700]\tval-auc:0.96853\n",
      "[2800]\tval-auc:0.96857\n",
      "[2900]\tval-auc:0.96860\n",
      "[3000]\tval-auc:0.96863\n",
      "[3100]\tval-auc:0.96865\n",
      "[3200]\tval-auc:0.96869\n",
      "[3300]\tval-auc:0.96871\n",
      "[3400]\tval-auc:0.96874\n",
      "[3500]\tval-auc:0.96876\n",
      "[3600]\tval-auc:0.96879\n",
      "[3700]\tval-auc:0.96880\n",
      "[3800]\tval-auc:0.96882\n",
      "[3900]\tval-auc:0.96884\n",
      "[4000]\tval-auc:0.96886\n",
      "[4100]\tval-auc:0.96888\n",
      "[4200]\tval-auc:0.96891\n",
      "[4300]\tval-auc:0.96892\n",
      "[4400]\tval-auc:0.96894\n",
      "[4500]\tval-auc:0.96896\n",
      "[4600]\tval-auc:0.96897\n",
      "[4700]\tval-auc:0.96899\n",
      "[4800]\tval-auc:0.96901\n",
      "[4900]\tval-auc:0.96903\n",
      "[5000]\tval-auc:0.96904\n",
      "[5100]\tval-auc:0.96905\n",
      "[5200]\tval-auc:0.96906\n",
      "[5300]\tval-auc:0.96908\n",
      "[5400]\tval-auc:0.96909\n",
      "[5500]\tval-auc:0.96909\n",
      "[5600]\tval-auc:0.96910\n",
      "[5700]\tval-auc:0.96911\n",
      "[5800]\tval-auc:0.96912\n",
      "[5900]\tval-auc:0.96913\n",
      "[6000]\tval-auc:0.96914\n",
      "[6100]\tval-auc:0.96914\n",
      "[6200]\tval-auc:0.96915\n",
      "[6300]\tval-auc:0.96916\n",
      "[6400]\tval-auc:0.96917\n",
      "[6500]\tval-auc:0.96918\n",
      "[6600]\tval-auc:0.96919\n",
      "[6700]\tval-auc:0.96919\n",
      "[6800]\tval-auc:0.96919\n",
      "[6830]\tval-auc:0.96920\n",
      "\n",
      "-> gt_orders  -  Recall : 0.6683\n",
      "\n",
      "Params : {'max_depth': 6, 'subsample': '0.797', 'colsample_bytree': '0.615', 'reg_alpha': '1.70e-01', 'reg_lambda': '1.11e+01'},\n",
      "\n"
     ]
    },
    {
     "name": "stderr",
     "output_type": "stream",
     "text": [
      "\u001b[32m[I 2023-01-24 22:43:27,239]\u001b[0m Trial 2 finished with value: 0.6683248288417651 and parameters: {'max_depth': 6, 'subsample': 0.7967339704036409, 'colsample_bytree': 0.6147018482475863, 'reg_alpha': 0.17040677345344987, 'reg_lambda': 11.139988370624714}. Best is trial 0 with value: 0.6684145747326855.\u001b[0m\n"
     ]
    },
    {
     "name": "stdout",
     "output_type": "stream",
     "text": [
      "[0]\tval-auc:0.94856\n",
      "[100]\tval-auc:0.95789\n",
      "[200]\tval-auc:0.95998\n",
      "[300]\tval-auc:0.96200\n",
      "[400]\tval-auc:0.96402\n",
      "[500]\tval-auc:0.96541\n",
      "[600]\tval-auc:0.96628\n",
      "[700]\tval-auc:0.96686\n",
      "[800]\tval-auc:0.96726\n",
      "[900]\tval-auc:0.96754\n",
      "[1000]\tval-auc:0.96775\n",
      "[1100]\tval-auc:0.96792\n",
      "[1200]\tval-auc:0.96807\n",
      "[1300]\tval-auc:0.96818\n",
      "[1400]\tval-auc:0.96829\n",
      "[1500]\tval-auc:0.96837\n",
      "[1600]\tval-auc:0.96845\n",
      "[1700]\tval-auc:0.96852\n",
      "[1800]\tval-auc:0.96859\n",
      "[1900]\tval-auc:0.96864\n",
      "[2000]\tval-auc:0.96868\n",
      "[2100]\tval-auc:0.96874\n",
      "[2200]\tval-auc:0.96878\n",
      "[2300]\tval-auc:0.96882\n",
      "[2400]\tval-auc:0.96884\n",
      "[2500]\tval-auc:0.96887\n",
      "[2600]\tval-auc:0.96890\n",
      "[2700]\tval-auc:0.96893\n",
      "[2800]\tval-auc:0.96895\n",
      "[2900]\tval-auc:0.96897\n",
      "[3000]\tval-auc:0.96900\n",
      "[3100]\tval-auc:0.96901\n",
      "[3200]\tval-auc:0.96904\n",
      "[3300]\tval-auc:0.96905\n",
      "[3400]\tval-auc:0.96908\n",
      "[3500]\tval-auc:0.96909\n",
      "[3600]\tval-auc:0.96910\n",
      "[3700]\tval-auc:0.96911\n",
      "[3800]\tval-auc:0.96913\n",
      "[3900]\tval-auc:0.96915\n",
      "[4000]\tval-auc:0.96916\n",
      "[4100]\tval-auc:0.96917\n",
      "[4200]\tval-auc:0.96917\n",
      "[4252]\tval-auc:0.96917\n",
      "\n",
      "-> gt_orders  -  Recall : 0.6683\n",
      "\n",
      "Params : {'max_depth': 8, 'subsample': '0.618', 'colsample_bytree': '0.796', 'reg_alpha': '1.37e+00', 'reg_lambda': '4.39e+01'},\n",
      "\n"
     ]
    },
    {
     "name": "stderr",
     "output_type": "stream",
     "text": [
      "\u001b[32m[I 2023-01-24 22:51:15,350]\u001b[0m Trial 3 finished with value: 0.6683376496833252 and parameters: {'max_depth': 8, 'subsample': 0.6178608248312815, 'colsample_bytree': 0.7957195338178975, 'reg_alpha': 1.3657453701902824, 'reg_lambda': 43.89921642587502}. Best is trial 0 with value: 0.6684145747326855.\u001b[0m\n"
     ]
    },
    {
     "name": "stdout",
     "output_type": "stream",
     "text": [
      "[0]\tval-auc:0.95384\n",
      "[100]\tval-auc:0.95929\n",
      "[200]\tval-auc:0.96122\n",
      "[300]\tval-auc:0.96305\n",
      "[400]\tval-auc:0.96483\n",
      "[500]\tval-auc:0.96602\n",
      "[600]\tval-auc:0.96682\n",
      "[700]\tval-auc:0.96737\n",
      "[800]\tval-auc:0.96774\n",
      "[900]\tval-auc:0.96799\n",
      "[1000]\tval-auc:0.96819\n",
      "[1100]\tval-auc:0.96834\n",
      "[1200]\tval-auc:0.96848\n",
      "[1300]\tval-auc:0.96858\n",
      "[1400]\tval-auc:0.96866\n",
      "[1500]\tval-auc:0.96874\n",
      "[1600]\tval-auc:0.96881\n",
      "[1700]\tval-auc:0.96888\n",
      "[1800]\tval-auc:0.96893\n",
      "[1900]\tval-auc:0.96898\n",
      "[2000]\tval-auc:0.96901\n",
      "[2100]\tval-auc:0.96905\n",
      "[2200]\tval-auc:0.96909\n",
      "[2300]\tval-auc:0.96911\n",
      "[2400]\tval-auc:0.96913\n",
      "[2500]\tval-auc:0.96915\n",
      "[2600]\tval-auc:0.96917\n",
      "[2700]\tval-auc:0.96919\n",
      "[2800]\tval-auc:0.96921\n",
      "[2900]\tval-auc:0.96922\n",
      "[3000]\tval-auc:0.96923\n",
      "[3100]\tval-auc:0.96923\n",
      "[3200]\tval-auc:0.96924\n",
      "[3300]\tval-auc:0.96925\n",
      "[3400]\tval-auc:0.96926\n",
      "[3500]\tval-auc:0.96927\n",
      "[3600]\tval-auc:0.96928\n",
      "[3700]\tval-auc:0.96928\n",
      "[3800]\tval-auc:0.96930\n",
      "[3900]\tval-auc:0.96931\n",
      "[4000]\tval-auc:0.96931\n",
      "[4038]\tval-auc:0.96931\n",
      "\n",
      "-> gt_orders  -  Recall : 0.6689\n",
      "\n",
      "Params : {'max_depth': 9, 'subsample': '0.807', 'colsample_bytree': '0.849', 'reg_alpha': '9.15e+00', 'reg_lambda': '8.76e+00'},\n",
      "\n"
     ]
    },
    {
     "name": "stderr",
     "output_type": "stream",
     "text": [
      "\u001b[32m[I 2023-01-24 23:00:31,762]\u001b[0m Trial 4 finished with value: 0.6688633041872869 and parameters: {'max_depth': 9, 'subsample': 0.8069592352473326, 'colsample_bytree': 0.848912304036441, 'reg_alpha': 9.146857627498331, 'reg_lambda': 8.761877967368239}. Best is trial 4 with value: 0.6688633041872869.\u001b[0m\n"
     ]
    },
    {
     "name": "stdout",
     "output_type": "stream",
     "text": [
      "[0]\tval-auc:0.95069\n",
      "[100]\tval-auc:0.95768\n",
      "[200]\tval-auc:0.95959\n",
      "[300]\tval-auc:0.96139\n",
      "[400]\tval-auc:0.96315\n",
      "[500]\tval-auc:0.96455\n",
      "[600]\tval-auc:0.96552\n",
      "[700]\tval-auc:0.96617\n",
      "[800]\tval-auc:0.96661\n",
      "[900]\tval-auc:0.96692\n",
      "[1000]\tval-auc:0.96717\n",
      "[1100]\tval-auc:0.96737\n",
      "[1200]\tval-auc:0.96753\n",
      "[1300]\tval-auc:0.96766\n",
      "[1400]\tval-auc:0.96777\n",
      "[1500]\tval-auc:0.96787\n",
      "[1600]\tval-auc:0.96794\n",
      "[1700]\tval-auc:0.96801\n",
      "[1800]\tval-auc:0.96808\n",
      "[1900]\tval-auc:0.96812\n",
      "[2000]\tval-auc:0.96814\n",
      "[2100]\tval-auc:0.96819\n",
      "[2200]\tval-auc:0.96820\n",
      "[2300]\tval-auc:0.96826\n",
      "[2400]\tval-auc:0.96828\n",
      "[2500]\tval-auc:0.96831\n",
      "[2600]\tval-auc:0.96835\n",
      "[2700]\tval-auc:0.96839\n",
      "[2800]\tval-auc:0.96844\n",
      "[2900]\tval-auc:0.96844\n",
      "[3000]\tval-auc:0.96848\n",
      "[3100]\tval-auc:0.96851\n",
      "[3200]\tval-auc:0.96854\n",
      "[3300]\tval-auc:0.96857\n",
      "[3400]\tval-auc:0.96860\n",
      "[3500]\tval-auc:0.96862\n",
      "[3600]\tval-auc:0.96865\n",
      "[3700]\tval-auc:0.96868\n",
      "[3800]\tval-auc:0.96869\n",
      "[3900]\tval-auc:0.96872\n",
      "[4000]\tval-auc:0.96874\n",
      "[4100]\tval-auc:0.96874\n",
      "[4200]\tval-auc:0.96876\n",
      "[4300]\tval-auc:0.96877\n",
      "[4400]\tval-auc:0.96878\n",
      "[4500]\tval-auc:0.96880\n",
      "[4600]\tval-auc:0.96879\n",
      "[4642]\tval-auc:0.96879\n",
      "\n",
      "-> gt_orders  -  Recall : 0.6679\n",
      "\n",
      "Params : {'max_depth': 6, 'subsample': '0.644', 'colsample_bytree': '0.699', 'reg_alpha': '7.69e-02', 'reg_lambda': '2.44e+00'},\n",
      "\n"
     ]
    },
    {
     "name": "stderr",
     "output_type": "stream",
     "text": [
      "\u001b[32m[I 2023-01-24 23:06:07,326]\u001b[0m Trial 5 finished with value: 0.6678504577040437 and parameters: {'max_depth': 6, 'subsample': 0.644496570747001, 'colsample_bytree': 0.6993001314396556, 'reg_alpha': 0.07693481461303038, 'reg_lambda': 2.444602346736312}. Best is trial 4 with value: 0.6688633041872869.\u001b[0m\n"
     ]
    },
    {
     "name": "stdout",
     "output_type": "stream",
     "text": [
      "[0]\tval-auc:0.95317\n",
      "[100]\tval-auc:0.95948\n",
      "[200]\tval-auc:0.96094\n",
      "[300]\tval-auc:0.96255\n",
      "[400]\tval-auc:0.96412\n",
      "[500]\tval-auc:0.96538\n",
      "[600]\tval-auc:0.96624\n",
      "[700]\tval-auc:0.96681\n"
     ]
    }
   ],
   "source": [
    "%%time\n",
    "\n",
    "log_folder = None\n",
    "run = None\n",
    "if not DEBUG:\n",
    "    log_folder = prepare_log_folder(LOG_PATH)\n",
    "    run = init_neptune(Config, log_folder)\n",
    "    print(f'Logging results to {log_folder}')\n",
    "    create_logger(directory=log_folder, name=\"logs.txt\")\n",
    "\n",
    "    save_config(Config, log_folder + 'config')\n",
    "\n",
    "ft_imp = kfold(REGEX, TEST_REGEX, Config, log_folder=log_folder, debug=DEBUG_MORE, run=run)\n",
    "\n",
    "if run is not None:\n",
    "    run.stop()"
   ]
  },
  {
   "cell_type": "markdown",
   "metadata": {},
   "source": [
    "Done"
   ]
  }
 ],
 "metadata": {
  "kernelspec": {
   "display_name": "Python 3 (ipykernel)",
   "language": "python",
   "name": "python3"
  },
  "language_info": {
   "codemirror_mode": {
    "name": "ipython",
    "version": 3
   },
   "file_extension": ".py",
   "mimetype": "text/x-python",
   "name": "python",
   "nbconvert_exporter": "python",
   "pygments_lexer": "ipython3",
   "version": "3.8.10"
  }
 },
 "nbformat": 4,
 "nbformat_minor": 4
}
