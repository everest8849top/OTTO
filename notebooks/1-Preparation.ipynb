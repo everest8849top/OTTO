{
 "cells": [
  {
   "cell_type": "code",
   "execution_count": null,
   "id": "bc2683ee",
   "metadata": {},
   "outputs": [],
   "source": [
    "cd ../src"
   ]
  },
  {
   "cell_type": "code",
   "execution_count": null,
   "id": "645d2519",
   "metadata": {},
   "outputs": [],
   "source": [
    "%load_ext autoreload\n",
    "%autoreload 2"
   ]
  },
  {
   "cell_type": "markdown",
   "id": "99a1d232",
   "metadata": {
    "papermill": {
     "duration": 0.005708,
     "end_time": "2022-11-02T16:29:16.373015",
     "exception": false,
     "start_time": "2022-11-02T16:29:16.367307",
     "status": "completed"
    },
    "tags": []
   },
   "source": [
    "### Initialization"
   ]
  },
  {
   "cell_type": "code",
   "execution_count": null,
   "id": "812366a1",
   "metadata": {
    "_cell_guid": "b1076dfc-b9ad-4769-8c92-a6c4dae69d19",
    "_uuid": "8f2839f25d086af736a60e9eeb907d3b93b6e0e5",
    "papermill": {
     "duration": 1.265093,
     "end_time": "2022-11-02T16:29:17.662667",
     "exception": false,
     "start_time": "2022-11-02T16:29:16.397574",
     "status": "completed"
    },
    "tags": []
   },
   "outputs": [],
   "source": [
    "import os\n",
    "import gc\n",
    "import glob\n",
    "import numpy as np\n",
    "import pandas as pd\n",
    "import seaborn as sns\n",
    "import matplotlib.pyplot as plt\n",
    "\n",
    "from pathlib import Path\n",
    "from tqdm import tqdm\n",
    "from collections import Counter\n",
    "from joblib import Parallel, delayed"
   ]
  },
  {
   "cell_type": "code",
   "execution_count": null,
   "id": "c439c533",
   "metadata": {},
   "outputs": [],
   "source": [
    "from otto_src.labels import ground_truth\n",
    "from otto_src.my_split import train_val_split, create_labels\n",
    "\n",
    "from data.preparation import json_to_pq, json_to_pq_y"
   ]
  },
  {
   "cell_type": "code",
   "execution_count": null,
   "id": "1094005f",
   "metadata": {},
   "outputs": [],
   "source": [
    "TRIM = False\n",
    "OUT_FOLDER = \"../output/jsons_2/\"\n",
    "LAST_2 = True"
   ]
  },
  {
   "cell_type": "code",
   "execution_count": null,
   "id": "7471c4b6",
   "metadata": {},
   "outputs": [],
   "source": [
    "os.makedirs(OUT_FOLDER, exist_ok=True)"
   ]
  },
  {
   "cell_type": "markdown",
   "id": "760753e4",
   "metadata": {},
   "source": [
    "### Train / Val Split"
   ]
  },
  {
   "cell_type": "code",
   "execution_count": null,
   "id": "c4862db5",
   "metadata": {},
   "outputs": [],
   "source": [
    "train_val_split(\n",
    "    Path('../input/train.jsonl'),\n",
    "    Path(OUT_FOLDER),\n",
    "    days=7,\n",
    "    trim=TRIM\n",
    ")"
   ]
  },
  {
   "cell_type": "markdown",
   "id": "9ba515a2",
   "metadata": {},
   "source": [
    "### Session truncation"
   ]
  },
  {
   "cell_type": "markdown",
   "id": "c519f403",
   "metadata": {},
   "source": [
    "#### Val"
   ]
  },
  {
   "cell_type": "code",
   "execution_count": null,
   "id": "7c3cfc7c",
   "metadata": {},
   "outputs": [],
   "source": [
    "create_labels(\n",
    "    Path(OUT_FOLDER + \"val_sessions.jsonl\"),\n",
    "    Path(OUT_FOLDER),\n",
    "    last_2=LAST_2\n",
    ")"
   ]
  },
  {
   "cell_type": "markdown",
   "id": "03723e42",
   "metadata": {},
   "source": [
    "#### Test - Retruncate"
   ]
  },
  {
   "cell_type": "code",
   "execution_count": null,
   "id": "b2ea09d8",
   "metadata": {},
   "outputs": [],
   "source": [
    "# create_labels(\n",
    "#     Path('../input/test.jsonl'),\n",
    "#     Path(OUT_FOLDER),\n",
    "# )"
   ]
  },
  {
   "cell_type": "markdown",
   "id": "2f01d87d",
   "metadata": {},
   "source": [
    "### Convert to parquet"
   ]
  },
  {
   "cell_type": "markdown",
   "id": "c1e913ea",
   "metadata": {},
   "source": [
    "#### Train + val"
   ]
  },
  {
   "cell_type": "code",
   "execution_count": null,
   "id": "9f94af33",
   "metadata": {},
   "outputs": [],
   "source": [
    "# json_to_pq(\n",
    "#     Path(\"../input/train.jsonl\"),\n",
    "#     Path(\"../output/\"),\n",
    "#     name=\"full_train_val\"\n",
    "# )"
   ]
  },
  {
   "cell_type": "markdown",
   "id": "1857a8d1",
   "metadata": {},
   "source": [
    "#### Train"
   ]
  },
  {
   "cell_type": "code",
   "execution_count": null,
   "id": "15bbaca3",
   "metadata": {},
   "outputs": [],
   "source": [
    "json_to_pq(\n",
    "    Path(OUT_FOLDER + \"sessions.jsonl\"),\n",
    "    Path(\"../output/\"),\n",
    "    name=\"full_train_2\"\n",
    ")"
   ]
  },
  {
   "cell_type": "markdown",
   "id": "ec6e24a8",
   "metadata": {},
   "source": [
    "#### Val"
   ]
  },
  {
   "cell_type": "code",
   "execution_count": null,
   "id": "a25a5dc6",
   "metadata": {},
   "outputs": [],
   "source": [
    "json_to_pq(\n",
    "    Path(OUT_FOLDER + \"val_sessions_c.jsonl\"),\n",
    "    Path(\"../output/\"),\n",
    "    name=\"val_2\"\n",
    ")"
   ]
  },
  {
   "cell_type": "code",
   "execution_count": null,
   "id": "7348866b",
   "metadata": {},
   "outputs": [],
   "source": [
    "json_to_pq_y(\n",
    "    Path(OUT_FOLDER + \"val_labels.jsonl\"),\n",
    "    Path(\"../output/\"),\n",
    "    name=\"val_labels_2\"\n",
    ")"
   ]
  },
  {
   "cell_type": "markdown",
   "id": "8e175f80",
   "metadata": {},
   "source": [
    "#### Test"
   ]
  },
  {
   "cell_type": "code",
   "execution_count": null,
   "id": "8b393fac",
   "metadata": {},
   "outputs": [],
   "source": [
    "# json_to_pq(\n",
    "#     Path(\"../input/test.jsonl\"),\n",
    "#     Path(\"../output/\"),\n",
    "#     name=\"test\",\n",
    "# )"
   ]
  },
  {
   "cell_type": "markdown",
   "id": "d61fdf8f",
   "metadata": {},
   "source": [
    "#### Test - Retruncate"
   ]
  },
  {
   "cell_type": "code",
   "execution_count": null,
   "id": "df6c563f",
   "metadata": {},
   "outputs": [],
   "source": [
    "# json_to_pq(\n",
    "#     Path(\"../output/jsons/test_sessions_c.jsonl\"),\n",
    "#     Path(\"../output/\"),\n",
    "#     name=\"test_c\",\n",
    "# )"
   ]
  },
  {
   "cell_type": "code",
   "execution_count": null,
   "id": "4f3c0918",
   "metadata": {},
   "outputs": [],
   "source": [
    "# json_to_pq_y(\n",
    "#     Path(\"../output/jsons/test_labels.jsonl\"),\n",
    "#     Path(\"../output/\"),\n",
    "# )"
   ]
  }
 ],
 "metadata": {
  "kernelspec": {
   "display_name": "Python 3 (ipykernel)",
   "language": "python",
   "name": "python3"
  },
  "language_info": {
   "codemirror_mode": {
    "name": "ipython",
    "version": 3
   },
   "file_extension": ".py",
   "mimetype": "text/x-python",
   "name": "python",
   "nbconvert_exporter": "python",
   "pygments_lexer": "ipython3",
   "version": "3.8.10"
  },
  "papermill": {
   "default_parameters": {},
   "duration": 17.580155,
   "end_time": "2022-11-02T16:29:25.057961",
   "environment_variables": {},
   "exception": null,
   "input_path": "__notebook__.ipynb",
   "output_path": "__notebook__.ipynb",
   "parameters": {},
   "start_time": "2022-11-02T16:29:07.477806",
   "version": "2.3.4"
  },
  "widgets": {
   "application/vnd.jupyter.widget-state+json": {
    "state": {
     "00b765cb2aed441a93cc0bb6cbe82361": {
      "model_module": "@jupyter-widgets/base",
      "model_module_version": "1.2.0",
      "model_name": "LayoutModel",
      "state": {
       "_model_module": "@jupyter-widgets/base",
       "_model_module_version": "1.2.0",
       "_model_name": "LayoutModel",
       "_view_count": null,
       "_view_module": "@jupyter-widgets/base",
       "_view_module_version": "1.2.0",
       "_view_name": "LayoutView",
       "align_content": null,
       "align_items": null,
       "align_self": null,
       "border": null,
       "bottom": null,
       "display": null,
       "flex": null,
       "flex_flow": null,
       "grid_area": null,
       "grid_auto_columns": null,
       "grid_auto_flow": null,
       "grid_auto_rows": null,
       "grid_column": null,
       "grid_gap": null,
       "grid_row": null,
       "grid_template_areas": null,
       "grid_template_columns": null,
       "grid_template_rows": null,
       "height": null,
       "justify_content": null,
       "justify_items": null,
       "left": null,
       "margin": null,
       "max_height": null,
       "max_width": null,
       "min_height": null,
       "min_width": null,
       "object_fit": null,
       "object_position": null,
       "order": null,
       "overflow": null,
       "overflow_x": null,
       "overflow_y": null,
       "padding": null,
       "right": null,
       "top": null,
       "visibility": null,
       "width": null
      }
     },
     "079ac70f85bb438a90c8a87f54ab7075": {
      "model_module": "@jupyter-widgets/base",
      "model_module_version": "1.2.0",
      "model_name": "LayoutModel",
      "state": {
       "_model_module": "@jupyter-widgets/base",
       "_model_module_version": "1.2.0",
       "_model_name": "LayoutModel",
       "_view_count": null,
       "_view_module": "@jupyter-widgets/base",
       "_view_module_version": "1.2.0",
       "_view_name": "LayoutView",
       "align_content": null,
       "align_items": null,
       "align_self": null,
       "border": null,
       "bottom": null,
       "display": null,
       "flex": null,
       "flex_flow": null,
       "grid_area": null,
       "grid_auto_columns": null,
       "grid_auto_flow": null,
       "grid_auto_rows": null,
       "grid_column": null,
       "grid_gap": null,
       "grid_row": null,
       "grid_template_areas": null,
       "grid_template_columns": null,
       "grid_template_rows": null,
       "height": null,
       "justify_content": null,
       "justify_items": null,
       "left": null,
       "margin": null,
       "max_height": null,
       "max_width": null,
       "min_height": null,
       "min_width": null,
       "object_fit": null,
       "object_position": null,
       "order": null,
       "overflow": null,
       "overflow_x": null,
       "overflow_y": null,
       "padding": null,
       "right": null,
       "top": null,
       "visibility": null,
       "width": null
      }
     },
     "2f12fb9926da4790a86a6e2332bf5bed": {
      "model_module": "@jupyter-widgets/controls",
      "model_module_version": "1.5.0",
      "model_name": "FloatProgressModel",
      "state": {
       "_dom_classes": [],
       "_model_module": "@jupyter-widgets/controls",
       "_model_module_version": "1.5.0",
       "_model_name": "FloatProgressModel",
       "_view_count": null,
       "_view_module": "@jupyter-widgets/controls",
       "_view_module_version": "1.5.0",
       "_view_name": "ProgressView",
       "bar_style": "danger",
       "description": "",
       "description_tooltip": null,
       "layout": "IPY_MODEL_ba8abdabc3f24504ad149a5636dc5fb9",
       "max": 1290,
       "min": 0,
       "orientation": "horizontal",
       "style": "IPY_MODEL_f182c99639214af08858bbcfe868bea9",
       "value": 0
      }
     },
     "364fe7476198475faa7f9c4f855516de": {
      "model_module": "@jupyter-widgets/controls",
      "model_module_version": "1.5.0",
      "model_name": "DescriptionStyleModel",
      "state": {
       "_model_module": "@jupyter-widgets/controls",
       "_model_module_version": "1.5.0",
       "_model_name": "DescriptionStyleModel",
       "_view_count": null,
       "_view_module": "@jupyter-widgets/base",
       "_view_module_version": "1.2.0",
       "_view_name": "StyleView",
       "description_width": ""
      }
     },
     "365f4c8c7f114fa3855ae44c2c3759cd": {
      "model_module": "@jupyter-widgets/controls",
      "model_module_version": "1.5.0",
      "model_name": "DescriptionStyleModel",
      "state": {
       "_model_module": "@jupyter-widgets/controls",
       "_model_module_version": "1.5.0",
       "_model_name": "DescriptionStyleModel",
       "_view_count": null,
       "_view_module": "@jupyter-widgets/base",
       "_view_module_version": "1.2.0",
       "_view_name": "StyleView",
       "description_width": ""
      }
     },
     "67009380d9664ccd81a123298c2286da": {
      "model_module": "@jupyter-widgets/controls",
      "model_module_version": "1.5.0",
      "model_name": "HBoxModel",
      "state": {
       "_dom_classes": [],
       "_model_module": "@jupyter-widgets/controls",
       "_model_module_version": "1.5.0",
       "_model_name": "HBoxModel",
       "_view_count": null,
       "_view_module": "@jupyter-widgets/controls",
       "_view_module_version": "1.5.0",
       "_view_name": "HBoxView",
       "box_style": "",
       "children": [
        "IPY_MODEL_c32a87e633ab4cdb98bf82f6c14af103",
        "IPY_MODEL_2f12fb9926da4790a86a6e2332bf5bed",
        "IPY_MODEL_b1a80e268d5f4e4682981b53b4a82a82"
       ],
       "layout": "IPY_MODEL_00b765cb2aed441a93cc0bb6cbe82361"
      }
     },
     "89c1b9ec4b284bd88d66268a1fbd2c0c": {
      "model_module": "@jupyter-widgets/base",
      "model_module_version": "1.2.0",
      "model_name": "LayoutModel",
      "state": {
       "_model_module": "@jupyter-widgets/base",
       "_model_module_version": "1.2.0",
       "_model_name": "LayoutModel",
       "_view_count": null,
       "_view_module": "@jupyter-widgets/base",
       "_view_module_version": "1.2.0",
       "_view_name": "LayoutView",
       "align_content": null,
       "align_items": null,
       "align_self": null,
       "border": null,
       "bottom": null,
       "display": null,
       "flex": null,
       "flex_flow": null,
       "grid_area": null,
       "grid_auto_columns": null,
       "grid_auto_flow": null,
       "grid_auto_rows": null,
       "grid_column": null,
       "grid_gap": null,
       "grid_row": null,
       "grid_template_areas": null,
       "grid_template_columns": null,
       "grid_template_rows": null,
       "height": null,
       "justify_content": null,
       "justify_items": null,
       "left": null,
       "margin": null,
       "max_height": null,
       "max_width": null,
       "min_height": null,
       "min_width": null,
       "object_fit": null,
       "object_position": null,
       "order": null,
       "overflow": null,
       "overflow_x": null,
       "overflow_y": null,
       "padding": null,
       "right": null,
       "top": null,
       "visibility": null,
       "width": null
      }
     },
     "b1a80e268d5f4e4682981b53b4a82a82": {
      "model_module": "@jupyter-widgets/controls",
      "model_module_version": "1.5.0",
      "model_name": "HTMLModel",
      "state": {
       "_dom_classes": [],
       "_model_module": "@jupyter-widgets/controls",
       "_model_module_version": "1.5.0",
       "_model_name": "HTMLModel",
       "_view_count": null,
       "_view_module": "@jupyter-widgets/controls",
       "_view_module_version": "1.5.0",
       "_view_name": "HTMLView",
       "description": "",
       "description_tooltip": null,
       "layout": "IPY_MODEL_079ac70f85bb438a90c8a87f54ab7075",
       "placeholder": "​",
       "style": "IPY_MODEL_364fe7476198475faa7f9c4f855516de",
       "value": " 0/1290 [00:02&lt;?, ?it/s]"
      }
     },
     "ba8abdabc3f24504ad149a5636dc5fb9": {
      "model_module": "@jupyter-widgets/base",
      "model_module_version": "1.2.0",
      "model_name": "LayoutModel",
      "state": {
       "_model_module": "@jupyter-widgets/base",
       "_model_module_version": "1.2.0",
       "_model_name": "LayoutModel",
       "_view_count": null,
       "_view_module": "@jupyter-widgets/base",
       "_view_module_version": "1.2.0",
       "_view_name": "LayoutView",
       "align_content": null,
       "align_items": null,
       "align_self": null,
       "border": null,
       "bottom": null,
       "display": null,
       "flex": null,
       "flex_flow": null,
       "grid_area": null,
       "grid_auto_columns": null,
       "grid_auto_flow": null,
       "grid_auto_rows": null,
       "grid_column": null,
       "grid_gap": null,
       "grid_row": null,
       "grid_template_areas": null,
       "grid_template_columns": null,
       "grid_template_rows": null,
       "height": null,
       "justify_content": null,
       "justify_items": null,
       "left": null,
       "margin": null,
       "max_height": null,
       "max_width": null,
       "min_height": null,
       "min_width": null,
       "object_fit": null,
       "object_position": null,
       "order": null,
       "overflow": null,
       "overflow_x": null,
       "overflow_y": null,
       "padding": null,
       "right": null,
       "top": null,
       "visibility": null,
       "width": null
      }
     },
     "c32a87e633ab4cdb98bf82f6c14af103": {
      "model_module": "@jupyter-widgets/controls",
      "model_module_version": "1.5.0",
      "model_name": "HTMLModel",
      "state": {
       "_dom_classes": [],
       "_model_module": "@jupyter-widgets/controls",
       "_model_module_version": "1.5.0",
       "_model_name": "HTMLModel",
       "_view_count": null,
       "_view_module": "@jupyter-widgets/controls",
       "_view_module_version": "1.5.0",
       "_view_name": "HTMLView",
       "description": "",
       "description_tooltip": null,
       "layout": "IPY_MODEL_89c1b9ec4b284bd88d66268a1fbd2c0c",
       "placeholder": "​",
       "style": "IPY_MODEL_365f4c8c7f114fa3855ae44c2c3759cd",
       "value": "  0%"
      }
     },
     "f182c99639214af08858bbcfe868bea9": {
      "model_module": "@jupyter-widgets/controls",
      "model_module_version": "1.5.0",
      "model_name": "ProgressStyleModel",
      "state": {
       "_model_module": "@jupyter-widgets/controls",
       "_model_module_version": "1.5.0",
       "_model_name": "ProgressStyleModel",
       "_view_count": null,
       "_view_module": "@jupyter-widgets/base",
       "_view_module_version": "1.2.0",
       "_view_name": "StyleView",
       "bar_color": null,
       "description_width": ""
      }
     }
    },
    "version_major": 2,
    "version_minor": 0
   }
  }
 },
 "nbformat": 4,
 "nbformat_minor": 5
}
