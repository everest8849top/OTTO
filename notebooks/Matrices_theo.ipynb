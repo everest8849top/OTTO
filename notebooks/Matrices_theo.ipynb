{
 "cells": [
  {
   "cell_type": "markdown",
   "metadata": {},
   "source": [
    "**About :** Generates candidates.\n",
    "\n",
    "**TODO**:"
   ]
  },
  {
   "cell_type": "code",
   "execution_count": null,
   "metadata": {},
   "outputs": [],
   "source": [
    "cd ../src"
   ]
  },
  {
   "cell_type": "code",
   "execution_count": null,
   "metadata": {},
   "outputs": [],
   "source": [
    "%load_ext autoreload\n",
    "%autoreload 2"
   ]
  },
  {
   "cell_type": "code",
   "execution_count": null,
   "metadata": {},
   "outputs": [],
   "source": [
    "import os\n",
    "os.environ[\"CUDA_VISIBLE_DEVICES\"] = \"1\""
   ]
  },
  {
   "cell_type": "code",
   "execution_count": null,
   "metadata": {},
   "outputs": [],
   "source": [
    "import os\n",
    "import gc\n",
    "import sys\n",
    "import cudf\n",
    "import json\n",
    "import glob\n",
    "import pickle\n",
    "import warnings\n",
    "import itertools\n",
    "import numpy as np\n",
    "import pandas as pd\n",
    "import seaborn as sns\n",
    "import matplotlib.pyplot as plt\n",
    "\n",
    "from tqdm import tqdm\n",
    "from datetime import datetime\n",
    "from collections import Counter\n",
    "from pandarallel import pandarallel\n",
    "from numerize.numerize import numerize\n",
    "\n",
    "\n",
    "warnings.simplefilter(action=\"ignore\", category=FutureWarning)\n",
    "pandarallel.initialize(nb_workers=32, progress_bar=False)"
   ]
  },
  {
   "cell_type": "code",
   "execution_count": null,
   "metadata": {},
   "outputs": [],
   "source": [
    "from params import *\n",
    "\n",
    "from data.covisitation import compute_covisitation_matrix\n",
    "from data.candidates import load_parquets, create_candidates, explode, matrix_to_candids_dict\n",
    "\n",
    "from utils.metrics import get_coverage\n",
    "from utils.chris import suggest_clicks, suggest_buys, read_file_to_cache"
   ]
  },
  {
   "cell_type": "markdown",
   "metadata": {},
   "source": [
    "## Covisitation matrices\n",
    "- Recompute on train without using val ??"
   ]
  },
  {
   "cell_type": "code",
   "execution_count": null,
   "metadata": {},
   "outputs": [],
   "source": [
    "MODE = \"val\""
   ]
  },
  {
   "cell_type": "code",
   "execution_count": null,
   "metadata": {},
   "outputs": [],
   "source": [
    "if MODE == \"val\":\n",
    "    files = glob.glob(\"../output/full_train_parquet/*\") +  glob.glob(\"../output/val_parquet/*\")\n",
    "elif MODE == \"test\":\n",
    "    files = glob.glob(\"../output/full_train_val_parquet/*\") +  glob.glob(\"../output/test_parquet/*\")\n",
    "else:\n",
    "    raise NotImplementedError"
   ]
  },
  {
   "cell_type": "code",
   "execution_count": null,
   "metadata": {},
   "outputs": [],
   "source": [
    "# data_cache = {}\n",
    "# for f in tqdm(files):\n",
    "#     data_cache[f] = read_file_to_cache(f)"
   ]
  },
  {
   "cell_type": "code",
   "execution_count": null,
   "metadata": {},
   "outputs": [],
   "source": [
    "# mins = []\n",
    "# maxs = []\n",
    "# st = 0\n",
    "# sv = 0\n",
    "# nv = 0\n",
    "# nt = 0\n",
    "\n",
    "# for k in data_cache.keys():\n",
    "#     if (\"train\" in k and MODE == \"train\") or (\"val\" in k) or (\"test\" in k):\n",
    "#         mins.append(data_cache[k]['ts'].min())\n",
    "#         sv += len(data_cache[k]['session'].unique())\n",
    "#         nv += len(data_cache[k])\n",
    "#     else:\n",
    "#         maxs.append(data_cache[k]['ts'].max())\n",
    "#         st += len(data_cache[k]['session'].unique())\n",
    "#         nt += len(data_cache[k])\n",
    "\n",
    "# print(f'No ts leak :', np.min(mins) > np.max(maxs))\n",
    "# print(f'Train sess : {numerize(st)}')\n",
    "# print(f'Train size : {numerize(nt)}')\n",
    "# print(f'Val sess   : {numerize(sv)}')\n",
    "# print(f'Val size   : {numerize(nv)}')"
   ]
  },
  {
   "cell_type": "code",
   "execution_count": null,
   "metadata": {},
   "outputs": [],
   "source": [
    "# for n in [40]:\n",
    "#     compute_covisitation_matrix(\n",
    "#         files,\n",
    "#         data_cache,\n",
    "#         weighting=\"temporal\",\n",
    "#         n=n,\n",
    "#         save_folder=\"../output/matrices/\",\n",
    "#         suffix=MODE,\n",
    "#     )\n",
    "\n",
    "#     compute_covisitation_matrix(\n",
    "#         files,\n",
    "#         data_cache,\n",
    "#         weighting=\"type\",\n",
    "#         type_weight={0: 1, 1: 3, 2: 6},\n",
    "#         n=n,\n",
    "#         save_folder=\"../output/matrices/\",\n",
    "#         suffix=MODE,\n",
    "#     )\n",
    "    \n",
    "#     compute_covisitation_matrix(\n",
    "#         files,\n",
    "#         data_cache,\n",
    "#         considered_types=[1, 2],\n",
    "#         weighting=\"\",\n",
    "#         n=n,\n",
    "#         save_folder=\"../output/matrices/\",\n",
    "#         suffix=MODE,\n",
    "#     )\n",
    "\n",
    "#     compute_covisitation_matrix(\n",
    "#         files,\n",
    "#         data_cache,\n",
    "#         weighting=\"type\",\n",
    "#         type_weight={0: 0.5, 1: 9, 2: 0.5},\n",
    "#         n=n,\n",
    "#         save_folder=\"../output/matrices/\",\n",
    "#         suffix=MODE,\n",
    "#     )"
   ]
  },
  {
   "cell_type": "markdown",
   "metadata": {},
   "source": [
    "Done"
   ]
  }
 ],
 "metadata": {
  "kernelspec": {
   "display_name": "Python 3 (ipykernel)",
   "language": "python",
   "name": "python3"
  },
  "language_info": {
   "codemirror_mode": {
    "name": "ipython",
    "version": 3
   },
   "file_extension": ".py",
   "mimetype": "text/x-python",
   "name": "python",
   "nbconvert_exporter": "python",
   "pygments_lexer": "ipython3",
   "version": "3.8.10"
  }
 },
 "nbformat": 4,
 "nbformat_minor": 4
}
